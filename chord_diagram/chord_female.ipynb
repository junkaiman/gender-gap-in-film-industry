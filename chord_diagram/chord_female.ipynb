{
 "cells": [
  {
   "cell_type": "code",
   "execution_count": 39,
   "metadata": {},
   "outputs": [],
   "source": [
    "import plotly.figure_factory as ff\n",
    "import plotly.graph_objs as go\n",
    "import pandas as pd\n",
    "import numpy as np"
   ]
  },
  {
   "cell_type": "code",
   "execution_count": 40,
   "metadata": {},
   "outputs": [],
   "source": [
    "data = pd.read_csv('../data/bubble_chart.csv')"
   ]
  },
  {
   "cell_type": "code",
   "execution_count": 41,
   "metadata": {},
   "outputs": [],
   "source": [
    "data[\"genre\"] = data[\"genre\"].str.split()"
   ]
  },
  {
   "cell_type": "code",
   "execution_count": 42,
   "metadata": {},
   "outputs": [],
   "source": [
    "data2 = data.explode('genre')"
   ]
  },
  {
   "cell_type": "code",
   "execution_count": 43,
   "metadata": {},
   "outputs": [],
   "source": [
    "def move_particle(x):\n",
    "    if x[-1] == ',':\n",
    "        return x[:-1]\n",
    "    else:\n",
    "        return x"
   ]
  },
  {
   "cell_type": "code",
   "execution_count": 44,
   "metadata": {},
   "outputs": [],
   "source": [
    "data2['genre'] = data2['genre'].apply(move_particle)"
   ]
  },
  {
   "cell_type": "code",
   "execution_count": 45,
   "metadata": {},
   "outputs": [
    {
     "data": {
      "text/plain": [
       "array(['Action', 'Adventure', 'Fantasy', 'Drama', 'Comedy', 'Sci-Fi',\n",
       "       'Mystery', 'Thriller', 'Crime', 'Animation', 'Family', 'Horror',\n",
       "       'Romance', 'Western', 'History', 'Biography', 'Music', 'Musical',\n",
       "       'Sport', 'Documentary', 'War', 'Short', 'News', 'Reality-TV',\n",
       "       'Game-Show', 'Talk-Show', 'Film-Noir'], dtype=object)"
      ]
     },
     "execution_count": 45,
     "metadata": {},
     "output_type": "execute_result"
    }
   ],
   "source": [
    "data2['genre'].unique()"
   ]
  },
  {
   "cell_type": "code",
   "execution_count": 46,
   "metadata": {},
   "outputs": [],
   "source": [
    "s = pd.crosstab(data2['title'],data2['genre'])\n",
    "s = s.T.dot(s).astype(float)\n",
    "s.values[np.triu_indices(len(s))]=np.nan\n",
    "films_intersection = s.stack()"
   ]
  },
  {
   "cell_type": "code",
   "execution_count": 47,
   "metadata": {},
   "outputs": [
    {
     "data": {
      "text/plain": [
       "genre\n",
       "Reality-TV        1\n",
       "Game-Show         3\n",
       "Talk-Show         4\n",
       "News             16\n",
       "Documentary     123\n",
       "Sport           140\n",
       "Music           243\n",
       "Film-Noir       311\n",
       "Musical         313\n",
       "Western         347\n",
       "History         383\n",
       "War             389\n",
       "Biography       432\n",
       "Family          638\n",
       "Short           659\n",
       "Animation       696\n",
       "Fantasy         736\n",
       "Sci-Fi          742\n",
       "Mystery         843\n",
       "Horror         1058\n",
       "Thriller       1065\n",
       "Crime          1736\n",
       "Adventure      1829\n",
       "Romance        1843\n",
       "Action         1844\n",
       "Comedy         3588\n",
       "Drama          5252\n",
       "Name: title, dtype: int64"
      ]
     },
     "execution_count": 47,
     "metadata": {},
     "output_type": "execute_result"
    }
   ],
   "source": [
    "data2.groupby('genre')['title'].count().sort_values()"
   ]
  },
  {
   "cell_type": "code",
   "execution_count": 48,
   "metadata": {},
   "outputs": [],
   "source": [
    "genre_list = data2.groupby('genre')['title'].count().sort_values(ascending=False)[:10].index.tolist()"
   ]
  },
  {
   "cell_type": "code",
   "execution_count": 49,
   "metadata": {},
   "outputs": [],
   "source": [
    "data3 = data2[data2['genre'].isin(genre_list)]\n"
   ]
  },
  {
   "cell_type": "code",
   "execution_count": 50,
   "metadata": {},
   "outputs": [
    {
     "data": {
      "text/plain": [
       "genre\n",
       "Sci-Fi        742\n",
       "Mystery       843\n",
       "Horror       1058\n",
       "Thriller     1065\n",
       "Crime        1736\n",
       "Adventure    1829\n",
       "Romance      1843\n",
       "Action       1844\n",
       "Comedy       3588\n",
       "Drama        5252\n",
       "Name: title, dtype: int64"
      ]
     },
     "execution_count": 50,
     "metadata": {},
     "output_type": "execute_result"
    }
   ],
   "source": [
    "data3.groupby('genre')['title'].count().sort_values()"
   ]
  },
  {
   "cell_type": "code",
   "execution_count": 51,
   "metadata": {},
   "outputs": [],
   "source": [
    "male = data3[data3['star_index']<15]\n",
    "female = data3[data3['star_index']>=15]"
   ]
  },
  {
   "cell_type": "code",
   "execution_count": 52,
   "metadata": {},
   "outputs": [],
   "source": [
    "s = pd.crosstab(female['title'], female['genre'])\n",
    "s = s.T.dot(s).astype(float)\n",
    "s.values[np.triu_indices(len(s))] = np.nan\n",
    "female_intersection = s.stack()\n"
   ]
  },
  {
   "cell_type": "code",
   "execution_count": 53,
   "metadata": {},
   "outputs": [
    {
     "name": "stdout",
     "output_type": "stream",
     "text": [
      "index:  ('Adventure', 'Action') value:  97.0\n",
      "index:  ('Comedy', 'Action') value:  31.0\n",
      "index:  ('Comedy', 'Adventure') value:  65.0\n",
      "index:  ('Crime', 'Action') value:  35.0\n",
      "index:  ('Crime', 'Adventure') value:  15.0\n",
      "index:  ('Crime', 'Comedy') value:  67.0\n",
      "index:  ('Drama', 'Action') value:  63.0\n",
      "index:  ('Drama', 'Adventure') value:  75.0\n",
      "index:  ('Drama', 'Comedy') value:  358.0\n",
      "index:  ('Drama', 'Crime') value:  190.0\n",
      "index:  ('Horror', 'Action') value:  14.0\n",
      "index:  ('Horror', 'Adventure') value:  9.0\n",
      "index:  ('Horror', 'Comedy') value:  21.0\n",
      "index:  ('Horror', 'Crime') value:  16.0\n",
      "index:  ('Horror', 'Drama') value:  100.0\n",
      "index:  ('Mystery', 'Action') value:  11.0\n",
      "index:  ('Mystery', 'Adventure') value:  4.0\n",
      "index:  ('Mystery', 'Comedy') value:  27.0\n",
      "index:  ('Mystery', 'Crime') value:  55.0\n",
      "index:  ('Mystery', 'Drama') value:  122.0\n",
      "index:  ('Mystery', 'Horror') value:  96.0\n",
      "index:  ('Romance', 'Action') value:  2.0\n",
      "index:  ('Romance', 'Adventure') value:  21.0\n",
      "index:  ('Romance', 'Comedy') value:  297.0\n",
      "index:  ('Romance', 'Crime') value:  29.0\n",
      "index:  ('Romance', 'Drama') value:  544.0\n",
      "index:  ('Romance', 'Horror') value:  5.0\n",
      "index:  ('Romance', 'Mystery') value:  19.0\n",
      "index:  ('Sci-Fi', 'Action') value:  31.0\n",
      "index:  ('Sci-Fi', 'Adventure') value:  25.0\n",
      "index:  ('Sci-Fi', 'Comedy') value:  12.0\n",
      "index:  ('Sci-Fi', 'Crime') value:  6.0\n",
      "index:  ('Sci-Fi', 'Drama') value:  37.0\n",
      "index:  ('Sci-Fi', 'Horror') value:  32.0\n",
      "index:  ('Sci-Fi', 'Mystery') value:  14.0\n",
      "index:  ('Sci-Fi', 'Romance') value:  5.0\n",
      "index:  ('Thriller', 'Action') value:  24.0\n",
      "index:  ('Thriller', 'Adventure') value:  8.0\n",
      "index:  ('Thriller', 'Comedy') value:  7.0\n",
      "index:  ('Thriller', 'Crime') value:  39.0\n",
      "index:  ('Thriller', 'Drama') value:  89.0\n",
      "index:  ('Thriller', 'Horror') value:  82.0\n",
      "index:  ('Thriller', 'Mystery') value:  73.0\n",
      "index:  ('Thriller', 'Romance') value:  15.0\n",
      "index:  ('Thriller', 'Sci-Fi') value:  15.0\n"
     ]
    }
   ],
   "source": [
    "for i, v in female_intersection.iteritems():\n",
    "    print('index: ', i, 'value: ', v)\n"
   ]
  },
  {
   "cell_type": "code",
   "execution_count": 54,
   "metadata": {},
   "outputs": [],
   "source": [
    "number_of_genres= len(female['genre'].unique())\n",
    "genre_matrix = np.zeros((number_of_genres,number_of_genres))\n",
    "# genre_list = female['genre'].unique().tolist()"
   ]
  },
  {
   "cell_type": "code",
   "execution_count": 55,
   "metadata": {},
   "outputs": [
    {
     "name": "stdout",
     "output_type": "stream",
     "text": [
      "['Drama', 'Comedy', 'Action', 'Romance', 'Adventure', 'Crime', 'Thriller', 'Horror', 'Mystery', 'Sci-Fi']\n"
     ]
    }
   ],
   "source": [
    "print(genre_list)"
   ]
  },
  {
   "cell_type": "code",
   "execution_count": 56,
   "metadata": {},
   "outputs": [],
   "source": [
    "for i, v in female_intersection.iteritems():\n",
    "    to = genre_list.index(i[0])\n",
    "    frm = genre_list.index(i[1])\n",
    "    value = v\n",
    "    genre_matrix[to,frm] = v\n",
    "    genre_matrix[frm,to] = v\n",
    "    \n",
    "genre_matrix = genre_matrix.astype(int)"
   ]
  },
  {
   "cell_type": "code",
   "execution_count": 57,
   "metadata": {},
   "outputs": [
    {
     "name": "stdout",
     "output_type": "stream",
     "text": [
      "(10, 10)\n"
     ]
    }
   ],
   "source": [
    "print(genre_matrix.shape)"
   ]
  },
  {
   "cell_type": "code",
   "execution_count": 58,
   "metadata": {},
   "outputs": [],
   "source": [
    "np.savetxt('../data/female_matrix.csv', genre_matrix, delimiter = ',')"
   ]
  },
  {
   "cell_type": "code",
   "execution_count": 59,
   "metadata": {},
   "outputs": [],
   "source": [
    "#make ideogram\n",
    "PI=np.pi\n",
    "\n",
    "\n",
    "def check_data(data_matrix):\n",
    "    L, M = data_matrix.shape\n",
    "    if L != M:\n",
    "        raise ValueError('Data array must have (n,n) shape')\n",
    "    return L\n",
    "\n",
    "\n",
    "L = check_data(genre_matrix)\n",
    "\n",
    "def moduloAB(x, a, b): #maps a real number onto the unit circle identified with \n",
    "                       #the interval [a,b), b-a=2*PI\n",
    "        if a>=b:\n",
    "            raise ValueError('Incorrect interval ends')\n",
    "        y=(x-a)%(b-a)\n",
    "        return y+b if y<0 else y+a\n",
    "\n",
    "def test_2PI(x):\n",
    "    return 0<= x <2*PI"
   ]
  },
  {
   "cell_type": "code",
   "execution_count": 60,
   "metadata": {},
   "outputs": [
    {
     "name": "stdout",
     "output_type": "stream",
     "text": [
      "[1.67686567 0.92665075 0.30201293 0.98294393 0.3139211  0.45790174\n",
      " 0.34964562 0.37454453 0.42434235 0.16019741]\n"
     ]
    }
   ],
   "source": [
    "row_sum=[np.sum(genre_matrix[k,:]) for k in range(L)]\n",
    "\n",
    "#set the gap between two consecutive ideograms\n",
    "gap=2*PI*0.005\n",
    "ideogram_length=2*PI*np.asarray(row_sum)/sum(row_sum)-gap*np.ones(L)\n",
    "print(ideogram_length)"
   ]
  },
  {
   "cell_type": "code",
   "execution_count": 61,
   "metadata": {},
   "outputs": [
    {
     "name": "stdout",
     "output_type": "stream",
     "text": [
      "[[0, 1.6768656748992137], [1.7082816014351117, 2.6349323525101602], [2.666348279046058, 2.968361207543122], [2.99977713407902, 3.9827210684713217], [4.014136995007219, 4.328058096898318], [4.359474023434216, 4.817375767271367], [4.848791693807264, 5.198437315880466], [5.229853242416364, 5.604397772495274], [5.635813699031171, 6.060156045121498], [6.0915719716573955, 6.251769380643687]]\n",
      "[1.12583302-0.65j       1.14814501-0.60972373j 1.16901672-0.5686826j\n",
      " 1.18842197-0.5269281j  1.20633642-0.48451259j 1.22273759-0.44148929j\n",
      " 1.23760491-0.39791217j 1.25091973-0.3538359j  1.26266534-0.30931575j\n",
      " 1.27282702-0.26440759j 1.28139202-0.21916775j 1.28834958-0.17365297j\n",
      " 1.29369099-0.12792036j 1.29740954-0.08202728j 1.29950058-0.0360313j\n",
      " 1.29996146+0.01000988j 1.29879163+0.0560385j  1.29599253+0.10199682j\n",
      " 1.2915677 +0.1478272j  1.28552267+0.19347214j 1.27786503+0.23887437j]\n"
     ]
    }
   ],
   "source": [
    "def get_ideogram_ends(ideogram_len, gap):\n",
    "    ideo_ends = []\n",
    "    left = 0\n",
    "    for k in range(len(ideogram_len)):\n",
    "        right = left+ideogram_len[k]\n",
    "        ideo_ends.append([left, right])\n",
    "        left = right+gap\n",
    "    return ideo_ends\n",
    "\n",
    "\n",
    "ideo_ends = get_ideogram_ends(ideogram_length, gap)\n",
    "print(ideo_ends)\n",
    "\n",
    "\n",
    "def make_ideogram_arc(R, phi, a=50):\n",
    "    # R is the circle radius\n",
    "    # phi is the list of ends angle coordinates of an arc\n",
    "    # a is a parameter that controls the number of points to be evaluated on an arc\n",
    "    if not test_2PI(phi[0]) or not test_2PI(phi[1]):\n",
    "        phi = [moduloAB(t, 0, 2*PI) for t in phi]\n",
    "    length = (phi[1]-phi[0]) % 2*PI\n",
    "    nr = 5 if length <= PI/4 else int(a*length/PI)\n",
    "\n",
    "    if phi[0] < phi[1]:\n",
    "        theta = np.linspace(phi[0], phi[1], nr)\n",
    "    else:\n",
    "        phi = [moduloAB(t, -PI, PI) for t in phi]\n",
    "        theta = np.linspace(phi[0], phi[1], nr)\n",
    "    return R*np.exp(1j*theta)\n",
    "\n",
    "\n",
    "z = make_ideogram_arc(1.3, [11*PI/6, PI/17])\n",
    "print(z)\n"
   ]
  },
  {
   "cell_type": "code",
   "execution_count": 62,
   "metadata": {},
   "outputs": [],
   "source": [
    "ideo_colors=['rgba(187, 255, 255, 0.75)',\n",
    "             'rgba(127, 255, 212, 0.75)',\n",
    "             'rgba(155, 205, 155, 0.75)',\n",
    "             'rgba(217, 239, 139, 0.75)',\n",
    "             'rgba(255, 246, 143, 0.75)',\n",
    "             'rgba(255, 193, 193, 0.75)',\n",
    "             'rgba(255, 130, 71, 0.75)',\n",
    "             'rgba(255, 48, 48, 0.75)',\n",
    "             'rgba(255, 20, 147, 0.75)',\n",
    "             'rgba(72, 118, 255, 0.75)',\n",
    "             'rgba(176, 226, 255, 0.75)',\n",
    "             'rgba(224, 255, 255, 0.75)',\n",
    "             'rgba(144, 238, 144, 0.75)',\n",
    "             'rgba(106, 90, 205, 0.75)',\n",
    "             'rgba(47, 79, 79, 0.75)']#brewe"
   ]
  },
  {
   "cell_type": "code",
   "execution_count": 63,
   "metadata": {},
   "outputs": [
    {
     "data": {
      "text/plain": [
       "array([[0.        , 0.3804296 , 0.06694711, 0.57808297, 0.07969894,\n",
       "        0.20190398, 0.09457607, 0.10626525, 0.12964361, 0.03931814],\n",
       "       [0.37484855, 0.        , 0.03245895, 0.31097771, 0.06805909,\n",
       "        0.07015322, 0.00732944, 0.02198832, 0.0282707 , 0.01256476],\n",
       "       [0.06177537, 0.03039741, 0.        , 0.00196112, 0.09511446,\n",
       "        0.03431965, 0.02353347, 0.01372786, 0.01078618, 0.03039741],\n",
       "       [0.57067396, 0.31156281, 0.00209807, 0.        , 0.02202969,\n",
       "        0.03042196, 0.0157355 , 0.00524517, 0.01993163, 0.00524517],\n",
       "       [0.0738059 , 0.06396511, 0.09545563, 0.02066565, 0.        ,\n",
       "        0.01476118, 0.00787263, 0.00885671, 0.00393631, 0.02460197],\n",
       "       [0.19248082, 0.06787482, 0.03545699, 0.02937865, 0.01519585,\n",
       "        0.        , 0.03950922, 0.01620891, 0.05571813, 0.00607834],\n",
       "       [0.08840472, 0.00695318, 0.02383947, 0.01489967, 0.00794649,\n",
       "        0.03873915, 0.        , 0.08145154, 0.07251173, 0.01489967],\n",
       "       [0.09987854, 0.02097449, 0.013983  , 0.00499393, 0.00898907,\n",
       "        0.01598057, 0.0819004 , 0.        , 0.0958834 , 0.03196113],\n",
       "       [0.12296857, 0.02721435, 0.01108733, 0.01915084, 0.00403176,\n",
       "        0.05543665, 0.07357955, 0.09676215, 0.        , 0.01411115],\n",
       "       [0.03348759, 0.01086084, 0.02805717, 0.00452535, 0.02262675,\n",
       "        0.00543042, 0.01357605, 0.02896224, 0.01267098, 0.        ]])"
      ]
     },
     "execution_count": 63,
     "metadata": {},
     "output_type": "execute_result"
    }
   ],
   "source": [
    "def map_data(data_matrix, row_value, ideogram_length):\n",
    "    mapped = np.zeros(data_matrix.shape)\n",
    "    for j in range(L):\n",
    "        mapped[:, j] = ideogram_length*data_matrix[:, j]/row_value\n",
    "    return mapped\n",
    "\n",
    "\n",
    "mapped_data = map_data(genre_matrix, row_sum, ideogram_length)\n",
    "mapped_data\n"
   ]
  },
  {
   "cell_type": "code",
   "execution_count": 64,
   "metadata": {},
   "outputs": [
    {
     "data": {
      "text/plain": [
       "array([[0, 9, 2, 4, 6, 7, 8, 5, 1, 3],\n",
       "       [1, 6, 9, 7, 8, 2, 4, 5, 3, 0],\n",
       "       [2, 3, 8, 7, 6, 1, 9, 5, 0, 4],\n",
       "       [3, 2, 7, 9, 6, 8, 4, 5, 1, 0],\n",
       "       [4, 8, 6, 7, 5, 3, 9, 1, 0, 2],\n",
       "       [5, 9, 4, 7, 3, 2, 6, 8, 1, 0],\n",
       "       [6, 1, 4, 3, 9, 2, 5, 8, 7, 0],\n",
       "       [7, 3, 4, 2, 5, 1, 9, 6, 8, 0],\n",
       "       [8, 4, 2, 9, 3, 1, 5, 6, 7, 0],\n",
       "       [9, 3, 5, 1, 8, 6, 4, 2, 7, 0]])"
      ]
     },
     "execution_count": 64,
     "metadata": {},
     "output_type": "execute_result"
    }
   ],
   "source": [
    "idx_sort = np.argsort(mapped_data, axis=1)\n",
    "idx_sort\n"
   ]
  },
  {
   "cell_type": "code",
   "execution_count": 65,
   "metadata": {},
   "outputs": [
    {
     "name": "stdout",
     "output_type": "stream",
     "text": [
      "ribbon ends starting from the ideogram[2]\n",
      " [(2.666348279046058, 2.666348279046058), (2.666348279046058, 2.6683094019583766), (2.6683094019583766, 2.679095577976129), (2.679095577976129, 2.692823438362359), (2.692823438362359, 2.7163569133101824), (2.7163569133101824, 2.7467543184511207), (2.7467543184511207, 2.777151723592059), (2.777151723592059, 2.8114713745576347), (2.8114713745576347, 2.8732467462956706), (2.8732467462956706, 2.9683612075431225)]\n"
     ]
    }
   ],
   "source": [
    "def make_ribbon_ends(mapped_data, ideo_ends,  idx_sort):\n",
    "    L = mapped_data.shape[0]\n",
    "    ribbon_boundary = np.zeros((L, L+1))\n",
    "    for k in range(L):\n",
    "        start = ideo_ends[k][0]\n",
    "        ribbon_boundary[k][0] = start\n",
    "        for j in range(1, L+1):\n",
    "            J = idx_sort[k][j-1]\n",
    "            ribbon_boundary[k][j] = start+mapped_data[k][J]\n",
    "            start = ribbon_boundary[k][j]\n",
    "    return [[(ribbon_boundary[k][j], ribbon_boundary[k][j+1]) for j in range(L)] for k in range(L)]\n",
    "\n",
    "\n",
    "ribbon_ends = make_ribbon_ends(mapped_data, ideo_ends,  idx_sort)\n",
    "print('ribbon ends starting from the ideogram[2]\\n', ribbon_ends[2])\n"
   ]
  },
  {
   "cell_type": "code",
   "execution_count": 66,
   "metadata": {},
   "outputs": [],
   "source": [
    "def control_pts(angle, radius):\n",
    "    #angle is a  3-list containing angular coordinates of the control points b0, b1, b2\n",
    "    #radius is the distance from b1 to the  origin O(0,0)\n",
    "\n",
    "    if len(angle) != 3:\n",
    "        raise InvalidInputError('angle must have len =3')\n",
    "    b_cplx = np.array([np.exp(1j*angle[k]) for k in range(3)])\n",
    "    b_cplx[1] = radius*b_cplx[1]\n",
    "    # print(b_cplx.real)\n",
    "    # print(b_cplx.imag)\n",
    "    # print(zip(b_cplx.real, b_cplx.imag))\n",
    "    return zip(b_cplx.real, b_cplx.imag)\n"
   ]
  },
  {
   "cell_type": "code",
   "execution_count": 67,
   "metadata": {},
   "outputs": [],
   "source": [
    "def ctrl_rib_chords(l, r, radius):\n",
    "    # this function returns a 2-list containing control poligons of the two quadratic Bezier\n",
    "    #curves that are opposite sides in a ribbon\n",
    "    #l (r) the list of angular variables of the ribbon arc ends defining\n",
    "    #the ribbon starting (ending) arc\n",
    "    # radius is a common parameter for both control polygons\n",
    "    if len(l) != 2 or len(r) != 2:\n",
    "        raise ValueError('the arc ends must be elements in a list of len 2')\n",
    "    return [control_pts([l[j], (l[j]+r[j])/2, r[j]], radius) for j in range(2)]"
   ]
  },
  {
   "cell_type": "code",
   "execution_count": 68,
   "metadata": {},
   "outputs": [],
   "source": [
    "ribbon_color = [L*[ideo_colors[k]] for k in range(L)]\n"
   ]
  },
  {
   "cell_type": "code",
   "execution_count": 69,
   "metadata": {},
   "outputs": [
    {
     "data": {
      "text/plain": [
       "'M 1,4 Q -0.5, 2.35 3.745, 1.47'"
      ]
     },
     "execution_count": 69,
     "metadata": {},
     "output_type": "execute_result"
    }
   ],
   "source": [
    "def make_q_bezier(b):  # defines the Plotly SVG path for a quadratic Bezier curve defined by the\n",
    "    #list of its control points\n",
    "    # if len(b) != 3:\n",
    "    #     raise valueError('control poligon must have 3 points')\n",
    "    A, B, C = b\n",
    "    return 'M '+str(A[0])+',' + str(A[1])+' '+'Q ' +\\\n",
    "        str(B[0])+', '+str(B[1]) + ' ' +\\\n",
    "        str(C[0])+', '+str(C[1])\n",
    "\n",
    "\n",
    "b = [(1, 4), (-0.5, 2.35), (3.745, 1.47)]\n",
    "\n",
    "make_q_bezier(b)\n"
   ]
  },
  {
   "cell_type": "code",
   "execution_count": 70,
   "metadata": {},
   "outputs": [
    {
     "data": {
      "text/plain": [
       "'L 0.5000000000000001, 0.8660254037844386 L 0.5877852522924732, 0.8090169943749473 L 0.6691306063588583, 0.7431448254773941 L 0.7431448254773942, 0.6691306063588581 L 0.8090169943749475, 0.5877852522924731 L 0.8660254037844387, 0.49999999999999994 '"
      ]
     },
     "execution_count": 70,
     "metadata": {},
     "output_type": "execute_result"
    }
   ],
   "source": [
    "def make_ribbon_arc(theta0, theta1):\n",
    "    \n",
    "    if test_2PI(theta0) and test_2PI(theta1):\n",
    "        if theta0 < theta1:\n",
    "            theta0= moduloAB(theta0, -PI, PI)\n",
    "            theta1= moduloAB(theta1, -PI, PI)\n",
    "            if theta0*theta1>0:\n",
    "                raise ValueError('incorrect angle coordinates for ribbon')\n",
    "\n",
    "        nr=int(40*(theta0-theta1)/PI)\n",
    "        if nr<=2: nr=3\n",
    "        theta=np.linspace(theta0, theta1, nr)\n",
    "        pts=np.exp(1j*theta)# points on arc in polar complex form\n",
    "\n",
    "        string_arc=''\n",
    "        for k in range(len(theta)):\n",
    "            string_arc+='L '+str(pts.real[k])+', '+str(pts.imag[k])+' '\n",
    "        return   string_arc\n",
    "    else:\n",
    "        raise ValueError('the angle coordinates for an arc side of a ribbon must be in [0, 2*pi]')\n",
    "\n",
    "make_ribbon_arc(np.pi/3, np.pi/6)"
   ]
  },
  {
   "cell_type": "code",
   "execution_count": 126,
   "metadata": {},
   "outputs": [],
   "source": [
    "def make_layout(title, plot_size):\n",
    "    axis = dict(showline=False,  # hide axis line, grid, ticklabels and  title\n",
    "                zeroline=False,\n",
    "                showgrid=False,\n",
    "                showticklabels=False,\n",
    "                title=''\n",
    "                )\n",
    "\n",
    "    return go.Layout(title=dict(\n",
    "                    text=title, font = dict(\n",
    "                        family = 'Droid',\n",
    "                        size = 20)),\n",
    "                     xaxis=dict(axis),\n",
    "                     yaxis=dict(axis),\n",
    "                     showlegend=True,\n",
    "                     width=plot_size+75,\n",
    "                    #  paper_bgcolor='#FFFFFF\t',\n",
    "                     plot_bgcolor='#FFFFFF',\n",
    "                     height=plot_size,\n",
    "                     margin=dict(t=25, b=25, l=25, r=25),\n",
    "                     hovermode='closest'  # to this list one appends below the dicts defining the ribbon,\n",
    "                     #respectively the ideogram shapes\n",
    "                     )\n"
   ]
  },
  {
   "cell_type": "code",
   "execution_count": 127,
   "metadata": {},
   "outputs": [],
   "source": [
    "def make_ideo_shape(path, line_color, fill_color):\n",
    "    #line_color is the color of the shape boundary\n",
    "    #fill_collor is the color assigned to an ideogram\n",
    "    return dict(\n",
    "        line=dict(\n",
    "            color=line_color,\n",
    "            width= 1\n",
    "        ),\n",
    "\n",
    "        path=path,\n",
    "        type='path',\n",
    "        fillcolor=fill_color,\n",
    "        layer='below'\n",
    "    )\n"
   ]
  },
  {
   "cell_type": "code",
   "execution_count": 128,
   "metadata": {},
   "outputs": [],
   "source": [
    "def make_ribbon(l, r, line_color, fill_color, radius=0.2):\n",
    "    #l=[l[0], l[1]], r=[r[0], r[1]]  represent the opposite arcs in the ribbon \n",
    "    #line_color is the color of the shape boundary\n",
    "    #fill_color is the fill color for the ribbon shape\n",
    "    poligon=ctrl_rib_chords(l,r, radius)\n",
    "    b,c =poligon\n",
    "    b = list(b)\n",
    "    c = list(c)\n",
    "    # print(b,c)\n",
    "\n",
    "    return  dict(\n",
    "                line=dict(\n",
    "                color=line_color, width=0.5\n",
    "            ),\n",
    "            path=  make_q_bezier(b)+make_ribbon_arc(r[0], r[1])+\n",
    "                   make_q_bezier(c[::-1])+make_ribbon_arc(l[1], l[0]),\n",
    "            type='path',\n",
    "            fillcolor=fill_color,\n",
    "            layer='below'\n",
    "        )\n",
    "\n",
    "def make_self_rel(l, line_color, fill_color, radius):\n",
    "    #radius is the radius of Bezier control point b_1\n",
    "    b=control_pts([l[0], (l[0]+l[1])/2, l[1]], radius)\n",
    "    return  dict(\n",
    "                line=dict(\n",
    "                color=line_color, width=0.5\n",
    "            ),\n",
    "            path=  make_q_bezier(b)+make_ribbon_arc(l[1], l[0]),\n",
    "            type='path',\n",
    "            fillcolor=fill_color,\n",
    "            layer='below'\n",
    "        )\n",
    "\n",
    "def invPerm(perm):\n",
    "    # function that returns the inverse of a permutation, perm\n",
    "    inv = [0] * len(perm)\n",
    "    for i, s in enumerate(perm):\n",
    "        inv[s] = i\n",
    "    return inv\n",
    "\n",
    "layout=make_layout('Chord diagram of genres', 800)\n",
    "# layout['shapes']"
   ]
  },
  {
   "cell_type": "code",
   "execution_count": 129,
   "metadata": {},
   "outputs": [],
   "source": [
    "# these value are set after a few trials\n",
    "radii_sribb = [0.4, 0.30, 0.35, 0.39, 0.12]\n"
   ]
  },
  {
   "cell_type": "code",
   "execution_count": 130,
   "metadata": {},
   "outputs": [],
   "source": [
    "ribbon_info = []\n",
    "for k in range(L):\n",
    "\n",
    "    sigma = idx_sort[k]\n",
    "    sigma_inv = invPerm(sigma)\n",
    "    for j in range(k, L):\n",
    "        if genre_matrix[k][j] == 0 and genre_matrix[j][k] == 0:\n",
    "            continue\n",
    "        eta = idx_sort[j]\n",
    "        eta_inv = invPerm(eta)\n",
    "        l = ribbon_ends[k][sigma_inv[j]]\n",
    "\n",
    "        if j == k:\n",
    "            # print(make_self_rel(l, 'rgb(175,175,175)',\n",
    "            #                    ideo_colors[k], radius=radii_sribb[k]))\n",
    "            layout['shapes'] = layout['shapes'] + (make_self_rel(l, 'rgb(139,137,137)',\n",
    "                                                                ideo_colors[k], radius=radii_sribb[k]),)\n",
    "            z = 0.9*np.exp(1j*(l[0]+l[1])/2)\n",
    "            #the text below will be displayed when hovering the mouse over the ribbon\n",
    "            text = genre_list[k]+' has ' + \\\n",
    "                '{:d}'.format(genre_matrix[k][k])+' number of coocurence with itself ',\n",
    "            ribbon_info.append(go.Scatter(x=[z.real],\n",
    "                                          y=[z.imag],\n",
    "                                          showlegend = False,\n",
    "                                          mode='markers',\n",
    "                                          marker=dict(\n",
    "                                              size=0.5, color=ideo_colors[k]),\n",
    "                                          text=text,\n",
    "                                          hoverinfo='text'\n",
    "                                          )\n",
    "                               )\n",
    "        else:\n",
    "            r = ribbon_ends[j][eta_inv[k]]\n",
    "            zi = 0.9*np.exp(1j*(l[0]+l[1])/2)\n",
    "            zf = 0.9*np.exp(1j*(r[0]+r[1])/2)\n",
    "            #texti and textf are the strings that will be displayed when hovering the mouse\n",
    "            #over the two ribbon ends\n",
    "            texti = genre_list[k]+' genre has ' + '{:d}'.format(genre_matrix[k][j])+' occurences with ' +\\\n",
    "                genre_list[j] + ' genre',\n",
    "\n",
    "            textf = genre_list[j]+' genre has ' + '{:d}'.format(genre_matrix[j][k])+' occurences with ' +\\\n",
    "                genre_list[k] + ' genre',\n",
    "            ribbon_info.append(go.Scatter(x=[zi.real],\n",
    "                                          y=[zi.imag],\n",
    "                                          mode='markers',\n",
    "                                          showlegend = False,\n",
    "                                          marker=dict(\n",
    "                                              size=0.5, color=ribbon_color[k][j]),\n",
    "                                          text=texti,\n",
    "                                          hoverinfo='text'\n",
    "                                          )\n",
    "                               ),\n",
    "            ribbon_info.append(go.Scatter(x=[zf.real],\n",
    "                                          y=[zf.imag],\n",
    "                                          mode='markers',\n",
    "                                          showlegend = False,\n",
    "                                          marker=dict(\n",
    "                                              size=0.5, color=ribbon_color[k][j]),\n",
    "                                          text=textf,\n",
    "                                          hoverinfo='text'\n",
    "                                          )\n",
    "                               )\n",
    "            # IMPORTANT!!!  Reverse these arc ends because otherwise you get\n",
    "            r = (r[1], r[0])\n",
    "            # a twisted ribbon\n",
    "            # print(make_ribbon(\n",
    "            #     l, r, 'rgb(175,175,175)', ribbon_color[k][j]))\n",
    "            #append the ribbon shape\n",
    "            layout['shapes'] = layout['shapes'] + (make_ribbon(\n",
    "                l, r, 'rgb(139,137,137)', ribbon_color[k][j]),)\n"
   ]
  },
  {
   "cell_type": "code",
   "execution_count": 131,
   "metadata": {},
   "outputs": [
    {
     "data": {
      "application/vnd.plotly.v1+json": {
       "config": {
        "plotlyServerURL": "https://plot.ly"
       },
       "data": [
        {
         "hoverinfo": "text",
         "line": {
          "color": "rgba(187, 255, 255, 0.75)",
          "shape": "spline",
          "width": 1
         },
         "mode": "lines",
         "name": "Drama",
         "showlegend": true,
         "text": "Drama<br>1578",
         "type": "scatter",
         "x": [
          1.1,
          1.09977000605646,
          1.0990801204025917,
          1.0979306315284363,
          1.0963220201166828,
          1.0942549588416626,
          1.091730312088056,
          1.0887491355894319,
          1.0853126759867708,
          1.0814223703071564,
          1.0770798453628516,
          1.0722869170710145,
          1.0670455896943343,
          1.0613580550029065,
          1.0552266913576998,
          1.0486540627159944,
          1.0416429175592097,
          1.0341961877435701,
          1.0263169872740878,
          1.0180086110023772,
          1.009274533248844,
          1.000118406349826,
          0.9905440591302922,
          0.9805554953027408,
          0.9701568917929623,
          0.9593525969933726,
          0.9481471289446408,
          0.9365451734463773,
          0.9245515820976693,
          0.9121713702682831,
          0.8994097150013831,
          0.8862719528486437,
          0.8727635776386592,
          0.8588902381795849,
          0.8446577358969702,
          0.8300720224077724,
          0.8151391970315636,
          0.7998655042399738,
          0.7842573310454348,
          0.7683212043303187,
          0.7520637881175851,
          0.7354918807840823,
          0.7186124122176645,
          0.701432440919314,
          0.6839591510514832,
          0.6661998494338872,
          0.6481619624880055,
          0.6298530331315685,
          0.6112807176243299,
          0.5924527823664434,
          0.5733771006507786,
          0.5540616493705424,
          0.5345145056835732,
          0.5147438436347098,
          0.49475793073764546,
          0.4745651245176936,
          0.45417386901691514,
          0.43359269126306743,
          0.41283019770384927,
          0.3918950706079355,
          0.37079606443430724,
          0.3495420021713907,
          0.3281417716475425,
          0.3066043218144191,
          0.28493865900478527,
          0.2631538431663304,
          0.24125898407306187,
          0.21926323751586319,
          0.19717580147381053,
          0.17500591226784593,
          0.15276284069841684,
          0.13045588816869955,
          0.10809438279502208,
          0.0856876755061199,
          0.06324513613284989,
          0.04077614948999973,
          0.018290111451833957,
          -0.004203574976987207,
          -0.02669550359347057,
          -0.049176268929688016,
          -0.07163647018586933,
          -0.09406671516154298,
          -0.11645762418307841
         ],
         "y": [
          0,
          0.022492971759520045,
          0.044976537614900246,
          0.0674412955952753,
          0.0898778515946841,
          0.11227682330041076,
          0.13462884411639373,
          0.15692456708006286,
          0.17915466877096636,
          0.20130985320955297,
          0.22338085574447925,
          0.2453584469268163,
          0.2672334363695359,
          0.28899667659066186,
          0.3106390668384804,
          0.33215155689720827,
          0.3535251508715292,
          0.37475091094841445,
          0.39581996113465534,
          0.4167234909685449,
          0.43745275920415483,
          0.45799909746667034,
          0.4783539138772509,
          0.49850869664590314,
          0.5184550176308632,
          0.5381845358629992,
          0.5576890010337615,
          0.5769602569452207,
          0.595990244920751,
          0.6147710071749342,
          0.633294690141273,
          0.6515535477563235,
          0.6695399446988717,
          0.6872463595828034,
          0.7046653881023278,
          0.7217897461282411,
          0.7386122727539381,
          0.7551259332898935,
          0.7713238222053637,
          0.7871991660160781,
          0.8027453261167132,
          0.8179558015569628,
          0.8328242317600454,
          0.8473443991825127,
          0.8615102319142441,
          0.8753158062175423,
          0.8887553490042677,
          0.9018232402499745,
          0.914514015344043,
          0.9268223673748167,
          0.9387431493488019,
          0.9502713763429868,
          0.9614022275893923,
          0.9721310484909766,
          0.9824533525680512,
          0.9923648233343956,
          1.001861316102287,
          1.0109388597156854,
          1.0195936582108585,
          1.0278220924037396,
          1.0356207214033664,
          1.0429862840507615,
          1.0499157002826522,
          1.0564060724194653,
          1.0624546863770497,
          1.0680590128016292,
          1.0732167081275032,
          1.077925615557058,
          1.0821837659626763,
          1.085989378710169,
          1.089340862403385,
          1.0922368155496847,
          1.094676027146006,
          1.0966574771852686,
          1.0981803370829115,
          1.0992439700233836,
          1.09984793122644,
          1.0999919681331374,
          1.0996760205114464,
          1.0989002204814389,
          1.0976648924600392,
          1.0959705530253618,
          1.093817910700695
         ]
        },
        {
         "hoverinfo": "text",
         "line": {
          "color": "rgba(127, 255, 212, 0.75)",
          "shape": "spline",
          "width": 1
         },
         "mode": "lines",
         "name": "Comedy",
         "showlegend": true,
         "text": "Comedy<br>885",
         "type": "scatter",
         "x": [
          -0.15075781024395496,
          -0.17316198052411563,
          -0.19549272574016432,
          -0.21774057709072675,
          -0.23989610092352642,
          -0.2619499027354921,
          -0.2838926311562652,
          -0.3057149819134165,
          -0.3274077017776948,
          -0.34896159248662956,
          -0.3703675146448269,
          -0.39161639159930534,
          -0.4126992132882256,
          -0.4336070400613859,
          -0.4543310064708592,
          -0.4748623250301683,
          -0.49519228994040115,
          -0.5153122807816928,
          -0.5352137661684981,
          -0.5548883073671189,
          -0.5743275618739372,
          -0.5935232869528511,
          -0.6124673431304013,
          -0.6311516976471145,
          -0.6495684278635985,
          -0.6677097246199388,
          -0.6855678955469837,
          -0.7031353683280996,
          -0.720404693910029,
          -0.7373685496614746,
          -0.7540197424780821,
          -0.7703512118324978,
          -0.7863560327682109,
          -0.8020274188359112,
          -0.8173587249711154,
          -0.8323434503118413,
          -0.8469752409551384,
          -0.8612478926513057,
          -0.8751553534346475,
          -0.8886917261896625,
          -0.9018512711515685,
          -0.9146284083401087,
          -0.927017719925605,
          -0.9390139525262547,
          -0.9506120194356966,
          -0.9618070027799038
         ],
         "y": [
          1.0896201552148566,
          1.086284920497825,
          1.0824890734703427,
          1.078234223667658,
          1.0735221752538182,
          1.0683549262566567,
          1.0627346677205807,
          1.0566637827775114,
          1.0501448456363762,
          1.043180620491579,
          1.0357740603509116,
          1.027928305783404,
          1.0196466835876434,
          1.0109327053811268,
          1.0017900661112467,
          0.992222642488541,
          0.9822344913428677,
          0.9718298479032068,
          0.9610131240018174,
          0.9497889062035069,
          0.9381619538608135,
          0.9261371970959182,
          0.9137197347101503,
          0.9009148320219651,
          0.8877279186343151,
          0.874164586132363,
          0.8602305857125054,
          0.8459318257437227,
          0.8312743692622775,
          0.8162644314008382,
          0.8009083767531009,
          0.7852127166750437,
          0.7691841065239459,
          0.7528293428363471,
          0.7361553604461443,
          0.719169229544048,
          0.701878152679641,
          0.6842894617073135,
          0.6664106146773755,
          0.6482491926736493,
          0.6298128965989029,
          0.6111095439094694,
          0.5921470653004478,
          0.5729335013428878,
          0.5534769990743852,
          0.5337858085445305
         ]
        },
        {
         "hoverinfo": "text",
         "line": {
          "color": "rgba(155, 205, 155, 0.75)",
          "shape": "spline",
          "width": 1
         },
         "mode": "lines",
         "name": "Action",
         "showlegend": true,
         "text": "Action<br>308",
         "type": "scatter",
         "x": [
          -0.9780990265157313,
          -0.9887282152174051,
          -0.9988973008997837,
          -1.0086015513958733,
          -1.017836450848956,
          -1.026597701814035,
          -1.034881227257645,
          -1.0426831724550918,
          -1.049999906784242,
          -1.0568280254150282,
          -1.063164350893879,
          -1.0690059346223435,
          -1.0743500582292154,
          -1.0791942348355232,
          -1.083536210211795
         ],
         "y": [
          0.5033113294264085,
          0.4820959618509627,
          0.46065625172695435,
          0.4390021759875886,
          0.41714381132074957,
          0.3950913294798327,
          0.3728549925503353,
          0.3504451481744119,
          0.32787222473561745,
          0.30514672650607416,
          0.28227922875832895,
          0.2592803728441665,
          0.23616086124267463,
          0.21293145257986176,
          0.18960295662215124
         ]
        },
        {
         "hoverinfo": "text",
         "line": {
          "color": "rgba(217, 239, 139, 0.75)",
          "shape": "spline",
          "width": 1
         },
         "mode": "lines",
         "name": "Romance",
         "showlegend": true,
         "text": "Romance<br>937",
         "type": "scatter",
         "x": [
          -1.0889571232914705,
          -1.0919123933043446,
          -1.0944097875726755,
          -1.0964482588547002,
          -1.0980269523505632,
          -1.0991452060607634,
          -1.0998025510637521,
          -1.0999987117125687,
          -1.0997336057504281,
          -1.0990073443452137,
          -1.0978202320428614,
          -1.096172766639653,
          -1.0940656389734729,
          -1.0914997326341176,
          -1.0884761235927753,
          -1.084996079750836,
          -1.081061060408217,
          -1.0766727156514286,
          -1.0718328856616395,
          -1.0665435999430228,
          -1.0608070764717201,
          -1.0546257207657672,
          -1.0480021248763793,
          -1.0409390663010167,
          -1.0334395068186868,
          -1.0255065912479686,
          -1.0171436461282861,
          -1.008354178324976,
          -0.9991418735587421,
          -0.9895105948601077,
          -0.9794643809495157,
          -0.9690074445437579,
          -0.9581441705894393,
          -0.9468791144242231,
          -0.9352169998666237,
          -0.9231627172351481,
          -0.9107213212976235,
          -0.8978980291515589,
          -0.8846982180364428,
          -0.8711274230788836,
          -0.8571913349715446,
          -0.8428957975868435,
          -0.8282468055264204,
          -0.8132505016073979,
          -0.7979131742864921,
          -0.7822412550230483,
          -0.7662413155821137,
          -0.7499200652786752,
          -0.7332843481642147
         ],
         "y": [
          0.15547470415718873,
          0.13314400229968557,
          0.11075746866523975,
          0.08832449068348154,
          0.06585447525972658,
          0.043356844830338886,
          0.020841033411588415,
          -0.001683517356351928,
          -0.024207362168606465,
          -0.0467210560163291,
          -0.06921515814731602,
          -0.09168023602483336,
          -0.11410686928299556,
          -0.13648565367704435,
          -0.15880720502686774,
          -0.1810621631521001,
          -0.20324119579716604,
          -0.2253350025446068,
          -0.2473343187150609,
          -0.2692299192522585,
          -0.29101262259139565,
          -0.3126732945092788,
          -0.33420285195460897,
          -0.3555922668568139,
          -0.3768325699118242,
          -0.39791485434320223,
          -0.4188302796370581,
          -0.4395700752491721,
          -0.4601255442827824,
          -0.48048806713548653,
          -0.5006491051137335,
          -0.5206002040133831,
          -0.5403329976648434,
          -0.5598392114412843,
          -0.5791106657284701,
          -0.5981392793547488,
          -0.6169170729797573,
          -0.635436172440432,
          -0.6536888120529086,
          -0.6716673378689363,
          -0.689364210885437,
          -0.7067720102058647,
          -0.7238834361520371,
          -0.7406913133251367,
          -0.757188593614599,
          -0.7733683591536225,
          -0.789223825220065,
          -0.804748343081505,
          -0.819935402783282
         ]
        },
        {
         "hoverinfo": "text",
         "line": {
          "color": "rgba(255, 246, 143, 0.75)",
          "shape": "spline",
          "width": 1
         },
         "mode": "lines",
         "name": "Adventure",
         "showlegend": true,
         "text": "Adventure<br>319",
         "type": "scatter",
         "x": [
          -0.7071677232071883,
          -0.6880987812927876,
          -0.6686838860279498,
          -0.6489327985810546,
          -0.6288554491468102,
          -0.6084619319536813,
          -0.5877625001888427,
          -0.5667675608432196,
          -0.54548766947919,
          -0.5239335249235995,
          -0.5021159638887468,
          -0.48004595552403745,
          -0.4577345959010612,
          -0.4351931024348513,
          -0.41243280824414263
         ],
         "y": [
          -0.8425638321539572,
          -0.8582074732740217,
          -0.8734196360092668,
          -0.8881926721864803,
          -0.902519154410788,
          -0.9163918797998998,
          -0.9298038736054829,
          -0.9427483927198325,
          -0.955218929066087,
          -0.9672092128702726,
          -0.978713215813537,
          -0.9897251540629923,
          -1.0002394911796335,
          -1.0102509409018776,
          -1.01975446980332
         ]
        },
        {
         "hoverinfo": "text",
         "line": {
          "color": "rgba(255, 193, 193, 0.75)",
          "shape": "spline",
          "width": 1
         },
         "mode": "lines",
         "name": "Crime",
         "showlegend": true,
         "text": "Crime<br>452",
         "type": "scatter",
         "x": [
          -0.380198035580246,
          -0.35760234562335586,
          -0.33483663991591084,
          -0.31191174201259253,
          -0.28883855115321805,
          -0.2656280370808806,
          -0.24229123482658535,
          -0.21883923946283024,
          -0.19528320082865663,
          -0.17163431822864633,
          -0.14790383510841693,
          -0.12410303370911545,
          -0.10024322970348266,
          -0.07633576681600776,
          -0.05239201142976164,
          -0.028423347182441966,
          -0.004441169554230564,
          0.019543119549995182,
          0.04351811722148983,
          0.06747242496896023,
          0.09139465413777109,
          0.11527343132448355
         ],
         "y": [
          -1.0322061101063693,
          -1.0402502402809979,
          -1.047799801760729,
          -1.0548512052392367,
          -1.0614010982506614,
          -1.0674463667634821,
          -1.0729841366610267,
          -1.0780117751079208,
          -1.0825268918018225,
          -1.086527340109851,
          -1.0900112180891637,
          -1.0929768693912028,
          -1.0954228840491762,
          -1.0973480991484026,
          -1.0987515993791972,
          -1.0996327174720415,
          -1.0999910345148232,
          -1.0998263801520014,
          -1.0991388326655995,
          -1.0979287189379865,
          -1.096196614296467,
          -1.0939433422397522
         ]
        },
        {
         "hoverinfo": "text",
         "line": {
          "color": "rgba(255, 130, 71, 0.75)",
          "shape": "spline",
          "width": 1
         },
         "mode": "lines",
         "name": "Thriller",
         "showlegend": true,
         "text": "Thriller<br>352",
         "type": "scatter",
         "x": [
          0.14957814161290503,
          0.17335539216531512,
          0.1970498606450425,
          0.2206502322773478,
          0.24414523722138398,
          0.2675236559518596,
          0.2907743246166746,
          0.3138861403679787,
          0.3368480666640904,
          0.35964913853975705,
          0.38227846784223074,
          0.40472524843067226,
          0.42697876133638496,
          0.4490283798814205,
          0.47086357475312207,
          0.4924739190321638,
          0.5138490931716958
         ],
         "y": [
          -1.0897827212576046,
          -1.0862540715722127,
          -1.0822067050336408,
          -1.0776425543731802,
          -1.0725637991010673,
          -1.0669728644657048,
          -1.06087242029554,
          -1.0542653797241441,
          -1.04715489779911,
          -1.0395443699754285,
          -1.031437430494064,
          -1.0228379506464995,
          -1.013750036926089,
          -1.0041780290670907,
          -0.9941264979723211,
          -0.9836002435304203,
          -0.9726042923237723
         ]
        },
        {
         "hoverinfo": "text",
         "line": {
          "color": "rgba(255, 48, 48, 0.75)",
          "shape": "spline",
          "width": 1
         },
         "mode": "lines",
         "name": "Horror",
         "showlegend": true,
         "text": "Horror<br>375",
         "type": "scatter",
         "x": [
          0.5441457787676273,
          0.5650742820400712,
          0.5857285034755971,
          0.6060984177059039,
          0.6261741373627793,
          0.6459459178773418,
          0.6654041622099612,
          0.6845394255085744,
          0.703342419693128,
          0.7218040179639289,
          0.7399152592317043,
          0.757667352467237,
          0.7750516809684465,
          0.7920598065428569,
          0.8086834736034184,
          0.8249146131756929,
          0.8407453468144577,
          0.8561679904278333
         ],
         "y": [
          -0.9559839807493495,
          -0.9437643009654998,
          -0.9310865267075008,
          -0.9179568116498726,
          -0.9043815288350262,
          -0.8903672675798446,
          -0.8759208302772915,
          -0.861049229094592,
          -0.8457596825695913,
          -0.8300596121069429,
          -0.813956638375829,
          -0.7974585776109551,
          -0.7805734378186242,
          -0.7633094148897236,
          -0.7456748886215154,
          -0.7276784186501597,
          -0.7093287402959488,
          -0.6906347603232591
         ]
        },
        {
         "hoverinfo": "text",
         "line": {
          "color": "rgba(255, 20, 147, 0.75)",
          "shape": "spline",
          "width": 1
         },
         "mode": "lines",
         "name": "Mystery",
         "showlegend": true,
         "text": "Mystery<br>421",
         "type": "scatter",
         "x": [
          0.8774388852752589,
          0.8913157987417165,
          0.9047914871326864,
          0.9178598843780963,
          0.9305151077496484,
          0.9427514605089257,
          0.9545634344717732,
          0.9659457124878034,
          0.9768931708339061,
          0.9874008815206895,
          0.997464114510809,
          1.0070783398481908,
          1.0162392296971883,
          1.024942660290752,
          1.0331847137867414,
          1.0409616800315378,
          1.0482700582301667,
          1.055106558522179,
          1.061468103462577,
          1.0673518294071258,
          1.0727550878014187
         ],
         "y": [
          -0.6634010872819784,
          -0.644636445536099,
          -0.6255816212231796,
          -0.6062451918567502,
          -0.5866358617146248,
          -0.5667624579206776,
          -0.5466339264713204,
          -0.52625932820847,
          -0.5056478347408172,
          -0.48480872431523503,
          -0.4637513776401832,
          -0.442485273662991,
          -0.42101998530291346,
          -0.39936517514189457,
          -0.3775305910749608,
          -0.3555260619222148,
          -0.3333614930044002,
          -0.3110468616840296,
          -0.2885922128740829,
          -0.26600765451629793,
          -0.2433033530310892
         ]
        },
        {
         "hoverinfo": "text",
         "line": {
          "color": "rgba(72, 118, 255, 0.75)",
          "shape": "spline",
          "width": 1
         },
         "mode": "lines",
         "name": "Sci-Fi",
         "showlegend": true,
         "text": "Sci-Fi<br>177",
         "type": "scatter",
         "x": [
          1.0798680909281946,
          1.0873897650033169,
          1.093167552706711,
          1.0971921879908582,
          1.0994572164023046
         ],
         "y": [
          -0.2094872459007867,
          -0.16608280755704805,
          -0.122412016196206,
          -0.0785449082489367,
          -0.03455183498594315
         ]
        },
        {
         "hoverinfo": "text",
         "marker": {
          "color": "rgba(187, 255, 255, 0.75)",
          "size": 0.5
         },
         "mode": "markers",
         "showlegend": false,
         "text": [
          "Drama genre has 358 occurences with Comedy genre"
         ],
         "type": "scatter",
         "x": [
          0.5533881886091313
         ],
         "y": [
          0.7097615886393858
         ]
        },
        {
         "hoverinfo": "text",
         "marker": {
          "color": "rgba(187, 255, 255, 0.75)",
          "size": 0.5
         },
         "mode": "markers",
         "showlegend": false,
         "text": [
          "Comedy genre has 358 occurences with Drama genre"
         ],
         "type": "scatter",
         "x": [
          -0.6917756429460628
         ],
         "y": [
          0.57571386975351
         ]
        },
        {
         "hoverinfo": "text",
         "marker": {
          "color": "rgba(187, 255, 255, 0.75)",
          "size": 0.5
         },
         "mode": "markers",
         "showlegend": false,
         "text": [
          "Drama genre has 63 occurences with Action genre"
         ],
         "type": "scatter",
         "x": [
          0.8976166685906928
         ],
         "y": [
          0.06545468866434544
         ]
        },
        {
         "hoverinfo": "text",
         "marker": {
          "color": "rgba(187, 255, 255, 0.75)",
          "size": 0.5
         },
         "mode": "markers",
         "showlegend": false,
         "text": [
          "Action genre has 63 occurences with Drama genre"
         ],
         "type": "scatter",
         "x": [
          -0.8600064275139813
         ],
         "y": [
          0.2653091491725068
         ]
        },
        {
         "hoverinfo": "text",
         "marker": {
          "color": "rgba(187, 255, 255, 0.75)",
          "size": 0.5
         },
         "mode": "markers",
         "showlegend": false,
         "text": [
          "Drama genre has 544 occurences with Romance genre"
         ],
         "type": "scatter",
         "x": [
          0.16375760700641614
         ],
         "y": [
          0.8849765229357964
         ]
        },
        {
         "hoverinfo": "text",
         "marker": {
          "color": "rgba(187, 255, 255, 0.75)",
          "size": 0.5
         },
         "mode": "markers",
         "showlegend": false,
         "text": [
          "Romance genre has 544 occurences with Drama genre"
         ],
         "type": "scatter",
         "x": [
          -0.764534819493006
         ],
         "y": [
          -0.47485419844705673
         ]
        },
        {
         "hoverinfo": "text",
         "marker": {
          "color": "rgba(187, 255, 255, 0.75)",
          "size": 0.5
         },
         "mode": "markers",
         "showlegend": false,
         "text": [
          "Drama genre has 75 occurences with Adventure genre"
         ],
         "type": "scatter",
         "x": [
          0.8904098000942015
         ],
         "y": [
          0.13103582676582864
         ]
        },
        {
         "hoverinfo": "text",
         "marker": {
          "color": "rgba(187, 255, 255, 0.75)",
          "size": 0.5
         },
         "mode": "markers",
         "showlegend": false,
         "text": [
          "Adventure genre has 75 occurences with Drama genre"
         ],
         "type": "scatter",
         "x": [
          -0.44460402878139055
         ],
         "y": [
          -0.7825134232659249
         ]
        },
        {
         "hoverinfo": "text",
         "marker": {
          "color": "rgba(187, 255, 255, 0.75)",
          "size": 0.5
         },
         "mode": "markers",
         "showlegend": false,
         "text": [
          "Drama genre has 190 occurences with Crime genre"
         ],
         "type": "scatter",
         "x": [
          0.7338471757565463
         ],
         "y": [
          0.521026220678135
         ]
        },
        {
         "hoverinfo": "text",
         "marker": {
          "color": "rgba(187, 255, 255, 0.75)",
          "size": 0.5
         },
         "mode": "markers",
         "showlegend": false,
         "text": [
          "Crime genre has 190 occurences with Drama genre"
         ],
         "type": "scatter",
         "x": [
          0.007871638148904165
         ],
         "y": [
          -0.899965575626564
         ]
        },
        {
         "hoverinfo": "text",
         "marker": {
          "color": "rgba(187, 255, 255, 0.75)",
          "size": 0.5
         },
         "mode": "markers",
         "showlegend": false,
         "text": [
          "Drama genre has 89 occurences with Thriller genre"
         ],
         "type": "scatter",
         "x": [
          0.8756278310017616
         ],
         "y": [
          0.20802860758835687
         ]
        },
        {
         "hoverinfo": "text",
         "marker": {
          "color": "rgba(187, 255, 255, 0.75)",
          "size": 0.5
         },
         "mode": "markers",
         "showlegend": false,
         "text": [
          "Thriller genre has 89 occurences with Drama genre"
         ],
         "type": "scatter",
         "x": [
          0.38484800025984023
         ],
         "y": [
          -0.8135674629039696
         ]
        },
        {
         "hoverinfo": "text",
         "marker": {
          "color": "rgba(187, 255, 255, 0.75)",
          "size": 0.5
         },
         "mode": "markers",
         "showlegend": false,
         "text": [
          "Drama genre has 100 occurences with Horror genre"
         ],
         "type": "scatter",
         "x": [
          0.8503612113502129
         ],
         "y": [
          0.2947639907298694
         ]
        },
        {
         "hoverinfo": "text",
         "marker": {
          "color": "rgba(187, 255, 255, 0.75)",
          "size": 0.5
         },
         "mode": "markers",
         "showlegend": false,
         "text": [
          "Horror genre has 100 occurences with Drama genre"
         ],
         "type": "scatter",
         "x": [
          0.6714205676877717
         ],
         "y": [
          -0.5993283084302212
         ]
        },
        {
         "hoverinfo": "text",
         "marker": {
          "color": "rgba(187, 255, 255, 0.75)",
          "size": 0.5
         },
         "mode": "markers",
         "showlegend": false,
         "text": [
          "Drama genre has 122 occurences with Mystery genre"
         ],
         "type": "scatter",
         "x": [
          0.8097642738382395
         ],
         "y": [
          0.39278724624818057
         ]
        },
        {
         "hoverinfo": "text",
         "marker": {
          "color": "rgba(187, 255, 255, 0.75)",
          "size": 0.5
         },
         "mode": "markers",
         "showlegend": false,
         "text": [
          "Mystery genre has 122 occurences with Drama genre"
         ],
         "type": "scatter",
         "x": [
          0.8638184786024143
         ],
         "y": [
          -0.2526215272398818
         ]
        },
        {
         "hoverinfo": "text",
         "marker": {
          "color": "rgba(187, 255, 255, 0.75)",
          "size": 0.5
         },
         "mode": "markers",
         "showlegend": false,
         "text": [
          "Drama genre has 37 occurences with Sci-Fi genre"
         ],
         "type": "scatter",
         "x": [
          0.8998260900078686
         ],
         "y": [
          0.017692024789465653
         ]
        },
        {
         "hoverinfo": "text",
         "marker": {
          "color": "rgba(187, 255, 255, 0.75)",
          "size": 0.5
         },
         "mode": "markers",
         "showlegend": false,
         "text": [
          "Sci-Fi genre has 37 occurences with Drama genre"
         ],
         "type": "scatter",
         "x": [
          0.8989564901765806
         ],
         "y": [
          -0.04332699815823165
         ]
        },
        {
         "hoverinfo": "text",
         "marker": {
          "color": "rgba(127, 255, 212, 0.75)",
          "size": 0.5
         },
         "mode": "markers",
         "showlegend": false,
         "text": [
          "Comedy genre has 31 occurences with Action genre"
         ],
         "type": "scatter",
         "x": [
          -0.19980245247297765
         ],
         "y": [
          0.8775414406088088
         ]
        },
        {
         "hoverinfo": "text",
         "marker": {
          "color": "rgba(127, 255, 212, 0.75)",
          "size": 0.5
         },
         "mode": "markers",
         "showlegend": false,
         "text": [
          "Action genre has 31 occurences with Comedy genre"
         ],
         "type": "scatter",
         "x": [
          -0.8253954527500872
         ],
         "y": [
          0.35877896618876454
         ]
        },
        {
         "hoverinfo": "text",
         "marker": {
          "color": "rgba(127, 255, 212, 0.75)",
          "size": 0.5
         },
         "mode": "markers",
         "showlegend": false,
         "text": [
          "Comedy genre has 297 occurences with Romance genre"
         ],
         "type": "scatter",
         "x": [
          -0.45792644480710815
         ],
         "y": [
          0.7747924697274249
         ]
        },
        {
         "hoverinfo": "text",
         "marker": {
          "color": "rgba(127, 255, 212, 0.75)",
          "size": 0.5
         },
         "mode": "markers",
         "showlegend": false,
         "text": [
          "Romance genre has 297 occurences with Comedy genre"
         ],
         "type": "scatter",
         "x": [
          -0.894089022627602
         ],
         "y": [
          -0.1029797048782884
         ]
        },
        {
         "hoverinfo": "text",
         "marker": {
          "color": "rgba(127, 255, 212, 0.75)",
          "size": 0.5
         },
         "mode": "markers",
         "showlegend": false,
         "text": [
          "Comedy genre has 65 occurences with Adventure genre"
         ],
         "type": "scatter",
         "x": [
          -0.24363596890403408
         ],
         "y": [
          0.8663957032766221
         ]
        },
        {
         "hoverinfo": "text",
         "marker": {
          "color": "rgba(127, 255, 212, 0.75)",
          "size": 0.5
         },
         "mode": "markers",
         "showlegend": false,
         "text": [
          "Adventure genre has 65 occurences with Comedy genre"
         ],
         "type": "scatter",
         "x": [
          -0.4974107895078964
         ],
         "y": [
          -0.7500550023039185
         ]
        },
        {
         "hoverinfo": "text",
         "marker": {
          "color": "rgba(127, 255, 212, 0.75)",
          "size": 0.5
         },
         "mode": "markers",
         "showlegend": false,
         "text": [
          "Comedy genre has 67 occurences with Crime genre"
         ],
         "type": "scatter",
         "x": [
          -0.30288007272909345
         ],
         "y": [
          0.8475043725808257
         ]
        },
        {
         "hoverinfo": "text",
         "marker": {
          "color": "rgba(127, 255, 212, 0.75)",
          "size": 0.5
         },
         "mode": "markers",
         "showlegend": false,
         "text": [
          "Crime genre has 67 occurences with Comedy genre"
         ],
         "type": "scatter",
         "x": [
          -0.10901990949740271
         ],
         "y": [
          -0.893372631846968
         ]
        },
        {
         "hoverinfo": "text",
         "marker": {
          "color": "rgba(127, 255, 212, 0.75)",
          "size": 0.5
         },
         "mode": "markers",
         "showlegend": false,
         "text": [
          "Comedy genre has 7 occurences with Thriller genre"
         ],
         "type": "scatter",
         "x": [
          -0.1266135891202673
         ],
         "y": [
          0.8910493808146012
         ]
        },
        {
         "hoverinfo": "text",
         "marker": {
          "color": "rgba(127, 255, 212, 0.75)",
          "size": 0.5
         },
         "mode": "markers",
         "showlegend": false,
         "text": [
          "Thriller genre has 7 occurences with Comedy genre"
         ],
         "type": "scatter",
         "x": [
          0.12548123814487025
         ],
         "y": [
          -0.8912095482397113
         ]
        },
        {
         "hoverinfo": "text",
         "marker": {
          "color": "rgba(127, 255, 212, 0.75)",
          "size": 0.5
         },
         "mode": "markers",
         "showlegend": false,
         "text": [
          "Comedy genre has 21 occurences with Horror genre"
         ],
         "type": "scatter",
         "x": [
          -0.15082128314350746
         ],
         "y": [
          0.8872727543156873
         ]
        },
        {
         "hoverinfo": "text",
         "marker": {
          "color": "rgba(127, 255, 212, 0.75)",
          "size": 0.5
         },
         "mode": "markers",
         "showlegend": false,
         "text": [
          "Horror genre has 21 occurences with Comedy genre"
         ],
         "type": "scatter",
         "x": [
          0.4871061542130627
         ],
         "y": [
          -0.7567876812737903
         ]
        },
        {
         "hoverinfo": "text",
         "marker": {
          "color": "rgba(127, 255, 212, 0.75)",
          "size": 0.5
         },
         "mode": "markers",
         "showlegend": false,
         "text": [
          "Comedy genre has 27 occurences with Mystery genre"
         ],
         "type": "scatter",
         "x": [
          -0.1730680490087759
         ],
         "y": [
          0.8832029497302961
         ]
        },
        {
         "hoverinfo": "text",
         "marker": {
          "color": "rgba(127, 255, 212, 0.75)",
          "size": 0.5
         },
         "mode": "markers",
         "showlegend": false,
         "text": [
          "Mystery genre has 27 occurences with Comedy genre"
         ],
         "type": "scatter",
         "x": [
          0.7501503022691339
         ],
         "y": [
          -0.49726705501724827
         ]
        },
        {
         "hoverinfo": "text",
         "marker": {
          "color": "rgba(127, 255, 212, 0.75)",
          "size": 0.5
         },
         "mode": "markers",
         "showlegend": false,
         "text": [
          "Comedy genre has 12 occurences with Sci-Fi genre"
         ],
         "type": "scatter",
         "x": [
          -0.13547053505455747
         ],
         "y": [
          0.8897458817730105
         ]
        },
        {
         "hoverinfo": "text",
         "marker": {
          "color": "rgba(127, 255, 212, 0.75)",
          "size": 0.5
         },
         "mode": "markers",
         "showlegend": false,
         "text": [
          "Sci-Fi genre has 12 occurences with Comedy genre"
         ],
         "type": "scatter",
         "x": [
          0.8860609276325121
         ],
         "y": [
          -0.15778476644788042
         ]
        },
        {
         "hoverinfo": "text",
         "marker": {
          "color": "rgba(155, 205, 155, 0.75)",
          "size": 0.5
         },
         "mode": "markers",
         "showlegend": false,
         "text": [
          "Action genre has 2 occurences with Romance genre"
         ],
         "type": "scatter",
         "x": [
          -0.8006662504679579
         ],
         "y": [
          0.4110152738786983
         ]
        },
        {
         "hoverinfo": "text",
         "marker": {
          "color": "rgba(155, 205, 155, 0.75)",
          "size": 0.5
         },
         "mode": "markers",
         "showlegend": false,
         "text": [
          "Romance genre has 2 occurences with Action genre"
         ],
         "type": "scatter",
         "x": [
          -0.891097872690021
         ],
         "y": [
          0.12627185469184707
         ]
        },
        {
         "hoverinfo": "text",
         "marker": {
          "color": "rgba(155, 205, 155, 0.75)",
          "size": 0.5
         },
         "mode": "markers",
         "showlegend": false,
         "text": [
          "Action genre has 97 occurences with Adventure genre"
         ],
         "type": "scatter",
         "x": [
          -0.8781525299038768
         ],
         "y": [
          0.19709930041332158
         ]
        },
        {
         "hoverinfo": "text",
         "marker": {
          "color": "rgba(155, 205, 155, 0.75)",
          "size": 0.5
         },
         "mode": "markers",
         "showlegend": false,
         "text": [
          "Adventure genre has 97 occurences with Action genre"
         ],
         "type": "scatter",
         "x": [
          -0.3768670848795539
         ],
         "y": [
          -0.8172950509665325
         ]
        },
        {
         "hoverinfo": "text",
         "marker": {
          "color": "rgba(155, 205, 155, 0.75)",
          "size": 0.5
         },
         "mode": "markers",
         "showlegend": false,
         "text": [
          "Action genre has 35 occurences with Crime genre"
         ],
         "type": "scatter",
         "x": [
          -0.8462713886058707
         ],
         "y": [
          0.30630823826187126
         ]
        },
        {
         "hoverinfo": "text",
         "marker": {
          "color": "rgba(155, 205, 155, 0.75)",
          "size": 0.5
         },
         "mode": "markers",
         "showlegend": false,
         "text": [
          "Crime genre has 35 occurences with Action genre"
         ],
         "type": "scatter",
         "x": [
          -0.23860481299781258
         ],
         "y": [
          -0.8677947586925603
         ]
        },
        {
         "hoverinfo": "text",
         "marker": {
          "color": "rgba(155, 205, 155, 0.75)",
          "size": 0.5
         },
         "mode": "markers",
         "showlegend": false,
         "text": [
          "Action genre has 24 occurences with Thriller genre"
         ],
         "type": "scatter",
         "x": [
          -0.8154219237058858
         ],
         "y": [
          0.38090298809512185
         ]
        },
        {
         "hoverinfo": "text",
         "marker": {
          "color": "rgba(155, 205, 155, 0.75)",
          "size": 0.5
         },
         "mode": "markers",
         "showlegend": false,
         "text": [
          "Thriller genre has 24 occurences with Action genre"
         ],
         "type": "scatter",
         "x": [
          0.17264260759327493
         ],
         "y": [
          -0.8832862107173385
         ]
        },
        {
         "hoverinfo": "text",
         "marker": {
          "color": "rgba(155, 205, 155, 0.75)",
          "size": 0.5
         },
         "mode": "markers",
         "showlegend": false,
         "text": [
          "Action genre has 14 occurences with Horror genre"
         ],
         "type": "scatter",
         "x": [
          -0.8081843441411835
         ],
         "y": [
          0.3960278599859928
         ]
        },
        {
         "hoverinfo": "text",
         "marker": {
          "color": "rgba(155, 205, 155, 0.75)",
          "size": 0.5
         },
         "mode": "markers",
         "showlegend": false,
         "text": [
          "Horror genre has 14 occurences with Action genre"
         ],
         "type": "scatter",
         "x": [
          0.46151664553993743
         ],
         "y": [
          -0.7726592948315343
         ]
        },
        {
         "hoverinfo": "text",
         "marker": {
          "color": "rgba(155, 205, 155, 0.75)",
          "size": 0.5
         },
         "mode": "markers",
         "showlegend": false,
         "text": [
          "Action genre has 11 occurences with Mystery genre"
         ],
         "type": "scatter",
         "x": [
          -0.8032696371712081
         ],
         "y": [
          0.40590379401877447
         ]
        },
        {
         "hoverinfo": "text",
         "marker": {
          "color": "rgba(155, 205, 155, 0.75)",
          "size": 0.5
         },
         "mode": "markers",
         "showlegend": false,
         "text": [
          "Mystery genre has 11 occurences with Action genre"
         ],
         "type": "scatter",
         "x": [
          0.7230689244619469
         ],
         "y": [
          -0.5358836911844241
         ]
        },
        {
         "hoverinfo": "text",
         "marker": {
          "color": "rgba(155, 205, 155, 0.75)",
          "size": 0.5
         },
         "mode": "markers",
         "showlegend": false,
         "text": [
          "Action genre has 31 occurences with Sci-Fi genre"
         ],
         "type": "scatter",
         "x": [
          -0.8359184186371894
         ],
         "y": [
          0.3335272063611913
         ]
        },
        {
         "hoverinfo": "text",
         "marker": {
          "color": "rgba(155, 205, 155, 0.75)",
          "size": 0.5
         },
         "mode": "markers",
         "showlegend": false,
         "text": [
          "Sci-Fi genre has 31 occurences with Action genre"
         ],
         "type": "scatter",
         "x": [
          0.8947665440270065
         ],
         "y": [
          -0.09691662236152784
         ]
        },
        {
         "hoverinfo": "text",
         "marker": {
          "color": "rgba(217, 239, 139, 0.75)",
          "size": 0.5
         },
         "mode": "markers",
         "showlegend": false,
         "text": [
          "Romance genre has 21 occurences with Adventure genre"
         ],
         "type": "scatter",
         "x": [
          -0.8969355744828382
         ],
         "y": [
          0.07420630180207721
         ]
        },
        {
         "hoverinfo": "text",
         "marker": {
          "color": "rgba(217, 239, 139, 0.75)",
          "size": 0.5
         },
         "mode": "markers",
         "showlegend": false,
         "text": [
          "Adventure genre has 21 occurences with Romance genre"
         ],
         "type": "scatter",
         "x": [
          -0.5464517622076076
         ],
         "y": [
          -0.7151157050297527
         ]
        },
        {
         "hoverinfo": "text",
         "marker": {
          "color": "rgba(217, 239, 139, 0.75)",
          "size": 0.5
         },
         "mode": "markers",
         "showlegend": false,
         "text": [
          "Romance genre has 29 occurences with Crime genre"
         ],
         "type": "scatter",
         "x": [
          -0.8985730371770815
         ],
         "y": [
          0.050660604599189696
         ]
        },
        {
         "hoverinfo": "text",
         "marker": {
          "color": "rgba(217, 239, 139, 0.75)",
          "size": 0.5
         },
         "mode": "markers",
         "showlegend": false,
         "text": [
          "Crime genre has 29 occurences with Romance genre"
         ],
         "type": "scatter",
         "x": [
          -0.26660653664416795
         ],
         "y": [
          -0.8596051155144447
         ]
        },
        {
         "hoverinfo": "text",
         "marker": {
          "color": "rgba(217, 239, 139, 0.75)",
          "size": 0.5
         },
         "mode": "markers",
         "showlegend": false,
         "text": [
          "Romance genre has 15 occurences with Thriller genre"
         ],
         "type": "scatter",
         "x": [
          -0.8933804862551868
         ],
         "y": [
          0.10895552660808865
         ]
        },
        {
         "hoverinfo": "text",
         "marker": {
          "color": "rgba(217, 239, 139, 0.75)",
          "size": 0.5
         },
         "mode": "markers",
         "showlegend": false,
         "text": [
          "Thriller genre has 15 occurences with Romance genre"
         ],
         "type": "scatter",
         "x": [
          0.14227761686172657
         ],
         "y": [
          -0.8886827779022994
         ]
        },
        {
         "hoverinfo": "text",
         "marker": {
          "color": "rgba(217, 239, 139, 0.75)",
          "size": 0.5
         },
         "mode": "markers",
         "showlegend": false,
         "text": [
          "Romance genre has 5 occurences with Horror genre"
         ],
         "type": "scatter",
         "x": [
          -0.8915554870217121
         ],
         "y": [
          0.1229992421174935
         ]
        },
        {
         "hoverinfo": "text",
         "marker": {
          "color": "rgba(217, 239, 139, 0.75)",
          "size": 0.5
         },
         "mode": "markers",
         "showlegend": false,
         "text": [
          "Horror genre has 5 occurences with Romance genre"
         ],
         "type": "scatter",
         "x": [
          0.44716183944508286
         ],
         "y": [
          -0.7810546007444613
         ]
        },
        {
         "hoverinfo": "text",
         "marker": {
          "color": "rgba(217, 239, 139, 0.75)",
          "size": 0.5
         },
         "mode": "markers",
         "showlegend": false,
         "text": [
          "Romance genre has 19 occurences with Mystery genre"
         ],
         "type": "scatter",
         "x": [
          -0.8951813885478979
         ],
         "y": [
          0.09300689005368118
         ]
        },
        {
         "hoverinfo": "text",
         "marker": {
          "color": "rgba(217, 239, 139, 0.75)",
          "size": 0.5
         },
         "mode": "markers",
         "showlegend": false,
         "text": [
          "Mystery genre has 19 occurences with Romance genre"
         ],
         "type": "scatter",
         "x": [
          0.7384218236620486
         ],
         "y": [
          -0.5145223127713845
         ]
        },
        {
         "hoverinfo": "text",
         "marker": {
          "color": "rgba(217, 239, 139, 0.75)",
          "size": 0.5
         },
         "mode": "markers",
         "showlegend": false,
         "text": [
          "Romance genre has 5 occurences with Sci-Fi genre"
         ],
         "type": "scatter",
         "x": [
          -0.8921883712914077
         ],
         "y": [
          0.11832121590139785
         ]
        },
        {
         "hoverinfo": "text",
         "marker": {
          "color": "rgba(217, 239, 139, 0.75)",
          "size": 0.5
         },
         "mode": "markers",
         "showlegend": false,
         "text": [
          "Sci-Fi genre has 5 occurences with Romance genre"
         ],
         "type": "scatter",
         "x": [
          0.8839139955015441
         ],
         "y": [
          -0.169399080742772
         ]
        },
        {
         "hoverinfo": "text",
         "marker": {
          "color": "rgba(255, 246, 143, 0.75)",
          "size": 0.5
         },
         "mode": "markers",
         "showlegend": false,
         "text": [
          "Adventure genre has 15 occurences with Crime genre"
         ],
         "type": "scatter",
         "x": [
          -0.559032515552872
         ],
         "y": [
          -0.7053244973447527
         ]
        },
        {
         "hoverinfo": "text",
         "marker": {
          "color": "rgba(255, 246, 143, 0.75)",
          "size": 0.5
         },
         "mode": "markers",
         "showlegend": false,
         "text": [
          "Crime genre has 15 occurences with Adventure genre"
         ],
         "type": "scatter",
         "x": [
          -0.29949233865842123
         ],
         "y": [
          -0.8487074520026966
         ]
        },
        {
         "hoverinfo": "text",
         "marker": {
          "color": "rgba(255, 246, 143, 0.75)",
          "size": 0.5
         },
         "mode": "markers",
         "showlegend": false,
         "text": [
          "Adventure genre has 8 occurences with Thriller genre"
         ],
         "type": "scatter",
         "x": [
          -0.5731467417991931
         ],
         "y": [
          -0.6939040368559397
         ]
        },
        {
         "hoverinfo": "text",
         "marker": {
          "color": "rgba(255, 246, 143, 0.75)",
          "size": 0.5
         },
         "mode": "markers",
         "showlegend": false,
         "text": [
          "Thriller genre has 8 occurences with Adventure genre"
         ],
         "type": "scatter",
         "x": [
          0.13211705934585094
         ],
         "y": [
          -0.8902500113057034
         ]
        },
        {
         "hoverinfo": "text",
         "marker": {
          "color": "rgba(255, 246, 143, 0.75)",
          "size": 0.5
         },
         "mode": "markers",
         "showlegend": false,
         "text": [
          "Adventure genre has 9 occurences with Horror genre"
         ],
         "type": "scatter",
         "x": [
          -0.567322481237456
         ],
         "y": [
          -0.6986738883646478
         ]
        },
        {
         "hoverinfo": "text",
         "marker": {
          "color": "rgba(255, 246, 143, 0.75)",
          "size": 0.5
         },
         "mode": "markers",
         "showlegend": false,
         "text": [
          "Horror genre has 9 occurences with Adventure genre"
         ],
         "type": "scatter",
         "x": [
          0.45261160773024345
         ],
         "y": [
          -0.7779092058510713
         ]
        },
        {
         "hoverinfo": "text",
         "marker": {
          "color": "rgba(255, 246, 143, 0.75)",
          "size": 0.5
         },
         "mode": "markers",
         "showlegend": false,
         "text": [
          "Adventure genre has 4 occurences with Mystery genre"
         ],
         "type": "scatter",
         "x": [
          -0.5772338643249859
         ],
         "y": [
          -0.6905078318719086
         ]
        },
        {
         "hoverinfo": "text",
         "marker": {
          "color": "rgba(255, 246, 143, 0.75)",
          "size": 0.5
         },
         "mode": "markers",
         "showlegend": false,
         "text": [
          "Mystery genre has 4 occurences with Adventure genre"
         ],
         "type": "scatter",
         "x": [
          0.7189972668490453
         ],
         "y": [
          -0.5413343978204257
         ]
        },
        {
         "hoverinfo": "text",
         "marker": {
          "color": "rgba(255, 246, 143, 0.75)",
          "size": 0.5
         },
         "mode": "markers",
         "showlegend": false,
         "text": [
          "Adventure genre has 25 occurences with Sci-Fi genre"
         ],
         "type": "scatter",
         "x": [
          -0.5301273865157455
         ],
         "y": [
          -0.7272997690539887
         ]
        },
        {
         "hoverinfo": "text",
         "marker": {
          "color": "rgba(255, 246, 143, 0.75)",
          "size": 0.5
         },
         "mode": "markers",
         "showlegend": false,
         "text": [
          "Sci-Fi genre has 25 occurences with Adventure genre"
         ],
         "type": "scatter",
         "x": [
          0.8920234485348973
         ],
         "y": [
          -0.11955821704888982
         ]
        },
        {
         "hoverinfo": "text",
         "marker": {
          "color": "rgba(255, 193, 193, 0.75)",
          "size": 0.5
         },
         "mode": "markers",
         "showlegend": false,
         "text": [
          "Crime genre has 39 occurences with Thriller genre"
         ],
         "type": "scatter",
         "x": [
          -0.20591718689597077
         ],
         "y": [
          -0.8761267671637762
         ]
        },
        {
         "hoverinfo": "text",
         "marker": {
          "color": "rgba(255, 193, 193, 0.75)",
          "size": 0.5
         },
         "mode": "markers",
         "showlegend": false,
         "text": [
          "Thriller genre has 39 occurences with Crime genre"
         ],
         "type": "scatter",
         "x": [
          0.2001910107491816
         ],
         "y": [
          -0.8774528814786702
         ]
        },
        {
         "hoverinfo": "text",
         "marker": {
          "color": "rgba(255, 193, 193, 0.75)",
          "size": 0.5
         },
         "mode": "markers",
         "showlegend": false,
         "text": [
          "Crime genre has 16 occurences with Horror genre"
         ],
         "type": "scatter",
         "x": [
          -0.28612923561875186
         ],
         "y": [
          -0.8533053735470256
         ]
        },
        {
         "hoverinfo": "text",
         "marker": {
          "color": "rgba(255, 193, 193, 0.75)",
          "size": 0.5
         },
         "mode": "markers",
         "showlegend": false,
         "text": [
          "Horror genre has 16 occurences with Crime genre"
         ],
         "type": "scatter",
         "x": [
          0.4730402313991624
         ],
         "y": [
          -0.7656585005587196
         ]
        },
        {
         "hoverinfo": "text",
         "marker": {
          "color": "rgba(255, 193, 193, 0.75)",
          "size": 0.5
         },
         "mode": "markers",
         "showlegend": false,
         "text": [
          "Crime genre has 55 occurences with Mystery genre"
         ],
         "type": "scatter",
         "x": [
          -0.16398396082973057
         ],
         "y": [
          -0.8849346080872832
         ]
        },
        {
         "hoverinfo": "text",
         "marker": {
          "color": "rgba(255, 193, 193, 0.75)",
          "size": 0.5
         },
         "mode": "markers",
         "showlegend": false,
         "text": [
          "Mystery genre has 55 occurences with Crime genre"
         ],
         "type": "scatter",
         "x": [
          0.7700538030201632
         ],
         "y": [
          -0.46585098524547913
         ]
        },
        {
         "hoverinfo": "text",
         "marker": {
          "color": "rgba(255, 193, 193, 0.75)",
          "size": 0.5
         },
         "mode": "markers",
         "showlegend": false,
         "text": [
          "Crime genre has 6 occurences with Sci-Fi genre"
         ],
         "type": "scatter",
         "x": [
          -0.3085030094827351
         ],
         "y": [
          -0.8454737684518046
         ]
        },
        {
         "hoverinfo": "text",
         "marker": {
          "color": "rgba(255, 193, 193, 0.75)",
          "size": 0.5
         },
         "mode": "markers",
         "showlegend": false,
         "text": [
          "Sci-Fi genre has 6 occurences with Crime genre"
         ],
         "type": "scatter",
         "x": [
          0.8847462898797198
         ],
         "y": [
          -0.16499697737858965
         ]
        },
        {
         "hoverinfo": "text",
         "marker": {
          "color": "rgba(255, 130, 71, 0.75)",
          "size": 0.5
         },
         "mode": "markers",
         "showlegend": false,
         "text": [
          "Thriller genre has 82 occurences with Horror genre"
         ],
         "type": "scatter",
         "x": [
          0.3144491912467887
         ],
         "y": [
          -0.8432803247581675
         ]
        },
        {
         "hoverinfo": "text",
         "marker": {
          "color": "rgba(255, 130, 71, 0.75)",
          "size": 0.5
         },
         "mode": "markers",
         "showlegend": false,
         "text": [
          "Horror genre has 82 occurences with Thriller genre"
         ],
         "type": "scatter",
         "x": [
          0.548455026129697
         ],
         "y": [
          -0.7135804680013834
         ]
        },
        {
         "hoverinfo": "text",
         "marker": {
          "color": "rgba(255, 130, 71, 0.75)",
          "size": 0.5
         },
         "mode": "markers",
         "showlegend": false,
         "text": [
          "Thriller genre has 73 occurences with Mystery genre"
         ],
         "type": "scatter",
         "x": [
          0.24866491196564516
         ],
         "y": [
          -0.8649657574477257
         ]
        },
        {
         "hoverinfo": "text",
         "marker": {
          "color": "rgba(255, 130, 71, 0.75)",
          "size": 0.5
         },
         "mode": "markers",
         "showlegend": false,
         "text": [
          "Mystery genre has 73 occurences with Thriller genre"
         ],
         "type": "scatter",
         "x": [
          0.7984824724104106
         ],
         "y": [
          -0.415241786497166
         ]
        },
        {
         "hoverinfo": "text",
         "marker": {
          "color": "rgba(255, 130, 71, 0.75)",
          "size": 0.5
         },
         "mode": "markers",
         "showlegend": false,
         "text": [
          "Thriller genre has 15 occurences with Sci-Fi genre"
         ],
         "type": "scatter",
         "x": [
          0.15550241577390195
         ],
         "y": [
          -0.8864643245435659
         ]
        },
        {
         "hoverinfo": "text",
         "marker": {
          "color": "rgba(255, 130, 71, 0.75)",
          "size": 0.5
         },
         "mode": "markers",
         "showlegend": false,
         "text": [
          "Sci-Fi genre has 15 occurences with Thriller genre"
         ],
         "type": "scatter",
         "x": [
          0.8897132588020081
         ],
         "y": [
          -0.13568462371216194
         ]
        },
        {
         "hoverinfo": "text",
         "marker": {
          "color": "rgba(255, 48, 48, 0.75)",
          "size": 0.5
         },
         "mode": "markers",
         "showlegend": false,
         "text": [
          "Horror genre has 96 occurences with Mystery genre"
         ],
         "type": "scatter",
         "x": [
          0.6096375908133509
         ],
         "y": [
          -0.6620740199307729
         ]
        },
        {
         "hoverinfo": "text",
         "marker": {
          "color": "rgba(255, 48, 48, 0.75)",
          "size": 0.5
         },
         "mode": "markers",
         "showlegend": false,
         "text": [
          "Mystery genre has 96 occurences with Horror genre"
         ],
         "type": "scatter",
         "x": [
          0.8309118505790017
         ],
         "y": [
          -0.3458113598009451
         ]
        },
        {
         "hoverinfo": "text",
         "marker": {
          "color": "rgba(255, 48, 48, 0.75)",
          "size": 0.5
         },
         "mode": "markers",
         "showlegend": false,
         "text": [
          "Horror genre has 32 occurences with Sci-Fi genre"
         ],
         "type": "scatter",
         "x": [
          0.5069637207911465
         ],
         "y": [
          -0.7436314852140115
         ]
        },
        {
         "hoverinfo": "text",
         "marker": {
          "color": "rgba(255, 48, 48, 0.75)",
          "size": 0.5
         },
         "mode": "markers",
         "showlegend": false,
         "text": [
          "Sci-Fi genre has 32 occurences with Horror genre"
         ],
         "type": "scatter",
         "x": [
          0.8971656243309454
         ],
         "y": [
          -0.07137116027405611
         ]
        },
        {
         "hoverinfo": "text",
         "marker": {
          "color": "rgba(255, 20, 147, 0.75)",
          "size": 0.5
         },
         "mode": "markers",
         "showlegend": false,
         "text": [
          "Mystery genre has 14 occurences with Sci-Fi genre"
         ],
         "type": "scatter",
         "x": [
          0.7297630826502302
         ],
         "y": [
          -0.5267312817754737
         ]
        },
        {
         "hoverinfo": "text",
         "marker": {
          "color": "rgba(255, 20, 147, 0.75)",
          "size": 0.5
         },
         "mode": "markers",
         "showlegend": false,
         "text": [
          "Sci-Fi genre has 14 occurences with Mystery genre"
         ],
         "type": "scatter",
         "x": [
          0.8878560354250495
         ],
         "y": [
          -0.14734877114965453
         ]
        }
       ],
       "layout": {
        "height": 800,
        "hovermode": "closest",
        "margin": {
         "b": 25,
         "l": 25,
         "r": 25,
         "t": 25
        },
        "plot_bgcolor": "#FFFFFF",
        "shapes": [
         {
          "fillcolor": "rgba(187, 255, 255, 0.75)",
          "layer": "below",
          "line": {
           "color": "rgb(139,137,137)",
           "width": 0.5
          },
          "path": "M 0.7528906478643995,0.6581456315727734 Q -0.021129774110309328, 0.19888069953127002 -0.8743700025271852, 0.4852598259495732L -0.8743700025271852, 0.4852598259495732 L -0.8070780455538016, 0.5904447716637481 L -0.7272020629033694, 0.6864234550982972 L -0.6359874873096737, 0.7716993689161133 M -0.6359874873096737,0.7716993689161133 Q -0.021684672622520808, 0.19882096210725392 0.45468064771368505, 0.8906545394229257L 0.45468064771368505, 0.8906545394229257 L 0.5636710667900172, 0.8259993513700867 L 0.6636093767691149, 0.7480792705750554 L 0.7528906478643995, 0.6581456315727734 ",
          "type": "path"
         },
         {
          "fillcolor": "rgba(187, 255, 255, 0.75)",
          "layer": "below",
          "line": {
           "color": "rgb(139,137,137)",
           "width": 0.5
          },
          "path": "M 0.9992271413798739,0.03930801355710411 Q 0.022852753563042734, 0.1986900894724919 -0.9642107762393429, 0.2651369061144144L -0.9642107762393429, 0.2651369061144144 L -0.9555626972377569, 0.29478794352500753 L -0.946003036946141, 0.3241577611112809 M -0.946003036946141,0.3241577611112809 Q 0.022338891291517744, 0.1987485193299959 0.9943591592921861, 0.10606536820158091L 0.9943591592921861, 0.10606536820158091 L 0.9973518539896586, 0.0727274318492727 L 0.9992271413798739, 0.03930801355710411 ",
          "type": "path"
         },
         {
          "fillcolor": "rgba(187, 255, 255, 0.75)",
          "layer": "below",
          "line": {
           "color": "rgb(139,137,137)",
           "width": 0.5
          },
          "path": "M 0.45468064771368505,0.8906545394229257 Q -0.1649721180927736, 0.11306723774809378 -0.666622134694741, -0.7453958207120741L -0.666622134694741, -0.7453958207120741 L -0.7343986438425406, -0.6787183745282259 L -0.7955365292605205, -0.605905628470412 L -0.8494831327700066, -0.5276157760522853 L -0.8957508020513711, -0.4445565212932157 L -0.9339212987952299, -0.357478681401606 L -0.963649579383124, -0.26716939973494014 M -0.963649579383124,-0.26716939973494014 Q -0.1653898433278841, 0.11245532323539849 -0.10587056743916218, 0.9943799188188134L -0.10587056743916218, 0.9943799188188134 L -0.009722033228816375, 0.9999527399181912 L 0.08651667864344785, 0.9962504024172368 L 0.18195289667379572, 0.9833072477064404 L 0.27570139296783697, 0.9612433312723654 L 0.36689259425779785, 0.9302633091113413 L 0.45468064771368505, 0.8906545394229257 ",
          "type": "path"
         },
         {
          "fillcolor": "rgba(187, 255, 255, 0.75)",
          "layer": "below",
          "line": {
           "color": "rgb(139,137,137)",
           "width": 0.5
          },
          "path": "M 0.9943591592921861,0.10606536820158091 Q -0.11270349112288441, 0.1652208312795754 -0.46158980610625133, -0.8870934848699957L -0.46158980610625133, -0.8870934848699957 L -0.49400447642376727, -0.8694593591843609 L -0.5257464740650539, -0.8506413139556317 M -0.5257464740650539,-0.8506413139556317 Q -0.1131898274288645, 0.16488803160515889 0.9827584341993296, 0.18489418598236618L 0.9827584341993296, 0.18489418598236618 L 0.9893442223268905, 0.14559536307314294 L 0.9943591592921861, 0.10606536820158091 ",
          "type": "path"
         },
         {
          "fillcolor": "rgba(187, 255, 255, 0.75)",
          "layer": "below",
          "line": {
           "color": "rgb(139,137,137)",
           "width": 0.5
          },
          "path": "M 0.8695780645843861,0.4937954936951867 Q -0.1778877858786767, 0.09141080699338601 0.10479402847680322, -0.9944939474906838L 0.10479402847680322, -0.9944939474906838 L 0.008746264609893516, -0.9999617506961822 L -0.08738244654660757, -0.9961748380859302 M -0.08738244654660757,-0.9961748380859302 Q -0.17831649902218913, 0.0905716632091386 0.7528906478643995, 0.6581456315727734L 0.7528906478643995, 0.6581456315727734 L 0.815385750840607, 0.5789180229757055 L 0.8695780645843861, 0.4937954936951867 ",
          "type": "path"
         },
         {
          "fillcolor": "rgba(187, 255, 255, 0.75)",
          "layer": "below",
          "line": {
           "color": "rgb(139,137,137)",
           "width": 0.5
          },
          "path": "M 0.9827584341993296,0.18489418598236618 Q -0.1801422876573012, 0.08688357841153962 0.467135539246997, -0.8841857202943381L 0.467135539246997, -0.8841857202943381 L 0.42760888917760026, -0.9039638476710774 L 0.3872468921489139, -0.9219760542015218 M 0.3872468921489139,-0.9219760542015218 Q -0.18040952442842917, 0.08632730446103382 0.9609059927735273, 0.27687483282509057L 0.9609059927735273, 0.27687483282509057 L 0.9729198122241794, 0.23114289732039653 L 0.9827584341993296, 0.18489418598236618 ",
          "type": "path"
         },
         {
          "fillcolor": "rgba(187, 255, 255, 0.75)",
          "layer": "below",
          "line": {
           "color": "rgb(139,137,137)",
           "width": 0.5
          },
          "path": "M 0.9609059927735273,0.27687483282509057 Q -0.19604806166905614, 0.03956207168243295 0.7783345367525757, -0.6278497821120537L 0.7783345367525757, -0.6278497821120537 L 0.746022852986413, -0.6659203427002458 L 0.7118510265198154, -0.7023304891877364 M 0.7118510265198154,-0.7023304891877364 Q -0.19617339760348662, 0.03893581991822383 0.9261188440437637, 0.3772318739277515L 0.9261188440437637, 0.3772318739277515 L 0.9448457903891254, 0.32751554525541043 L 0.9609059927735273, 0.27687483282509057 ",
          "type": "path"
         },
         {
          "fillcolor": "rgba(187, 255, 255, 0.75)",
          "layer": "below",
          "line": {
           "color": "rgb(139,137,137)",
           "width": 0.5
          },
          "path": "M 0.9261188440437637,0.3772318739277515 Q -0.19932980809126544, -0.016359327807073634 0.9752318980012896, -0.22118486639189924L 0.9752318980012896, -0.22118486639189924 L 0.9597983095582381, -0.2806905858220909 L 0.9407375220835901, -0.33913554007804425 M 0.9407375220835901,-0.33913554007804425 Q -0.1992740984261518, -0.017024502825174526 0.8695780645843861, 0.4937954936951867L 0.8695780645843861, 0.4937954936951867 L 0.8997380820424883, 0.43643027360908954 L 0.9261188440437637, 0.3772318739277515 ",
          "type": "path"
         },
         {
          "fillcolor": "rgba(187, 255, 255, 0.75)",
          "layer": "below",
          "line": {
           "color": "rgb(139,137,137)",
           "width": 0.5
          },
          "path": "M 1.0,0.0 Q -0.19997532649633212, 0.0031414634623644078 0.9995065603657315, -0.03141075907813102L 0.9995065603657315, -0.03141075907813102 L 0.9988405446406451, -0.04814110906470183 L 0.9978945057791481, -0.06485796277859637 M 0.9978945057791481,-0.06485796277859637 Q -0.19998363493489, 0.002558467945597836 0.9992271413798739, 0.03930801355710411L 0.9992271413798739, 0.03930801355710411 L 0.9998067666754096, 0.019657805321628502 L 1.0, 0.0 ",
          "type": "path"
         },
         {
          "fillcolor": "rgba(127, 255, 212, 0.75)",
          "layer": "below",
          "line": {
           "color": "rgb(139,137,137)",
           "width": 0.5
          },
          "path": "M -0.20614969617370632,0.9785204661975592 Q -0.1275846080858415, 0.15402002395656947 -0.9230587622638267, 0.38465896766872903L -0.9230587622638267, 0.38465896766872903 L -0.917106058611208, 0.3986432957652939 L -0.9109415070237604, 0.41253553881002825 M -0.9109415070237604,0.41253553881002825 Q -0.12774330009347815, 0.15388843127807753 -0.23779728044102308, 0.9713148065456706L -0.23779728044102308, 0.9713148065456706 L -0.22200272496997517, 0.9750460451208987 L -0.20614969617370632, 0.9785204661975592 ",
          "type": "path"
         },
         {
          "fillcolor": "rgba(127, 255, 212, 0.75)",
          "layer": "below",
          "line": {
           "color": "rgb(139,137,137)",
           "width": 0.5
          },
          "path": "M -0.36935027756762884,0.9292902519991887 Q -0.17912019196222634, 0.08897166308109111 -0.963649579383124, -0.26716939973494014L -0.963649579383124, -0.26716939973494014 L -0.9934322473640023, -0.11442189430920933 L -0.9991551707573197, 0.04109677297442247 M -0.9991551707573197,0.04109677297442247 Q -0.17909415583505595, 0.08902406048776199 -0.6359874873096737, 0.7716993689161133L -0.6359874873096737, 0.7716993689161133 L -0.5088071608967868, 0.8608805219193609 L -0.36935027756762884, 0.9292902519991887 ",
          "type": "path"
         },
         {
          "fillcolor": "rgba(127, 255, 212, 0.75)",
          "layer": "below",
          "line": {
           "color": "rgb(139,137,137)",
           "width": 0.5
          },
          "path": "M -0.23779728044102308,0.9713148065456706 Q -0.197548049093819, 0.03122127958982587 -0.5257464740650539, -0.8506413139556317L -0.5257464740650539, -0.8506413139556317 L -0.5526786550087738, -0.8333944470043539 L -0.5790455579982371, -0.8152951868878597 M -0.5790455579982371,-0.8152951868878597 Q -0.197611544815233, 0.03081683558928741 -0.30330253302787924, 0.9528943138978594L -0.30330253302787924, 0.9528943138978594 L -0.2707066321155934, 0.96266189252958 L -0.23779728044102308, 0.9713148065456706 ",
          "type": "path"
         },
         {
          "fillcolor": "rgba(127, 255, 212, 0.75)",
          "layer": "below",
          "line": {
           "color": "rgb(139,137,137)",
           "width": 0.5
          },
          "path": "M -0.30330253302787924,0.9528943138978594 Q -0.1987839357815396, -0.022021509376079156 -0.08738244654660757, -0.9961748380859302L -0.08738244654660757, -0.9961748380859302 L -0.12113323277489191, -0.9926362576077422 L -0.1547445174755054, -0.9879545203658279 M -0.1547445174755054,-0.9879545203658279 Q -0.1987587198427352, -0.02224795016348947 -0.36935027756762884, 0.9292902519991887L -0.36935027756762884, 0.9292902519991887 L -0.3365334141434372, 0.9416715250898063 L -0.30330253302787924, 0.9528943138978594 ",
          "type": "path"
         },
         {
          "fillcolor": "rgba(127, 255, 212, 0.75)",
          "layer": "below",
          "line": {
           "color": "rgb(139,137,137)",
           "width": 0.5
          },
          "path": "M -0.13705255476723177,0.9905637774680512 Q -0.19803144380592727, -0.02799191426358476 0.14286538197205195, -0.9897421293619766L 0.14286538197205195, -0.9897421293619766 L 0.1394235979387447, -0.990232831377457 L 0.13598012873900456, -0.9907115647796405 M 0.13598012873900456,-0.9907115647796405 Q -0.1980261741688767, -0.028029169521013517 -0.14430908723234886, 0.98953266107904L -0.14430908723234886, 0.98953266107904 L -0.1406817656891859, 0.9900548675717791 L -0.13705255476723177, 0.9905637774680512 ",
          "type": "path"
         },
         {
          "fillcolor": "rgba(127, 255, 212, 0.75)",
          "layer": "below",
          "line": {
           "color": "rgb(139,137,137)",
           "width": 0.5
          },
          "path": "M -0.15673060536613972,0.9876413910633572 Q -0.1864739735521021, -0.07230115619884601 0.5500176018442421, -0.835153062415213L 0.5500176018442421, -0.835153062415213 L 0.5412290602367363, -0.8408752014153225 L 0.532380993532847, -0.8465048598354169 M 0.532380993532847,-0.8465048598354169 Q -0.18643729908278467, -0.07239567328726422 -0.17840754625934088, 0.9839566796550147L -0.17840754625934088, 0.9839566796550147 L -0.16757920349278607, 0.9858586159063192 L -0.15673060536613972, 0.9876413910633572 ",
          "type": "path"
         },
         {
          "fillcolor": "rgba(127, 255, 212, 0.75)",
          "layer": "below",
          "line": {
           "color": "rgb(139,137,137)",
           "width": 0.5
          },
          "path": "M -0.17840754625934088,0.9839566796550147 Q -0.1662777703973517, -0.11113821607208568 0.8409411649010154, -0.5411265629914346L 0.8409411649010154, -0.5411265629914346 L 0.8335003358545933, -0.5525189500191647 L 0.8259051822046777, -0.5638090368267062 M 0.8259051822046777,-0.5638090368267062 Q -0.1662190469941566, -0.11122602400676906 -0.20614969617370632, 0.9785204661975592L -0.20614969617370632, 0.9785204661975592 L -0.19229783223197322, 0.9813366108114401 L -0.17840754625934088, 0.9839566796550147 ",
          "type": "path"
         },
         {
          "fillcolor": "rgba(127, 255, 212, 0.75)",
          "layer": "below",
          "line": {
           "color": "rgb(139,137,137)",
           "width": 0.5
          },
          "path": "M -0.14430908723234886,0.98953266107904 Q -0.14324657652373304, -0.13957226914480644 0.9854496626371775, -0.1699675333946844L 0.9854496626371775, -0.1699675333946844 L 0.9845121418139023, -0.17531640716431157 L 0.9835455883223114, -0.18066011095900053 M 0.9835455883223114,-0.18066011095900053 Q -0.14312761493396417, -0.1396942584479222 -0.15673060536613972, 0.9876413910633572L -0.15673060536613972, 0.9876413910633572 L -0.15052281672728607, 0.988606535303345 L -0.14430908723234886, 0.98953266107904 ",
          "type": "path"
         },
         {
          "fillcolor": "rgba(155, 205, 155, 0.75)",
          "layer": "below",
          "line": {
           "color": "rgb(139,137,137)",
           "width": 0.5
          },
          "path": "M -0.8891809331961193,0.4575557540240077 Q -0.19061980327088335, 0.06053173218213507 -0.9902553841075138, 0.13926332699630725L -0.9902553841075138, 0.13926332699630725 L -0.9901087474333568, 0.14030206076871896 L -0.989961021174064, 0.14134064014289882 M -0.989961021174064,0.14134064014289882 Q -0.19061565812202097, 0.06054478407516885 -0.8900765457980601, 0.45581108216035504L -0.8900765457980601, 0.45581108216035504 L -0.8896291671866199, 0.4566836376429981 L -0.8891809331961193, 0.4575557540240077 ",
          "type": "path"
         },
         {
          "fillcolor": "rgba(155, 205, 155, 0.75)",
          "layer": "below",
          "line": {
           "color": "rgb(139,137,137)",
           "width": 0.5
          },
          "path": "M -0.9642107762393429,0.2651369061144144 Q -0.1792939031211884, -0.08862108272623345 -0.374938916585585, -0.9270495180030178L -0.374938916585585, -0.9270495180030178 L -0.41874120542172655, -0.9081056121850362 L -0.46158980610625133, -0.8870934848699957 M -0.46158980610625133,-0.8870934848699957 Q -0.1793090180114341, -0.08859049644163425 -0.9850329183743589, 0.17236632420195522L -0.9850329183743589, 0.17236632420195522 L -0.9757250332265298, 0.2189992226814684 L -0.9642107762393429, 0.2651369061144144 ",
          "type": "path"
         },
         {
          "fillcolor": "rgba(155, 205, 155, 0.75)",
          "layer": "below",
          "line": {
           "color": "rgb(139,137,137)",
           "width": 0.5
          },
          "path": "M -0.9343231748126339,0.3564269981469421 Q -0.1775944172728001, -0.09197947028296355 -0.2479815851524166, -0.9687647461717911L -0.2479815851524166, -0.9687647461717911 L -0.2651164588864584, -0.9642163985472891 L -0.2821680088070201, -0.9593650060357014 M -0.2821680088070201,-0.9593650060357014 Q -0.17764669463322588, -0.09187846257904735 -0.946003036946141, 0.3241577611112809L -0.946003036946141, 0.3241577611112809 L -0.9403015428954119, 0.34034248695763475 L -0.9343231748126339, 0.3564269981469421 ",
          "type": "path"
         },
         {
          "fillcolor": "rgba(155, 205, 155, 0.75)",
          "layer": "below",
          "line": {
           "color": "rgb(139,137,137)",
           "width": 0.5
          },
          "path": "M -0.9009817691609149,0.4338569483593272 Q -0.15757024912777137, -0.12317311634367328 0.20350959256883144, -0.9790729522014527L 0.20350959256883144, -0.9790729522014527 L 0.19182511954808326, -0.981429123019265 L 0.18011339231154438, -0.9836458539078116 M 0.18011339231154438,-0.9836458539078116 Q -0.15758909272615726, -0.12314900671035318 -0.9109415070237604, 0.41253553881002825L -0.9109415070237604, 0.41253553881002825 L -0.9060243596732065, 0.42322554232791315 L -0.9009817691609149, 0.4338569483593272 ",
          "type": "path"
         },
         {
          "fillcolor": "rgba(155, 205, 155, 0.75)",
          "layer": "below",
          "line": {
           "color": "rgb(139,137,137)",
           "width": 0.5
          },
          "path": "M -0.8949411330705259,0.4461842313870396 Q -0.13543720738149492, -0.1471623690238165 0.5187859641134986, -0.8549041603822195L 0.5187859641134986, -0.8549041603822195 L 0.5127962728221527, -0.8585103275905936 L 0.5067815156163447, -0.8620745300898296 M 0.5067815156163447,-0.8620745300898296 Q -0.13545597944461593, -0.14714509041316934 -0.9009817691609149, 0.4338569483593272L -0.9009817691609149, 0.4338569483593272 L -0.897982604601315, 0.440030955539992 L -0.8949411330705259, 0.4461842313870396 ",
          "type": "path"
         },
         {
          "fillcolor": "rgba(155, 205, 155, 0.75)",
          "layer": "below",
          "line": {
           "color": "rgb(139,137,137)",
           "width": 0.5
          },
          "path": "M -0.8900765457980601,0.45581108216035504 Q -0.10500898303530755, -0.17021490381835103 0.806698397891171, -0.5909633616729704L 0.806698397891171, -0.5909633616729704 L 0.8034099160688299, -0.595426323538249 L 0.8000967437394211, -0.5998709866776148 M 0.8000967437394211,-0.5998709866776148 Q -0.10503461226795106, -0.17019908996737085 -0.8949411330705259, 0.4461842313870396L -0.8949411330705259, 0.4461842313870396 L -0.8925218190791201, 0.45100421557641607 L -0.8900765457980601, 0.45581108216035504 ",
          "type": "path"
         },
         {
          "fillcolor": "rgba(155, 205, 155, 0.75)",
          "layer": "below",
          "line": {
           "color": "rgb(139,137,137)",
           "width": 0.5
          },
          "path": "M -0.9230587622638267,0.38465896766872903 Q -0.04838553459744884, -0.19405885715864424 0.9955978428084534, -0.09372798618958007L 0.9955978428084534, -0.09372798618958007 L 0.9941850489188961, -0.10768513595725315 L 0.9925766013839645, -0.12162109350379349 M 0.9925766013839645,-0.12162109350379349 Q -0.048158430169411744, -0.19411534097957817 -0.9343231748126339, 0.3564269981469421L -0.9343231748126339, 0.3564269981469421 L -0.9287982429302104, 0.37058578484576815 L -0.9230587622638267, 0.38465896766872903 ",
          "type": "path"
         },
         {
          "fillcolor": "rgba(217, 239, 139, 0.75)",
          "layer": "below",
          "line": {
           "color": "rgb(139,137,137)",
           "width": 0.5
          },
          "path": "M -0.9956264548263737,0.09342356474609011 Q -0.18281798215388204, -0.08110231440090271 -0.598926173382515, -0.8008042450170814L -0.598926173382515, -0.8008042450170814 L -0.6071686246751196, -0.7945730055886141 L -0.615346250790971, -0.7882569325020208 M -0.615346250790971,-0.7882569325020208 Q -0.18276262620520672, -0.08122698112435231 -0.9974427981746942, 0.07146932467455096L -0.9974427981746942, 0.07146932467455096 L -0.9965950827587091, 0.08245144644675245 L -0.9956264548263737, 0.09342356474609011 ",
          "type": "path"
         },
         {
          "fillcolor": "rgba(217, 239, 139, 0.75)",
          "layer": "below",
          "line": {
           "color": "rgb(139,137,137)",
           "width": 0.5
          },
          "path": "M -0.9974427981746942,0.07146932467455096 Q -0.16431747425989873, -0.11401652359569432 -0.2821680088070201, -0.9593650060357014L -0.2821680088070201, -0.9593650060357014 L -0.2962294851601866, -0.9551167950160497 L -0.31022704336221213, -0.950662496139792 M -0.31022704336221213,-0.950662496139792 Q -0.1642579748604776, -0.11410222475804194 -0.9991551707573197, 0.04109677297442247L -0.9991551707573197, 0.04109677297442247 L -0.9984144857523127, 0.056289560665766326 L -0.9974427981746942, 0.07146932467455096 ",
          "type": "path"
         },
         {
          "fillcolor": "rgba(217, 239, 139, 0.75)",
          "layer": "below",
          "line": {
           "color": "rgb(139,137,137)",
           "width": 0.5
          },
          "path": "M -0.9916617887591296,0.1288677489329406 Q -0.13878281533174808, -0.14401156262117953 0.1654379423502002, -0.9862202022017861L 0.1654379423502002, -0.9862202022017861 L 0.15808624095747398, -0.9874253087803327 L 0.1507257658107454, -0.9885756134564337 M 0.1507257658107454,-0.9885756134564337 Q -0.1387226190671241, -0.1440695490350323 -0.993566734847525, 0.11324814967330787L -0.993566734847525, 0.11324814967330787 L -0.9926449847279853, 0.1210616962312096 L -0.9916617887591296, 0.1288677489329406 ",
          "type": "path"
         },
         {
          "fillcolor": "rgba(217, 239, 139, 0.75)",
          "layer": "below",
          "line": {
           "color": "rgb(139,137,137)",
           "width": 0.5
          },
          "path": "M -0.9902553841075138,0.13926332699630725 Q -0.11194067202214114, -0.16573860729242126 0.49901189809655083, -0.8665951335878119L 0.49901189809655083, -0.8665951335878119 L 0.49684648827231426, -0.8678384452716237 L 0.49467798069784297, -0.8690763461357722 M 0.49467798069784297,-0.8690763461357722 Q -0.1119198512205567, -0.16575266786018394 -0.9909722180953132, 0.13406738217499078L -0.9909722180953132, 0.13406738217499078 L -0.9906172078019023, 0.13666582457499277 L -0.9902553841075138, 0.13926332699630725 ",
          "type": "path"
         },
         {
          "fillcolor": "rgba(217, 239, 139, 0.75)",
          "layer": "below",
          "line": {
           "color": "rgb(139,137,137)",
           "width": 0.5
          },
          "path": "M -0.993566734847525,0.11324814967330787 Q -0.06975075842067423, -0.18744287583085345 0.8259051822046777, -0.5638090368267062L 0.8259051822046777, -0.5638090368267062 L 0.8204686929578318, -0.5716914586348717 L 0.8149569765865784, -0.5795214632029284 M 0.8149569765865784,-0.5795214632029284 Q -0.06967757680981351, -0.1874700917210864 -0.9956264548263737, 0.09342356474609011L -0.9956264548263737, 0.09342356474609011 L -0.9946459872754421, 0.10334098894853465 L -0.993566734847525, 0.11324814967330787 ",
          "type": "path"
         },
         {
          "fillcolor": "rgba(217, 239, 139, 0.75)",
          "layer": "below",
          "line": {
           "color": "rgb(139,137,137)",
           "width": 0.5
          },
          "path": "M -0.9909722180953132,0.13406738217499078 Q -0.03201766605757043, -0.19742053859775055 0.9825500306654832, -0.18599848719615455L 0.9825500306654832, -0.18599848719615455 L 0.9821266616683824, -0.18822120082530222 L 0.9816982644801768, -0.190442950818897 M 0.9816982644801768,-0.190442950818897 Q -0.03194661089882069, -0.19743204920194532 -0.9916617887591296, 0.1288677489329406L -0.9916617887591296, 0.1288677489329406 L -0.9913204125460086, 0.13146801766821983 L -0.9909722180953132, 0.13406738217499078 ",
          "type": "path"
         },
         {
          "fillcolor": "rgba(255, 246, 143, 0.75)",
          "layer": "below",
          "line": {
           "color": "rgb(139,137,137)",
           "width": 0.5
          },
          "path": "M -0.6269143925463235,-0.7790881493247566 Q -0.09669383806231664, -0.1750722755914782 -0.3255948207959281, -0.9455093932219116L -0.3255948207959281, -0.9455093932219116 L -0.33276926517602357, -0.9430082800029962 L -0.3399244993789363, -0.9404527285951056 M -0.3399244993789363,-0.9404527285951056 Q -0.09673188546072002, -0.17505125630858565 -0.615346250790971, -0.7882569325020208L -0.615346250790971, -0.7882569325020208 L -0.6211472395031912, -0.783693885938614 L -0.6269143925463235, -0.7790881493247566 ",
          "type": "path"
         },
         {
          "fillcolor": "rgba(255, 246, 143, 0.75)",
          "layer": "below",
          "line": {
           "color": "rgb(139,137,137)",
           "width": 0.5
          },
          "path": "M -0.6398596879103918,-0.7684917564861812 Q -0.05363663839648095, -0.1926735867251273 0.1507257658107454, -0.9885756134564337L 0.1507257658107454, -0.9885756134564337 L 0.14679673260650103, -0.9891666792285593 L 0.14286538197205195, -0.9897421293619766 M 0.14286538197205195,-0.9897421293619766 Q -0.05364375397813777, -0.19267160574182443 -0.6337898709177469, -0.7735052679342693L -0.6337898709177469, -0.7735052679342693 L -0.6368297131102145, -0.7710044853954885 L -0.6398596879103918, -0.7684917564861812 ",
          "type": "path"
         },
         {
          "fillcolor": "rgba(255, 246, 143, 0.75)",
          "layer": "below",
          "line": {
           "color": "rgb(139,137,137)",
           "width": 0.5
          },
          "path": "M -0.6337898709177469,-0.7735052679342693 Q -0.015484068107299047, -0.1993997082115431 0.5067815156163447, -0.8620745300898296L 0.5067815156163447, -0.8620745300898296 L 0.5029017863669372, -0.8643435620567458 L 0.49901189809655083, -0.8665951335878119 M 0.49901189809655083,-0.8665951335878119 Q -0.015497264397721531, -0.19939868303523753 -0.6269143925463235, -0.7790881493247566L -0.6269143925463235, -0.7790881493247566 L -0.6303583124860622, -0.7763043204051643 L -0.6337898709177469, -0.7735052679342693 ",
          "type": "path"
         },
         {
          "fillcolor": "rgba(255, 246, 143, 0.75)",
          "layer": "below",
          "line": {
           "color": "rgb(139,137,137)",
           "width": 0.5
          },
          "path": "M -0.6428797483701711,-0.765967120139961 Q 0.022870310269884123, -0.19868806936542324 0.8000967437394211, -0.5998709866776148L 0.8000967437394211, -0.5998709866776148 L 0.7988858520544948, -0.6014826642449174 L 0.797671713886599, -0.6030918975290712 M 0.797671713886599,-0.6030918975290712 Q 0.02286082870014711, -0.19868916052755 -0.6398596879103918, -0.7684917564861812L -0.6398596879103918, -0.7684917564861812 L -0.6413709603610954, -0.7672309243021206 L -0.6428797483701711, -0.765967120139961 ",
          "type": "path"
         },
         {
          "fillcolor": "rgba(255, 246, 143, 0.75)",
          "layer": "below",
          "line": {
           "color": "rgb(139,137,137)",
           "width": 0.5
          },
          "path": "M -0.598926173382515,-0.8008042450170814 Q 0.07850161863078023, -0.18394971017195852 0.9925766013839645, -0.12162109350379349L 0.9925766013839645, -0.12162109350379349 L 0.9911371650387748, -0.13284246338765535 L 0.9895708719386875, -0.14404683061596923 M 0.9895708719386875,-0.14404683061596923 Q 0.07868325038936935, -0.18387209170552177 -0.5790455579982371, -0.8152951868878597L -0.5790455579982371, -0.8152951868878597 L -0.5890304294619395, -0.8081108545044319 L -0.598926173382515, -0.8008042450170814 ",
          "type": "path"
         },
         {
          "fillcolor": "rgba(255, 193, 193, 0.75)",
          "layer": "below",
          "line": {
           "color": "rgb(139,137,137)",
           "width": 0.5
          },
          "path": "M -0.2479815851524166,-0.9687647461717911 Q -0.0006915843205673694, -0.19999880427424446 0.24127586977883686, -0.9704565702093348L 0.24127586977883686, -0.9704565702093348 L 0.22243445638797957, -0.9749476460874112 L 0.20350959256883144, -0.9790729522014527 M 0.20350959256883144,-0.9790729522014527 Q -0.0006145771683190923, -0.19999905573503138 -0.20952287965477978, -0.9778037445730962L -0.20952287965477978, -0.9778037445730962 L -0.2287968743288564, -0.9734741857375292 L -0.2479815851524166, -0.9687647461717911 ",
          "type": "path"
         },
         {
          "fillcolor": "rgba(255, 193, 193, 0.75)",
          "layer": "below",
          "line": {
           "color": "rgb(139,137,137)",
           "width": 0.5
          },
          "path": "M -0.3255948207959281,-0.9455093932219116 Q 0.022926495341909724, -0.19868159404267272 0.532380993532847, -0.8465048598354169L 0.532380993532847, -0.8465048598354169 L 0.5256002571101804, -0.8507316672874663 L 0.5187859641134986, -0.8549041603822195 M 0.5187859641134986,-0.8549041603822195 Q 0.0229491791339039, -0.1986789751762375 -0.31022704336221213, -0.950662496139792L -0.31022704336221213, -0.950662496139792 L -0.3179213729097243, -0.9481170817189173 L -0.3255948207959281, -0.9455093932219116 ",
          "type": "path"
         },
         {
          "fillcolor": "rgba(255, 193, 193, 0.75)",
          "layer": "below",
          "line": {
           "color": "rgb(139,137,137)",
           "width": 0.5
          },
          "path": "M -0.20952287965477978,-0.9778037445730962 Q 0.08185966867941578, -0.18248012122885135 0.869632176595387, -0.49370018982168673L 0.869632176595387, -0.49370018982168673 L 0.8556153366890703, -0.5176122058283101 L 0.8409411649010154, -0.5411265629914346 M 0.8409411649010154,-0.5411265629914346 Q 0.08188535048648103, -0.18246859832778395 -0.1547445174755054, -0.9879545203658279L -0.1547445174755054, -0.9879545203658279 L -0.18220440092192286, -0.9832606756525368 L -0.20952287965477978, -0.9778037445730962 ",
          "type": "path"
         },
         {
          "fillcolor": "rgba(255, 193, 193, 0.75)",
          "layer": "below",
          "line": {
           "color": "rgb(139,137,137)",
           "width": 0.5
          },
          "path": "M -0.3456345778002236,-0.9383691910057902 Q 0.09904814522900787, -0.17375115805856767 0.9835455883223114, -0.18066011095900053L 0.9835455883223114, -0.18066011095900053 L 0.9830514331996887, -0.1833299748650996 L 0.9825500306654832, -0.18599848719615455 M 0.9825500306654832,-0.18599848719615455 Q 0.09910442855020077, -0.1737190612504516 -0.3399244993789363, -0.9404527285951056L -0.3399244993789363, -0.9404527285951056 L -0.3427811216474835, -0.9394152982797828 L -0.3456345778002236, -0.9383691910057902 ",
          "type": "path"
         },
         {
          "fillcolor": "rgba(255, 130, 71, 0.75)",
          "layer": "below",
          "line": {
           "color": "rgb(139,137,137)",
           "width": 0.5
          },
          "path": "M 0.31094967768551207,-0.9504263769210513 Q 0.096974865224726, -0.17491676739136885 0.6413425900686011, -0.7672546397149373L 0.6413425900686011, -0.7672546397149373 L 0.6093944734774411, -0.7928671866682038 L 0.576424594487102, -0.8171503453284347 M 0.576424594487102,-0.8171503453284347 Q 0.09693560560475259, -0.17493852739188087 0.3872468921489139, -0.9219760542015218L 0.3872468921489139, -0.9219760542015218 L 0.3493879902742097, -0.9369781386201861 L 0.31094967768551207, -0.9504263769210513 ",
          "type": "path"
         },
         {
          "fillcolor": "rgba(255, 130, 71, 0.75)",
          "layer": "below",
          "line": {
           "color": "rgb(139,137,137)",
           "width": 0.5
          },
          "path": "M 0.24127586977883686,-0.9704565702093348 Q 0.1266674998957859, -0.15477514164151518 0.9035726351617501, -0.428434934367928L 0.9035726351617501, -0.428434934367928 L 0.8872027471226784, -0.46137976277462883 L 0.869632176595387, -0.49370018982168673 M 0.869632176595387,-0.49370018982168673 Q 0.12658484603773265, -0.1548427484695474 0.31094967768551207, -0.9504263769210513L 0.31094967768551207, -0.9504263769210513 L 0.2762943466284946, -0.9610730638308064 L 0.24127586977883686, -0.9704565702093348 ",
          "type": "path"
         },
         {
          "fillcolor": "rgba(255, 130, 71, 0.75)",
          "layer": "below",
          "line": {
           "color": "rgb(139,137,137)",
           "width": 0.5
          },
          "path": "M 0.1654379423502002,-0.9862202022017861 Q 0.14294409217918883, -0.13988204499172713 0.9895708719386875, -0.14404683061596923L 0.9895708719386875, -0.14404683061596923 L 0.9885702875577868, -0.15076069301351328 L 0.9875241527076916, -0.15746760879290655 M 0.9875241527076916,-0.15746760879290655 Q 0.1430366361894635, -0.13978741255064084 0.18011339231154438, -0.9836458539078116L 0.18011339231154438, -0.9836458539078116 L 0.17278046197100216, -0.9849603606039621 L 0.1654379423502002, -0.9862202022017861 ",
          "type": "path"
         },
         {
          "fillcolor": "rgba(255, 48, 48, 0.75)",
          "layer": "below",
          "line": {
           "color": "rgb(139,137,137)",
           "width": 0.5
          },
          "path": "M 0.6413425900686011,-0.7672546397149373 Q 0.1638982441864889, -0.11461834736457362 0.9407375220835901, -0.33913554007804425L 0.9407375220835901, -0.33913554007804425 L 0.9232353895322242, -0.3842348442232723 L 0.9035726351617501, -0.428434934367928 M 0.9035726351617501,-0.428434934367928 Q 0.16384786790406305, -0.1146903491288291 0.7118510265198154, -0.7023304891877364L 0.7118510265198154, -0.7023304891877364 L 0.6773751009037232, -0.735637799923081 L 0.6413425900686011, -0.7672546397149373 ",
          "type": "path"
         },
         {
          "fillcolor": "rgba(255, 48, 48, 0.75)",
          "layer": "below",
          "line": {
           "color": "rgb(139,137,137)",
           "width": 0.5
          },
          "path": "M 0.5500176018442421,-0.835153062415213 Q 0.1728984220127897, -0.10052927765326514 0.9978945057791481, -0.06485796277859637L 0.9978945057791481, -0.06485796277859637 L 0.9968506937010504, -0.07930128919339569 L 0.9955978428084534, -0.09372798618958007 M 0.9955978428084534,-0.09372798618958007 Q 0.17304896570227413, -0.10026991308150793 0.576424594487102, -0.8171503453284347L 0.576424594487102, -0.8171503453284347 L 0.5632930231012738, -0.826257205793346 L 0.5500176018442421, -0.835153062415213 ",
          "type": "path"
         },
         {
          "fillcolor": "rgba(255, 20, 147, 0.75)",
          "layer": "below",
          "line": {
           "color": "rgb(139,137,137)",
           "width": 0.5
          },
          "path": "M 0.806698397891171,-0.5909633616729704 Q 0.1845847536727381, -0.07699654999787069 0.9875241527076916, -0.15746760879290655L 0.9875241527076916, -0.15746760879290655 L 0.9865067060278327, -0.16372085683294949 L 0.9854496626371775, -0.1699675333946844 M 0.9854496626371775,-0.1699675333946844 Q 0.18464014969616865, -0.07686361375954447 0.8149569765865784, -0.5795214632029284L 0.8149569765865784, -0.5795214632029284 L 0.8108478696113668, -0.5852569797505263 L 0.806698397891171, -0.5909633616729704 ",
          "type": "path"
         },
         {
          "fillcolor": "rgba(187, 255, 255, 0.75)",
          "layer": "below",
          "line": {
           "color": "rgb(139,137,137)",
           "width": 1
          },
          "path": "M 1.1, 0.0 L 1.09977000605646, 0.022492971759520045 L 1.0990801204025917, 0.044976537614900246 L 1.0979306315284363, 0.0674412955952753 L 1.0963220201166828, 0.0898778515946841 L 1.0942549588416626, 0.11227682330041076 L 1.091730312088056, 0.13462884411639373 L 1.0887491355894319, 0.15692456708006286 L 1.0853126759867708, 0.17915466877096636 L 1.0814223703071564, 0.20130985320955297 L 1.0770798453628516, 0.22338085574447925 L 1.0722869170710145, 0.2453584469268163 L 1.0670455896943343, 0.2672334363695359 L 1.0613580550029065, 0.28899667659066186 L 1.0552266913576998, 0.3106390668384804 L 1.0486540627159944, 0.33215155689720827 L 1.0416429175592097, 0.3535251508715292 L 1.0341961877435701, 0.37475091094841445 L 1.0263169872740878, 0.39581996113465534 L 1.0180086110023772, 0.4167234909685449 L 1.009274533248844, 0.43745275920415483 L 1.000118406349826, 0.45799909746667034 L 0.9905440591302922, 0.4783539138772509 L 0.9805554953027408, 0.49850869664590314 L 0.9701568917929623, 0.5184550176308632 L 0.9593525969933726, 0.5381845358629992 L 0.9481471289446408, 0.5576890010337615 L 0.9365451734463773, 0.5769602569452207 L 0.9245515820976693, 0.595990244920751 L 0.9121713702682831, 0.6147710071749342 L 0.8994097150013831, 0.633294690141273 L 0.8862719528486437, 0.6515535477563235 L 0.8727635776386592, 0.6695399446988717 L 0.8588902381795849, 0.6872463595828034 L 0.8446577358969702, 0.7046653881023278 L 0.8300720224077724, 0.7217897461282411 L 0.8151391970315636, 0.7386122727539381 L 0.7998655042399738, 0.7551259332898935 L 0.7842573310454348, 0.7713238222053637 L 0.7683212043303187, 0.7871991660160781 L 0.7520637881175851, 0.8027453261167132 L 0.7354918807840823, 0.8179558015569628 L 0.7186124122176645, 0.8328242317600454 L 0.701432440919314, 0.8473443991825127 L 0.6839591510514832, 0.8615102319142441 L 0.6661998494338872, 0.8753158062175423 L 0.6481619624880055, 0.8887553490042677 L 0.6298530331315685, 0.9018232402499745 L 0.6112807176243299, 0.914514015344043 L 0.5924527823664434, 0.9268223673748167 L 0.5733771006507786, 0.9387431493488019 L 0.5540616493705424, 0.9502713763429868 L 0.5345145056835732, 0.9614022275893923 L 0.5147438436347098, 0.9721310484909766 L 0.49475793073764546, 0.9824533525680512 L 0.4745651245176936, 0.9923648233343956 L 0.45417386901691514, 1.001861316102287 L 0.43359269126306743, 1.0109388597156854 L 0.41283019770384927, 1.0195936582108585 L 0.3918950706079355, 1.0278220924037396 L 0.37079606443430724, 1.0356207214033664 L 0.3495420021713907, 1.0429862840507615 L 0.3281417716475425, 1.0499157002826522 L 0.3066043218144191, 1.0564060724194653 L 0.28493865900478527, 1.0624546863770497 L 0.2631538431663304, 1.0680590128016292 L 0.24125898407306187, 1.0732167081275032 L 0.21926323751586319, 1.077925615557058 L 0.19717580147381053, 1.0821837659626763 L 0.17500591226784593, 1.085989378710169 L 0.15276284069841684, 1.089340862403385 L 0.13045588816869955, 1.0922368155496847 L 0.10809438279502208, 1.094676027146006 L 0.0856876755061199, 1.0966574771852686 L 0.06324513613284989, 1.0981803370829115 L 0.04077614948999973, 1.0992439700233836 L 0.018290111451833957, 1.09984793122644 L -0.004203574976987207, 1.0999919681331374 L -0.02669550359347057, 1.0996760205114464 L -0.049176268929688016, 1.0989002204814389 L -0.07163647018586933, 1.0976648924600392 L -0.09406671516154298, 1.0959705530253618 L -0.11645762418307841, 1.093817910700695 L -0.10587056743916218, 0.9943799188188134 L -0.08551519560140271, 0.9963368663866925 L -0.06512406380533575, 0.9978771749636719 L -0.0447056990269891, 0.9990002004376717 L -0.024268639630427788, 0.9997054731922239 L -0.003821431797261097, 0.9999926983028521 L 0.01662737404712178, 0.9998617556603998 L 0.037069226809090666, 0.9993127000212577 L 0.057495578302590805, 0.998345760984465 L 0.07789788682374536, 0.9969613428956987 L 0.09826762072274733, 0.9951600246781873 L 0.11859626197154503, 0.9929425595906224 L 0.13887530972583348, 0.990309874912168 L 0.1590962838798599, 0.9872630715546992 L 0.179250728612555, 0.983803423602433 L 0.19933021592351197, 0.9799323777791435 L 0.21932634915732896, 0.9756515528431846 L 0.2392307665148458, 0.9709627389105718 L 0.25903514454980475, 0.9658678967064087 L 0.2787312016494719, 0.9603691567449683 L 0.2983107014977659, 0.9544688184387747 L 0.31776545651944604, 0.9481693491370559 L 0.33708733130391566, 0.9414733830939694 L 0.3562682460072141, 0.9343837203670359 L 0.375300179730772, 0.9269033256462349 L 0.3941751738755158, 0.9190353270142595 L 0.41288533546992284, 0.9107830146384425 L 0.4314228404706305, 0.902149839394905 L 0.4497799370342231, 0.893139411425501 L 0.4679489487588271, 0.8837554986281605 L 0.4859222778941574, 0.8740020250812657 L 0.5036924085186748, 0.8638830694027152 L 0.521251909682526, 0.8534028630443653 L 0.5385934385149485, 0.8425657885225606 L 0.5557097432948453, 0.8313763775854935 L 0.5725936664832441, 0.8198393093181586 L 0.5892381477163686, 0.8079594081856978 L 0.6056362267580793, 0.7957416420159475 L 0.6217810464104392, 0.78319111992204 L 0.6376658553811945, 0.7703130901659205 L 0.6532840111069677, 0.7571129379636775 L 0.6686289825309839, 0.7435961832336024 L 0.6836943528341682, 0.729768478287921 L 0.6984738221184715, 0.7156356054691618 L 0.7129612100413043, 0.7012034747321487 L 0.7271504583999762, 0.6864781211726304 L 0.7410356336650578, 0.6714657025035801 L 0.7546109294616112, 0.6561724964802191 L 0.7678706689972457, 0.6406048982748435 L 0.7808093074359862, 0.6247694178025486 L 0.7934214342169629, 0.6086726769989742 L 0.8057017753169488, 0.5923214070512031 L 0.8176451954558027, 0.5757224455829755 L 0.8292467002438937, 0.5588827337953947 L 0.8405014382706084, 0.541809313564319 L 0.8514047031330703, 0.5245093244956551 L 0.8619519354042189, 0.5069900009397832 L 0.8721387245394295, 0.48925866896636283 L 0.8819608107208747, 0.47132274330078466 L 0.8914140866388551, 0.45318972422354825 L 0.9004945992093565, 0.4348671944338644 L 0.9091985512271145, 0.4163628158787912 L 0.9175223029534945, 0.39768432654923164 L 0.9254623736385247, 0.37883953724413166 L 0.9330154429764433, 0.3598363283042321 L 0.9401783524941546, 0.3406826463167404 L 0.9469481068720088, 0.32138650079229925 L 0.9533218751963585, 0.30195596081564385 L 0.9592969921433634, 0.2823991516713458 L 0.9648709590935513, 0.2627242514460562 L 0.9700414451766673, 0.24293948760866896 L 0.9748062882463768, 0.22305313356983297 L 0.9791634957844105, 0.20307350522225384 L 0.9831112457337784, 0.18300895746322995 L 0.9866478872607007, 0.1628678807008785 L 0.989771941444938, 0.14265869734551168 L 0.9924821018982326, 0.12238985828763065 L 0.9947772353106022, 0.10206983936400978 L 0.996656381924257, 0.08170713781334918 L 0.998118755934942, 0.06131026872297754 L 0.9991637458205379, 0.04088776146809113 L 0.9997909145967816, 0.02044815614501822 L 1.0, 0.0 L 1.1 ,0.0",
          "type": "path"
         },
         {
          "fillcolor": "rgba(127, 255, 212, 0.75)",
          "layer": "below",
          "line": {
           "color": "rgb(139,137,137)",
           "width": 1
          },
          "path": "M -0.15075781024395496, 1.0896201552148566 L -0.17316198052411563, 1.086284920497825 L -0.19549272574016432, 1.0824890734703427 L -0.21774057709072675, 1.078234223667658 L -0.23989610092352642, 1.0735221752538182 L -0.2619499027354921, 1.0683549262566567 L -0.2838926311562652, 1.0627346677205807 L -0.3057149819134165, 1.0566637827775114 L -0.3274077017776948, 1.0501448456363762 L -0.34896159248662956, 1.043180620491579 L -0.3703675146448269, 1.0357740603509116 L -0.39161639159930534, 1.027928305783404 L -0.4126992132882256, 1.0196466835876434 L -0.4336070400613859, 1.0109327053811268 L -0.4543310064708592, 1.0017900661112467 L -0.4748623250301683, 0.992222642488541 L -0.49519228994040115, 0.9822344913428677 L -0.5153122807816928, 0.9718298479032068 L -0.5352137661684981, 0.9610131240018174 L -0.5548883073671189, 0.9497889062035069 L -0.5743275618739372, 0.9381619538608135 L -0.5935232869528511, 0.9261371970959182 L -0.6124673431304013, 0.9137197347101503 L -0.6311516976471145, 0.9009148320219651 L -0.6495684278635985, 0.8877279186343151 L -0.6677097246199388, 0.874164586132363 L -0.6855678955469837, 0.8602305857125054 L -0.7031353683280996, 0.8459318257437227 L -0.720404693910029, 0.8312743692622775 L -0.7373685496614746, 0.8162644314008382 L -0.7540197424780821, 0.8009083767531009 L -0.7703512118324978, 0.7852127166750437 L -0.7863560327682109, 0.7691841065239459 L -0.8020274188359112, 0.7528293428363471 L -0.8173587249711154, 0.7361553604461443 L -0.8323434503118413, 0.719169229544048 L -0.8469752409551384, 0.701878152679641 L -0.8612478926513057, 0.6842894617073135 L -0.8751553534346475, 0.6664106146773755 L -0.8886917261896625, 0.6482491926736493 L -0.9018512711515685, 0.6298128965989029 L -0.9146284083401087, 0.6111095439094694 L -0.927017719925605, 0.5921470653004478 L -0.9390139525262547, 0.5729335013428878 L -0.9506120194356966, 0.5534769990743852 L -0.9618070027799038, 0.5337858085445305 L -0.8743700025271852, 0.4852598259495732 L -0.8641927449415423, 0.503160908249441 L -0.8536490477511406, 0.5208486375844434 L -0.84274338175055, 0.538315513909498 L -0.8314803712182806, 0.5555541308267903 L -0.8198647919559713, 0.5725571787262753 L -0.8079015692633295, 0.5893174478851357 L -0.7955957758496794, 0.6058278315248867 L -0.7829526296830052, 0.6220813288248305 L -0.7699774917773985, 0.6380710478905827 L -0.7566758639198556, 0.6537902086764072 L -0.7430533863373776, 0.6692321458601311 L -0.7291158353053738, 0.6843903116694063 L -0.7148691206983735, 0.6992582786581325 L -0.7003192834840888, 0.7138297424318578 L -0.6854724931618927, 0.7280985243210008 L -0.670335045146795, 0.7420585740007619 L -0.6549133581000264, 0.7557039720566159 L -0.6392139712073632, 0.7690289324942933 L -0.6232435414063487, 0.7820278051931867 L -0.6070088405635807, 0.7946950783021481 L -0.5905167526032713, 0.8070253805766501 L -0.5737742705882859, 0.8190134836563319 L -0.5567884937549102, 0.8306543042819547 L -0.5395666245025919, 0.8419429064508347 L -0.5221159653399429, 0.8528745035098304 L -0.5044439157882898, 0.8634444601850062 L -0.4865579692440892, 0.8736482945471067 L -0.4684657098015389, 0.8834816799120061 L -0.4501748090367283, 0.8929404466753341 L -0.4316930227546984, 0.9020205840804917 L -0.4130281877007811, 0.9107182419193152 L -0.3941882182376235, 0.9190297321646606 L -0.37518110298929597, 0.9269515305342212 L -0.3560149014539139, 0.9344802779849128 L -0.3366977405862063, 0.9416127821371924 L -0.3172378113514814, 0.948346018628708 L -0.2976433652524498, 0.9546771323967055 L -0.2779227108303786, 0.9606034388886466 L -0.25808421014205923, 0.9661224252005278 L -0.23813627521408373, 0.9712317511424151 L -0.2180873644759331, 0.9759292502307437 L -0.19794597917338794, 0.9802129306069619 L -0.17772065976378573, 0.9840809758821297 L -0.15741998229465057, 0.9875317459071136 L -0.13705255476723177, 0.9905637774680512 L -0.15075781024395496 ,1.0896201552148566",
          "type": "path"
         },
         {
          "fillcolor": "rgba(155, 205, 155, 0.75)",
          "layer": "below",
          "line": {
           "color": "rgb(139,137,137)",
           "width": 1
          },
          "path": "M -0.9780990265157313, 0.5033113294264085 L -0.9887282152174051, 0.4820959618509627 L -0.9988973008997837, 0.46065625172695435 L -1.0086015513958733, 0.4390021759875886 L -1.017836450848956, 0.41714381132074957 L -1.026597701814035, 0.3950913294798327 L -1.034881227257645, 0.3728549925503353 L -1.0426831724550918, 0.3504451481744119 L -1.049999906784242, 0.32787222473561745 L -1.0568280254150282, 0.30514672650607416 L -1.063164350893879, 0.28227922875832895 L -1.0690059346223435, 0.2592803728441665 L -1.0743500582292154, 0.23616086124267463 L -1.0791942348355232, 0.21293145257986176 L -1.083536210211795, 0.18960295662215124 L -0.9850329183743589, 0.17236632420195566 L -0.9810856680322937, 0.1935740477998743 L -0.9766818711174684, 0.2146916920387951 L -0.9718235769294031, 0.23570942985833318 L -0.9665130462671627, 0.25661748068938994 L -0.9607527503772982, 0.2774061150055219 L -0.9545453698038563, 0.2980656588505613 L -0.9478937931409924, 0.31858649834037445 L -0.9408011156887681, 0.3389590841366684 L -0.9332706380127591, 0.35917393589075697 L -0.9253058644081417, 0.37922164665522684 L -0.9169105012689757, 0.39909288726144415 L -0.9080884553634396, 0.4187784106608676 L -0.8988438320158227, 0.4382690562281479 L -0.8891809331961193, 0.4575557540240077 L -0.9780990265157313 ,0.5033113294264085",
          "type": "path"
         },
         {
          "fillcolor": "rgba(217, 239, 139, 0.75)",
          "layer": "below",
          "line": {
           "color": "rgb(139,137,137)",
           "width": 1
          },
          "path": "M -1.0889571232914705, 0.15547470415718873 L -1.0919123933043446, 0.13314400229968557 L -1.0944097875726755, 0.11075746866523975 L -1.0964482588547002, 0.08832449068348154 L -1.0980269523505632, 0.06585447525972658 L -1.0991452060607634, 0.043356844830338886 L -1.0998025510637521, 0.020841033411588415 L -1.0999987117125687, -0.001683517356351928 L -1.0997336057504281, -0.024207362168606465 L -1.0990073443452137, -0.0467210560163291 L -1.0978202320428614, -0.06921515814731602 L -1.096172766639653, -0.09168023602483336 L -1.0940656389734729, -0.11410686928299556 L -1.0914997326341176, -0.13648565367704435 L -1.0884761235927753, -0.15880720502686774 L -1.084996079750836, -0.1810621631521001 L -1.081061060408217, -0.20324119579716604 L -1.0766727156514286, -0.2253350025446068 L -1.0718328856616395, -0.2473343187150609 L -1.0665435999430228, -0.2692299192522585 L -1.0608070764717201, -0.29101262259139565 L -1.0546257207657672, -0.3126732945092788 L -1.0480021248763793, -0.33420285195460897 L -1.0409390663010167, -0.3555922668568139 L -1.0334395068186868, -0.3768325699118242 L -1.0255065912479686, -0.39791485434320223 L -1.0171436461282861, -0.4188302796370581 L -1.008354178324976, -0.4395700752491721 L -0.9991418735587421, -0.4601255442827824 L -0.9895105948601077, -0.48048806713548653 L -0.9794643809495157, -0.5006491051137335 L -0.9690074445437579, -0.5206002040133831 L -0.9581441705894393, -0.5403329976648434 L -0.9468791144242231, -0.5598392114412843 L -0.9352169998666237, -0.5791106657284701 L -0.9231627172351481, -0.5981392793547488 L -0.9107213212976235, -0.6169170729797573 L -0.8978980291515589, -0.635436172440432 L -0.8846982180364428, -0.6536888120529086 L -0.8711274230788836, -0.6716673378689363 L -0.8571913349715446, -0.689364210885437 L -0.8428957975868435, -0.7067720102058647 L -0.8282468055264204, -0.7238834361520371 L -0.8132505016073979, -0.7406913133251367 L -0.7979131742864921, -0.757188593614599 L -0.7822412550230483, -0.7733683591536225 L -0.7662413155821137, -0.789223825220065 L -0.7499200652786752, -0.804748343081505 L -0.7332843481642147, -0.819935402783282 L -0.6666221346947406, -0.7453958207120746 L -0.6817455138897046, -0.7315894028013681 L -0.6965830141655579, -0.7174762047455135 L -0.7111284136573166, -0.7030621446851113 L -0.72537561298772, -0.6883532669223626 L -0.7393186378249071, -0.6733557393864879 L -0.7529516413876548, -0.6580758510473064 L -0.7662689068971305, -0.6425200092780587 L -0.7792648499741315, -0.626694737168579 L -0.7919340209808032, -0.610606670789942 L -0.804271107305857, -0.5942625564117351 L -0.8162709355923262, -0.57766924767312 L -0.8279284739069304, -0.5608337027088702 L -0.8392388338501345, -0.5437629812315897 L -0.8501972726060214, -0.5264642415713364 L -0.8607991949311119, -0.5089447376738948 L -0.8710401550813084, -0.49121181605894854 L -0.8809158586761434, -0.4732729127394392 L -0.8904221644995597, -0.455135550103394 L -0.8995550862364615, -0.4368073337595332 L -0.9083107941443109, -0.418295949347984 L -0.916685616659069, -0.39960915931742913 L -0.9246760419348055, -0.38075479967005277 L -0.9322787193163351, -0.36174077667563836 L -0.9394904607442606, -0.34257506355620376 L -0.9463082420918334, -0.32326569714255804 L -0.952729204433072, -0.3038207745041899 L -0.9587506552416065, -0.2842484495538898 L -0.9643700695197456, -0.2645569296285415 L -0.9695850908572934, -0.24475447204750767 L -0.9743935324196721, -0.22484938065005533 L -0.9787933778649351, -0.2048500023132789 L -0.9827827821892879, -0.18476472345196912 L -0.98636007250076, -0.16460196650190917 L -0.9895237487207047, -0.14437018638806157 L -0.9922724842128341, -0.12407786697913122 L -0.9946051263395207, -0.10373351752999595 L -0.996520696945139, -0.08334566911348486 L -0.9980183927662376, -0.06292287104301456 L -0.999097585768376, -0.04247368728757191 L -0.99975782340948, -0.02200669288055133 L -0.9999988288296079, -0.0015304703239562981 L -0.9998205009670473, 0.018946394010534922 L -0.9992229146006939, 0.039415313482126256 L -0.9982063203186938, 0.05986770478156962 L -0.9967711444133638, 0.08029499153043776 L -0.9949179887024322, 0.10068860787749068 L -0.9926476302766768, 0.12104000209062324 L -0.989961021174064, 0.14134064014289882 L -1.0889571232914705 ,0.15547470415718873",
          "type": "path"
         },
         {
          "fillcolor": "rgba(255, 246, 143, 0.75)",
          "layer": "below",
          "line": {
           "color": "rgb(139,137,137)",
           "width": 1
          },
          "path": "M -0.7071677232071883, -0.8425638321539572 L -0.6880987812927876, -0.8582074732740217 L -0.6686838860279498, -0.8734196360092668 L -0.6489327985810546, -0.8881926721864803 L -0.6288554491468102, -0.902519154410788 L -0.6084619319536813, -0.9163918797998998 L -0.5877625001888427, -0.9298038736054829 L -0.5667675608432196, -0.9427483927198325 L -0.54548766947919, -0.955218929066087 L -0.5239335249235995, -0.9672092128702726 L -0.5021159638887468, -0.978713215813537 L -0.48004595552403745, -0.9897251540629923 L -0.4577345959010612, -1.0002394911796335 L -0.4351931024348513, -1.0102509409018776 L -0.41243280824414263, -1.01975446980332 L -0.3749389165855842, -0.9270495180030182 L -0.39563009312259206, -0.9184099462744342 L -0.4161223599100556, -0.9093086283451214 L -0.4364054141127613, -0.8997501400572657 L -0.45646905808067884, -0.8897392871032154 L -0.47630320447599944, -0.8792811026093387 L -0.4958978813447181, -0.8683808446055336 L -0.5152432371301996, -0.8570439933816658 L -0.5343295456262206, -0.8452762487322572 L -0.5531472108669829, -0.8330835270908179 L -0.5716867719516456, -0.8204719585552618 L -0.5899389078009587, -0.8074478838058912 L -0.6078944418435906, -0.7940178509175152 L -0.6255443466298068, -0.7801886120672924 L -0.6428797483701711, -0.765967120139961 L -0.7071677232071883 ,-0.8425638321539572",
          "type": "path"
         },
         {
          "fillcolor": "rgba(255, 193, 193, 0.75)",
          "layer": "below",
          "line": {
           "color": "rgb(139,137,137)",
           "width": 1
          },
          "path": "M -0.380198035580246, -1.0322061101063693 L -0.35760234562335586, -1.0402502402809979 L -0.33483663991591084, -1.047799801760729 L -0.31191174201259253, -1.0548512052392367 L -0.28883855115321805, -1.0614010982506614 L -0.2656280370808806, -1.0674463667634821 L -0.24229123482658535, -1.0729841366610267 L -0.21883923946283024, -1.0780117751079208 L -0.19528320082865663, -1.0825268918018225 L -0.17163431822864633, -1.086527340109851 L -0.14790383510841693, -1.0900112180891637 L -0.12410303370911545, -1.0929768693912028 L -0.10024322970348266, -1.0954228840491762 L -0.07633576681600776, -1.0973480991484026 L -0.05239201142976164, -1.0987515993791972 L -0.028423347182441966, -1.0996327174720415 L -0.004441169554230564, -1.0999910345148232 L 0.019543119549995182, -1.0998263801520014 L 0.04351811722148983, -1.0991388326655995 L 0.06747242496896023, -1.0979287189379865 L 0.09139465413777109, -1.096196614296467 L 0.11527343132448355, -1.0939433422397522 L 0.10479402847680322, -0.9944939474906838 L 0.08308604921615553, -0.9965423766331518 L 0.06133856815360021, -0.9981170172163513 L 0.03956192474680893, -0.9992171206050904 L 0.017766472318177438, -0.9998421637745467 L -0.004037426867482331, -0.9999918495589301 L -0.025839406529492695, -0.9996661067927649 L -0.0476291012997833, -0.9988650903447247 L -0.06939615165091614, -0.9975891810440022 L -0.09113020882134787, -0.9958389854992511 L -0.11282093973555948, -0.9936153358101842 L -0.13445803191674266, -0.9909192891719669 L -0.15603119838967847, -0.9877521273725918 L -0.17753018257150602, -0.9841153561834749 L -0.19894476314802748, -0.9800107046435642 L -0.2202647589332594, -0.9754401242372969 L -0.24148003370989146, -0.9704057879668019 L -0.26258050104838004, -0.964910089318783 L -0.28355612910235684, -0.9589556411265787 L -0.30439694537810075, -0.9525452743279353 L -0.325093041475778, -0.945682036619089 L -0.3456345778002236, -0.9383691910057902 L -0.380198035580246 ,-1.0322061101063693",
          "type": "path"
         },
         {
          "fillcolor": "rgba(255, 130, 71, 0.75)",
          "layer": "below",
          "line": {
           "color": "rgb(139,137,137)",
           "width": 1
          },
          "path": "M 0.14957814161290503, -1.0897827212576046 L 0.17335539216531512, -1.0862540715722127 L 0.1970498606450425, -1.0822067050336408 L 0.2206502322773478, -1.0776425543731802 L 0.24414523722138398, -1.0725637991010673 L 0.2675236559518596, -1.0669728644657048 L 0.2907743246166746, -1.06087242029554 L 0.3138861403679787, -1.0542653797241441 L 0.3368480666640904, -1.04715489779911 L 0.35964913853975705, -1.0395443699754285 L 0.38227846784223074, -1.031437430494064 L 0.40472524843067226, -1.0228379506464995 L 0.42697876133638496, -1.013750036926089 L 0.4490283798814205, -1.0041780290670907 L 0.47086357475312207, -0.9941264979723211 L 0.4924739190321638, -0.9836002435304203 L 0.5138490931716958, -0.9726042923237723 L 0.4671355392469962, -0.8841857202943384 L 0.4477035627565125, -0.8941820395731093 L 0.42805779523011095, -0.9037513617930191 L 0.4082076180740186, -0.9128891173337188 L 0.38816251030580445, -0.9215909426600808 L 0.3679320440278838, -0.9298526824059086 L 0.34752587985657335, -0.9376703913582398 L 0.32695376230887, -0.9450403363412987 L 0.30622551514917307, -0.9519589979991909 L 0.2853510366981624, -0.9584230724764946 L 0.26434029510606777, -0.9644294729959454 L 0.24320332359259964, -0.9699753313324588 L 0.2219502156558036, -0.9750579991827882 L 0.20059112025213435, -0.9796750494301637 L 0.17913623695003864, -0.9838242773033097 L 0.15759581105937737, -0.9875037014292842 L 0.13598012873900456, -0.9907115647796405 L 0.14957814161290503 ,-1.0897827212576046",
          "type": "path"
         },
         {
          "fillcolor": "rgba(255, 48, 48, 0.75)",
          "layer": "below",
          "line": {
           "color": "rgb(139,137,137)",
           "width": 1
          },
          "path": "M 0.5441457787676273, -0.9559839807493495 L 0.5650742820400712, -0.9437643009654998 L 0.5857285034755971, -0.9310865267075008 L 0.6060984177059039, -0.9179568116498726 L 0.6261741373627793, -0.9043815288350262 L 0.6459459178773418, -0.8903672675798446 L 0.6654041622099612, -0.8759208302772915 L 0.6845394255085744, -0.861049229094592 L 0.703342419693128, -0.8457596825695913 L 0.7218040179639289, -0.8300596121069429 L 0.7399152592317043, -0.813956638375829 L 0.757667352467237, -0.7974585776109551 L 0.7750516809684465, -0.7805734378186242 L 0.7920598065428569, -0.7633094148897236 L 0.8086834736034184, -0.7456748886215154 L 0.8249146131756929, -0.7276784186501597 L 0.8407453468144577, -0.7093287402959488 L 0.8561679904278333, -0.6906347603232591 L 0.7783345367525757, -0.6278497821120537 L 0.7643139516495069, -0.6448443093599534 L 0.7499223756142662, -0.6615258351365088 L 0.7351667941849258, -0.6778862623831958 L 0.7200543695844153, -0.6939176498997487 L 0.7045924372440422, -0.7096122161987493 L 0.6887885022429427, -0.7249623432826864 L 0.6726502356651857, -0.7399605803416627 L 0.656185470876299, -0.754599647369948 L 0.6394021997210254, -0.7688724386996284 L 0.6223085686441585, -0.7827720264496291 L 0.6049128747363284, -0.7962916638884467 L 0.5872235617066743, -0.8094247887089496 L 0.5692492157843447, -0.8221650262136602 L 0.5509985615508217, -0.8345061924089751 L 0.5324804577050882, -0.8464422970068188 L 0.513703892763701, -0.8579675463322725 L 0.49467798069784297, -0.8690763461357722 L 0.5441457787676273 ,-0.9559839807493495",
          "type": "path"
         },
         {
          "fillcolor": "rgba(255, 20, 147, 0.75)",
          "layer": "below",
          "line": {
           "color": "rgb(139,137,137)",
           "width": 1
          },
          "path": "M 0.8774388852752589, -0.6634010872819784 L 0.8913157987417165, -0.644636445536099 L 0.9047914871326864, -0.6255816212231796 L 0.9178598843780963, -0.6062451918567502 L 0.9305151077496484, -0.5866358617146248 L 0.9427514605089257, -0.5667624579206776 L 0.9545634344717732, -0.5466339264713204 L 0.9659457124878034, -0.52625932820847 L 0.9768931708339061, -0.5056478347408172 L 0.9874008815206895, -0.48480872431523503 L 0.997464114510809, -0.4637513776401832 L 1.0070783398481908, -0.442485273662991 L 1.0162392296971883, -0.42101998530291346 L 1.024942660290752, -0.39936517514189457 L 1.0331847137867414, -0.3775305910749608 L 1.0409616800315378, -0.3555260619222148 L 1.0482700582301667, -0.3333614930044002 L 1.055106558522179, -0.3110468616840296 L 1.061468103462577, -0.2885922128740829 L 1.0673518294071258, -0.26600765451629793 L 1.0727550878014187, -0.2433033530310892 L 0.9752318980012896, -0.22118486639189924 L 0.9703198449155688, -0.24182514046936174 L 0.9649710031477973, -0.2623565571582571 L 0.9591877804747081, -0.2827698742582087 L 0.9529727802092425, -0.3030559027312729 L 0.9463288000286707, -0.32320551083837706 L 0.9392588307152194, -0.3432096282499643 L 0.9317660548097746, -0.36305925012899504 L 0.9238538451792621, -0.38274544118446674 L 0.9155257634983552, -0.40225933969362815 L 0.9067855586461899, -0.4215921614910756 L 0.8976371650188085, -0.4407352039229409 L 0.8880847007580964, -0.45967984976437926 L 0.878132465898003, -0.47841757109860905 L 0.8677849404288847, -0.49693993315574575 L 0.8570467822808414, -0.5152385981097068 L 0.8459228252269531, -0.5333053288314771 L 0.8344180767073602, -0.5511319925970456 L 0.8225377155751694, -0.568710564748345 L 0.8102870897651968, -0.5860331323055445 L 0.797671713886599, -0.6030918975290712 L 0.8774388852752589 ,-0.6634010872819784",
          "type": "path"
         },
         {
          "fillcolor": "rgba(72, 118, 255, 0.75)",
          "layer": "below",
          "line": {
           "color": "rgb(139,137,137)",
           "width": 1
          },
          "path": "M 1.0798680909281946, -0.2094872459007867 L 1.0873897650033169, -0.16608280755704805 L 1.093167552706711, -0.122412016196206 L 1.0971921879908582, -0.0785449082489367 L 1.0994572164023046, -0.03455183498594315 L 0.9995065603657315, -0.03141075907813013 L 0.9974474436280527, -0.0714044620444879 L 0.9937886842788282, -0.11128365108745998 L 0.9885361500030153, -0.1509843705064073 L 0.9816982644801768, -0.190442950818897 L 1.0798680909281946 ,-0.2094872459007867",
          "type": "path"
         }
        ],
        "showlegend": true,
        "template": {
         "data": {
          "bar": [
           {
            "error_x": {
             "color": "#2a3f5f"
            },
            "error_y": {
             "color": "#2a3f5f"
            },
            "marker": {
             "line": {
              "color": "#E5ECF6",
              "width": 0.5
             },
             "pattern": {
              "fillmode": "overlay",
              "size": 10,
              "solidity": 0.2
             }
            },
            "type": "bar"
           }
          ],
          "barpolar": [
           {
            "marker": {
             "line": {
              "color": "#E5ECF6",
              "width": 0.5
             },
             "pattern": {
              "fillmode": "overlay",
              "size": 10,
              "solidity": 0.2
             }
            },
            "type": "barpolar"
           }
          ],
          "carpet": [
           {
            "aaxis": {
             "endlinecolor": "#2a3f5f",
             "gridcolor": "white",
             "linecolor": "white",
             "minorgridcolor": "white",
             "startlinecolor": "#2a3f5f"
            },
            "baxis": {
             "endlinecolor": "#2a3f5f",
             "gridcolor": "white",
             "linecolor": "white",
             "minorgridcolor": "white",
             "startlinecolor": "#2a3f5f"
            },
            "type": "carpet"
           }
          ],
          "choropleth": [
           {
            "colorbar": {
             "outlinewidth": 0,
             "ticks": ""
            },
            "type": "choropleth"
           }
          ],
          "contour": [
           {
            "colorbar": {
             "outlinewidth": 0,
             "ticks": ""
            },
            "colorscale": [
             [
              0,
              "#0d0887"
             ],
             [
              0.1111111111111111,
              "#46039f"
             ],
             [
              0.2222222222222222,
              "#7201a8"
             ],
             [
              0.3333333333333333,
              "#9c179e"
             ],
             [
              0.4444444444444444,
              "#bd3786"
             ],
             [
              0.5555555555555556,
              "#d8576b"
             ],
             [
              0.6666666666666666,
              "#ed7953"
             ],
             [
              0.7777777777777778,
              "#fb9f3a"
             ],
             [
              0.8888888888888888,
              "#fdca26"
             ],
             [
              1,
              "#f0f921"
             ]
            ],
            "type": "contour"
           }
          ],
          "contourcarpet": [
           {
            "colorbar": {
             "outlinewidth": 0,
             "ticks": ""
            },
            "type": "contourcarpet"
           }
          ],
          "heatmap": [
           {
            "colorbar": {
             "outlinewidth": 0,
             "ticks": ""
            },
            "colorscale": [
             [
              0,
              "#0d0887"
             ],
             [
              0.1111111111111111,
              "#46039f"
             ],
             [
              0.2222222222222222,
              "#7201a8"
             ],
             [
              0.3333333333333333,
              "#9c179e"
             ],
             [
              0.4444444444444444,
              "#bd3786"
             ],
             [
              0.5555555555555556,
              "#d8576b"
             ],
             [
              0.6666666666666666,
              "#ed7953"
             ],
             [
              0.7777777777777778,
              "#fb9f3a"
             ],
             [
              0.8888888888888888,
              "#fdca26"
             ],
             [
              1,
              "#f0f921"
             ]
            ],
            "type": "heatmap"
           }
          ],
          "heatmapgl": [
           {
            "colorbar": {
             "outlinewidth": 0,
             "ticks": ""
            },
            "colorscale": [
             [
              0,
              "#0d0887"
             ],
             [
              0.1111111111111111,
              "#46039f"
             ],
             [
              0.2222222222222222,
              "#7201a8"
             ],
             [
              0.3333333333333333,
              "#9c179e"
             ],
             [
              0.4444444444444444,
              "#bd3786"
             ],
             [
              0.5555555555555556,
              "#d8576b"
             ],
             [
              0.6666666666666666,
              "#ed7953"
             ],
             [
              0.7777777777777778,
              "#fb9f3a"
             ],
             [
              0.8888888888888888,
              "#fdca26"
             ],
             [
              1,
              "#f0f921"
             ]
            ],
            "type": "heatmapgl"
           }
          ],
          "histogram": [
           {
            "marker": {
             "pattern": {
              "fillmode": "overlay",
              "size": 10,
              "solidity": 0.2
             }
            },
            "type": "histogram"
           }
          ],
          "histogram2d": [
           {
            "colorbar": {
             "outlinewidth": 0,
             "ticks": ""
            },
            "colorscale": [
             [
              0,
              "#0d0887"
             ],
             [
              0.1111111111111111,
              "#46039f"
             ],
             [
              0.2222222222222222,
              "#7201a8"
             ],
             [
              0.3333333333333333,
              "#9c179e"
             ],
             [
              0.4444444444444444,
              "#bd3786"
             ],
             [
              0.5555555555555556,
              "#d8576b"
             ],
             [
              0.6666666666666666,
              "#ed7953"
             ],
             [
              0.7777777777777778,
              "#fb9f3a"
             ],
             [
              0.8888888888888888,
              "#fdca26"
             ],
             [
              1,
              "#f0f921"
             ]
            ],
            "type": "histogram2d"
           }
          ],
          "histogram2dcontour": [
           {
            "colorbar": {
             "outlinewidth": 0,
             "ticks": ""
            },
            "colorscale": [
             [
              0,
              "#0d0887"
             ],
             [
              0.1111111111111111,
              "#46039f"
             ],
             [
              0.2222222222222222,
              "#7201a8"
             ],
             [
              0.3333333333333333,
              "#9c179e"
             ],
             [
              0.4444444444444444,
              "#bd3786"
             ],
             [
              0.5555555555555556,
              "#d8576b"
             ],
             [
              0.6666666666666666,
              "#ed7953"
             ],
             [
              0.7777777777777778,
              "#fb9f3a"
             ],
             [
              0.8888888888888888,
              "#fdca26"
             ],
             [
              1,
              "#f0f921"
             ]
            ],
            "type": "histogram2dcontour"
           }
          ],
          "mesh3d": [
           {
            "colorbar": {
             "outlinewidth": 0,
             "ticks": ""
            },
            "type": "mesh3d"
           }
          ],
          "parcoords": [
           {
            "line": {
             "colorbar": {
              "outlinewidth": 0,
              "ticks": ""
             }
            },
            "type": "parcoords"
           }
          ],
          "pie": [
           {
            "automargin": true,
            "type": "pie"
           }
          ],
          "scatter": [
           {
            "fillpattern": {
             "fillmode": "overlay",
             "size": 10,
             "solidity": 0.2
            },
            "type": "scatter"
           }
          ],
          "scatter3d": [
           {
            "line": {
             "colorbar": {
              "outlinewidth": 0,
              "ticks": ""
             }
            },
            "marker": {
             "colorbar": {
              "outlinewidth": 0,
              "ticks": ""
             }
            },
            "type": "scatter3d"
           }
          ],
          "scattercarpet": [
           {
            "marker": {
             "colorbar": {
              "outlinewidth": 0,
              "ticks": ""
             }
            },
            "type": "scattercarpet"
           }
          ],
          "scattergeo": [
           {
            "marker": {
             "colorbar": {
              "outlinewidth": 0,
              "ticks": ""
             }
            },
            "type": "scattergeo"
           }
          ],
          "scattergl": [
           {
            "marker": {
             "colorbar": {
              "outlinewidth": 0,
              "ticks": ""
             }
            },
            "type": "scattergl"
           }
          ],
          "scattermapbox": [
           {
            "marker": {
             "colorbar": {
              "outlinewidth": 0,
              "ticks": ""
             }
            },
            "type": "scattermapbox"
           }
          ],
          "scatterpolar": [
           {
            "marker": {
             "colorbar": {
              "outlinewidth": 0,
              "ticks": ""
             }
            },
            "type": "scatterpolar"
           }
          ],
          "scatterpolargl": [
           {
            "marker": {
             "colorbar": {
              "outlinewidth": 0,
              "ticks": ""
             }
            },
            "type": "scatterpolargl"
           }
          ],
          "scatterternary": [
           {
            "marker": {
             "colorbar": {
              "outlinewidth": 0,
              "ticks": ""
             }
            },
            "type": "scatterternary"
           }
          ],
          "surface": [
           {
            "colorbar": {
             "outlinewidth": 0,
             "ticks": ""
            },
            "colorscale": [
             [
              0,
              "#0d0887"
             ],
             [
              0.1111111111111111,
              "#46039f"
             ],
             [
              0.2222222222222222,
              "#7201a8"
             ],
             [
              0.3333333333333333,
              "#9c179e"
             ],
             [
              0.4444444444444444,
              "#bd3786"
             ],
             [
              0.5555555555555556,
              "#d8576b"
             ],
             [
              0.6666666666666666,
              "#ed7953"
             ],
             [
              0.7777777777777778,
              "#fb9f3a"
             ],
             [
              0.8888888888888888,
              "#fdca26"
             ],
             [
              1,
              "#f0f921"
             ]
            ],
            "type": "surface"
           }
          ],
          "table": [
           {
            "cells": {
             "fill": {
              "color": "#EBF0F8"
             },
             "line": {
              "color": "white"
             }
            },
            "header": {
             "fill": {
              "color": "#C8D4E3"
             },
             "line": {
              "color": "white"
             }
            },
            "type": "table"
           }
          ]
         },
         "layout": {
          "annotationdefaults": {
           "arrowcolor": "#2a3f5f",
           "arrowhead": 0,
           "arrowwidth": 1
          },
          "autotypenumbers": "strict",
          "coloraxis": {
           "colorbar": {
            "outlinewidth": 0,
            "ticks": ""
           }
          },
          "colorscale": {
           "diverging": [
            [
             0,
             "#8e0152"
            ],
            [
             0.1,
             "#c51b7d"
            ],
            [
             0.2,
             "#de77ae"
            ],
            [
             0.3,
             "#f1b6da"
            ],
            [
             0.4,
             "#fde0ef"
            ],
            [
             0.5,
             "#f7f7f7"
            ],
            [
             0.6,
             "#e6f5d0"
            ],
            [
             0.7,
             "#b8e186"
            ],
            [
             0.8,
             "#7fbc41"
            ],
            [
             0.9,
             "#4d9221"
            ],
            [
             1,
             "#276419"
            ]
           ],
           "sequential": [
            [
             0,
             "#0d0887"
            ],
            [
             0.1111111111111111,
             "#46039f"
            ],
            [
             0.2222222222222222,
             "#7201a8"
            ],
            [
             0.3333333333333333,
             "#9c179e"
            ],
            [
             0.4444444444444444,
             "#bd3786"
            ],
            [
             0.5555555555555556,
             "#d8576b"
            ],
            [
             0.6666666666666666,
             "#ed7953"
            ],
            [
             0.7777777777777778,
             "#fb9f3a"
            ],
            [
             0.8888888888888888,
             "#fdca26"
            ],
            [
             1,
             "#f0f921"
            ]
           ],
           "sequentialminus": [
            [
             0,
             "#0d0887"
            ],
            [
             0.1111111111111111,
             "#46039f"
            ],
            [
             0.2222222222222222,
             "#7201a8"
            ],
            [
             0.3333333333333333,
             "#9c179e"
            ],
            [
             0.4444444444444444,
             "#bd3786"
            ],
            [
             0.5555555555555556,
             "#d8576b"
            ],
            [
             0.6666666666666666,
             "#ed7953"
            ],
            [
             0.7777777777777778,
             "#fb9f3a"
            ],
            [
             0.8888888888888888,
             "#fdca26"
            ],
            [
             1,
             "#f0f921"
            ]
           ]
          },
          "colorway": [
           "#636efa",
           "#EF553B",
           "#00cc96",
           "#ab63fa",
           "#FFA15A",
           "#19d3f3",
           "#FF6692",
           "#B6E880",
           "#FF97FF",
           "#FECB52"
          ],
          "font": {
           "color": "#2a3f5f"
          },
          "geo": {
           "bgcolor": "white",
           "lakecolor": "white",
           "landcolor": "#E5ECF6",
           "showlakes": true,
           "showland": true,
           "subunitcolor": "white"
          },
          "hoverlabel": {
           "align": "left"
          },
          "hovermode": "closest",
          "mapbox": {
           "style": "light"
          },
          "paper_bgcolor": "white",
          "plot_bgcolor": "#E5ECF6",
          "polar": {
           "angularaxis": {
            "gridcolor": "white",
            "linecolor": "white",
            "ticks": ""
           },
           "bgcolor": "#E5ECF6",
           "radialaxis": {
            "gridcolor": "white",
            "linecolor": "white",
            "ticks": ""
           }
          },
          "scene": {
           "xaxis": {
            "backgroundcolor": "#E5ECF6",
            "gridcolor": "white",
            "gridwidth": 2,
            "linecolor": "white",
            "showbackground": true,
            "ticks": "",
            "zerolinecolor": "white"
           },
           "yaxis": {
            "backgroundcolor": "#E5ECF6",
            "gridcolor": "white",
            "gridwidth": 2,
            "linecolor": "white",
            "showbackground": true,
            "ticks": "",
            "zerolinecolor": "white"
           },
           "zaxis": {
            "backgroundcolor": "#E5ECF6",
            "gridcolor": "white",
            "gridwidth": 2,
            "linecolor": "white",
            "showbackground": true,
            "ticks": "",
            "zerolinecolor": "white"
           }
          },
          "shapedefaults": {
           "line": {
            "color": "#2a3f5f"
           }
          },
          "ternary": {
           "aaxis": {
            "gridcolor": "white",
            "linecolor": "white",
            "ticks": ""
           },
           "baxis": {
            "gridcolor": "white",
            "linecolor": "white",
            "ticks": ""
           },
           "bgcolor": "#E5ECF6",
           "caxis": {
            "gridcolor": "white",
            "linecolor": "white",
            "ticks": ""
           }
          },
          "title": {
           "x": 0.05
          },
          "xaxis": {
           "automargin": true,
           "gridcolor": "white",
           "linecolor": "white",
           "ticks": "",
           "title": {
            "standoff": 15
           },
           "zerolinecolor": "white",
           "zerolinewidth": 2
          },
          "yaxis": {
           "automargin": true,
           "gridcolor": "white",
           "linecolor": "white",
           "ticks": "",
           "title": {
            "standoff": 15
           },
           "zerolinecolor": "white",
           "zerolinewidth": 2
          }
         }
        },
        "title": {
         "font": {
          "family": "Droid",
          "size": 20
         },
         "text": "Chord diagram of genres"
        },
        "width": 875,
        "xaxis": {
         "showgrid": false,
         "showline": false,
         "showticklabels": false,
         "title": {
          "text": ""
         },
         "zeroline": false
        },
        "yaxis": {
         "showgrid": false,
         "showline": false,
         "showticklabels": false,
         "title": {
          "text": ""
         },
         "zeroline": false
        }
       }
      }
     },
     "metadata": {},
     "output_type": "display_data"
    }
   ],
   "source": [
    "import plotly.offline as off\n",
    "ideograms = []\n",
    "for k in range(len(ideo_ends)):\n",
    "    z = make_ideogram_arc(1.1, ideo_ends[k])\n",
    "    zi = make_ideogram_arc(1.0, ideo_ends[k])\n",
    "    m = len(z)\n",
    "    n = len(zi)\n",
    "    ideograms.append(go.Scatter(x=z.real,\n",
    "                                y=z.imag,\n",
    "                                mode='lines',\n",
    "                                showlegend = True,\n",
    "                                name = genre_list[k],\n",
    "                                line=dict(\n",
    "                                    color=ideo_colors[k], shape='spline', width=1),\n",
    "                                text=genre_list[k]+'<br>' +\n",
    "                                '{:d}'.format(row_sum[k]),\n",
    "                                hoverinfo='text'\n",
    "                                )\n",
    "                     )\n",
    "\n",
    "    path = 'M '\n",
    "    for s in range(m):\n",
    "        path += str(z.real[s])+', '+str(z.imag[s])+' L '\n",
    "\n",
    "    Zi = np.array(zi.tolist()[::-1])\n",
    "\n",
    "    for s in range(m):\n",
    "        path += str(Zi.real[s])+', '+str(Zi.imag[s])+' L '\n",
    "    path += str(z.real[0])+' ,'+str(z.imag[0])\n",
    "\n",
    "    layout['shapes']= layout['shapes'] + ((make_ideo_shape(\n",
    "        path, 'rgb(139,137,137)', ideo_colors[k])),)\n",
    "\n",
    "data = go.Data(ideograms+ribbon_info)\n",
    "fig = go.Figure(data=data, layout=layout)\n",
    "\n",
    "fig.show()"
   ]
  },
  {
   "cell_type": "code",
   "execution_count": null,
   "metadata": {},
   "outputs": [],
   "source": []
  },
  {
   "cell_type": "code",
   "execution_count": null,
   "metadata": {},
   "outputs": [],
   "source": []
  },
  {
   "cell_type": "code",
   "execution_count": null,
   "metadata": {},
   "outputs": [],
   "source": []
  },
  {
   "cell_type": "code",
   "execution_count": null,
   "metadata": {},
   "outputs": [],
   "source": []
  }
 ],
 "metadata": {
  "interpreter": {
   "hash": "40d3a090f54c6569ab1632332b64b2c03c39dcf918b08424e98f38b5ae0af88f"
  },
  "kernelspec": {
   "display_name": "Python 3.9.11 ('base')",
   "language": "python",
   "name": "python3"
  },
  "language_info": {
   "codemirror_mode": {
    "name": "ipython",
    "version": 3
   },
   "file_extension": ".py",
   "mimetype": "text/x-python",
   "name": "python",
   "nbconvert_exporter": "python",
   "pygments_lexer": "ipython3",
   "version": "3.9.11"
  },
  "orig_nbformat": 4
 },
 "nbformat": 4,
 "nbformat_minor": 2
}
