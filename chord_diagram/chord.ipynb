{
 "cells": [
  {
   "cell_type": "code",
   "execution_count": 54,
   "metadata": {},
   "outputs": [],
   "source": [
    "import plotly.figure_factory as ff\n",
    "import plotly.graph_objs as go\n",
    "import pandas as pd\n",
    "import numpy as np"
   ]
  },
  {
   "cell_type": "code",
   "execution_count": 55,
   "metadata": {},
   "outputs": [],
   "source": [
    "data = pd.read_csv('../data/imdb_all_v2.csv')"
   ]
  },
  {
   "cell_type": "code",
   "execution_count": 56,
   "metadata": {},
   "outputs": [],
   "source": [
    "data[\"genre\"] = data[\"genre\"].str.split()"
   ]
  },
  {
   "cell_type": "code",
   "execution_count": 57,
   "metadata": {},
   "outputs": [],
   "source": [
    "data2 = data.explode('genre')"
   ]
  },
  {
   "cell_type": "code",
   "execution_count": 58,
   "metadata": {},
   "outputs": [],
   "source": [
    "def move_particle(x):\n",
    "    if x[-1] == ',':\n",
    "        return x[:-1]\n",
    "    else:\n",
    "        return x"
   ]
  },
  {
   "cell_type": "code",
   "execution_count": 59,
   "metadata": {},
   "outputs": [],
   "source": [
    "data2['genre'] = data2['genre'].apply(move_particle)"
   ]
  },
  {
   "cell_type": "code",
   "execution_count": 60,
   "metadata": {},
   "outputs": [
    {
     "data": {
      "text/plain": [
       "array(['Action', 'Adventure', 'Fantasy', 'Drama', 'Comedy', 'Sci-Fi',\n",
       "       'Mystery', 'Thriller', 'Crime', 'Animation', 'Family', 'Horror',\n",
       "       'Romance', 'Western', 'History', 'Biography', 'Music', 'Musical',\n",
       "       'Sport', 'Documentary', 'War', 'Short', 'News', 'Reality-TV',\n",
       "       'Game-Show', 'Talk-Show', 'Film-Noir'], dtype=object)"
      ]
     },
     "execution_count": 60,
     "metadata": {},
     "output_type": "execute_result"
    }
   ],
   "source": [
    "data2['genre'].unique()"
   ]
  },
  {
   "cell_type": "code",
   "execution_count": 61,
   "metadata": {},
   "outputs": [],
   "source": [
    "s = pd.crosstab(data2['title'],data2['genre'])\n",
    "s = s.T.dot(s).astype(float)\n",
    "s.values[np.triu_indices(len(s))]=np.nan\n",
    "films_intersection = s.stack()"
   ]
  },
  {
   "cell_type": "code",
   "execution_count": 67,
   "metadata": {},
   "outputs": [
    {
     "data": {
      "text/plain": [
       "genre\n",
       "Reality-TV        1\n",
       "Game-Show         3\n",
       "Talk-Show         4\n",
       "News             16\n",
       "Documentary     123\n",
       "Sport           140\n",
       "Music           243\n",
       "Film-Noir       311\n",
       "Musical         313\n",
       "Western         347\n",
       "History         383\n",
       "War             389\n",
       "Biography       432\n",
       "Family          638\n",
       "Short           659\n",
       "Animation       696\n",
       "Fantasy         736\n",
       "Sci-Fi          742\n",
       "Mystery         843\n",
       "Horror         1058\n",
       "Thriller       1065\n",
       "Crime          1736\n",
       "Adventure      1829\n",
       "Romance        1843\n",
       "Action         1844\n",
       "Comedy         3588\n",
       "Drama          5252\n",
       "Name: title, dtype: int64"
      ]
     },
     "execution_count": 67,
     "metadata": {},
     "output_type": "execute_result"
    }
   ],
   "source": [
    "data2.groupby('genre')['title'].count().sort_values()"
   ]
  },
  {
   "cell_type": "code",
   "execution_count": 71,
   "metadata": {},
   "outputs": [],
   "source": [
    "genre_list = data2.groupby('genre')['title'].count().sort_values(ascending=False)[:15].index.tolist()"
   ]
  },
  {
   "cell_type": "code",
   "execution_count": 72,
   "metadata": {},
   "outputs": [],
   "source": [
    "data3 = data2[data2['genre'].isin(genre_list)]\n"
   ]
  },
  {
   "cell_type": "code",
   "execution_count": 73,
   "metadata": {},
   "outputs": [
    {
     "data": {
      "text/plain": [
       "genre\n",
       "Biography     432\n",
       "Family        638\n",
       "Short         659\n",
       "Animation     696\n",
       "Fantasy       736\n",
       "Sci-Fi        742\n",
       "Mystery       843\n",
       "Horror       1058\n",
       "Thriller     1065\n",
       "Crime        1736\n",
       "Adventure    1829\n",
       "Romance      1843\n",
       "Action       1844\n",
       "Comedy       3588\n",
       "Drama        5252\n",
       "Name: title, dtype: int64"
      ]
     },
     "execution_count": 73,
     "metadata": {},
     "output_type": "execute_result"
    }
   ],
   "source": [
    "data3.groupby('genre')['title'].count().sort_values()"
   ]
  },
  {
   "cell_type": "code",
   "execution_count": 74,
   "metadata": {},
   "outputs": [],
   "source": [
    "s = pd.crosstab(data3['title'], data3['genre'])\n",
    "s = s.T.dot(s).astype(float)\n",
    "s.values[np.triu_indices(len(s))] = np.nan\n",
    "films_intersection = s.stack()"
   ]
  },
  {
   "cell_type": "code",
   "execution_count": 76,
   "metadata": {},
   "outputs": [
    {
     "name": "stdout",
     "output_type": "stream",
     "text": [
      "index:  ('Adventure', 'Action') value:  2264.0\n",
      "index:  ('Animation', 'Action') value:  122.0\n",
      "index:  ('Animation', 'Adventure') value:  351.0\n",
      "index:  ('Biography', 'Action') value:  40.0\n",
      "index:  ('Biography', 'Adventure') value:  40.0\n",
      "index:  ('Biography', 'Animation') value:  3.0\n",
      "index:  ('Comedy', 'Action') value:  400.0\n",
      "index:  ('Comedy', 'Adventure') value:  583.0\n",
      "index:  ('Comedy', 'Animation') value:  447.0\n",
      "index:  ('Comedy', 'Biography') value:  41.0\n",
      "index:  ('Crime', 'Action') value:  518.0\n",
      "index:  ('Crime', 'Adventure') value:  124.0\n",
      "index:  ('Crime', 'Animation') value:  8.0\n",
      "index:  ('Crime', 'Biography') value:  66.0\n",
      "index:  ('Crime', 'Comedy') value:  434.0\n",
      "index:  ('Drama', 'Action') value:  761.0\n",
      "index:  ('Drama', 'Adventure') value:  702.0\n",
      "index:  ('Drama', 'Animation') value:  74.0\n",
      "index:  ('Drama', 'Biography') value:  409.0\n",
      "index:  ('Drama', 'Comedy') value:  1127.0\n",
      "index:  ('Drama', 'Crime') value:  1195.0\n",
      "index:  ('Family', 'Action') value:  67.0\n",
      "index:  ('Family', 'Adventure') value:  242.0\n",
      "index:  ('Family', 'Animation') value:  145.0\n",
      "index:  ('Family', 'Biography') value:  12.0\n",
      "index:  ('Family', 'Comedy') value:  405.0\n",
      "index:  ('Family', 'Crime') value:  11.0\n",
      "index:  ('Family', 'Drama') value:  226.0\n",
      "index:  ('Fantasy', 'Action') value:  163.0\n",
      "index:  ('Fantasy', 'Adventure') value:  266.0\n",
      "index:  ('Fantasy', 'Animation') value:  47.0\n",
      "index:  ('Fantasy', 'Biography') value:  5.0\n",
      "index:  ('Fantasy', 'Comedy') value:  253.0\n",
      "index:  ('Fantasy', 'Crime') value:  24.0\n",
      "index:  ('Fantasy', 'Drama') value:  3229.0\n",
      "index:  ('Fantasy', 'Family') value:  173.0\n",
      "index:  ('Horror', 'Action') value:  105.0\n",
      "index:  ('Horror', 'Adventure') value:  68.0\n",
      "index:  ('Horror', 'Animation') value:  8.0\n",
      "index:  ('Horror', 'Biography') value:  0.0\n",
      "index:  ('Horror', 'Comedy') value:  135.0\n",
      "index:  ('Horror', 'Crime') value:  80.0\n",
      "index:  ('Horror', 'Drama') value:  3232.0\n",
      "index:  ('Horror', 'Family') value:  10.0\n",
      "index:  ('Horror', 'Fantasy') value:  3081.0\n",
      "index:  ('Mystery', 'Action') value:  62.0\n",
      "index:  ('Mystery', 'Adventure') value:  39.0\n",
      "index:  ('Mystery', 'Animation') value:  0.0\n",
      "index:  ('Mystery', 'Biography') value:  1.0\n",
      "index:  ('Mystery', 'Comedy') value:  91.0\n",
      "index:  ('Mystery', 'Crime') value:  309.0\n",
      "index:  ('Mystery', 'Drama') value:  452.0\n",
      "index:  ('Mystery', 'Family') value:  4.0\n",
      "index:  ('Mystery', 'Fantasy') value:  42.0\n",
      "index:  ('Mystery', 'Horror') value:  260.0\n",
      "index:  ('Romance', 'Action') value:  81.0\n",
      "index:  ('Romance', 'Adventure') value:  147.0\n",
      "index:  ('Romance', 'Animation') value:  8.0\n",
      "index:  ('Romance', 'Biography') value:  32.0\n",
      "index:  ('Romance', 'Comedy') value:  853.0\n",
      "index:  ('Romance', 'Crime') value:  137.0\n",
      "index:  ('Romance', 'Drama') value:  1358.0\n",
      "index:  ('Romance', 'Family') value:  52.0\n",
      "index:  ('Romance', 'Fantasy') value:  77.0\n",
      "index:  ('Romance', 'Horror') value:  37.0\n",
      "index:  ('Romance', 'Mystery') value:  52.0\n",
      "index:  ('Sci-Fi', 'Action') value:  1488.0\n",
      "index:  ('Sci-Fi', 'Adventure') value:  1421.0\n",
      "index:  ('Sci-Fi', 'Animation') value:  8.0\n",
      "index:  ('Sci-Fi', 'Biography') value:  0.0\n",
      "index:  ('Sci-Fi', 'Comedy') value:  108.0\n",
      "index:  ('Sci-Fi', 'Crime') value:  37.0\n",
      "index:  ('Sci-Fi', 'Drama') value:  181.0\n",
      "index:  ('Sci-Fi', 'Family') value:  23.0\n",
      "index:  ('Sci-Fi', 'Fantasy') value:  29.0\n",
      "index:  ('Sci-Fi', 'Horror') value:  252.0\n",
      "index:  ('Sci-Fi', 'Mystery') value:  68.0\n",
      "index:  ('Sci-Fi', 'Romance') value:  34.0\n",
      "index:  ('Short', 'Action') value:  9.0\n",
      "index:  ('Short', 'Adventure') value:  46.0\n",
      "index:  ('Short', 'Animation') value:  327.0\n",
      "index:  ('Short', 'Biography') value:  1.0\n",
      "index:  ('Short', 'Comedy') value:  456.0\n",
      "index:  ('Short', 'Crime') value:  11.0\n",
      "index:  ('Short', 'Drama') value:  55.0\n",
      "index:  ('Short', 'Family') value:  94.0\n",
      "index:  ('Short', 'Fantasy') value:  29.0\n",
      "index:  ('Short', 'Horror') value:  22.0\n",
      "index:  ('Short', 'Mystery') value:  2.0\n",
      "index:  ('Short', 'Romance') value:  12.0\n",
      "index:  ('Short', 'Sci-Fi') value:  7.0\n",
      "index:  ('Thriller', 'Action') value:  323.0\n",
      "index:  ('Thriller', 'Adventure') value:  102.0\n",
      "index:  ('Thriller', 'Animation') value:  0.0\n",
      "index:  ('Thriller', 'Biography') value:  5.0\n",
      "index:  ('Thriller', 'Comedy') value:  47.0\n",
      "index:  ('Thriller', 'Crime') value:  359.0\n",
      "index:  ('Thriller', 'Drama') value:  480.0\n",
      "index:  ('Thriller', 'Family') value:  1.0\n",
      "index:  ('Thriller', 'Fantasy') value:  20.0\n",
      "index:  ('Thriller', 'Horror') value:  265.0\n",
      "index:  ('Thriller', 'Mystery') value:  245.0\n",
      "index:  ('Thriller', 'Romance') value:  47.0\n",
      "index:  ('Thriller', 'Sci-Fi') value:  92.0\n",
      "index:  ('Thriller', 'Short') value:  1.0\n"
     ]
    }
   ],
   "source": [
    "for i, v in films_intersection.iteritems():\n",
    "    print('index: ', i, 'value: ', v)\n"
   ]
  },
  {
   "cell_type": "code",
   "execution_count": 83,
   "metadata": {},
   "outputs": [],
   "source": [
    "number_of_genres= len(data3['genre'].unique())\n",
    "genre_matrix = np.zeros((number_of_genres,number_of_genres))\n",
    "genre_list = data3['genre'].unique().tolist()"
   ]
  },
  {
   "cell_type": "code",
   "execution_count": 84,
   "metadata": {},
   "outputs": [
    {
     "name": "stdout",
     "output_type": "stream",
     "text": [
      "['Action', 'Adventure', 'Fantasy', 'Drama', 'Comedy', 'Sci-Fi', 'Mystery', 'Thriller', 'Crime', 'Animation', 'Family', 'Horror', 'Romance', 'Biography', 'Short']\n"
     ]
    }
   ],
   "source": [
    "print(genre_list)"
   ]
  },
  {
   "cell_type": "code",
   "execution_count": 89,
   "metadata": {},
   "outputs": [],
   "source": [
    "for i, v in films_intersection.iteritems():\n",
    "    to = genre_list.index(i[0])\n",
    "    frm = genre_list.index(i[1])\n",
    "    value = v\n",
    "    genre_matrix[to,frm] = v\n",
    "    genre_matrix[frm,to] = v\n",
    "    \n",
    "genre_matrix = genre_matrix.astype(int)"
   ]
  },
  {
   "cell_type": "code",
   "execution_count": 91,
   "metadata": {},
   "outputs": [
    {
     "name": "stdout",
     "output_type": "stream",
     "text": [
      "(15, 15)\n"
     ]
    }
   ],
   "source": [
    "print(genre_matrix.shape)"
   ]
  },
  {
   "cell_type": "code",
   "execution_count": 96,
   "metadata": {},
   "outputs": [],
   "source": [
    "#make ideogram\n",
    "PI=np.pi\n",
    "\n",
    "\n",
    "def check_data(data_matrix):\n",
    "    L, M = data_matrix.shape\n",
    "    if L != M:\n",
    "        raise ValueError('Data array must have (n,n) shape')\n",
    "    return L\n",
    "\n",
    "\n",
    "L = check_data(genre_matrix)\n",
    "\n",
    "def moduloAB(x, a, b): #maps a real number onto the unit circle identified with \n",
    "                       #the interval [a,b), b-a=2*PI\n",
    "        if a>=b:\n",
    "            raise ValueError('Incorrect interval ends')\n",
    "        y=(x-a)%(b-a)\n",
    "        return y+b if y<0 else y+a\n",
    "\n",
    "def test_2PI(x):\n",
    "    return 0<= x <2*PI"
   ]
  },
  {
   "cell_type": "code",
   "execution_count": 105,
   "metadata": {},
   "outputs": [
    {
     "name": "stdout",
     "output_type": "stream",
     "text": [
      "[0.5875833  0.58680991 0.68764018 1.27183701 0.4886865  0.33091565\n",
      " 0.12587155 0.16067395 0.28886276 0.11823436 0.11021048 0.69895095\n",
      " 0.25154686 0.03190509 0.07221787]\n"
     ]
    }
   ],
   "source": [
    "row_sum=[np.sum(genre_matrix[k,:]) for k in range(L)]\n",
    "\n",
    "#set the gap between two consecutive ideograms\n",
    "gap=2*PI*0.005\n",
    "ideogram_length=2*PI*np.asarray(row_sum)/sum(row_sum)-gap*np.ones(L)\n",
    "print(ideogram_length)"
   ]
  },
  {
   "cell_type": "code",
   "execution_count": 100,
   "metadata": {},
   "outputs": [
    {
     "name": "stdout",
     "output_type": "stream",
     "text": [
      "[[0, 0.5875832968058088], [0.6189992233417068, 1.2058091336432624], [1.2372250601791603, 1.9248652359727352], [1.9562811625086332, 3.228118168952518], [3.2595340954884158, 3.7482205930628383], [3.779636519598736, 4.110552170305493], [4.14196809684139, 4.267839650608], [4.299255577143898, 4.459929523601904], [4.491345450137802, 4.780208209675787], [4.811624136211685, 4.929858498248794], [4.961274424784691, 5.071484901840172], [5.10290082837607, 5.8018517817943485], [5.833267708330246, 6.084814569038011], [6.116230495573909, 6.148135589073747], [6.179551515609645, 6.251769380643684]]\n",
      "[1.12583302-0.65j       1.14814501-0.60972373j 1.16901672-0.5686826j\n",
      " 1.18842197-0.5269281j  1.20633642-0.48451259j 1.22273759-0.44148929j\n",
      " 1.23760491-0.39791217j 1.25091973-0.3538359j  1.26266534-0.30931575j\n",
      " 1.27282702-0.26440759j 1.28139202-0.21916775j 1.28834958-0.17365297j\n",
      " 1.29369099-0.12792036j 1.29740954-0.08202728j 1.29950058-0.0360313j\n",
      " 1.29996146+0.01000988j 1.29879163+0.0560385j  1.29599253+0.10199682j\n",
      " 1.2915677 +0.1478272j  1.28552267+0.19347214j 1.27786503+0.23887437j]\n"
     ]
    }
   ],
   "source": [
    "def get_ideogram_ends(ideogram_len, gap):\n",
    "    ideo_ends = []\n",
    "    left = 0\n",
    "    for k in range(len(ideogram_len)):\n",
    "        right = left+ideogram_len[k]\n",
    "        ideo_ends.append([left, right])\n",
    "        left = right+gap\n",
    "    return ideo_ends\n",
    "\n",
    "\n",
    "ideo_ends = get_ideogram_ends(ideogram_length, gap)\n",
    "print(ideo_ends)\n",
    "\n",
    "\n",
    "def make_ideogram_arc(R, phi, a=50):\n",
    "    # R is the circle radius\n",
    "    # phi is the list of ends angle coordinates of an arc\n",
    "    # a is a parameter that controls the number of points to be evaluated on an arc\n",
    "    if not test_2PI(phi[0]) or not test_2PI(phi[1]):\n",
    "        phi = [moduloAB(t, 0, 2*PI) for t in phi]\n",
    "    length = (phi[1]-phi[0]) % 2*PI\n",
    "    nr = 5 if length <= PI/4 else int(a*length/PI)\n",
    "\n",
    "    if phi[0] < phi[1]:\n",
    "        theta = np.linspace(phi[0], phi[1], nr)\n",
    "    else:\n",
    "        phi = [moduloAB(t, -PI, PI) for t in phi]\n",
    "        theta = np.linspace(phi[0], phi[1], nr)\n",
    "    return R*np.exp(1j*theta)\n",
    "\n",
    "\n",
    "z = make_ideogram_arc(1.3, [11*PI/6, PI/17])\n",
    "print(z)\n"
   ]
  },
  {
   "cell_type": "code",
   "execution_count": 101,
   "metadata": {},
   "outputs": [],
   "source": [
    "ideo_colors=['rgba(187, 255, 255, 0.75)',\n",
    "             'rgba(127, 255, 212, 0.75)',\n",
    "             'rgba(155, 205, 155, 0.75)',\n",
    "             'rgba(217, 239, 139, 0.75)',\n",
    "             'rgba(255, 246, 143, 0.75)',\n",
    "             'rgba(255, 193, 193, 0.75)',\n",
    "             'rgba(255, 130, 71, 0.75)',\n",
    "             'rgba(255, 48, 48, 0.75)',\n",
    "             'rgba(255, 20, 147, 0,75)',\n",
    "             'rgba(72, 118, 255, 0,75)',\n",
    "             'rgba(176, 226, 255, 0.75)',\n",
    "             'rgba(224, 255, 255, 0.75)',\n",
    "             'rgba(144, 238, 144, 0.75)',\n",
    "             'rgba(106, 90, 205, 0,75)',\n",
    "             'rgba(47, 79, 79, 0,75)']#brewe"
   ]
  },
  {
   "cell_type": "code",
   "execution_count": 104,
   "metadata": {},
   "outputs": [
    {
     "data": {
      "text/plain": [
       "array([[0.00000000e+00, 2.07760204e-01, 1.49580005e-02, 6.98345914e-02,\n",
       "        3.67067498e-02, 1.36549109e-01, 5.68954621e-03, 2.96407004e-02,\n",
       "        4.75352409e-02, 1.11955587e-02, 6.14838059e-03, 9.63552181e-03,\n",
       "        7.43311683e-03, 3.67067498e-03, 8.25901870e-04],\n",
       "       [2.07746308e-01, 0.00000000e+00, 2.44083559e-02, 6.44160371e-02,\n",
       "        5.34965094e-02, 1.30392007e-01, 3.57866873e-03, 9.35959513e-03,\n",
       "        1.13783313e-02, 3.22080185e-02, 2.22060982e-02, 6.23973009e-03,\n",
       "        1.34888283e-02, 3.67042946e-03, 4.22099388e-03],\n",
       "       [1.50692859e-02, 2.45915954e-02, 0.00000000e+00, 2.98519781e-01,\n",
       "        2.33897505e-02, 2.68103860e-03, 3.88288349e-03, 1.84899214e-03,\n",
       "        2.21879056e-03, 4.34513152e-03, 1.59937820e-02, 2.84837239e-01,\n",
       "        7.11861973e-03, 4.62248034e-04, 2.68103860e-03],\n",
       "       [7.17949679e-02, 6.62287351e-02, 3.04633313e-01, 0.00000000e+00,\n",
       "        1.06324479e-01, 1.70760699e-02, 4.26430033e-02, 4.52846052e-02,\n",
       "        1.12739798e-01, 6.98137664e-03, 2.13215016e-02, 3.04916342e-01,\n",
       "        1.28117696e-01, 3.85862574e-02, 5.18886102e-03],\n",
       "       [3.63335686e-02, 5.29561762e-02, 2.29809821e-02, 1.02369830e-01,\n",
       "        0.00000000e+00, 9.81006352e-03, 8.26588685e-03, 4.26919431e-03,\n",
       "        3.94219219e-02, 4.06027629e-02, 3.67877382e-02, 1.22625794e-02,\n",
       "        7.74813350e-02, 3.72419078e-03, 4.14202682e-02],\n",
       "       [1.31377398e-01, 1.25461884e-01, 2.56044660e-03, 1.59807185e-02,\n",
       "        9.53545632e-03, 0.00000000e+00, 6.00380583e-03, 8.12279612e-03,\n",
       "        3.26677670e-03, 7.06330098e-04, 2.03069903e-03, 2.22493981e-02,\n",
       "        3.00190291e-03, 0.00000000e+00, 6.18038835e-04],\n",
       "       [4.79658041e-03, 3.01720381e-03, 3.24929641e-03, 3.49686185e-02,\n",
       "        7.04014222e-03, 5.26076562e-03, 0.00000000e+00, 1.89542291e-02,\n",
       "        2.39055379e-02, 0.00000000e+00, 3.09456801e-04, 2.01146921e-02,\n",
       "        4.02293841e-03, 7.73642002e-05, 1.54728400e-04],\n",
       "       [2.61186133e-02, 8.24798316e-03, 1.61725160e-03, 3.88140384e-02,\n",
       "        3.80054126e-03, 7.43935736e-03, 1.98113321e-02, 0.00000000e+00,\n",
       "        2.90296662e-02, 0.00000000e+00, 8.08625800e-05, 2.14285837e-02,\n",
       "        3.80054126e-03, 4.04312900e-04, 8.08625800e-05],\n",
       "       [4.51647780e-02, 1.08116457e-02, 2.09257659e-03, 1.04192876e-01,\n",
       "        3.78407599e-02, 3.22605557e-03, 2.69419235e-02, 3.13014581e-02,\n",
       "        0.00000000e+00, 6.97525529e-04, 9.59097602e-04, 6.97525529e-03,\n",
       "        1.19451247e-02, 5.75458561e-03, 9.59097602e-04],\n",
       "       [9.31821200e-03, 2.68089542e-02, 3.58980298e-03, 5.65203023e-03,\n",
       "        3.41413177e-02, 6.11030295e-04, 0.00000000e+00, 0.00000000e+00,\n",
       "        6.11030295e-04, 0.00000000e+00, 1.10749241e-02, 6.11030295e-04,\n",
       "        6.11030295e-04, 2.29136361e-04, 2.49758633e-02],\n",
       "       [5.04034264e-03, 1.82054167e-02, 1.30146161e-02, 1.70017528e-02,\n",
       "        3.04677428e-02, 1.73026688e-03, 3.00915978e-04, 7.52289946e-05,\n",
       "        8.27518940e-04, 1.09082042e-02, 0.00000000e+00, 7.52289946e-04,\n",
       "        3.91190772e-03, 9.02747935e-04, 7.07152549e-03],\n",
       "       [9.71407678e-03, 6.29102116e-03, 2.85038767e-01, 2.99008535e-01,\n",
       "        1.24895273e-02, 2.33137843e-02, 2.40539044e-02, 2.45164795e-02,\n",
       "        7.40120136e-03, 7.40120136e-04, 9.25150170e-04, 0.00000000e+00,\n",
       "        3.42305563e-03, 0.00000000e+00, 2.03533037e-03],\n",
       "       [6.96115330e-03, 1.26332041e-02, 6.61739265e-03, 1.16706743e-01,\n",
       "        7.33069601e-02, 2.92196558e-03, 4.46888854e-03, 4.03918772e-03,\n",
       "        1.17738025e-02, 6.87521314e-04, 4.46888854e-03, 3.17978608e-03,\n",
       "        0.00000000e+00, 2.75008526e-03, 1.03128197e-03],\n",
       "       [1.94840266e-03, 1.94840266e-03, 2.43550332e-04, 1.99224172e-02,\n",
       "        1.99711272e-03, 0.00000000e+00, 4.87100664e-05, 2.43550332e-04,\n",
       "        3.21486438e-03, 1.46130199e-04, 5.84520797e-04, 0.00000000e+00,\n",
       "        1.55872213e-03, 0.00000000e+00, 4.87100664e-05],\n",
       "       [6.06306703e-04, 3.09890092e-03, 1.95365493e-03, 3.70520763e-03,\n",
       "        3.07195396e-02, 4.71571880e-04, 1.34734823e-04, 6.73674114e-05,\n",
       "        7.41041526e-04, 2.20291435e-02, 6.33253667e-03, 1.48208305e-03,\n",
       "        8.08408937e-04, 6.73674114e-05, 0.00000000e+00]])"
      ]
     },
     "execution_count": 104,
     "metadata": {},
     "output_type": "execute_result"
    }
   ],
   "source": [
    "def map_data(data_matrix, row_value, ideogram_length):\n",
    "    mapped = np.zeros(data_matrix.shape)\n",
    "    for j in range(L):\n",
    "        mapped[:, j] = ideogram_length*data_matrix[:, j]/row_value\n",
    "    return mapped\n",
    "\n",
    "\n",
    "mapped_data = map_data(genre_matrix, row_sum, ideogram_length)\n",
    "mapped_data\n"
   ]
  },
  {
   "cell_type": "code",
   "execution_count": 106,
   "metadata": {},
   "outputs": [
    {
     "data": {
      "text/plain": [
       "array([[ 0, 14, 13,  6, 10, 12, 11,  9,  2,  7,  4,  8,  3,  5,  1],\n",
       "       [ 1,  6, 13, 14, 11,  7,  8, 12, 10,  2,  9,  4,  3,  5,  0],\n",
       "       [ 2, 13,  7,  8,  5, 14,  6,  9, 12,  0, 10,  4,  1, 11,  3],\n",
       "       [ 3, 14,  9,  5, 10, 13,  6,  7,  1,  0,  4,  8, 12,  2, 11],\n",
       "       [ 4, 13,  7,  6,  5, 11,  2,  0, 10,  8,  9, 14,  1, 12,  3],\n",
       "       [ 5, 13, 14,  9, 10,  2, 12,  8,  6,  7,  4,  3, 11,  1,  0],\n",
       "       [ 6,  9, 13, 14, 10,  1,  2, 12,  0,  5,  4,  7, 11,  8,  3],\n",
       "       [ 7,  9, 10, 14, 13,  2,  4, 12,  5,  1,  6, 11,  0,  8,  3],\n",
       "       [ 8,  9, 10, 14,  2,  5, 13, 11,  1, 12,  6,  7,  4,  0,  3],\n",
       "       [ 6,  7,  9, 13,  5,  8, 11, 12,  2,  3,  0, 10, 14,  1,  4],\n",
       "       [10,  7,  6, 11,  8, 13,  5, 12,  0, 14,  9,  2,  3,  1,  4],\n",
       "       [11, 13,  9, 10, 14, 12,  1,  8,  0,  4,  5,  6,  7,  2,  3],\n",
       "       [12,  9, 14, 13,  5, 11,  7,  6, 10,  2,  0,  8,  1,  4,  3],\n",
       "       [ 5, 11, 13,  6, 14,  9,  2,  7, 10, 12,  0,  1,  4,  8,  3],\n",
       "       [14,  7, 13,  6,  5,  0,  8, 12, 11,  2,  1,  3, 10,  9,  4]])"
      ]
     },
     "execution_count": 106,
     "metadata": {},
     "output_type": "execute_result"
    }
   ],
   "source": [
    "idx_sort = np.argsort(mapped_data, axis=1)\n",
    "idx_sort\n"
   ]
  },
  {
   "cell_type": "code",
   "execution_count": 111,
   "metadata": {},
   "outputs": [
    {
     "name": "stdout",
     "output_type": "stream",
     "text": [
      "ribbon ends starting from the ideogram[2]\n",
      " [(1.2372250601791603, 1.2372250601791603), (1.2372250601791603, 1.2376873082134394), (1.2376873082134394, 1.2395363003505557), (1.2395363003505557, 1.2417550909150954), (1.2417550909150954, 1.2444361295139141), (1.2444361295139141, 1.2471171681127329), (1.2471171681127329, 1.2510000516006772), (1.2510000516006772, 1.2553451831229006), (1.2553451831229006, 1.2624638028507986), (1.2624638028507986, 1.277533088768297), (1.277533088768297, 1.2935268707543535), (1.2935268707543535, 1.3169166212888754), (1.3169166212888754, 1.341508216712523), (1.341508216712523, 1.6263454554352985), (1.6263454554352985, 1.9248652359727352)]\n"
     ]
    },
    {
     "data": {
      "text/plain": [
       "15"
      ]
     },
     "execution_count": 111,
     "metadata": {},
     "output_type": "execute_result"
    }
   ],
   "source": [
    "def make_ribbon_ends(mapped_data, ideo_ends,  idx_sort):\n",
    "    L = mapped_data.shape[0]\n",
    "    ribbon_boundary = np.zeros((L, L+1))\n",
    "    for k in range(L):\n",
    "        start = ideo_ends[k][0]\n",
    "        ribbon_boundary[k][0] = start\n",
    "        for j in range(1, L+1):\n",
    "            J = idx_sort[k][j-1]\n",
    "            ribbon_boundary[k][j] = start+mapped_data[k][J]\n",
    "            start = ribbon_boundary[k][j]\n",
    "    return [[(ribbon_boundary[k][j], ribbon_boundary[k][j+1]) for j in range(L)] for k in range(L)]\n",
    "\n",
    "\n",
    "ribbon_ends = make_ribbon_ends(mapped_data, ideo_ends,  idx_sort)\n",
    "print('ribbon ends starting from the ideogram[2]\\n', ribbon_ends[2])\n"
   ]
  },
  {
   "cell_type": "code",
   "execution_count": 112,
   "metadata": {},
   "outputs": [],
   "source": [
    "def control_pts(angle, radius):\n",
    "    #angle is a  3-list containing angular coordinates of the control points b0, b1, b2\n",
    "    #radius is the distance from b1 to the  origin O(0,0)\n",
    "\n",
    "    if len(angle) != 3:\n",
    "        raise InvalidInputError('angle must have len =3')\n",
    "    b_cplx = np.array([np.exp(1j*angle[k]) for k in range(3)])\n",
    "    b_cplx[1] = radius*b_cplx[1]\n",
    "    return zip(b_cplx.real, b_cplx.imag)\n"
   ]
  },
  {
   "cell_type": "code",
   "execution_count": 113,
   "metadata": {},
   "outputs": [],
   "source": [
    "def ctrl_rib_chords(l, r, radius):\n",
    "    # this function returns a 2-list containing control poligons of the two quadratic Bezier\n",
    "    #curves that are opposite sides in a ribbon\n",
    "    #l (r) the list of angular variables of the ribbon arc ends defining\n",
    "    #the ribbon starting (ending) arc\n",
    "    # radius is a common parameter for both control polygons\n",
    "    if len(l) != 2 or len(r) != 2:\n",
    "        raise ValueError('the arc ends must be elements in a list of len 2')\n",
    "    return [control_pts([l[j], (l[j]+r[j])/2, r[j]], radius) for j in range(2)]\n"
   ]
  },
  {
   "cell_type": "code",
   "execution_count": 114,
   "metadata": {},
   "outputs": [],
   "source": [
    "ribbon_color = [L*[ideo_colors[k]] for k in range(L)]\n"
   ]
  },
  {
   "cell_type": "code",
   "execution_count": 144,
   "metadata": {},
   "outputs": [
    {
     "data": {
      "text/plain": [
       "'M 1,4 Q -0.5, 2.35 3.745, 1.47'"
      ]
     },
     "execution_count": 144,
     "metadata": {},
     "output_type": "execute_result"
    }
   ],
   "source": [
    "def make_q_bezier(b):  # defines the Plotly SVG path for a quadratic Bezier curve defined by the\n",
    "    #list of its control points\n",
    "    # if len(b) != 3:\n",
    "    #     raise valueError('control poligon must have 3 points')\n",
    "    A, B, C = b\n",
    "    return 'M '+str(A[0])+',' + str(A[1])+' '+'Q ' +\\\n",
    "        str(B[0])+', '+str(B[1]) + ' ' +\\\n",
    "        str(C[0])+', '+str(C[1])\n",
    "\n",
    "\n",
    "b = [(1, 4), (-0.5, 2.35), (3.745, 1.47)]\n",
    "\n",
    "make_q_bezier(b)\n"
   ]
  },
  {
   "cell_type": "code",
   "execution_count": 145,
   "metadata": {},
   "outputs": [
    {
     "data": {
      "text/plain": [
       "'L 0.5000000000000001, 0.8660254037844386 L 0.5877852522924732, 0.8090169943749473 L 0.6691306063588583, 0.7431448254773941 L 0.7431448254773942, 0.6691306063588581 L 0.8090169943749475, 0.5877852522924731 L 0.8660254037844387, 0.49999999999999994 '"
      ]
     },
     "execution_count": 145,
     "metadata": {},
     "output_type": "execute_result"
    }
   ],
   "source": [
    "def make_ribbon_arc(theta0, theta1):\n",
    "    \n",
    "    if test_2PI(theta0) and test_2PI(theta1):\n",
    "        if theta0 < theta1:\n",
    "            theta0= moduloAB(theta0, -PI, PI)\n",
    "            theta1= moduloAB(theta1, -PI, PI)\n",
    "            if theta0*theta1>0:\n",
    "                raise ValueError('incorrect angle coordinates for ribbon')\n",
    "\n",
    "        nr=int(40*(theta0-theta1)/PI)\n",
    "        if nr<=2: nr=3\n",
    "        theta=np.linspace(theta0, theta1, nr)\n",
    "        pts=np.exp(1j*theta)# points on arc in polar complex form\n",
    "\n",
    "        string_arc=''\n",
    "        for k in range(len(theta)):\n",
    "            string_arc+='L '+str(pts.real[k])+', '+str(pts.imag[k])+' '\n",
    "        return   string_arc\n",
    "    else:\n",
    "        raise ValueError('the angle coordinates for an arc side of a ribbon must be in [0, 2*pi]')\n",
    "\n",
    "make_ribbon_arc(np.pi/3, np.pi/6)"
   ]
  },
  {
   "cell_type": "code",
   "execution_count": 146,
   "metadata": {},
   "outputs": [],
   "source": [
    "def make_layout(title, plot_size):\n",
    "    axis = dict(showline=False,  # hide axis line, grid, ticklabels and  title\n",
    "                zeroline=False,\n",
    "                showgrid=False,\n",
    "                showticklabels=False,\n",
    "                title=''\n",
    "                )\n",
    "\n",
    "    return go.Layout(title=title,\n",
    "                     xaxis=dict(axis),\n",
    "                     yaxis=dict(axis),\n",
    "                     showlegend=False,\n",
    "                     width=plot_size,\n",
    "                     height=plot_size,\n",
    "                     margin=dict(t=25, b=25, l=25, r=25),\n",
    "                     hovermode='closest'  # to this list one appends below the dicts defining the ribbon,\n",
    "                     #respectively the ideogram shapes\n",
    "                     )\n"
   ]
  },
  {
   "cell_type": "code",
   "execution_count": 147,
   "metadata": {},
   "outputs": [],
   "source": [
    "def make_ideo_shape(path, line_color, fill_color):\n",
    "    #line_color is the color of the shape boundary\n",
    "    #fill_collor is the color assigned to an ideogram\n",
    "    return dict(\n",
    "        line=dict(\n",
    "            color=line_color,\n",
    "            width=0.45\n",
    "        ),\n",
    "\n",
    "        path=path,\n",
    "        type='path',\n",
    "        fillcolor=fill_color,\n",
    "        layer='below'\n",
    "    )\n"
   ]
  },
  {
   "cell_type": "code",
   "execution_count": 154,
   "metadata": {},
   "outputs": [
    {
     "data": {
      "text/plain": [
       "()"
      ]
     },
     "execution_count": 154,
     "metadata": {},
     "output_type": "execute_result"
    }
   ],
   "source": [
    "def make_ribbon(l, r, line_color, fill_color, radius=0.2):\n",
    "    #l=[l[0], l[1]], r=[r[0], r[1]]  represent the opposite arcs in the ribbon \n",
    "    #line_color is the color of the shape boundary\n",
    "    #fill_color is the fill color for the ribbon shape\n",
    "    poligon=ctrl_rib_chords(l,r, radius)\n",
    "    b,c =poligon\n",
    "    print(b,c)\n",
    "\n",
    "    return  dict(\n",
    "                line=dict(\n",
    "                color=line_color, width=0.5\n",
    "            ),\n",
    "            path=  make_q_bezier(b)+make_ribbon_arc(r[0], r[1])+\n",
    "                   make_q_bezier(c[::-1])+make_ribbon_arc(l[1], l[0]),\n",
    "            type='path',\n",
    "            fillcolor=fill_color,\n",
    "            layer='below'\n",
    "        )\n",
    "\n",
    "def make_self_rel(l, line_color, fill_color, radius):\n",
    "    #radius is the radius of Bezier control point b_1\n",
    "    b=control_pts([l[0], (l[0]+l[1])/2, l[1]], radius)\n",
    "    return  dict(\n",
    "                line=dict(\n",
    "                color=line_color, width=0.5\n",
    "            ),\n",
    "            path=  make_q_bezier(b)+make_ribbon_arc(l[1], l[0]),\n",
    "            type='path',\n",
    "            fillcolor=fill_color,\n",
    "            layer='below'\n",
    "        )\n",
    "\n",
    "def invPerm(perm):\n",
    "    # function that returns the inverse of a permutation, perm\n",
    "    inv = [0] * len(perm)\n",
    "    for i, s in enumerate(perm):\n",
    "        inv[s] = i\n",
    "    return inv\n",
    "\n",
    "layout=make_layout('Chord diagram', 400)\n",
    "layout['shapes']"
   ]
  },
  {
   "cell_type": "code",
   "execution_count": 155,
   "metadata": {},
   "outputs": [],
   "source": [
    "# these value are set after a few trials\n",
    "radii_sribb = [0.4, 0.30, 0.35, 0.39, 0.12]\n"
   ]
  },
  {
   "cell_type": "code",
   "execution_count": 156,
   "metadata": {},
   "outputs": [
    {
     "name": "stdout",
     "output_type": "stream",
     "text": [
      "<zip object at 0x7fa4582ae600> <zip object at 0x7fa4582ae740>\n"
     ]
    },
    {
     "ename": "TypeError",
     "evalue": "'zip' object is not subscriptable",
     "output_type": "error",
     "traceback": [
      "\u001b[0;31m---------------------------------------------------------------------------\u001b[0m",
      "\u001b[0;31mTypeError\u001b[0m                                 Traceback (most recent call last)",
      "\u001b[1;32m/Users/mr.limerence/Documents/GitHub/gender-gap-in-film-industry/chord_diagram/chord.ipynb Cell 35'\u001b[0m in \u001b[0;36m<cell line: 2>\u001b[0;34m()\u001b[0m\n\u001b[1;32m     <a href='vscode-notebook-cell:/Users/mr.limerence/Documents/GitHub/gender-gap-in-film-industry/chord_diagram/chord.ipynb#ch0000042?line=60'>61</a>\u001b[0m r \u001b[39m=\u001b[39m (r[\u001b[39m1\u001b[39m], r[\u001b[39m0\u001b[39m])\n\u001b[1;32m     <a href='vscode-notebook-cell:/Users/mr.limerence/Documents/GitHub/gender-gap-in-film-industry/chord_diagram/chord.ipynb#ch0000042?line=61'>62</a>\u001b[0m \u001b[39m# a twisted ribbon\u001b[39;00m\n\u001b[0;32m---> <a href='vscode-notebook-cell:/Users/mr.limerence/Documents/GitHub/gender-gap-in-film-industry/chord_diagram/chord.ipynb#ch0000042?line=62'>63</a>\u001b[0m \u001b[39mprint\u001b[39m(make_ribbon(\n\u001b[1;32m     <a href='vscode-notebook-cell:/Users/mr.limerence/Documents/GitHub/gender-gap-in-film-industry/chord_diagram/chord.ipynb#ch0000042?line=63'>64</a>\u001b[0m     l, r, \u001b[39m'\u001b[39;49m\u001b[39mrgb(175,175,175)\u001b[39;49m\u001b[39m'\u001b[39;49m, ribbon_color[k][j]))\n\u001b[1;32m     <a href='vscode-notebook-cell:/Users/mr.limerence/Documents/GitHub/gender-gap-in-film-industry/chord_diagram/chord.ipynb#ch0000042?line=64'>65</a>\u001b[0m \u001b[39m#append the ribbon shape\u001b[39;00m\n\u001b[1;32m     <a href='vscode-notebook-cell:/Users/mr.limerence/Documents/GitHub/gender-gap-in-film-industry/chord_diagram/chord.ipynb#ch0000042?line=65'>66</a>\u001b[0m layout[\u001b[39m'\u001b[39m\u001b[39mshapes\u001b[39m\u001b[39m'\u001b[39m] \u001b[39m=\u001b[39m layout[\u001b[39m'\u001b[39m\u001b[39mshapes\u001b[39m\u001b[39m'\u001b[39m] \u001b[39m+\u001b[39mmake_ribbon(\n\u001b[1;32m     <a href='vscode-notebook-cell:/Users/mr.limerence/Documents/GitHub/gender-gap-in-film-industry/chord_diagram/chord.ipynb#ch0000042?line=66'>67</a>\u001b[0m     l, r, \u001b[39m'\u001b[39m\u001b[39mrgb(175,175,175)\u001b[39m\u001b[39m'\u001b[39m, ribbon_color[k][j])\n",
      "\u001b[1;32m/Users/mr.limerence/Documents/GitHub/gender-gap-in-film-industry/chord_diagram/chord.ipynb Cell 33'\u001b[0m in \u001b[0;36mmake_ribbon\u001b[0;34m(l, r, line_color, fill_color, radius)\u001b[0m\n\u001b[1;32m      <a href='vscode-notebook-cell:/Users/mr.limerence/Documents/GitHub/gender-gap-in-film-industry/chord_diagram/chord.ipynb#ch0000040?line=5'>6</a>\u001b[0m b,c \u001b[39m=\u001b[39mpoligon\n\u001b[1;32m      <a href='vscode-notebook-cell:/Users/mr.limerence/Documents/GitHub/gender-gap-in-film-industry/chord_diagram/chord.ipynb#ch0000040?line=6'>7</a>\u001b[0m \u001b[39mprint\u001b[39m(b,c)\n\u001b[1;32m      <a href='vscode-notebook-cell:/Users/mr.limerence/Documents/GitHub/gender-gap-in-film-industry/chord_diagram/chord.ipynb#ch0000040?line=8'>9</a>\u001b[0m \u001b[39mreturn\u001b[39;00m  \u001b[39mdict\u001b[39m(\n\u001b[1;32m     <a href='vscode-notebook-cell:/Users/mr.limerence/Documents/GitHub/gender-gap-in-film-industry/chord_diagram/chord.ipynb#ch0000040?line=9'>10</a>\u001b[0m             line\u001b[39m=\u001b[39m\u001b[39mdict\u001b[39m(\n\u001b[1;32m     <a href='vscode-notebook-cell:/Users/mr.limerence/Documents/GitHub/gender-gap-in-film-industry/chord_diagram/chord.ipynb#ch0000040?line=10'>11</a>\u001b[0m             color\u001b[39m=\u001b[39mline_color, width\u001b[39m=\u001b[39m\u001b[39m0.5\u001b[39m\n\u001b[1;32m     <a href='vscode-notebook-cell:/Users/mr.limerence/Documents/GitHub/gender-gap-in-film-industry/chord_diagram/chord.ipynb#ch0000040?line=11'>12</a>\u001b[0m         ),\n\u001b[1;32m     <a href='vscode-notebook-cell:/Users/mr.limerence/Documents/GitHub/gender-gap-in-film-industry/chord_diagram/chord.ipynb#ch0000040?line=12'>13</a>\u001b[0m         path\u001b[39m=\u001b[39m  make_q_bezier(b)\u001b[39m+\u001b[39mmake_ribbon_arc(r[\u001b[39m0\u001b[39m], r[\u001b[39m1\u001b[39m])\u001b[39m+\u001b[39m\n\u001b[0;32m---> <a href='vscode-notebook-cell:/Users/mr.limerence/Documents/GitHub/gender-gap-in-film-industry/chord_diagram/chord.ipynb#ch0000040?line=13'>14</a>\u001b[0m                make_q_bezier(c[::\u001b[39m-\u001b[39;49m\u001b[39m1\u001b[39;49m])\u001b[39m+\u001b[39mmake_ribbon_arc(l[\u001b[39m1\u001b[39m], l[\u001b[39m0\u001b[39m]),\n\u001b[1;32m     <a href='vscode-notebook-cell:/Users/mr.limerence/Documents/GitHub/gender-gap-in-film-industry/chord_diagram/chord.ipynb#ch0000040?line=14'>15</a>\u001b[0m         \u001b[39mtype\u001b[39m\u001b[39m=\u001b[39m\u001b[39m'\u001b[39m\u001b[39mpath\u001b[39m\u001b[39m'\u001b[39m,\n\u001b[1;32m     <a href='vscode-notebook-cell:/Users/mr.limerence/Documents/GitHub/gender-gap-in-film-industry/chord_diagram/chord.ipynb#ch0000040?line=15'>16</a>\u001b[0m         fillcolor\u001b[39m=\u001b[39mfill_color,\n\u001b[1;32m     <a href='vscode-notebook-cell:/Users/mr.limerence/Documents/GitHub/gender-gap-in-film-industry/chord_diagram/chord.ipynb#ch0000040?line=16'>17</a>\u001b[0m         layer\u001b[39m=\u001b[39m\u001b[39m'\u001b[39m\u001b[39mbelow\u001b[39m\u001b[39m'\u001b[39m\n\u001b[1;32m     <a href='vscode-notebook-cell:/Users/mr.limerence/Documents/GitHub/gender-gap-in-film-industry/chord_diagram/chord.ipynb#ch0000040?line=17'>18</a>\u001b[0m     )\n",
      "\u001b[0;31mTypeError\u001b[0m: 'zip' object is not subscriptable"
     ]
    }
   ],
   "source": [
    "ribbon_info = []\n",
    "for k in range(L):\n",
    "\n",
    "    sigma = idx_sort[k]\n",
    "    sigma_inv = invPerm(sigma)\n",
    "    for j in range(k, L):\n",
    "        if genre_matrix[k][j] == 0 and genre_matrix[j][k] == 0:\n",
    "            continue\n",
    "        eta = idx_sort[j]\n",
    "        eta_inv = invPerm(eta)\n",
    "        l = ribbon_ends[k][sigma_inv[j]]\n",
    "\n",
    "        if j == k:\n",
    "            print(make_self_rel(l, 'rgb(175,175,175)',\n",
    "                               ideo_colors[k], radius=radii_sribb[k]))\n",
    "            layout['shapes'] = layout['shapes'] + make_self_rel(l, 'rgb(175,175,175)',\n",
    "                                                                ideo_colors[k], radius=radii_sribb[k])\n",
    "            z = 0.9*np.exp(1j*(l[0]+l[1])/2)\n",
    "            #the text below will be displayed when hovering the mouse over the ribbon\n",
    "            text = genre_list[k]+' commented on ' + \\\n",
    "                '{:d}'.format(genre_matrix[k][k])+' of ' + 'herself Fb posts',\n",
    "            ribbon_info.append(go.Scatter(x=[z.real],\n",
    "                                          y=[z.imag],\n",
    "                                          mode='markers',\n",
    "                                          marker=dict(\n",
    "                                              size=0.5, color=ideo_colors[k]),\n",
    "                                          text=text,\n",
    "                                          hoverinfo='text'\n",
    "                                          )\n",
    "                               )\n",
    "        else:\n",
    "            r = ribbon_ends[j][eta_inv[k]]\n",
    "            zi = 0.9*np.exp(1j*(l[0]+l[1])/2)\n",
    "            zf = 0.9*np.exp(1j*(r[0]+r[1])/2)\n",
    "            #texti and textf are the strings that will be displayed when hovering the mouse\n",
    "            #over the two ribbon ends\n",
    "            texti = genre_list[k]+' commented on ' + '{:d}'.format(genre_matrix[k][j])+' of ' +\\\n",
    "                genre_list[j] + ' Fb posts',\n",
    "\n",
    "            textf = genre_list[j]+' commented on ' + '{:d}'.format(genre_matrix[j][k])+' of ' +\\\n",
    "                genre_list[k] + ' Fb posts',\n",
    "            ribbon_info.append(go.Scatter(x=[zi.real],\n",
    "                                          y=[zi.imag],\n",
    "                                          mode='markers',\n",
    "                                          marker=dict(\n",
    "                                              size=0.5, color=ribbon_color[k][j]),\n",
    "                                          text=texti,\n",
    "                                          hoverinfo='text'\n",
    "                                          )\n",
    "                               ),\n",
    "            ribbon_info.append(go.Scatter(x=[zf.real],\n",
    "                                          y=[zf.imag],\n",
    "                                          mode='markers',\n",
    "                                          marker=dict(\n",
    "                                              size=0.5, color=ribbon_color[k][j]),\n",
    "                                          text=textf,\n",
    "                                          hoverinfo='text'\n",
    "                                          )\n",
    "                               )\n",
    "            # IMPORTANT!!!  Reverse these arc ends because otherwise you get\n",
    "            r = (r[1], r[0])\n",
    "            # a twisted ribbon\n",
    "            print(make_ribbon(\n",
    "                l, r, 'rgb(175,175,175)', ribbon_color[k][j]))\n",
    "            #append the ribbon shape\n",
    "            layout['shapes'] = layout['shapes'] +make_ribbon(\n",
    "                l, r, 'rgb(175,175,175)', ribbon_color[k][j]) \n"
   ]
  },
  {
   "cell_type": "code",
   "execution_count": null,
   "metadata": {},
   "outputs": [],
   "source": [
    "import plotly.offline as off\n",
    "ideograms = []\n",
    "for k in range(len(ideo_ends)):\n",
    "    z = make_ideogram_arc(1.1, ideo_ends[k])\n",
    "    zi = make_ideogram_arc(1.0, ideo_ends[k])\n",
    "    m = len(z)\n",
    "    n = len(zi)\n",
    "    ideograms.append(go.Scatter(x=z.real,\n",
    "                                y=z.imag,\n",
    "                                mode='lines',\n",
    "                                line=dict(\n",
    "                                    color=ideo_colors[k], shape='spline', width=0.25),\n",
    "                                text=labels[k]+'<br>' +\n",
    "                                '{:d}'.format(row_sum[k]),\n",
    "                                hoverinfo='text'\n",
    "                                )\n",
    "                     )\n",
    "\n",
    "    path = 'M '\n",
    "    for s in range(m):\n",
    "        path += str(z.real[s])+', '+str(z.imag[s])+' L '\n",
    "\n",
    "    Zi = np.array(zi.tolist()[::-1])\n",
    "\n",
    "    for s in range(m):\n",
    "        path += str(Zi.real[s])+', '+str(Zi.imag[s])+' L '\n",
    "    path += str(z.real[0])+' ,'+str(z.imag[0])\n",
    "\n",
    "    layout['shapes'].append(make_ideo_shape(\n",
    "        path, 'rgb(150,150,150)', ideo_colors[k]))\n",
    "\n",
    "data = go.Data(ideograms+ribbon_info)\n",
    "fig = go.Figure(data=data, layout=layout)\n",
    "\n",
    "off.init_notebook_mode()\n",
    "\n",
    "off.iplot(fig, filename='chord-diagram-Fb')\n"
   ]
  }
 ],
 "metadata": {
  "interpreter": {
   "hash": "40d3a090f54c6569ab1632332b64b2c03c39dcf918b08424e98f38b5ae0af88f"
  },
  "kernelspec": {
   "display_name": "Python 3.9.11 ('base')",
   "language": "python",
   "name": "python3"
  },
  "language_info": {
   "codemirror_mode": {
    "name": "ipython",
    "version": 3
   },
   "file_extension": ".py",
   "mimetype": "text/x-python",
   "name": "python",
   "nbconvert_exporter": "python",
   "pygments_lexer": "ipython3",
   "version": "3.9.11"
  },
  "orig_nbformat": 4
 },
 "nbformat": 4,
 "nbformat_minor": 2
}
