{
 "cells": [
  {
   "cell_type": "code",
   "execution_count": 298,
   "metadata": {},
   "outputs": [],
   "source": [
    "import plotly.figure_factory as ff\n",
    "import plotly.graph_objs as go\n",
    "import pandas as pd\n",
    "import numpy as np"
   ]
  },
  {
   "cell_type": "code",
   "execution_count": 299,
   "metadata": {},
   "outputs": [],
   "source": [
    "data = pd.read_csv('../data/bubble_chart.csv')"
   ]
  },
  {
   "cell_type": "code",
   "execution_count": 300,
   "metadata": {},
   "outputs": [],
   "source": [
    "data[\"genre\"] = data[\"genre\"].str.split()"
   ]
  },
  {
   "cell_type": "code",
   "execution_count": 301,
   "metadata": {},
   "outputs": [],
   "source": [
    "data2 = data.explode('genre')"
   ]
  },
  {
   "cell_type": "code",
   "execution_count": 302,
   "metadata": {},
   "outputs": [],
   "source": [
    "def move_particle(x):\n",
    "    if x[-1] == ',':\n",
    "        return x[:-1]\n",
    "    else:\n",
    "        return x"
   ]
  },
  {
   "cell_type": "code",
   "execution_count": 303,
   "metadata": {},
   "outputs": [],
   "source": [
    "data2['genre'] = data2['genre'].apply(move_particle)"
   ]
  },
  {
   "cell_type": "code",
   "execution_count": 304,
   "metadata": {},
   "outputs": [
    {
     "data": {
      "text/plain": [
       "array(['Action', 'Adventure', 'Fantasy', 'Drama', 'Comedy', 'Sci-Fi',\n",
       "       'Mystery', 'Thriller', 'Crime', 'Animation', 'Family', 'Horror',\n",
       "       'Romance', 'Western', 'History', 'Biography', 'Music', 'Musical',\n",
       "       'Sport', 'Documentary', 'War', 'Short', 'News', 'Reality-TV',\n",
       "       'Game-Show', 'Talk-Show', 'Film-Noir'], dtype=object)"
      ]
     },
     "execution_count": 304,
     "metadata": {},
     "output_type": "execute_result"
    }
   ],
   "source": [
    "data2['genre'].unique()"
   ]
  },
  {
   "cell_type": "code",
   "execution_count": 305,
   "metadata": {},
   "outputs": [],
   "source": [
    "s = pd.crosstab(data2['title'],data2['genre'])\n",
    "s = s.T.dot(s).astype(float)\n",
    "s.values[np.triu_indices(len(s))]=np.nan\n",
    "films_intersection = s.stack()"
   ]
  },
  {
   "cell_type": "code",
   "execution_count": 307,
   "metadata": {},
   "outputs": [],
   "source": [
    "genre_list = data2.groupby('genre')['title'].count().sort_values(ascending=False)[:10].index.tolist()"
   ]
  },
  {
   "cell_type": "code",
   "execution_count": 308,
   "metadata": {},
   "outputs": [],
   "source": [
    "data3 = data2[data2['genre'].isin(genre_list)]\n"
   ]
  },
  {
   "cell_type": "code",
   "execution_count": 310,
   "metadata": {},
   "outputs": [],
   "source": [
    "male = data3[data3['star_index']<15]\n",
    "female = data3[data3['star_index']>=15]"
   ]
  },
  {
   "cell_type": "code",
   "execution_count": 311,
   "metadata": {},
   "outputs": [],
   "source": [
    "s = pd.crosstab(male[\n",
    "    'title'], male['genre'])\n",
    "s = s.T.dot(s).astype(float)\n",
    "s.values[np.triu_indices(len(s))] = np.nan\n",
    "male_intersection = s.stack()\n"
   ]
  },
  {
   "cell_type": "code",
   "execution_count": 313,
   "metadata": {},
   "outputs": [],
   "source": [
    "number_of_genres= len(male['genre'].unique())\n",
    "genre_matrix = np.zeros((number_of_genres,number_of_genres))\n",
    "# genre_list = male['genre'].unique().tolist()"
   ]
  },
  {
   "cell_type": "code",
   "execution_count": 314,
   "metadata": {},
   "outputs": [
    {
     "name": "stdout",
     "output_type": "stream",
     "text": [
      "['Drama', 'Comedy', 'Action', 'Romance', 'Adventure', 'Crime', 'Thriller', 'Horror', 'Mystery', 'Sci-Fi']\n"
     ]
    }
   ],
   "source": [
    "print(genre_list)"
   ]
  },
  {
   "cell_type": "code",
   "execution_count": 315,
   "metadata": {},
   "outputs": [],
   "source": [
    "for i, v in male_intersection.iteritems():\n",
    "    to = genre_list.index(i[0])\n",
    "    frm = genre_list.index(i[1])\n",
    "    value = v\n",
    "    genre_matrix[to,frm] = v\n",
    "    genre_matrix[frm,to] = v\n",
    "    \n",
    "genre_matrix = genre_matrix.astype(int)"
   ]
  },
  {
   "cell_type": "code",
   "execution_count": 316,
   "metadata": {},
   "outputs": [
    {
     "name": "stdout",
     "output_type": "stream",
     "text": [
      "(10, 10)\n"
     ]
    }
   ],
   "source": [
    "print(genre_matrix.shape)"
   ]
  },
  {
   "cell_type": "code",
   "execution_count": 317,
   "metadata": {},
   "outputs": [],
   "source": [
    "# np.savetxt('../data/male_matrix.csv', genre_matrix, delimiter = ',')"
   ]
  },
  {
   "cell_type": "code",
   "execution_count": 318,
   "metadata": {},
   "outputs": [],
   "source": [
    "#make ideogram\n",
    "PI=np.pi\n",
    "\n",
    "\n",
    "def check_data(data_matrix):\n",
    "    L, M = data_matrix.shape\n",
    "    if L != M:\n",
    "        raise ValueError('Data array must have (n,n) shape')\n",
    "    return L\n",
    "\n",
    "\n",
    "L = check_data(genre_matrix)\n",
    "\n",
    "def moduloAB(x, a, b): #maps a real number onto the unit circle identified with \n",
    "                       #the interval [a,b), b-a=2*PI\n",
    "        if a>=b:\n",
    "            raise ValueError('Incorrect interval ends')\n",
    "        y=(x-a)%(b-a)\n",
    "        return y+b if y<0 else y+a\n",
    "\n",
    "def test_2PI(x):\n",
    "    return 0<= x <2*PI"
   ]
  },
  {
   "cell_type": "code",
   "execution_count": 319,
   "metadata": {},
   "outputs": [
    {
     "name": "stdout",
     "output_type": "stream",
     "text": [
      "[1.46559079 0.60501946 0.80332904 0.37903878 0.64714103 0.65267525\n",
      " 0.36858525 0.53307459 0.26036049 0.25421136]\n"
     ]
    }
   ],
   "source": [
    "row_sum=[np.sum(genre_matrix[k,:]) for k in range(L)]\n",
    "\n",
    "#set the gap between two consecutive ideograms\n",
    "gap=2*PI*0.005\n",
    "ideogram_length=2*PI*np.asarray(row_sum)/sum(row_sum)-gap*np.ones(L)\n",
    "print(ideogram_length)"
   ]
  },
  {
   "cell_type": "code",
   "execution_count": 320,
   "metadata": {},
   "outputs": [
    {
     "name": "stdout",
     "output_type": "stream",
     "text": [
      "[[0, 1.465590790074858], [1.497006716610756, 2.1020261779130722], [2.13344210444897, 2.9367711431211645], [2.9681870696570622, 3.3472258497704472], [3.378641776306345, 4.0257828067554415], [4.057198733291339, 4.709873984504246], [4.741289911040144, 5.109875163044109], [5.141291089580006, 5.674365680952786], [5.705781607488683, 5.966142097889242], [5.99755802442514, 6.251769380643687]]\n",
      "[1.12583302-0.65j       1.14814501-0.60972373j 1.16901672-0.5686826j\n",
      " 1.18842197-0.5269281j  1.20633642-0.48451259j 1.22273759-0.44148929j\n",
      " 1.23760491-0.39791217j 1.25091973-0.3538359j  1.26266534-0.30931575j\n",
      " 1.27282702-0.26440759j 1.28139202-0.21916775j 1.28834958-0.17365297j\n",
      " 1.29369099-0.12792036j 1.29740954-0.08202728j 1.29950058-0.0360313j\n",
      " 1.29996146+0.01000988j 1.29879163+0.0560385j  1.29599253+0.10199682j\n",
      " 1.2915677 +0.1478272j  1.28552267+0.19347214j 1.27786503+0.23887437j]\n"
     ]
    }
   ],
   "source": [
    "def get_ideogram_ends(ideogram_len, gap):\n",
    "    ideo_ends = []\n",
    "    left = 0\n",
    "    for k in range(len(ideogram_len)):\n",
    "        right = left+ideogram_len[k]\n",
    "        ideo_ends.append([left, right])\n",
    "        left = right+gap\n",
    "    return ideo_ends\n",
    "\n",
    "\n",
    "ideo_ends = get_ideogram_ends(ideogram_length, gap)\n",
    "print(ideo_ends)\n",
    "\n",
    "\n",
    "def make_ideogram_arc(R, phi, a=50):\n",
    "    # R is the circle radius\n",
    "    # phi is the list of ends angle coordinates of an arc\n",
    "    # a is a parameter that controls the number of points to be evaluated on an arc\n",
    "    if not test_2PI(phi[0]) or not test_2PI(phi[1]):\n",
    "        phi = [moduloAB(t, 0, 2*PI) for t in phi]\n",
    "    length = (phi[1]-phi[0]) % 2*PI\n",
    "    nr = 5 if length <= PI/4 else int(a*length/PI)\n",
    "\n",
    "    if phi[0] < phi[1]:\n",
    "        theta = np.linspace(phi[0], phi[1], nr)\n",
    "    else:\n",
    "        phi = [moduloAB(t, -PI, PI) for t in phi]\n",
    "        theta = np.linspace(phi[0], phi[1], nr)\n",
    "    return R*np.exp(1j*theta)\n",
    "\n",
    "\n",
    "z = make_ideogram_arc(1.3, [11*PI/6, PI/17])\n",
    "print(z)\n"
   ]
  },
  {
   "cell_type": "code",
   "execution_count": 321,
   "metadata": {},
   "outputs": [],
   "source": [
    "ideo_colors=['rgba(187, 255, 255, 0.75)',\n",
    "             'rgba(127, 255, 212, 0.75)',\n",
    "             'rgba(155, 205, 155, 0.75)',\n",
    "             'rgba(217, 239, 139, 0.75)',\n",
    "             'rgba(255, 246, 143, 0.75)',\n",
    "             'rgba(255, 193, 193, 0.75)',\n",
    "             'rgba(255, 130, 71, 0.75)',\n",
    "             'rgba(255, 48, 48, 0.75)',\n",
    "             'rgba(255, 20, 147, 0.75)',\n",
    "             'rgba(72, 118, 255, 0.75)',\n",
    "             'rgba(176, 226, 255, 0.75)',\n",
    "             'rgba(224, 255, 255, 0.75)',\n",
    "             'rgba(144, 238, 144, 0.75)',\n",
    "             'rgba(106, 90, 205, 0.75)',\n",
    "             'rgba(47, 79, 79, 0.75)']#brewe"
   ]
  },
  {
   "cell_type": "code",
   "execution_count": 322,
   "metadata": {},
   "outputs": [
    {
     "data": {
      "text/plain": [
       "array([[0.        , 0.16464945, 0.17277657, 0.18240871, 0.15050224,\n",
       "        0.25615481, 0.09511741, 0.32689086, 0.08428125, 0.03280949],\n",
       "       [0.15987712, 0.        , 0.08183838, 0.10814358, 0.10960497,\n",
       "        0.0757005 , 0.00759928, 0.02601291, 0.01519856, 0.02104416],\n",
       "       [0.16983826, 0.08284793, 0.        , 0.01952844, 0.23670837,\n",
       "        0.1159871 , 0.07693022, 0.02219141, 0.01124365, 0.06805366],\n",
       "       [0.17205805, 0.10505195, 0.018739  , 0.        , 0.03094774,\n",
       "        0.02328178, 0.00738203, 0.00851773, 0.0070981 , 0.00596241],\n",
       "       [0.14661102, 0.10995826, 0.23457763, 0.0319612 , 0.        ,\n",
       "        0.02463065, 0.02551032, 0.01407466, 0.00850344, 0.05131386],\n",
       "       [0.24962995, 0.07597433, 0.11498818, 0.02405365, 0.02464032,\n",
       "        0.        , 0.07714768, 0.01554687, 0.06394751, 0.00674676],\n",
       "       [0.0895257 , 0.00736604, 0.07366039, 0.00736604, 0.0246479 ,\n",
       "        0.07451032, 0.        , 0.03654689, 0.0371135 , 0.01784848],\n",
       "       [0.31531536, 0.02584076, 0.02177592, 0.00871037, 0.01393659,\n",
       "        0.01538832, 0.03745459, 0.        , 0.03861597, 0.05603671],\n",
       "       [0.07681869, 0.01426633, 0.01042539, 0.00685881, 0.00795622,\n",
       "        0.05980884, 0.03594017, 0.03648888, 0.        , 0.01179716],\n",
       "       [0.02982674, 0.01970206, 0.06293715, 0.00574644, 0.04788696,\n",
       "        0.00629371, 0.01723931, 0.05281248, 0.01176651, 0.        ]])"
      ]
     },
     "execution_count": 322,
     "metadata": {},
     "output_type": "execute_result"
    }
   ],
   "source": [
    "def map_data(data_matrix, row_value, ideogram_length):\n",
    "    mapped = np.zeros(data_matrix.shape)\n",
    "    for j in range(L):\n",
    "        mapped[:, j] = ideogram_length*data_matrix[:, j]/row_value\n",
    "    return mapped\n",
    "\n",
    "\n",
    "mapped_data = map_data(genre_matrix, row_sum, ideogram_length)\n",
    "mapped_data\n"
   ]
  },
  {
   "cell_type": "code",
   "execution_count": 323,
   "metadata": {},
   "outputs": [
    {
     "data": {
      "text/plain": [
       "array([[0, 9, 8, 6, 4, 1, 2, 3, 5, 7],\n",
       "       [1, 6, 8, 9, 7, 5, 2, 3, 4, 0],\n",
       "       [2, 8, 3, 7, 9, 6, 1, 5, 0, 4],\n",
       "       [3, 9, 8, 6, 7, 2, 5, 4, 1, 0],\n",
       "       [4, 8, 7, 5, 6, 3, 9, 1, 0, 2],\n",
       "       [5, 9, 7, 3, 4, 8, 1, 6, 2, 0],\n",
       "       [6, 1, 3, 9, 4, 7, 8, 2, 5, 0],\n",
       "       [7, 3, 4, 5, 2, 1, 6, 8, 9, 0],\n",
       "       [8, 3, 4, 2, 9, 1, 6, 7, 5, 0],\n",
       "       [9, 3, 5, 8, 6, 1, 0, 4, 7, 2]])"
      ]
     },
     "execution_count": 323,
     "metadata": {},
     "output_type": "execute_result"
    }
   ],
   "source": [
    "idx_sort = np.argsort(mapped_data, axis=1)\n",
    "idx_sort\n"
   ]
  },
  {
   "cell_type": "code",
   "execution_count": 324,
   "metadata": {},
   "outputs": [
    {
     "name": "stdout",
     "output_type": "stream",
     "text": [
      "ribbon ends starting from the ideogram[2]\n",
      " [(2.13344210444897, 2.13344210444897), (2.13344210444897, 2.144685752135726), (2.144685752135726, 2.1642141928548293), (2.1642141928548293, 2.186405602762901), (2.186405602762901, 2.254459259814321), (2.254459259814321, 2.3313894808289692), (2.3313894808289692, 2.414237411152437), (2.414237411152437, 2.5302245136052917), (2.5302245136052917, 2.7000627707684), (2.7000627707684, 2.9367711431211645)]\n"
     ]
    }
   ],
   "source": [
    "def make_ribbon_ends(mapped_data, ideo_ends,  idx_sort):\n",
    "    L = mapped_data.shape[0]\n",
    "    ribbon_boundary = np.zeros((L, L+1))\n",
    "    for k in range(L):\n",
    "        start = ideo_ends[k][0]\n",
    "        ribbon_boundary[k][0] = start\n",
    "        for j in range(1, L+1):\n",
    "            J = idx_sort[k][j-1]\n",
    "            ribbon_boundary[k][j] = start+mapped_data[k][J]\n",
    "            start = ribbon_boundary[k][j]\n",
    "    return [[(ribbon_boundary[k][j], ribbon_boundary[k][j+1]) for j in range(L)] for k in range(L)]\n",
    "\n",
    "\n",
    "ribbon_ends = make_ribbon_ends(mapped_data, ideo_ends,  idx_sort)\n",
    "print('ribbon ends starting from the ideogram[2]\\n', ribbon_ends[2])\n"
   ]
  },
  {
   "cell_type": "code",
   "execution_count": 325,
   "metadata": {},
   "outputs": [],
   "source": [
    "def control_pts(angle, radius):\n",
    "    #angle is a  3-list containing angular coordinates of the control points b0, b1, b2\n",
    "    #radius is the distance from b1 to the  origin O(0,0)\n",
    "\n",
    "    if len(angle) != 3:\n",
    "        raise InvalidInputError('angle must have len =3')\n",
    "    b_cplx = np.array([np.exp(1j*angle[k]) for k in range(3)])\n",
    "    b_cplx[1] = radius*b_cplx[1]\n",
    "    # print(b_cplx.real)\n",
    "    # print(b_cplx.imag)\n",
    "    # print(zip(b_cplx.real, b_cplx.imag))\n",
    "    return zip(b_cplx.real, b_cplx.imag)\n"
   ]
  },
  {
   "cell_type": "code",
   "execution_count": 326,
   "metadata": {},
   "outputs": [],
   "source": [
    "def ctrl_rib_chords(l, r, radius):\n",
    "    # this function returns a 2-list containing control poligons of the two quadratic Bezier\n",
    "    #curves that are opposite sides in a ribbon\n",
    "    #l (r) the list of angular variables of the ribbon arc ends defining\n",
    "    #the ribbon starting (ending) arc\n",
    "    # radius is a common parameter for both control polygons\n",
    "    if len(l) != 2 or len(r) != 2:\n",
    "        raise ValueError('the arc ends must be elements in a list of len 2')\n",
    "    return [control_pts([l[j], (l[j]+r[j])/2, r[j]], radius) for j in range(2)]"
   ]
  },
  {
   "cell_type": "code",
   "execution_count": 327,
   "metadata": {},
   "outputs": [],
   "source": [
    "ribbon_color = [L*[ideo_colors[k]] for k in range(L)]\n"
   ]
  },
  {
   "cell_type": "code",
   "execution_count": 328,
   "metadata": {},
   "outputs": [
    {
     "data": {
      "text/plain": [
       "'M 1,4 Q -0.5, 2.35 3.745, 1.47'"
      ]
     },
     "execution_count": 328,
     "metadata": {},
     "output_type": "execute_result"
    }
   ],
   "source": [
    "def make_q_bezier(b):  # defines the Plotly SVG path for a quadratic Bezier curve defined by the\n",
    "    #list of its control points\n",
    "    # if len(b) != 3:\n",
    "    #     raise valueError('control poligon must have 3 points')\n",
    "    A, B, C = b\n",
    "    return 'M '+str(A[0])+',' + str(A[1])+' '+'Q ' +\\\n",
    "        str(B[0])+', '+str(B[1]) + ' ' +\\\n",
    "        str(C[0])+', '+str(C[1])\n",
    "\n",
    "\n",
    "# b = [(1, 4), (-0.5, 2.35), (3.745, 1.47)]\n",
    "\n",
    "# make_q_bezier(b)\n"
   ]
  },
  {
   "cell_type": "code",
   "execution_count": 329,
   "metadata": {},
   "outputs": [
    {
     "data": {
      "text/plain": [
       "'L 0.5000000000000001, 0.8660254037844386 L 0.5877852522924732, 0.8090169943749473 L 0.6691306063588583, 0.7431448254773941 L 0.7431448254773942, 0.6691306063588581 L 0.8090169943749475, 0.5877852522924731 L 0.8660254037844387, 0.49999999999999994 '"
      ]
     },
     "execution_count": 329,
     "metadata": {},
     "output_type": "execute_result"
    }
   ],
   "source": [
    "def make_ribbon_arc(theta0, theta1):\n",
    "    \n",
    "    if test_2PI(theta0) and test_2PI(theta1):\n",
    "        if theta0 < theta1:\n",
    "            theta0= moduloAB(theta0, -PI, PI)\n",
    "            theta1= moduloAB(theta1, -PI, PI)\n",
    "            if theta0*theta1>0:\n",
    "                raise ValueError('incorrect angle coordinates for ribbon')\n",
    "\n",
    "        nr=int(40*(theta0-theta1)/PI)\n",
    "        if nr<=2: nr=3\n",
    "        theta=np.linspace(theta0, theta1, nr)\n",
    "        pts=np.exp(1j*theta)# points on arc in polar complex form\n",
    "\n",
    "        string_arc=''\n",
    "        for k in range(len(theta)):\n",
    "            string_arc+='L '+str(pts.real[k])+', '+str(pts.imag[k])+' '\n",
    "        return   string_arc\n",
    "    else:\n",
    "        raise ValueError('the angle coordinates for an arc side of a ribbon must be in [0, 2*pi]')\n",
    "\n",
    "make_ribbon_arc(np.pi/3, np.pi/6)"
   ]
  },
  {
   "cell_type": "code",
   "execution_count": 348,
   "metadata": {},
   "outputs": [],
   "source": [
    "def make_layout(title, plot_size):\n",
    "    axis = dict(showline=False,  # hide axis line, grid, ticklabels and  title\n",
    "                zeroline=False,\n",
    "                showgrid=False,\n",
    "                showticklabels=False,\n",
    "                title=''\n",
    "                )\n",
    "\n",
    "    return go.Layout(title=dict(\n",
    "                    text=title, font = dict(\n",
    "                        family = 'Droid',\n",
    "                        size = 20)),\n",
    "                     xaxis=dict(axis),\n",
    "                     yaxis=dict(axis),\n",
    "                     showlegend=True,\n",
    "                     width=plot_size+75,\n",
    "                    #  paper_bgcolor='#FFFFFF\t',\n",
    "                     plot_bgcolor='#FFFFFF',\n",
    "                     height=plot_size,\n",
    "                     margin=dict(t=25, b=25, l=25, r=25),\n",
    "                     hovermode='closest'  # to this list one appends below the dicts defining the ribbon,\n",
    "                     #respectively the ideogram shapes\n",
    "                     )\n"
   ]
  },
  {
   "cell_type": "code",
   "execution_count": 349,
   "metadata": {},
   "outputs": [],
   "source": [
    "def make_ideo_shape(path, line_color, fill_color):\n",
    "    #line_color is the color of the shape boundary\n",
    "    #fill_collor is the color assigned to an ideogram\n",
    "    return dict(\n",
    "        line=dict(\n",
    "            color=line_color,\n",
    "            width= 1\n",
    "        ),\n",
    "\n",
    "        path=path,\n",
    "        type='path',\n",
    "        fillcolor=fill_color,\n",
    "        layer='below'\n",
    "    )\n"
   ]
  },
  {
   "cell_type": "code",
   "execution_count": 350,
   "metadata": {},
   "outputs": [],
   "source": [
    "def make_ribbon(l, r, line_color, fill_color, radius=0.2):\n",
    "    #l=[l[0], l[1]], r=[r[0], r[1]]  represent the opposite arcs in the ribbon \n",
    "    #line_color is the color of the shape boundary\n",
    "    #fill_color is the fill color for the ribbon shape\n",
    "    poligon=ctrl_rib_chords(l,r, radius)\n",
    "    b,c =poligon\n",
    "    b = list(b)\n",
    "    c = list(c)\n",
    "    # print(b,c)\n",
    "\n",
    "    return  dict(\n",
    "                line=dict(\n",
    "                color=line_color, width=0.5\n",
    "            ),\n",
    "            path=  make_q_bezier(b)+make_ribbon_arc(r[0], r[1])+\n",
    "                   make_q_bezier(c[::-1])+make_ribbon_arc(l[1], l[0]),\n",
    "            type='path',\n",
    "            fillcolor=fill_color,\n",
    "            layer='below'\n",
    "        )\n",
    "\n",
    "def make_self_rel(l, line_color, fill_color, radius):\n",
    "    #radius is the radius of Bezier control point b_1\n",
    "    b=control_pts([l[0], (l[0]+l[1])/2, l[1]], radius)\n",
    "    return  dict(\n",
    "                line=dict(\n",
    "                color=line_color, width=0.5\n",
    "            ),\n",
    "            path=  make_q_bezier(b)+make_ribbon_arc(l[1], l[0]),\n",
    "            type='path',\n",
    "            fillcolor=fill_color,\n",
    "            layer='below'\n",
    "        )\n",
    "\n",
    "def invPerm(perm):\n",
    "    # function that returns the inverse of a permutation, perm\n",
    "    inv = [0] * len(perm)\n",
    "    for i, s in enumerate(perm):\n",
    "        inv[s] = i\n",
    "    return inv\n",
    "\n",
    "layout=make_layout('Chord diagram of genres', 800)\n",
    "# layout['shapes']"
   ]
  },
  {
   "cell_type": "code",
   "execution_count": 351,
   "metadata": {},
   "outputs": [],
   "source": [
    "# these value are set after a few trials\n",
    "radii_sribb = [0.4, 0.30, 0.35, 0.39, 0.12]\n"
   ]
  },
  {
   "cell_type": "code",
   "execution_count": 352,
   "metadata": {},
   "outputs": [],
   "source": [
    "ribbon_info = []\n",
    "for k in range(L):\n",
    "\n",
    "    sigma = idx_sort[k]\n",
    "    sigma_inv = invPerm(sigma)\n",
    "    for j in range(k, L):\n",
    "        if genre_matrix[k][j] == 0 and genre_matrix[j][k] == 0:\n",
    "            continue\n",
    "        eta = idx_sort[j]\n",
    "        eta_inv = invPerm(eta)\n",
    "        l = ribbon_ends[k][sigma_inv[j]]\n",
    "\n",
    "        if j == k:\n",
    "            # print(make_self_rel(l, 'rgb(175,175,175)',\n",
    "            #                    ideo_colors[k], radius=radii_sribb[k]))\n",
    "            layout['shapes'] = layout['shapes'] + (make_self_rel(l, 'rgb(139,137,137)',\n",
    "                                                                ideo_colors[k], radius=radii_sribb[k]),)\n",
    "            z = 0.9*np.exp(1j*(l[0]+l[1])/2)\n",
    "            #the text below will be displayed when hovering the mouse over the ribbon\n",
    "            text = genre_list[k]+' has ' + \\\n",
    "                '{:d}'.format(genre_matrix[k][k])+' number of coocurence with itself ',\n",
    "            ribbon_info.append(go.Scatter(x=[z.real],\n",
    "                                          y=[z.imag],\n",
    "                                          mode='markers',\n",
    "                                          showlenged = False,\n",
    "                                          marker=dict(\n",
    "                                              size=0.5, color=ideo_colors[k]),\n",
    "                                          text=text,\n",
    "                                          hoverinfo='text'\n",
    "                                          )\n",
    "                               )\n",
    "        else:\n",
    "            r = ribbon_ends[j][eta_inv[k]]\n",
    "            zi = 0.9*np.exp(1j*(l[0]+l[1])/2)\n",
    "            zf = 0.9*np.exp(1j*(r[0]+r[1])/2)\n",
    "            #texti and textf are the strings that will be displayed when hovering the mouse\n",
    "            #over the two ribbon ends\n",
    "            texti = genre_list[k]+' genre has ' + '{:d}'.format(genre_matrix[k][j])+' occurences with ' +\\\n",
    "                genre_list[j] + ' genre',\n",
    "\n",
    "            textf = genre_list[j]+' genre has ' + '{:d}'.format(genre_matrix[j][k])+' occurences with ' +\\\n",
    "                genre_list[k] + ' genre',\n",
    "            ribbon_info.append(go.Scatter(x=[zi.real],\n",
    "                                          y=[zi.imag],\n",
    "                                          mode='markers',\n",
    "                                          showlegend= False,\n",
    "                                          marker=dict(\n",
    "                                              size=0.5, color=ribbon_color[k][j]),\n",
    "                                          text=texti,\n",
    "                                          hoverinfo='text'\n",
    "                                          )\n",
    "                               ),\n",
    "            ribbon_info.append(go.Scatter(x=[zf.real],\n",
    "                                          y=[zf.imag],\n",
    "                                          mode='markers',\n",
    "                                          showlegend = False,\n",
    "                                          marker=dict(\n",
    "                                              size=0.5, color=ribbon_color[k][j]),\n",
    "                                          text=textf,\n",
    "                                          hoverinfo='text'\n",
    "                                          )\n",
    "                               )\n",
    "            # IMPORTANT!!!  Reverse these arc ends because otherwise you get\n",
    "            r = (r[1], r[0])\n",
    "            # a twisted ribbon\n",
    "            # print(make_ribbon(\n",
    "            #     l, r, 'rgb(175,175,175)', ribbon_color[k][j]))\n",
    "            #append the ribbon shape\n",
    "            layout['shapes'] = layout['shapes'] + (make_ribbon(\n",
    "                l, r, 'rgb(139,137,137)', ribbon_color[k][j]),)\n"
   ]
  },
  {
   "cell_type": "code",
   "execution_count": 355,
   "metadata": {},
   "outputs": [
    {
     "name": "stderr",
     "output_type": "stream",
     "text": [
      "/opt/anaconda3/lib/python3.9/site-packages/plotly/graph_objs/_deprecations.py:31: DeprecationWarning:\n",
      "\n",
      "plotly.graph_objs.Data is deprecated.\n",
      "Please replace it with a list or tuple of instances of the following types\n",
      "  - plotly.graph_objs.Scatter\n",
      "  - plotly.graph_objs.Bar\n",
      "  - plotly.graph_objs.Area\n",
      "  - plotly.graph_objs.Histogram\n",
      "  - etc.\n",
      "\n",
      "\n"
     ]
    },
    {
     "data": {
      "application/vnd.plotly.v1+json": {
       "config": {
        "plotlyServerURL": "https://plot.ly"
       },
       "data": [
        {
         "hoverinfo": "text",
         "line": {
          "color": "rgba(187, 255, 255, 0.75)",
          "shape": "spline",
          "width": 1
         },
         "mode": "lines",
         "name": "Drama",
         "showlegend": true,
         "text": "Drama<br>4869",
         "type": "scatter",
         "x": [
          1.1,
          1.0997721189796579,
          1.0990885703363753,
          1.0979496372842656,
          1.0963557917164672,
          1.0943076940096241,
          1.0918061927502731,
          1.0888523243832493,
          1.085447312782257,
          1.0815925687427836,
          1.0772896893975652,
          1.0725404575548483,
          1.0673468409597202,
          1.0617109914788159,
          1.0556352442087351,
          1.0491221165085463,
          1.0421743069567686,
          1.034794694233275,
          1.0269863359265692,
          1.0187524672669386,
          1.0100964997860045,
          1.0010220199032238,
          0.9915327874399328,
          0.9816327340615424,
          0.971325961648535,
          0.9606167405969358,
          0.9495095080489635,
          0.9380088660545932,
          0.9261195796647925,
          0.9138465749572228,
          0.9011949369952208,
          0.8881699077209103,
          0.8747768837833111,
          0.8610214143023509,
          0.8469091985697038,
          0.832446083687407,
          0.8176380621452363,
          0.802491269337843,
          0.7870119810226814,
          0.7712066107197798,
          0.7550817070544317,
          0.7386439510439099,
          0.7219001533293273,
          0.7048572513537883,
          0.6875223064880053,
          0.6699025011045665,
          0.6520051356020704,
          0.6338376253803572,
          0.6154074977680928,
          0.5967223889039782,
          0.5777900405728734,
          0.5586182969981517,
          0.5392151015916081,
          0.5195884936622746,
          0.49974660508549745,
          0.47969765693366656,
          0.4594499560699852,
          0.4390118917066936,
          0.41839193192917584,
          0.39759862018738334,
          0.37664057175603644,
          0.3555264701650636,
          0.334265063601764,
          0.31286516128617614,
          0.2913356298211641,
          0.26968538951872345,
          0.24792341070403717,
          0.22605870999880937,
          0.2041003465854144,
          0.18205741845341586,
          0.1599390586300024,
          0.13775443139591065,
          0.11551272848839471
         ],
         "y": [
          0,
          0.022389424177359094,
          0.044769571764124716,
          0.06713117001326506,
          0.08946495386327923,
          0.11176166977698204,
          0.13401207957551406,
          0.15620696426598812,
          0.17833712786118672,
          0.20039340118972726,
          0.2223666456951169,
          0.24424775722212275,
          0.26602766978888837,
          0.2876973593432344,
          0.30924784750158596,
          0.3306702052689788,
          0.3519555567386016,
          0.37309508276934306,
          0.3940800246398187,
          0.4149016876773644,
          0.4355514448604925,
          0.4560207403933182,
          0.47630109325047454,
          0.4963841006910489,
          0.5162614417400829,
          0.5359248806361949,
          0.5553662702438955,
          0.5745775554291835,
          0.5935507763970226,
          0.6122780719893154,
          0.6307516829420118,
          0.6489639550999962,
          0.6669073425884287,
          0.6845744109392197,
          0.7019578401713469,
          0.7190504278237366,
          0.7358450919394537,
          0.7523348739999615,
          0.7685129418082396,
          0.7843725923195622,
          0.7999072544187642,
          0.815110491642846,
          0.829976004847787,
          0.8444976348184658,
          0.8586693648206006,
          0.872485323093659,
          0.8859397852836985,
          0.8990271768151341,
          0.9117420752004456,
          0.924079212286874,
          0.9360334764391697,
          0.9475999146574914,
          0.9587737346295797,
          0.9695503067163502,
          0.9799251658700883,
          0.9898940134844489,
          0.999452719175494,
          1.0085973224930307,
          1.0173240345615413,
          1.0256292396500255,
          1.0335094966701013,
          1.0409615406017507,
          1.0479822838461101,
          1.054568817504754,
          1.0607184125849356,
          1.0664285211302886,
          1.0716967772765194,
          1.0765209982316528,
          1.0808991851804284,
          1.0848295241124655,
          1.088310386573862,
          1.0913403303419102,
          1.093918100022651
         ]
        },
        {
         "hoverinfo": "text",
         "line": {
          "color": "rgba(127, 255, 212, 0.75)",
          "shape": "spline",
          "width": 1
         },
         "mode": "lines",
         "name": "Comedy",
         "showlegend": true,
         "text": "Comedy<br>2070",
         "type": "scatter",
         "x": [
          0.08109493203888066,
          0.05819237966947689,
          0.03526449975726029,
          0.012321271389929188,
          -0.010627319664585756,
          -0.033571285304307225,
          -0.05650063944041505,
          -0.0794054023435724,
          -0.10227560498748554,
          -0.1251012933878028,
          -0.14787253293446911,
          -0.17057941271564672,
          -0.19321204983132295,
          -0.21576059369472356,
          -0.238215230319665,
          -0.26056618659197495,
          -0.28280373452312435,
          -0.30491819548421956,
          -0.3268999444185097,
          -0.34873941403057906,
          -0.37042709895039927,
          -0.39195355987042785,
          -0.41330942765395545,
          -0.43448540741291153,
          -0.45547228255335354,
          -0.47626091878688087,
          -0.49684226810622545,
          -0.5172073727232879,
          -0.5373473689679111,
          -0.5572534911456853
         ],
         "y": [
          1.0970066599604622,
          1.0984596701510727,
          1.099434588803204,
          1.09993099159508,
          1.099948662473275,
          1.0994875937467494,
          1.0985479860901954,
          1.0971302484566978,
          1.0952349978997402,
          1.092863059304641,
          1.0900154650295308,
          1.0866934544560325,
          1.0828984734498328,
          1.0786321737313886,
          1.0738964121570336,
          1.0686932499108042,
          1.0630249516073338,
          1.0568939843062064,
          1.050303016438197,
          1.0432549166438703,
          1.0357527525250374,
          1.02779978930962,
          1.0193994884304975,
          1.0105555060189602,
          1.0012716913134208,
          0.9915520849840801,
          0.9814009173742716,
          0.9708226066592569,
          0.9598217569232653,
          0.9484031561556223
         ]
        },
        {
         "hoverinfo": "text",
         "line": {
          "color": "rgba(155, 205, 155, 0.75)",
          "shape": "spline",
          "width": 1
         },
         "mode": "lines",
         "name": "Action",
         "showlegend": true,
         "text": "Action<br>2715",
         "type": "scatter",
         "x": [
          -0.5867685832337602,
          -0.6058079481860765,
          -0.6245902869773375,
          -0.6431076308239547,
          -0.6613521233717549,
          -0.6793160240291956,
          -0.696991711251467,
          -0.7143716857740835,
          -0.7314485737945982,
          -0.7482151301010854,
          -0.7646642411460681,
          -0.7807889280645819,
          -0.7965823496350989,
          -0.8120378051820527,
          -0.8271487374187351,
          -0.8419087352293552,
          -0.8563115363890841,
          -0.8703510302209304,
          -0.884021260188316,
          -0.8973164264222557,
          -0.9102308881820699,
          -0.9227591662485797,
          -0.9348959452487768,
          -0.9466360759109764,
          -0.9579745772494992,
          -0.9689066386779537,
          -0.9794276220502255,
          -0.9895330636283013,
          -0.9992186759761014,
          -1.008480349778509,
          -1.0173141555848308,
          -1.025716345475943,
          -1.0336833546544235,
          -1.0412118029569872,
          -1.0482984962885884,
          -1.0549404279775803,
          -1.0611347800513533,
          -1.06687892443192,
          -1.0721704240509264,
          -1.07700703388363
         ],
         "y": [
          0.9304314212932869,
          0.9181485336886271,
          0.905476103170905,
          0.8924195062726947,
          0.8789842825168556,
          0.8651761320662781,
          0.8510009133054747,
          0.8364646403550446,
          0.821573480520062,
          0.8063337516734717,
          0.7907519195756074,
          0.7748345951309618,
          0.7585885315833778,
          0.7420206216508506,
          0.7251378946011529,
          0.7079475132695275,
          0.6904567710197117,
          0.6726730886495795,
          0.6546040112427223,
          0.6362572049672937,
          0.617640453823485,
          0.5987616563410071,
          0.579628822227981,
          0.5602500689726582,
          0.5406336183994143,
          0.5207877931804752,
          0.5007210133048553,
          0.48044179250601055,
          0.45995873464971515,
          0.43928053008369944,
          0.4184159519505954,
          0.39737385246575563,
          0.3761631591615232,
          0.3547928710995474,
          0.33327205505275165,
          0.31160984165857164,
          0.289815421545104,
          0.2678980414317919,
          0.24586700020632427,
          0.2237316449793938
         ]
        },
        {
         "hoverinfo": "text",
         "line": {
          "color": "rgba(217, 239, 139, 0.75)",
          "shape": "spline",
          "width": 1
         },
         "mode": "lines",
         "name": "Romance",
         "showlegend": true,
         "text": "Romance<br>1335",
         "type": "scatter",
         "x": [
          -1.0835031767253271,
          -1.087465186699574,
          -1.090886608152932,
          -1.093765740266666,
          -1.0961011517988482,
          -1.0978916817958393,
          -1.0991364401694097,
          -1.0998348081392102,
          -1.099986438540373,
          -1.09959125599609,
          -1.0986494569550849,
          -1.0971615095939542,
          -1.0951281535844344,
          -1.0925503997257044,
          -1.0894295294419083,
          -1.085767094145147,
          -1.0815649144642594,
          -1.0768250793397707
         ],
         "y": [
          0.18979163845155284,
          0.16558824751914275,
          0.14130254121066516,
          0.11694659216459496,
          0.09253250793768909,
          0.06807242498621484,
          0.04357850263281197,
          0.019062917021983497,
          -0.005462144932771476,
          -0.029984491607178414,
          -0.054491932726754,
          -0.07897228542669749,
          -0.10341338030809864,
          -0.12780306748745643,
          -0.15212922263648934,
          -0.17637975300924902,
          -0.20054260345352942,
          -0.22460576240358762
         ]
        },
        {
         "hoverinfo": "text",
         "line": {
          "color": "rgba(255, 246, 143, 0.75)",
          "shape": "spline",
          "width": 1
         },
         "mode": "lines",
         "name": "Adventure",
         "showlegend": true,
         "text": "Adventure<br>2207",
         "type": "scatter",
         "x": [
          -1.0692386936760319,
          -1.063613574443173,
          -1.057524962845601,
          -1.050975512126049,
          -1.043968076347754,
          -1.0365057091507388,
          -1.028591662421122,
          -1.0202293848740402,
          -1.011422520550795,
          -1.0021749072308856,
          -0.9924905747596134,
          -0.9823737432919912,
          -0.9718288214537198,
          -0.9608604044200364,
          -0.9494732719132668,
          -0.9376723861199602,
          -0.9254628895285105,
          -0.9128501026882067,
          -0.8998395218906893,
          -0.8864368167748247,
          -0.8726478278560373,
          -0.858478563981182,
          -0.8439351997100589,
          -0.829024072624717,
          -0.8137516805677183,
          -0.798124678810563,
          -0.7821498771535131,
          -0.7658342369580758,
          -0.7491848681134422,
          -0.7322090259381997,
          -0.7149141080186732,
          -0.6973076509852661
         ],
         "y": [
          -0.2583188261547603,
          -0.28058183166451994,
          -0.30272256763976196,
          -0.32473138578121663,
          -0.3465986952756322,
          -0.3683149669751753,
          -0.3898707375499636,
          -0.4112566136119124,
          -0.4324632758081048,
          -0.4534814828818991,
          -0.47430207570000416,
          -0.49491598124376746,
          -0.5153142165629374,
          -0.5354878926901748,
          -0.5554282185146125,
          -0.5751265046127683,
          -0.5945741670351481,
          -0.6137627310468851,
          -0.6326838348207862,
          -0.6513292330811784,
          -0.6696908006969635,
          -0.687760536222316,
          -0.7055305653834874,
          -0.722993144510187,
          -0.7401406639100533,
          -0.7569656511847388,
          -0.773460774486169,
          -0.7896188457115508,
          -0.8054328236357421,
          -0.820895816979617,
          -0.8360010874130878,
          -0.8507420524914767
         ]
        },
        {
         "hoverinfo": "text",
         "line": {
          "color": "rgba(255, 193, 193, 0.75)",
          "shape": "spline",
          "width": 1
         },
         "mode": "lines",
         "name": "Crime",
         "showlegend": true,
         "text": "Crime<br>2225",
         "type": "scatter",
         "x": [
          -0.6702411181045494,
          -0.6517300653973628,
          -0.6329301292708648,
          -0.6138496429140863,
          -0.5944970638716958,
          -0.574880970295146,
          -0.5550100571403491,
          -0.5348931323135862,
          -0.5145391127673495,
          -0.4939570205478435,
          -0.4731559787959081,
          -0.45214520770313305,
          -0.43093402042494366,
          -0.4095318189524941,
          -0.3879480899451696,
          -0.3661924005255683,
          -0.3442743940388169,
          -0.3222037857780919,
          -0.29999035867826207,
          -0.27764395897953525,
          -0.2551744918630538,
          -0.2325919170603638,
          -0.20990624443869557,
          -0.18712752956403494,
          -0.16426586924392422,
          -0.14133139705199213,
          -0.11833427883618697,
          -0.09528470821269423,
          -0.07219290204756038,
          -0.0490690959279964,
          -0.02592353962539285,
          -0.0027664925520475576
         ],
         "y": [
          -0.8722252252726721,
          -0.8861421566865835,
          -0.8996663000586198,
          -0.9127916607278185,
          -0.9255124207961409,
          -0.9378229417072883,
          -0.94971776674603,
          -0.9611916234569258,
          -0.9722394259813726,
          -0.9828562773119464,
          -0.9930374714630291,
          -1.002778495556766,
          -1.0120750318234288,
          -1.0209229595152918,
          -1.0293183567331803,
          -1.037257502164878,
          -1.0447368767346186,
          -1.0517531651629415,
          -1.0583032574362075,
          -1.0643842501851342,
          -1.0699934479717306,
          -1.0751283644840672,
          -1.07978672363835,
          -1.0839664605878088,
          -1.087665722637952,
          -1.090882870067787,
          -1.0936164768566354,
          -1.095865331316226,
          -1.0976284366277833,
          -1.0989050112838732,
          -1.0996944894348115,
          -1.0999965211394807
         ]
        },
        {
         "hoverinfo": "text",
         "line": {
          "color": "rgba(255, 130, 71, 0.75)",
          "shape": "spline",
          "width": 1
         },
         "mode": "lines",
         "name": "Thriller",
         "showlegend": true,
         "text": "Thriller<br>1301",
         "type": "scatter",
         "x": [
          0.03178659825731681,
          0.05561693385615371,
          0.07942112569216775,
          0.10318798416711343,
          0.12690633723197545,
          0.15056503563860169,
          0.1741529581806085,
          0.1976590169211093,
          0.22107216240480326,
          0.24438138885197605,
          0.26757573933196505,
          0.29064431091367215,
          0.313576259790683,
          0.3363608063785987,
          0.35898724038217794,
          0.3814449258299089,
          0.40372330607363993,
          0.4258119087509314
         ],
         "y": [
          -1.0995406368894367,
          -1.0985930805664308,
          -1.0971291103574772,
          -1.0951494144287015,
          -1.0926549233725917,
          -1.0896468097705545,
          -1.0861264876417218,
          -1.0820956117782665,
          -1.0775560769675352,
          -1.0725100171013693,
          -1.0669598041730308,
          -1.0609080471622019,
          -1.0543575908085863,
          -1.0473115142746876,
          -1.0397731296983916,
          -1.031745980636036,
          -1.0232338403966956,
          -1.014240710268469
         ]
        },
        {
         "hoverinfo": "text",
         "line": {
          "color": "rgba(255, 48, 48, 0.75)",
          "shape": "spline",
          "width": 1
         },
         "mode": "lines",
         "name": "Horror",
         "showlegend": true,
         "text": "Horror<br>1836",
         "type": "scatter",
         "x": [
          0.45745986687588264,
          0.47868502802462365,
          0.49969255387405564,
          0.5204728933020228,
          0.5410165984772248,
          0.5613143291546927,
          0.5813568569223555,
          0.601135069396756,
          0.6206399743660237,
          0.6398627038782025,
          0.6587945182730844,
          0.677426810155721,
          0.6957511083097945,
          0.7137590815490764,
          0.7314425425052199,
          0.7487934513501704,
          0.7658039194514895,
          0.7824662129589429,
          0.7987727563207101,
          0.8147161357276325,
          0.8302891024839167,
          0.8454845763027703,
          0.8602956485254746,
          0.8747155852624205,
          0.8887378304546875,
          0.9023560088547734
         ],
         "y": [
          -1.0003651684249606,
          -0.9903840891013271,
          -0.9799527292695419,
          -0.9690758315724428,
          -0.9577583412177277,
          -0.9460054037296074,
          -0.9338223626093777,
          -0.9212147569059874,
          -0.9081883186976926,
          -0.8947489704859547,
          -0.8809028225027633,
          -0.8666561699326008,
          -0.8520154900503235,
          -0.836987439276253,
          -0.8215788501498197,
          -0.8057967282231296,
          -0.7896482488758755,
          -0.7731407540530317,
          -0.7562817489268241,
          -0.7390788984844813,
          -0.721540024043332,
          -0.7036730996948264,
          -0.6854862486790916,
          -0.6669877396916838,
          -0.6481859831242075,
          -0.6290895272405067
         ]
        },
        {
         "hoverinfo": "text",
         "line": {
          "color": "rgba(255, 20, 147, 0.75)",
          "shape": "spline",
          "width": 1
         },
         "mode": "lines",
         "name": "Mystery",
         "showlegend": true,
         "text": "Mystery<br>949",
         "type": "scatter",
         "x": [
          0.9216709302145092,
          0.9344804514253365,
          0.9468500859137153,
          0.9587740109382872,
          0.9702466135659089,
          0.9812624933138198,
          0.9918164646918047,
          1.0019035596431527,
          1.0115190298832624,
          1.0206583491347976,
          1.0293172152583345,
          1.0374915522775017,
          1.0451775122976603
         ],
         "y": [
          -0.6004354223374246,
          -0.5802984455466854,
          -0.559888305651395,
          -0.539214610289177,
          -0.5182870911607639,
          -0.4971155994490074,
          -0.4757101011816443,
          -0.45408067254000095,
          -0.4322374951158492,
          -0.4101908511186344,
          -0.38795111853534836,
          -0.3655287662453124,
          -0.34293434909217624
         ]
        },
        {
         "hoverinfo": "text",
         "line": {
          "color": "rgba(72, 118, 255, 0.75)",
          "shape": "spline",
          "width": 1
         },
         "mode": "lines",
         "name": "Sci-Fi",
         "showlegend": true,
         "text": "Sci-Fi<br>929",
         "type": "scatter",
         "x": [
          1.0554336085071954,
          1.062313784958855,
          1.068626628453492,
          1.0743687675916023,
          1.0795371357606436,
          1.0841289727727716,
          1.088141826338929,
          1.0915735533785005,
          1.094422321163834,
          1.0966866082990154,
          1.0983652055323776,
          1.0994572164023046
         ],
         "y": [
          -0.309935312659723,
          -0.2854635218138937,
          -0.2608392780240783,
          -0.2360757319668882,
          -0.21118610871386806,
          -0.18618370066860085,
          -0.1610818604678383,
          -0.13589399385047932,
          -0.1106335524981734,
          -0.08531402685140341,
          -0.05994893890485392,
          -0.03455183498594315
         ]
        },
        {
         "hoverinfo": "text",
         "marker": {
          "color": "rgba(187, 255, 255, 0.75)",
          "size": 0.5
         },
         "mode": "markers",
         "showlegend": false,
         "text": [
          "Drama genre has 547 occurences with Comedy genre"
         ],
         "type": "scatter",
         "x": [
          0.8123359937283062
         ],
         "y": [
          0.38744061905464333
         ]
        },
        {
         "hoverinfo": "text",
         "marker": {
          "color": "rgba(187, 255, 255, 0.75)",
          "size": 0.5
         },
         "mode": "markers",
         "showlegend": false,
         "text": [
          "Comedy genre has 547 occurences with Drama genre"
         ],
         "type": "scatter",
         "x": [
          -0.392515118090165
         ],
         "y": [
          0.8098962168516802
         ]
        },
        {
         "hoverinfo": "text",
         "marker": {
          "color": "rgba(187, 255, 255, 0.75)",
          "size": 0.5
         },
         "mode": "markers",
         "showlegend": false,
         "text": [
          "Drama genre has 574 occurences with Action genre"
         ],
         "type": "scatter",
         "x": [
          0.7357455779421533
         ],
         "y": [
          0.5183420150234465
         ]
        },
        {
         "hoverinfo": "text",
         "marker": {
          "color": "rgba(187, 255, 255, 0.75)",
          "size": 0.5
         },
         "mode": "markers",
         "showlegend": false,
         "text": [
          "Action genre has 574 occurences with Drama genre"
         ],
         "type": "scatter",
         "x": [
          -0.7781370930777294
         ],
         "y": [
          0.45221970808064216
         ]
        },
        {
         "hoverinfo": "text",
         "marker": {
          "color": "rgba(187, 255, 255, 0.75)",
          "size": 0.5
         },
         "mode": "markers",
         "showlegend": false,
         "text": [
          "Drama genre has 606 occurences with Romance genre"
         ],
         "type": "scatter",
         "x": [
          0.6326030395432471
         ],
         "y": [
          0.6401666926361015
         ]
        },
        {
         "hoverinfo": "text",
         "marker": {
          "color": "rgba(187, 255, 255, 0.75)",
          "size": 0.5
         },
         "mode": "markers",
         "showlegend": false,
         "text": [
          "Romance genre has 606 occurences with Drama genre"
         ],
         "type": "scatter",
         "x": [
          -0.8935703494165316
         ],
         "y": [
          -0.10738729274740873
         ]
        },
        {
         "hoverinfo": "text",
         "marker": {
          "color": "rgba(187, 255, 255, 0.75)",
          "size": 0.5
         },
         "mode": "markers",
         "showlegend": false,
         "text": [
          "Drama genre has 500 occurences with Adventure genre"
         ],
         "type": "scatter",
         "x": [
          0.8630705773344924
         ],
         "y": [
          0.2551650025757959
         ]
        },
        {
         "hoverinfo": "text",
         "marker": {
          "color": "rgba(187, 255, 255, 0.75)",
          "size": 0.5
         },
         "mode": "markers",
         "showlegend": false,
         "text": [
          "Adventure genre has 500 occurences with Drama genre"
         ],
         "type": "scatter",
         "x": [
          -0.7546327061627291
         ],
         "y": [
          -0.49043804786080397
         ]
        },
        {
         "hoverinfo": "text",
         "marker": {
          "color": "rgba(187, 255, 255, 0.75)",
          "size": 0.5
         },
         "mode": "markers",
         "showlegend": false,
         "text": [
          "Drama genre has 851 occurences with Crime genre"
         ],
         "type": "scatter",
         "x": [
          0.478200099380294
         ],
         "y": [
          0.7624464997314087
         ]
        },
        {
         "hoverinfo": "text",
         "marker": {
          "color": "rgba(187, 255, 255, 0.75)",
          "size": 0.5
         },
         "mode": "markers",
         "showlegend": false,
         "text": [
          "Crime genre has 851 occurences with Drama genre"
         ],
         "type": "scatter",
         "x": [
          -0.11428756610244929
         ],
         "y": [
          -0.8927140372114568
         ]
        },
        {
         "hoverinfo": "text",
         "marker": {
          "color": "rgba(187, 255, 255, 0.75)",
          "size": 0.5
         },
         "mode": "markers",
         "showlegend": false,
         "text": [
          "Drama genre has 316 occurences with Thriller genre"
         ],
         "type": "scatter",
         "x": [
          0.8878282863517801
         ],
         "y": [
          0.14751587695452148
         ]
        },
        {
         "hoverinfo": "text",
         "marker": {
          "color": "rgba(187, 255, 255, 0.75)",
          "size": 0.5
         },
         "mode": "markers",
         "showlegend": false,
         "text": [
          "Thriller genre has 316 occurences with Drama genre"
         ],
         "type": "scatter",
         "x": [
          0.31090928013536145
         ],
         "y": [
          -0.8445918656521098
         ]
        },
        {
         "hoverinfo": "text",
         "marker": {
          "color": "rgba(187, 255, 255, 0.75)",
          "size": 0.5
         },
         "mode": "markers",
         "showlegend": false,
         "text": [
          "Drama genre has 1086 occurences with Horror genre"
         ],
         "type": "scatter",
         "x": [
          0.23888793188356247
         ],
         "y": [
          0.8677168639598948
         ]
        },
        {
         "hoverinfo": "text",
         "marker": {
          "color": "rgba(187, 255, 255, 0.75)",
          "size": 0.5
         },
         "mode": "markers",
         "showlegend": false,
         "text": [
          "Horror genre has 1086 occurences with Drama genre"
         ],
         "type": "scatter",
         "x": [
          0.6483226323675914
         ],
         "y": [
          -0.6242417515353783
         ]
        },
        {
         "hoverinfo": "text",
         "marker": {
          "color": "rgba(187, 255, 255, 0.75)",
          "size": 0.5
         },
         "mode": "markers",
         "showlegend": false,
         "text": [
          "Drama genre has 280 occurences with Mystery genre"
         ],
         "type": "scatter",
         "x": [
          0.8974732993102843
         ],
         "y": [
          0.0673919655827967
         ]
        },
        {
         "hoverinfo": "text",
         "marker": {
          "color": "rgba(187, 255, 255, 0.75)",
          "size": 0.5
         },
         "mode": "markers",
         "showlegend": false,
         "text": [
          "Mystery genre has 280 occurences with Drama genre"
         ],
         "type": "scatter",
         "x": [
          0.8437401802836454
         ],
         "y": [
          -0.3132131992348368
         ]
        },
        {
         "hoverinfo": "text",
         "marker": {
          "color": "rgba(187, 255, 255, 0.75)",
          "size": 0.5
         },
         "mode": "markers",
         "showlegend": false,
         "text": [
          "Drama genre has 109 occurences with Sci-Fi genre"
         ],
         "type": "scatter",
         "x": [
          0.8998789006857251
         ],
         "y": [
          0.01476360730482521
         ]
        },
        {
         "hoverinfo": "text",
         "marker": {
          "color": "rgba(187, 255, 255, 0.75)",
          "size": 0.5
         },
         "mode": "markers",
         "showlegend": false,
         "text": [
          "Sci-Fi genre has 109 occurences with Drama genre"
         ],
         "type": "scatter",
         "x": [
          0.8802342234870004
         ],
         "y": [
          -0.18758387937730017
         ]
        },
        {
         "hoverinfo": "text",
         "marker": {
          "color": "rgba(127, 255, 212, 0.75)",
          "size": 0.5
         },
         "mode": "markers",
         "showlegend": false,
         "text": [
          "Comedy genre has 280 occurences with Action genre"
         ],
         "type": "scatter",
         "x": [
          -0.10120199507556707
         ],
         "y": [
          0.8942919859826124
         ]
        },
        {
         "hoverinfo": "text",
         "marker": {
          "color": "rgba(127, 255, 212, 0.75)",
          "size": 0.5
         },
         "mode": "markers",
         "showlegend": false,
         "text": [
          "Action genre has 280 occurences with Comedy genre"
         ],
         "type": "scatter",
         "x": [
          -0.6468839739412835
         ],
         "y": [
          0.6257324701962755
         ]
        },
        {
         "hoverinfo": "text",
         "marker": {
          "color": "rgba(127, 255, 212, 0.75)",
          "size": 0.5
         },
         "mode": "markers",
         "showlegend": false,
         "text": [
          "Comedy genre has 370 occurences with Romance genre"
         ],
         "type": "scatter",
         "x": [
          -0.18556772502615734
         ],
         "y": [
          0.8806614669829812
         ]
        },
        {
         "hoverinfo": "text",
         "marker": {
          "color": "rgba(127, 255, 212, 0.75)",
          "size": 0.5
         },
         "mode": "markers",
         "showlegend": false,
         "text": [
          "Romance genre has 370 occurences with Comedy genre"
         ],
         "type": "scatter",
         "x": [
          -0.8998383945541131
         ],
         "y": [
          0.01705472621522775
         ]
        },
        {
         "hoverinfo": "text",
         "marker": {
          "color": "rgba(127, 255, 212, 0.75)",
          "size": 0.5
         },
         "mode": "markers",
         "showlegend": false,
         "text": [
          "Comedy genre has 375 occurences with Adventure genre"
         ],
         "type": "scatter",
         "x": [
          -0.28016105512440004
         ],
         "y": [
          0.855283451957059
         ]
        },
        {
         "hoverinfo": "text",
         "marker": {
          "color": "rgba(127, 255, 212, 0.75)",
          "size": 0.5
         },
         "mode": "markers",
         "showlegend": false,
         "text": [
          "Adventure genre has 375 occurences with Comedy genre"
         ],
         "type": "scatter",
         "x": [
          -0.8111749850748939
         ],
         "y": [
          -0.38986554552658986
         ]
        },
        {
         "hoverinfo": "text",
         "marker": {
          "color": "rgba(127, 255, 212, 0.75)",
          "size": 0.5
         },
         "mode": "markers",
         "showlegend": false,
         "text": [
          "Comedy genre has 259 occurences with Crime genre"
         ],
         "type": "scatter",
         "x": [
          -0.030518139173424844
         ],
         "y": [
          0.8994824307241311
         ]
        },
        {
         "hoverinfo": "text",
         "marker": {
          "color": "rgba(127, 255, 212, 0.75)",
          "size": 0.5
         },
         "mode": "markers",
         "showlegend": false,
         "text": [
          "Crime genre has 259 occurences with Comedy genre"
         ],
         "type": "scatter",
         "x": [
          -0.4174106997912298
         ],
         "y": [
          -0.7973508059190734
         ]
        },
        {
         "hoverinfo": "text",
         "marker": {
          "color": "rgba(127, 255, 212, 0.75)",
          "size": 0.5
         },
         "mode": "markers",
         "showlegend": false,
         "text": [
          "Comedy genre has 26 occurences with Thriller genre"
         ],
         "type": "scatter",
         "x": [
          0.06293955865507889
         ],
         "y": [
          0.8977965314904619
         ]
        },
        {
         "hoverinfo": "text",
         "marker": {
          "color": "rgba(127, 255, 212, 0.75)",
          "size": 0.5
         },
         "mode": "markers",
         "showlegend": false,
         "text": [
          "Thriller genre has 26 occurences with Comedy genre"
         ],
         "type": "scatter",
         "x": [
          0.02932036612629539
         ],
         "y": [
          -0.899522271058488
         ]
        },
        {
         "hoverinfo": "text",
         "marker": {
          "color": "rgba(127, 255, 212, 0.75)",
          "size": 0.5
         },
         "mode": "markers",
         "showlegend": false,
         "text": [
          "Comedy genre has 89 occurences with Horror genre"
         ],
         "type": "scatter",
         "x": [
          0.015246317580463917
         ],
         "y": [
          0.8998708517338672
         ]
        },
        {
         "hoverinfo": "text",
         "marker": {
          "color": "rgba(127, 255, 212, 0.75)",
          "size": 0.5
         },
         "mode": "markers",
         "showlegend": false,
         "text": [
          "Horror genre has 89 occurences with Comedy genre"
         ],
         "type": "scatter",
         "x": [
          0.43277273763366425
         ],
         "y": [
          -0.7891183419241145
         ]
        },
        {
         "hoverinfo": "text",
         "marker": {
          "color": "rgba(127, 255, 212, 0.75)",
          "size": 0.5
         },
         "mode": "markers",
         "showlegend": false,
         "text": [
          "Comedy genre has 52 occurences with Mystery genre"
         ],
         "type": "scatter",
         "x": [
          0.05270178279383671
         ],
         "y": [
          0.8984556316760173
         ]
        },
        {
         "hoverinfo": "text",
         "marker": {
          "color": "rgba(127, 255, 212, 0.75)",
          "size": 0.5
         },
         "mode": "markers",
         "showlegend": false,
         "text": [
          "Mystery genre has 52 occurences with Comedy genre"
         ],
         "type": "scatter",
         "x": [
          0.7750513790955686
         ],
         "y": [
          -0.4574880979457905
         ]
        },
        {
         "hoverinfo": "text",
         "marker": {
          "color": "rgba(127, 255, 212, 0.75)",
          "size": 0.5
         },
         "mode": "markers",
         "showlegend": false,
         "text": [
          "Comedy genre has 72 occurences with Sci-Fi genre"
         ],
         "type": "scatter",
         "x": [
          0.03641278668537353
         ],
         "y": [
          0.8992630921848208
         ]
        },
        {
         "hoverinfo": "text",
         "marker": {
          "color": "rgba(127, 255, 212, 0.75)",
          "size": 0.5
         },
         "mode": "markers",
         "showlegend": false,
         "text": [
          "Sci-Fi genre has 72 occurences with Comedy genre"
         ],
         "type": "scatter",
         "x": [
          0.8753193967864835
         ],
         "y": [
          -0.20932260654154566
         ]
        },
        {
         "hoverinfo": "text",
         "marker": {
          "color": "rgba(155, 205, 155, 0.75)",
          "size": 0.5
         },
         "mode": "markers",
         "showlegend": false,
         "text": [
          "Action genre has 66 occurences with Romance genre"
         ],
         "type": "scatter",
         "x": [
          -0.49596876930630335
         ],
         "y": [
          0.7510093074475115
         ]
        },
        {
         "hoverinfo": "text",
         "marker": {
          "color": "rgba(155, 205, 155, 0.75)",
          "size": 0.5
         },
         "mode": "markers",
         "showlegend": false,
         "text": [
          "Romance genre has 66 occurences with Action genre"
         ],
         "type": "scatter",
         "x": [
          -0.8918020113893197
         ],
         "y": [
          0.12119889637271367
         ]
        },
        {
         "hoverinfo": "text",
         "marker": {
          "color": "rgba(155, 205, 155, 0.75)",
          "size": 0.5
         },
         "mode": "markers",
         "showlegend": false,
         "text": [
          "Action genre has 800 occurences with Adventure genre"
         ],
         "type": "scatter",
         "x": [
          -0.8534084987263054
         ],
         "y": [
          0.2858215077661472
         ]
        },
        {
         "hoverinfo": "text",
         "marker": {
          "color": "rgba(155, 205, 155, 0.75)",
          "size": 0.5
         },
         "mode": "markers",
         "showlegend": false,
         "text": [
          "Adventure genre has 800 occurences with Action genre"
         ],
         "type": "scatter",
         "x": [
          -0.6480578758319427
         ],
         "y": [
          -0.6245166047209557
         ]
        },
        {
         "hoverinfo": "text",
         "marker": {
          "color": "rgba(155, 205, 155, 0.75)",
          "size": 0.5
         },
         "mode": "markers",
         "showlegend": false,
         "text": [
          "Action genre has 392 occurences with Crime genre"
         ],
         "type": "scatter",
         "x": [
          -0.7057960982891498
         ],
         "y": [
          0.5584369862749179
         ]
        },
        {
         "hoverinfo": "text",
         "marker": {
          "color": "rgba(155, 205, 155, 0.75)",
          "size": 0.5
         },
         "mode": "markers",
         "showlegend": false,
         "text": [
          "Crime genre has 392 occurences with Action genre"
         ],
         "type": "scatter",
         "x": [
          -0.27424337211807137
         ],
         "y": [
          -0.8571992608777197
         ]
        },
        {
         "hoverinfo": "text",
         "marker": {
          "color": "rgba(155, 205, 155, 0.75)",
          "size": 0.5
         },
         "mode": "markers",
         "showlegend": false,
         "text": [
          "Action genre has 260 occurences with Thriller genre"
         ],
         "type": "scatter",
         "x": [
          -0.5948847477406871
         ],
         "y": [
          0.6753607457540741
         ]
        },
        {
         "hoverinfo": "text",
         "marker": {
          "color": "rgba(155, 205, 155, 0.75)",
          "size": 0.5
         },
         "mode": "markers",
         "showlegend": false,
         "text": [
          "Thriller genre has 260 occurences with Action genre"
         ],
         "type": "scatter",
         "x": [
          0.17581999234954745
         ],
         "y": [
          -0.8826592379226567
         ]
        },
        {
         "hoverinfo": "text",
         "marker": {
          "color": "rgba(155, 205, 155, 0.75)",
          "size": 0.5
         },
         "mode": "markers",
         "showlegend": false,
         "text": [
          "Action genre has 75 occurences with Horror genre"
         ],
         "type": "scatter",
         "x": [
          -0.5115257281125208
         ],
         "y": [
          0.740500796406699
         ]
        },
        {
         "hoverinfo": "text",
         "marker": {
          "color": "rgba(155, 205, 155, 0.75)",
          "size": 0.5
         },
         "mode": "markers",
         "showlegend": false,
         "text": [
          "Horror genre has 75 occurences with Action genre"
         ],
         "type": "scatter",
         "x": [
          0.4138642628472277
         ],
         "y": [
          -0.7991973297865308
         ]
        },
        {
         "hoverinfo": "text",
         "marker": {
          "color": "rgba(155, 205, 155, 0.75)",
          "size": 0.5
         },
         "mode": "markers",
         "showlegend": false,
         "text": [
          "Action genre has 38 occurences with Mystery genre"
         ],
         "type": "scatter",
         "x": [
          -0.4843554585317706
         ],
         "y": [
          0.758551112180635
         ]
        },
        {
         "hoverinfo": "text",
         "marker": {
          "color": "rgba(155, 205, 155, 0.75)",
          "size": 0.5
         },
         "mode": "markers",
         "showlegend": false,
         "text": [
          "Mystery genre has 38 occurences with Action genre"
         ],
         "type": "scatter",
         "x": [
          0.7637814370912986
         ],
         "y": [
          -0.4760650337451288
         ]
        },
        {
         "hoverinfo": "text",
         "marker": {
          "color": "rgba(155, 205, 155, 0.75)",
          "size": 0.5
         },
         "mode": "markers",
         "showlegend": false,
         "text": [
          "Action genre has 230 occurences with Sci-Fi genre"
         ],
         "type": "scatter",
         "x": [
          -0.5444070069205268
         ],
         "y": [
          0.7166735734041221
         ]
        },
        {
         "hoverinfo": "text",
         "marker": {
          "color": "rgba(155, 205, 155, 0.75)",
          "size": 0.5
         },
         "mode": "markers",
         "showlegend": false,
         "text": [
          "Sci-Fi genre has 230 occurences with Action genre"
         ],
         "type": "scatter",
         "x": [
          0.8982210791113746
         ],
         "y": [
          -0.05655875741207301
         ]
        },
        {
         "hoverinfo": "text",
         "marker": {
          "color": "rgba(217, 239, 139, 0.75)",
          "size": 0.5
         },
         "mode": "markers",
         "showlegend": false,
         "text": [
          "Romance genre has 109 occurences with Adventure genre"
         ],
         "type": "scatter",
         "x": [
          -0.8965999543103408
         ],
         "y": [
          0.07815703378900049
         ]
        },
        {
         "hoverinfo": "text",
         "marker": {
          "color": "rgba(217, 239, 139, 0.75)",
          "size": 0.5
         },
         "mode": "markers",
         "showlegend": false,
         "text": [
          "Adventure genre has 109 occurences with Romance genre"
         ],
         "type": "scatter",
         "x": [
          -0.8526702295094284
         ],
         "y": [
          -0.28801645735676096
         ]
        },
        {
         "hoverinfo": "text",
         "marker": {
          "color": "rgba(217, 239, 139, 0.75)",
          "size": 0.5
         },
         "mode": "markers",
         "showlegend": false,
         "text": [
          "Romance genre has 82 occurences with Crime genre"
         ],
         "type": "scatter",
         "x": [
          -0.8941514303216824
         ],
         "y": [
          0.10243641761448613
         ]
        },
        {
         "hoverinfo": "text",
         "marker": {
          "color": "rgba(217, 239, 139, 0.75)",
          "size": 0.5
         },
         "mode": "markers",
         "showlegend": false,
         "text": [
          "Crime genre has 82 occurences with Romance genre"
         ],
         "type": "scatter",
         "x": [
          -0.5235685637627209
         ],
         "y": [
          -0.7320354902868041
         ]
        },
        {
         "hoverinfo": "text",
         "marker": {
          "color": "rgba(217, 239, 139, 0.75)",
          "size": 0.5
         },
         "mode": "markers",
         "showlegend": false,
         "text": [
          "Romance genre has 26 occurences with Thriller genre"
         ],
         "type": "scatter",
         "x": [
          -0.88897934322395
         ],
         "y": [
          0.1404127035603067
         ]
        },
        {
         "hoverinfo": "text",
         "marker": {
          "color": "rgba(217, 239, 139, 0.75)",
          "size": 0.5
         },
         "mode": "markers",
         "showlegend": false,
         "text": [
          "Thriller genre has 26 occurences with Romance genre"
         ],
         "type": "scatter",
         "x": [
          0.03594542677211598
         ],
         "y": [
          -0.8992818947883753
         ]
        },
        {
         "hoverinfo": "text",
         "marker": {
          "color": "rgba(217, 239, 139, 0.75)",
          "size": 0.5
         },
         "mode": "markers",
         "showlegend": false,
         "text": [
          "Romance genre has 30 occurences with Horror genre"
         ],
         "type": "scatter",
         "x": [
          -0.8900675033520254
         ],
         "y": [
          0.13334106448012242
         ]
        },
        {
         "hoverinfo": "text",
         "marker": {
          "color": "rgba(217, 239, 139, 0.75)",
          "size": 0.5
         },
         "mode": "markers",
         "showlegend": false,
         "text": [
          "Horror genre has 30 occurences with Romance genre"
         ],
         "type": "scatter",
         "x": [
          0.37784641875576586
         ],
         "y": [
          -0.8168427534314315
         ]
        },
        {
         "hoverinfo": "text",
         "marker": {
          "color": "rgba(217, 239, 139, 0.75)",
          "size": 0.5
         },
         "mode": "markers",
         "showlegend": false,
         "text": [
          "Romance genre has 25 occurences with Mystery genre"
         ],
         "type": "scatter",
         "x": [
          -0.8879394553733975
         ],
         "y": [
          0.14684523686927806
         ]
        },
        {
         "hoverinfo": "text",
         "marker": {
          "color": "rgba(217, 239, 139, 0.75)",
          "size": 0.5
         },
         "mode": "markers",
         "showlegend": false,
         "text": [
          "Mystery genre has 25 occurences with Romance genre"
         ],
         "type": "scatter",
         "x": [
          0.7557747080031008
         ],
         "y": [
          -0.48867636605715636
         ]
        },
        {
         "hoverinfo": "text",
         "marker": {
          "color": "rgba(217, 239, 139, 0.75)",
          "size": 0.5
         },
         "mode": "markers",
         "showlegend": false,
         "text": [
          "Romance genre has 21 occurences with Sci-Fi genre"
         ],
         "type": "scatter",
         "x": [
          -0.8869615924930306
         ],
         "y": [
          0.15264053669398228
         ]
        },
        {
         "hoverinfo": "text",
         "marker": {
          "color": "rgba(217, 239, 139, 0.75)",
          "size": 0.5
         },
         "mode": "markers",
         "showlegend": false,
         "text": [
          "Sci-Fi genre has 21 occurences with Romance genre"
         ],
         "type": "scatter",
         "x": [
          0.8642616237878821
         ],
         "y": [
          -0.2511012657226832
         ]
        },
        {
         "hoverinfo": "text",
         "marker": {
          "color": "rgba(255, 246, 143, 0.75)",
          "size": 0.5
         },
         "mode": "markers",
         "showlegend": false,
         "text": [
          "Adventure genre has 84 occurences with Crime genre"
         ],
         "type": "scatter",
         "x": [
          -0.8669258464782293
         ],
         "y": [
          -0.24174279039509236
         ]
        },
        {
         "hoverinfo": "text",
         "marker": {
          "color": "rgba(255, 246, 143, 0.75)",
          "size": 0.5
         },
         "mode": "markers",
         "showlegend": false,
         "text": [
          "Crime genre has 84 occurences with Adventure genre"
         ],
         "type": "scatter",
         "x": [
          -0.5055922943310849
         ],
         "y": [
          -0.744564592169833
         ]
        },
        {
         "hoverinfo": "text",
         "marker": {
          "color": "rgba(255, 246, 143, 0.75)",
          "size": 0.5
         },
         "mode": "markers",
         "showlegend": false,
         "text": [
          "Adventure genre has 87 occurences with Thriller genre"
         ],
         "type": "scatter",
         "x": [
          -0.8605934427670121
         ],
         "y": [
          -0.2633987970102018
         ]
        },
        {
         "hoverinfo": "text",
         "marker": {
          "color": "rgba(255, 246, 143, 0.75)",
          "size": 0.5
         },
         "mode": "markers",
         "showlegend": false,
         "text": [
          "Thriller genre has 87 occurences with Adventure genre"
         ],
         "type": "scatter",
         "x": [
          0.06636460409047848
         ],
         "y": [
          -0.8975498533919517
         ]
        },
        {
         "hoverinfo": "text",
         "marker": {
          "color": "rgba(255, 246, 143, 0.75)",
          "size": 0.5
         },
         "mode": "markers",
         "showlegend": false,
         "text": [
          "Adventure genre has 48 occurences with Horror genre"
         ],
         "type": "scatter",
         "x": [
          -0.8714415813714022
         ],
         "y": [
          -0.22492125345753738
         ]
        },
        {
         "hoverinfo": "text",
         "marker": {
          "color": "rgba(255, 246, 143, 0.75)",
          "size": 0.5
         },
         "mode": "markers",
         "showlegend": false,
         "text": [
          "Horror genre has 48 occurences with Adventure genre"
         ],
         "type": "scatter",
         "x": [
          0.3870714998774959
         ],
         "y": [
          -0.8125119408246169
         ]
        },
        {
         "hoverinfo": "text",
         "marker": {
          "color": "rgba(255, 246, 143, 0.75)",
          "size": 0.5
         },
         "mode": "markers",
         "showlegend": false,
         "text": [
          "Adventure genre has 29 occurences with Mystery genre"
         ],
         "type": "scatter",
         "x": [
          -0.8739251455346425
         ],
         "y": [
          -0.2150693841583549
         ]
        },
        {
         "hoverinfo": "text",
         "marker": {
          "color": "rgba(255, 246, 143, 0.75)",
          "size": 0.5
         },
         "mode": "markers",
         "showlegend": false,
         "text": [
          "Mystery genre has 29 occurences with Adventure genre"
         ],
         "type": "scatter",
         "x": [
          0.7593738181094313
         ],
         "y": [
          -0.4830645964774322
         ]
        },
        {
         "hoverinfo": "text",
         "marker": {
          "color": "rgba(255, 246, 143, 0.75)",
          "size": 0.5
         },
         "mode": "markers",
         "showlegend": false,
         "text": [
          "Adventure genre has 175 occurences with Sci-Fi genre"
         ],
         "type": "scatter",
         "x": [
          -0.8399423772683583
         ],
         "y": [
          -0.3232596523984687
         ]
        },
        {
         "hoverinfo": "text",
         "marker": {
          "color": "rgba(255, 246, 143, 0.75)",
          "size": 0.5
         },
         "mode": "markers",
         "showlegend": false,
         "text": [
          "Sci-Fi genre has 175 occurences with Adventure genre"
         ],
         "type": "scatter",
         "x": [
          0.8868568785868326
         ],
         "y": [
          -0.1532477631263178
         ]
        },
        {
         "hoverinfo": "text",
         "marker": {
          "color": "rgba(255, 193, 193, 0.75)",
          "size": 0.5
         },
         "mode": "markers",
         "showlegend": false,
         "text": [
          "Crime genre has 263 occurences with Thriller genre"
         ],
         "type": "scatter",
         "x": [
          -0.35520159212781877
         ],
         "y": [
          -0.8269412487896965
         ]
        },
        {
         "hoverinfo": "text",
         "marker": {
          "color": "rgba(255, 193, 193, 0.75)",
          "size": 0.5
         },
         "mode": "markers",
         "showlegend": false,
         "text": [
          "Thriller genre has 263 occurences with Crime genre"
         ],
         "type": "scatter",
         "x": [
          0.24067002482257885
         ],
         "y": [
          -0.8672242726953041
         ]
        },
        {
         "hoverinfo": "text",
         "marker": {
          "color": "rgba(255, 193, 193, 0.75)",
          "size": 0.5
         },
         "mode": "markers",
         "showlegend": false,
         "text": [
          "Crime genre has 53 occurences with Horror genre"
         ],
         "type": "scatter",
         "x": [
          -0.537959480781274
         ],
         "y": [
          -0.7215258810587062
         ]
        },
        {
         "hoverinfo": "text",
         "marker": {
          "color": "rgba(255, 193, 193, 0.75)",
          "size": 0.5
         },
         "mode": "markers",
         "showlegend": false,
         "text": [
          "Horror genre has 53 occurences with Crime genre"
         ],
         "type": "scatter",
         "x": [
          0.3989428855135223
         ],
         "y": [
          -0.8067493874172726
         ]
        },
        {
         "hoverinfo": "text",
         "marker": {
          "color": "rgba(255, 193, 193, 0.75)",
          "size": 0.5
         },
         "mode": "markers",
         "showlegend": false,
         "text": [
          "Crime genre has 218 occurences with Mystery genre"
         ],
         "type": "scatter",
         "x": [
          -0.47212750334704084
         ],
         "y": [
          -0.7662216523847979
         ]
        },
        {
         "hoverinfo": "text",
         "marker": {
          "color": "rgba(255, 193, 193, 0.75)",
          "size": 0.5
         },
         "mode": "markers",
         "showlegend": false,
         "text": [
          "Mystery genre has 218 occurences with Crime genre"
         ],
         "type": "scatter",
         "x": [
          0.8203920408038082
         ],
         "y": [
          -0.3700768830739942
         ]
        },
        {
         "hoverinfo": "text",
         "marker": {
          "color": "rgba(255, 193, 193, 0.75)",
          "size": 0.5
         },
         "mode": "markers",
         "showlegend": false,
         "text": [
          "Crime genre has 23 occurences with Sci-Fi genre"
         ],
         "type": "scatter",
         "x": [
          -0.5459686077256786
         ],
         "y": [
          -0.715484646500597
         ]
        },
        {
         "hoverinfo": "text",
         "marker": {
          "color": "rgba(255, 193, 193, 0.75)",
          "size": 0.5
         },
         "mode": "markers",
         "showlegend": false,
         "text": [
          "Sci-Fi genre has 23 occurences with Crime genre"
         ],
         "type": "scatter",
         "x": [
          0.8657576022158933
         ],
         "y": [
          -0.24589382709898824
         ]
        },
        {
         "hoverinfo": "text",
         "marker": {
          "color": "rgba(255, 130, 71, 0.75)",
          "size": 0.5
         },
         "mode": "markers",
         "showlegend": false,
         "text": [
          "Thriller genre has 129 occurences with Horror genre"
         ],
         "type": "scatter",
         "x": [
          0.09379194119237003
         ],
         "y": [
          -0.8950994759060956
         ]
        },
        {
         "hoverinfo": "text",
         "marker": {
          "color": "rgba(255, 130, 71, 0.75)",
          "size": 0.5
         },
         "mode": "markers",
         "showlegend": false,
         "text": [
          "Horror genre has 129 occurences with Thriller genre"
         ],
         "type": "scatter",
         "x": [
          0.4575256202980389
         ],
         "y": [
          -0.7750292296235638
         ]
        },
        {
         "hoverinfo": "text",
         "marker": {
          "color": "rgba(255, 130, 71, 0.75)",
          "size": 0.5
         },
         "mode": "markers",
         "showlegend": false,
         "text": [
          "Thriller genre has 131 occurences with Mystery genre"
         ],
         "type": "scatter",
         "x": [
          0.1266875708119521
         ],
         "y": [
          -0.891038865258843
         ]
        },
        {
         "hoverinfo": "text",
         "marker": {
          "color": "rgba(255, 130, 71, 0.75)",
          "size": 0.5
         },
         "mode": "markers",
         "showlegend": false,
         "text": [
          "Mystery genre has 131 occurences with Thriller genre"
         ],
         "type": "scatter",
         "x": [
          0.7862904158533417
         ],
         "y": [
          -0.4378896915173718
         ]
        },
        {
         "hoverinfo": "text",
         "marker": {
          "color": "rgba(255, 130, 71, 0.75)",
          "size": 0.5
         },
         "mode": "markers",
         "showlegend": false,
         "text": [
          "Thriller genre has 63 occurences with Sci-Fi genre"
         ],
         "type": "scatter",
         "x": [
          0.04727974943273347
         ],
         "y": [
          -0.8987572671714972
         ]
        },
        {
         "hoverinfo": "text",
         "marker": {
          "color": "rgba(255, 130, 71, 0.75)",
          "size": 0.5
         },
         "mode": "markers",
         "showlegend": false,
         "text": [
          "Sci-Fi genre has 63 occurences with Thriller genre"
         ],
         "type": "scatter",
         "x": [
          0.8713039742008736
         ],
         "y": [
          -0.22545373037890398
         ]
        },
        {
         "hoverinfo": "text",
         "marker": {
          "color": "rgba(255, 48, 48, 0.75)",
          "size": 0.5
         },
         "mode": "markers",
         "showlegend": false,
         "text": [
          "Horror genre has 133 occurences with Mystery genre"
         ],
         "type": "scatter",
         "x": [
          0.48666605856841044
         ],
         "y": [
          -0.757070767786928
         ]
        },
        {
         "hoverinfo": "text",
         "marker": {
          "color": "rgba(255, 48, 48, 0.75)",
          "size": 0.5
         },
         "mode": "markers",
         "showlegend": false,
         "text": [
          "Mystery genre has 133 occurences with Horror genre"
         ],
         "type": "scatter",
         "x": [
          0.8016293668386295
         ],
         "y": [
          -0.4091336679153868
         ]
        },
        {
         "hoverinfo": "text",
         "marker": {
          "color": "rgba(255, 48, 48, 0.75)",
          "size": 0.5
         },
         "mode": "markers",
         "showlegend": false,
         "text": [
          "Horror genre has 193 occurences with Sci-Fi genre"
         ],
         "type": "scatter",
         "x": [
          0.5219371615511499
         ],
         "y": [
          -0.7331995631422109
         ]
        },
        {
         "hoverinfo": "text",
         "marker": {
          "color": "rgba(255, 48, 48, 0.75)",
          "size": 0.5
         },
         "mode": "markers",
         "showlegend": false,
         "text": [
          "Sci-Fi genre has 193 occurences with Horror genre"
         ],
         "type": "scatter",
         "x": [
          0.8934457053523628
         ],
         "y": [
          -0.10841942440088415
         ]
        },
        {
         "hoverinfo": "text",
         "marker": {
          "color": "rgba(255, 20, 147, 0.75)",
          "size": 0.5
         },
         "mode": "markers",
         "showlegend": false,
         "text": [
          "Mystery genre has 43 occurences with Sci-Fi genre"
         ],
         "type": "scatter",
         "x": [
          0.7690238697911244
         ],
         "y": [
          -0.46754923558004446
         ]
        },
        {
         "hoverinfo": "text",
         "marker": {
          "color": "rgba(255, 20, 147, 0.75)",
          "size": 0.5
         },
         "mode": "markers",
         "showlegend": false,
         "text": [
          "Sci-Fi genre has 43 occurences with Mystery genre"
         ],
         "type": "scatter",
         "x": [
          0.8679427230563063
         ],
         "y": [
          -0.2380660191913244
         ]
        }
       ],
       "layout": {
        "height": 800,
        "hovermode": "closest",
        "margin": {
         "b": 25,
         "l": 25,
         "r": 25,
         "t": 25
        },
        "plot_bgcolor": "#FFFFFF",
        "shapes": [
         {
          "fillcolor": "rgba(187, 255, 255, 0.75)",
          "layer": "below",
          "line": {
           "color": "rgb(139,137,137)",
           "width": 0.5
          },
          "path": "M 0.9349385856839758,0.3548095841423214 Q 0.06640094189993961, 0.1886555456773027 -0.5065940828597139, 0.8621846874142021L -0.5065940828597139, 0.8621846874142021 L -0.4361279089890722, 0.8998846853907558 L -0.3628762858157171, 0.9318373254987106 M -0.3628762858157171,0.9318373254987106 Q 0.06595059053848977, 0.18881345187148205 0.8641387504614862, 0.5032536338178407L 0.8641387504614862, 0.5032536338178407 L 0.9025955485870069, 0.4304895767273815 L 0.9349385856839758, 0.3548095841423214 ",
          "type": "path"
         },
         {
          "fillcolor": "rgba(187, 255, 255, 0.75)",
          "layer": "below",
          "line": {
           "color": "rgb(139,137,137)",
           "width": 0.5
          },
          "path": "M 0.8641387504614862,0.5032536338178407 Q -0.008580361483225232, 0.19981585872201735 -0.904098967199426, 0.42732313008884903L -0.904098967199426, 0.42732313008884903 L -0.8645967700863659, 0.5024663423118246 L -0.8188634881006689, 0.5739883168284923 M -0.8188634881006689,0.5739883168284923 Q -0.008873912749398315, 0.19980303719542422 0.7647543027749426, 0.6443220129618509L 0.7647543027749426, 0.6443220129618509 L 0.8174950866023926, 0.5759355722482739 L 0.8641387504614862, 0.5032536338178407 ",
          "type": "path"
         },
         {
          "fillcolor": "rgba(187, 255, 255, 0.75)",
          "layer": "below",
          "line": {
           "color": "rgb(139,137,137)",
           "width": 0.5
          },
          "path": "M 0.7647543027749426,0.6443220129618509 Q -0.08751226658886713, 0.17983771349880717 -0.9789318903088824, -0.20418705673053375L -0.9789318903088824, -0.20418705673053375 L -0.9928559437961462, -0.11931921416378748 L -0.9994364078273551, -0.033568835385708005 M -0.9994364078273551,-0.033568835385708005 Q -0.08844180989628903, 0.17938240232048594 0.6351874586202649, 0.7723580079286607L 0.6351874586202649, 0.7723580079286607 L 0.7028922661591634, 0.7112963251512239 L 0.7647543027749426, 0.6443220129618509 ",
          "type": "path"
         },
         {
          "fillcolor": "rgba(187, 255, 255, 0.75)",
          "layer": "below",
          "line": {
           "color": "rgb(139,137,137)",
           "width": 0.5
          },
          "path": "M 0.9775682189015472,0.21061903378768193 Q -0.08353961953923311, 0.1817171757628876 -0.7963182331102795, -0.6048778981051652L -0.7963182331102795, -0.6048778981051652 L -0.8384807846252545, -0.5449311642897822 L -0.8761396113069561, -0.48205744626433883 M -0.8761396113069561,-0.48205744626433883 Q -0.08389301198368376, 0.18155429639726375 0.9349385856839758, 0.3548095841423214L 0.9349385856839758, 0.3548095841423214 L 0.958967308149436, 0.2835166695286621 L 0.9775682189015472, 0.21061903378768193 ",
          "type": "path"
         },
         {
          "fillcolor": "rgba(187, 255, 255, 0.75)",
          "layer": "below",
          "line": {
           "color": "rgb(139,137,137)",
           "width": 0.5
          },
          "path": "M 0.6351874586202649,0.7723580079286607 Q -0.18818916404039843, 0.06771143579762585 -0.002514993229133255, -0.9999968373995277L -0.002514993229133255, -0.9999968373995277 L -0.12698618455827698, -0.9919044857905076 L -0.2494816532554154, -0.9683795251289365 M -0.2494816532554154,-0.9683795251289365 Q -0.18840906592556853, 0.06709712271815223 0.4187754379286671, 0.9080898262769235L 0.4187754379286671, 0.9080898262769235 L 0.5313334437558822, 0.847162777479343 L 0.6351874586202649, 0.7723580079286607 ",
          "type": "path"
         },
         {
          "fillcolor": "rgba(187, 255, 255, 0.75)",
          "layer": "below",
          "line": {
           "color": "rgb(139,137,137)",
           "width": 0.5
          },
          "path": "M 0.9931527077352882,0.11682336717483052 Q -0.17275222745893368, 0.10078029523660292 0.3871017352281194, -0.9220370093349718L 0.3871017352281194, -0.9220370093349718 L 0.3454547557059572, -0.9384354062801219 L 0.30311569961370705, -0.9529537620722701 M 0.30311569961370705,-0.9529537620722701 Q -0.17303331905760033, 0.10029691169677502 0.9775682189015472, 0.21061903378768193L 0.9775682189015472, 0.21061903378768193 L 0.9864758737242001, 0.1639065299494683 L 0.9931527077352882, 0.11682336717483052 ",
          "type": "path"
         },
         {
          "fillcolor": "rgba(187, 255, 255, 0.75)",
          "layer": "below",
          "line": {
           "color": "rgb(139,137,137)",
           "width": 0.5
          },
          "path": "M 0.4187754379286671,0.9080898262769235 Q -0.19302163478740764, -0.052370301736734653 0.8203236444134308, -0.5718995702186418L 0.8203236444134308, -0.5718995702186418 L 0.7557977590418902, -0.6548051217173373 L 0.6829301940013695, -0.7304836412413709 L 0.6025251828034859, -0.798099870998377 M 0.6025251828034859,-0.798099870998377 Q -0.1927152974236379, -0.05348657905417756 0.10501157135308609, 0.9944710000205917L 0.10501157135308609, 0.9944710000205917 L 0.21253564053101867, 0.9771533152500019 L 0.3175387548375261, 0.9482452948347455 L 0.4187754379286671, 0.9080898262769235 ",
          "type": "path"
         },
         {
          "fillcolor": "rgba(187, 255, 255, 0.75)",
          "layer": "below",
          "line": {
           "color": "rgb(139,137,137)",
           "width": 0.5
          },
          "path": "M 0.9994618170354294,0.03280360175709099 Q -0.19798367689291213, 0.028327789959030982 0.9501613748160547, -0.31175849917470566L 0.9501613748160547, -0.31175849917470566 L 0.9374890892040504, -0.3480146658164853 L 0.9234339167719706, -0.3837574772628896 M 0.9234339167719706,-0.3837574772628896 Q -0.1980879973915156, 0.02758886169124974 0.9931527077352882, 0.11682336717483052L 0.9931527077352882, 0.11682336717483052 L 0.9971925547892048, 0.074879961758663 L 0.9994618170354294, 0.03280360175709099 ",
          "type": "path"
         },
         {
          "fillcolor": "rgba(187, 255, 255, 0.75)",
          "layer": "below",
          "line": {
           "color": "rgb(139,137,137)",
           "width": 0.5
          },
          "path": "M 1.0,0.0 Q -0.19904961655211573, 0.01947434595707136 0.981037492477215, -0.19381805476791494L 0.981037492477215, -0.19381805476791494 L 0.9780380260966671, -0.20842653264144462 L 0.9748210397319331, -0.2229886555319639 M 0.9748210397319331,-0.2229886555319639 Q -0.19907843874750797, 0.01917746661722337 0.9994618170354294, 0.03280360175709099L 0.9994618170354294, 0.03280360175709099 L 0.9998654452063611, 0.016404008116472454 L 1.0, 0.0 ",
          "type": "path"
         },
         {
          "fillcolor": "rgba(127, 255, 212, 0.75)",
          "layer": "below",
          "line": {
           "color": "rgb(139,137,137)",
           "width": 0.5
          },
          "path": "M -0.07170420939293273,0.9974259402859615 Q -0.08835987818033927, 0.17942277427337816 -0.746935502649194, 0.6648964993758021L -0.746935502649194, 0.6648964993758021 L -0.7187599710458705, 0.6952583002180839 L -0.6893512632969515, 0.7244272467203985 M -0.6893512632969515,0.7244272467203985 Q -0.08826929887850096, 0.17946735323032395 -0.1530008608078893, 0.9882260554104232L -0.1530008608078893, 0.9882260554104232 L -0.11244666119507452, 0.9936577622029026 L -0.07170420939293273, 0.9974259402859615 ",
          "type": "path"
         },
         {
          "fillcolor": "rgba(127, 255, 212, 0.75)",
          "layer": "below",
          "line": {
           "color": "rgb(139,137,137)",
           "width": 0.5
          },
          "path": "M -0.1530008608078893,0.9882260554104232 Q -0.15401871499907216, 0.12758618824165333 -0.9994364078273551, -0.033568835385708005L -0.9994364078273551, -0.033568835385708005 L -0.9998204383934589, 0.0189496957946975 L -0.9974466206553475, 0.0714159572030464 M -0.9974466206553475,0.0714159572030464 Q -0.15421575546158914, 0.12734795156346781 -0.2587691692706379, 0.9659391890978355L -0.2587691692706379, 0.9659391890978355 L -0.20618636114017483, 0.9785127410922013 L -0.1530008608078893, 0.9882260554104232 ",
          "type": "path"
         },
         {
          "fillcolor": "rgba(127, 255, 212, 0.75)",
          "layer": "below",
          "line": {
           "color": "rgb(139,137,137)",
           "width": 0.5
          },
          "path": "M -0.2587691692706379,0.9659391890978355 Q -0.18397587331637535, 0.07844028325724617 -0.8761396113069561, -0.48205744626433883L -0.8761396113069561, -0.48205744626433883 L -0.9013055389721044, -0.4331839394739887 L -0.9237477721490255, -0.3830013752582515 M -0.9237477721490255,-0.3830013752582515 Q -0.18396201443618512, 0.07847278027813734 -0.3628762858157171, 0.9318373254987106L -0.3628762858157171, 0.9318373254987106 L -0.31129006124933334, 0.9503149466189544 L -0.2587691692706379, 0.9659391890978355 ",
          "type": "path"
         },
         {
          "fillcolor": "rgba(127, 255, 212, 0.75)",
          "layer": "below",
          "line": {
           "color": "rgb(139,137,137)",
           "width": 0.5
          },
          "path": "M 0.003934696045239218,0.9999922590535547 Q -0.19499855685531248, 0.044447303904123006 -0.4298086171859239, -0.9029200145044542L -0.4298086171859239, -0.9029200145044542 L -0.46378966643469977, -0.8859453399100815 L -0.4971015361669973, -0.8676923779430193 M -0.4971015361669973,-0.8676923779430193 Q -0.19499246952575605, 0.044474001711641654 -0.07170420939293273, 0.9974259402859615L -0.07170420939293273, 0.9974259402859615 L -0.0339090435260276, 0.9994249230268124 L 0.003934696045239218, 0.9999922590535547 ",
          "type": "path"
         },
         {
          "fillcolor": "rgba(127, 255, 212, 0.75)",
          "layer": "below",
          "line": {
           "color": "rgb(139,137,137)",
           "width": 0.5
          },
          "path": "M 0.0737226654898915,0.9972787817822384 Q -0.19996480231837013, 0.0037520439463249278 0.03625901975230455, -0.9993424255412166L 0.03625901975230455, -0.9993424255412166 L 0.03257818458477266, -0.9994691900649867 L 0.028896907506651647, -0.9995823971722151 M 0.028896907506651647,-0.9995823971722151 Q -0.19996523852083536, 0.0037287240854507356 0.06614201077303664, 0.9978102196364295L 0.06614201077303664, 0.9978102196364295 L 0.06993284295008766, 0.9975517016560688 L 0.0737226654898915, 0.9972787817822384 ",
          "type": "path"
         },
         {
          "fillcolor": "rgba(127, 255, 212, 0.75)",
          "layer": "below",
          "line": {
           "color": "rgb(139,137,137)",
           "width": 0.5
          },
          "path": "M 0.029943143965195186,0.9995516035350449 Q -0.1941575832092146, -0.04798784098453396 0.49214671253868836, -0.8705122706414664L 0.49214671253868836, -0.8705122706414664 L 0.48085859737073805, -0.8767981576934605 L 0.469490210592126, -0.8829376773918763 M 0.469490210592126,-0.8829376773918763 Q -0.1941534518824477, -0.048004553139572775 0.003934696045239218, 0.9999922590535547L 0.003934696045239218, 0.9999922590535547 L 0.01694035286718213, 0.9998565019265191 L 0.029943143965195186, 0.9995516035350449 ",
          "type": "path"
         },
         {
          "fillcolor": "rgba(127, 255, 212, 0.75)",
          "layer": "below",
          "line": {
           "color": "rgb(139,137,137)",
           "width": 0.5
          },
          "path": "M 0.06614201077303664,0.9978102196364295 Q -0.17653682429032877, -0.0939933490704826 0.8647721901077622, -0.5021643746983895L 0.8647721901077622, -0.5021643746983895 L 0.8611681989950762, -0.5083201088286561 L 0.8575203900817305, -0.5144499787093754 M 0.8575203900817305,-0.5144499787093754 Q -0.17649299348569172, -0.09407562516645626 0.050969680477499016, 0.9987002010974172L 0.050969680477499016, 0.9987002010974172 L 0.05855753643759634, 0.9982840351955747 L 0.06614201077303664, 0.9978102196364295 ",
          "type": "path"
         },
         {
          "fillcolor": "rgba(127, 255, 212, 0.75)",
          "layer": "below",
          "line": {
           "color": "rgb(139,137,137)",
           "width": 0.5
          },
          "path": "M 0.050969680477499016,0.9987002010974172 Q -0.15952336079960797, -0.12063290330253229 0.9748210397319331, -0.2229886555319639L 0.9748210397319331, -0.2229886555319639 L 0.9725771075405372, -0.23258067393505072 L 0.9702387944740825, -0.24215012223304597 M 0.9702387944740825,-0.24215012223304597 Q -0.15944237472377307, -0.1207399235648422 0.029943143965195186, 0.9995516035350449L 0.029943143965195186, 0.9995516035350449 L 0.04045865187263725, 0.9991812135386897 L 0.050969680477499016, 0.9987002010974172 ",
          "type": "path"
         },
         {
          "fillcolor": "rgba(155, 205, 155, 0.75)",
          "layer": "below",
          "line": {
           "color": "rgb(139,137,137)",
           "width": 0.5
          },
          "path": "M -0.5429024697936098,0.839795753914009 Q -0.16931206678792762, 0.10645855550400983 -0.992109359266079, 0.1253755129865881L -0.992109359266079, 0.1253755129865881 L -0.9908911237659107, 0.1346654404141263 L -0.9895859010559452, 0.14394354598693512 M -0.9895859010559452,0.14394354598693512 Q -0.16935407517603782, 0.10639171594287285 -0.559197811679953, 0.8290342619049902L -0.559197811679953, 0.8290342619049902 L -0.551076410340337, 0.8344547860527906 L -0.5429024697936098, 0.839795753914009 ",
          "type": "path"
         },
         {
          "fillcolor": "rgba(155, 205, 155, 0.75)",
          "layer": "below",
          "line": {
           "color": "rgb(139,137,137)",
           "width": 0.5
          },
          "path": "M -0.904098967199426,0.42732313008884903 Q -0.19512126224222287, -0.04390550103348887 -0.6339160463502427, -0.7734018659013417L -0.6339160463502427, -0.7734018659013417 L -0.7200643064799364, -0.6939073385788397 L -0.7963182331102795, -0.6048778981051652 M -0.7963182331102795,-0.6048778981051652 Q -0.19507437581246717, -0.04411335286935612 -0.9790973035305727, 0.2033924045267216L -0.9790973035305727, 0.2033924045267216 L -0.9482316652514504, 0.31757945307349683 L -0.904098967199426, 0.42732313008884903 ",
          "type": "path"
         },
         {
          "fillcolor": "rgba(155, 205, 155, 0.75)",
          "layer": "below",
          "line": {
           "color": "rgb(139,137,137)",
           "width": 0.5
          },
          "path": "M -0.746935502649194,0.6648964993758021 Q -0.19132270437151555, -0.05827197261093589 -0.2494816532554154, -0.9683795251289365L -0.2494816532554154, -0.9683795251289365 L -0.3047148579089682, -0.9524436231974663 L -0.3589410836008109, -0.9333602190491491 M -0.3589410836008109,-0.9333602190491491 Q -0.19129357589143908, -0.058367523698253966 -0.8188634881006689, 0.5739883168284923L -0.8188634881006689, 0.5739883168284923 L -0.7842178869879441, 0.6204855403054643 L -0.746935502649194, 0.6648964993758021 ",
          "type": "path"
         },
         {
          "fillcolor": "rgba(155, 205, 155, 0.75)",
          "layer": "below",
          "line": {
           "color": "rgb(139,137,137)",
           "width": 0.5
          },
          "path": "M -0.6316369961580052,0.7752642808000973 Q -0.17933847629632255, -0.08853084727773344 0.23133546826131152, -0.9728740417568554L 0.23133546826131152, -0.9728740417568554 L 0.19535554705505273, -0.9807324865807296 L 0.15911066318922307, -0.9872607542384563 M 0.15911066318922307,-0.9872607542384563 Q -0.17919349616069008, -0.08882393221260111 -0.6893512632969515, 0.7244272467203985L -0.6893512632969515, 0.7244272467203985 L -0.6609830530452079, 0.7504008286156378 L -0.6316369961580052, 0.7752642808000973 ",
          "type": "path"
         },
         {
          "fillcolor": "rgba(155, 205, 155, 0.75)",
          "layer": "below",
          "line": {
           "color": "rgb(139,137,137)",
           "width": 0.5
          },
          "path": "M -0.559197811679953,0.8290342619049902 Q -0.1714320674387615, -0.10300993279131838 0.469490210592126, -0.8829376773918763L 0.469490210592126, -0.8829376773918763 L 0.4598491809413641, -0.8879970330961453 L 0.4501536377645581, -0.892951119830943 M 0.4501536377645581,-0.892951119830943 Q -0.17141066409268274, -0.10304554447090611 -0.577456055598647, 0.8164217683602344L -0.577456055598647, 0.8164217683602344 L -0.5683619201250232, 0.8227786626741099 L -0.559197811679953, 0.8290342619049902 ",
          "type": "path"
         },
         {
          "fillcolor": "rgba(155, 205, 155, 0.75)",
          "layer": "below",
          "line": {
           "color": "rgb(139,137,137)",
           "width": 0.5
          },
          "path": "M -0.5334259847579638,0.8458467466302608 Q -0.14067819213526414, -0.14216063540078072 0.8513918130750168, -0.5245302475823828L 0.8513918130750168, -0.5245302475823828 L 0.848646041212554, -0.5289611486056987 L 0.8458772098151094, -0.5333776766189278 M 0.8458772098151094,-0.5333776766189278 Q -0.14062001861088944, -0.14221817874615436 -0.5429024697936098, 0.839795753914009L -0.5429024697936098, 0.839795753914009 L -0.5381727317019673, 0.8428345690895944 L -0.5334259847579638, 0.8458467466302608 ",
          "type": "path"
         },
         {
          "fillcolor": "rgba(155, 205, 155, 0.75)",
          "layer": "below",
          "line": {
           "color": "rgb(139,137,137)",
           "width": 0.5
          },
          "path": "M -0.577456055598647,0.8164217683602344 Q -0.09470726599140507, -0.176154857351233 0.9995065603657315, -0.03141075907813013L 0.9995065603657315, -0.03141075907813013 L 0.9980234212348607, -0.06284306379119223 L 0.9955520498102357, -0.09421314196351835 M 0.9955520498102357,-0.09421314196351835 Q -0.09425630774491241, -0.176396565868773 -0.6316369961580052, 0.7752642808000973L -0.6316369961580052, 0.7752642808000973 L -0.6048966743561409, 0.7963039704490245 L -0.577456055598647, 0.8164217683602344 ",
          "type": "path"
         },
         {
          "fillcolor": "rgba(217, 239, 139, 0.75)",
          "layer": "below",
          "line": {
           "color": "rgb(139,137,137)",
           "width": 0.5
          },
          "path": "M -0.9947591909967932,0.1022455472253213 Q -0.1985700369693609, -0.02387342493205898 -0.9421765270907606, -0.335116982260215L -0.9421765270907606, -0.335116982260215 L -0.947411366121587, -0.3200182859519566 L -0.9524042607612478, -0.3048378652395747 M -0.9524042607612478,-0.3048378652395747 Q -0.19858210892886996, -0.023772799863760866 -0.9974466206553475, 0.0714159572030464L -0.9974466206553475, 0.0714159572030464 L -0.9962221714559342, 0.08684114865444499 L -0.9947591909967932, 0.1022455472253213 ",
          "type": "path"
         },
         {
          "fillcolor": "rgba(217, 239, 139, 0.75)",
          "layer": "below",
          "line": {
           "color": "rgb(139,137,137)",
           "width": 0.5
          },
          "path": "M -0.992109359266079,0.1253755129865881 Q -0.18277049755837083, -0.08120926808108522 -0.5719187201906847, -0.8203102934228299L -0.5719187201906847, -0.8203102934228299 L -0.5817428486252454, -0.8133727669853379 L -0.5914828321612583, -0.8063175920556966 M -0.5914828321612583,-0.8063175920556966 Q -0.18280182532165062, -0.08113872478091293 -0.9947591909967932, 0.1022455472253213L -0.9947591909967932, 0.1022455472253213 L -0.9935015892463138, 0.11381824179387348 L -0.992109359266079, 0.1253755129865881 ",
          "type": "path"
         },
         {
          "fillcolor": "rgba(217, 239, 139, 0.75)",
          "layer": "below",
          "line": {
           "color": "rgb(139,137,137)",
           "width": 0.5
          },
          "path": "M -0.9871722484020548,0.1596588612787652 Q -0.14942873044606006, -0.1329325186599529 0.04361916464579875, -0.9990482313059779L 0.04361916464579875, -0.9990482313059779 L 0.03993936308012886, -0.999202105320417 L 0.03625901975230455, -0.9993424255412166 M 0.03625901975230455,-0.9993424255412166 Q -0.14942766765776025, -0.1329337133249574 -0.9883239464583499, 0.1523672433858167L -0.9883239464583499, 0.1523672433858167 L -0.9877548258043889, 0.15601411506700744 L -0.9871722484020548, 0.1596588612787652 ",
          "type": "path"
         },
         {
          "fillcolor": "rgba(217, 239, 139, 0.75)",
          "layer": "below",
          "line": {
           "color": "rgb(139,137,137)",
           "width": 0.5
          },
          "path": "M -0.9883239464583499,0.1523672433858167 Q -0.11993156293680203, -0.16005130493543593 0.423778138938969, -0.9057660232959857L 0.423778138938969, -0.9057660232959857 L 0.41982935417307315, -0.9076030593682572 L 0.41587260625080236, -0.9094228803863278 M 0.41587260625080236,-0.9094228803863278 Q -0.1199469788217507, -0.16003975216031327 -0.9895859010559452, 0.14394354598693512L -0.9895859010559452, 0.14394354598693512 L -0.9889638926133616, 0.14815673831124712 L -0.9883239464583499, 0.1523672433858167 ",
          "type": "path"
         },
         {
          "fillcolor": "rgba(217, 239, 139, 0.75)",
          "layer": "below",
          "line": {
           "color": "rgb(139,137,137)",
           "width": 0.5
          },
          "path": "M -0.9860141143487545,0.16666183217834002 Q -0.0721354715530612, -0.18653812946370374 0.8416068111478955, -0.540090710371388L 0.8416068111478955, -0.540090710371388 L 0.8397496755590008, -0.5429737400635071 L 0.8378826638313719, -0.5458503839431132 M 0.8378826638313719,-0.5458503839431132 Q -0.0721131524172139, -0.18654675887951438 -0.9871722484020548, 0.1596588612787652L -0.9871722484020548, 0.1596588612787652 L -0.9865993948593305, 0.16316137429919783 L -0.9860141143487545, 0.16666183217834002 ",
          "type": "path"
         },
         {
          "fillcolor": "rgba(217, 239, 139, 0.75)",
          "layer": "below",
          "line": {
           "color": "rgb(139,137,137)",
           "width": 0.5
          },
          "path": "M -0.9850028879321154,0.17253785313777528 Q -0.0449415714257906, -0.19488523586403503 0.9610883599933243, -0.276241134310845L 0.9610883599933243, -0.276241134310845 L 0.9602906930976467, -0.2790014063585369 L 0.9594850986429049, -0.2817593751452027 M 0.9594850986429049,-0.2817593751452027 Q -0.04492052624934666, -0.19489008779689582 -0.9860141143487545, 0.16666183217834002L -0.9860141143487545, 0.16666183217834002 L -0.9855128805478118, 0.16960059632664698 L -0.9850028879321154, 0.17253785313777528 ",
          "type": "path"
         },
         {
          "fillcolor": "rgba(255, 246, 143, 0.75)",
          "layer": "below",
          "line": {
           "color": "rgb(139,137,137)",
           "width": 0.5
          },
          "path": "M -0.9664857456314669,-0.25672028258629537 Q -0.16241344836632626, -0.11671277474963347 -0.5515344438118357, -0.8341521187943894L -0.5515344438118357, -0.8341521187943894 L -0.5617692159234277, -0.8272939912998144 L -0.5719187201906847, -0.8203102934228299 M -0.5719187201906847,-0.8203102934228299 Q -0.16241401285632576, -0.11671198922092474 -0.9598700436651257, -0.2804451805153898L -0.9598700436651257, -0.2804451805153898 L -0.963250940531366, -0.2686031004389915 L -0.9664857456314669, -0.25672028258629537 ",
          "type": "path"
         },
         {
          "fillcolor": "rgba(255, 246, 143, 0.75)",
          "layer": "below",
          "line": {
           "color": "rgb(139,137,137)",
           "width": 0.5
          },
          "path": "M -0.9598700436651257,-0.2804451805153898 Q -0.11296225433017765, -0.16504402169313576 0.08602293735216608, -0.9962931567813288L 0.08602293735216608, -0.9962931567813288 L 0.07373844898942053, -0.9972776148799464 L 0.06144276139237612, -0.9981106086363773 M 0.06144276139237612,-0.9981106086363773 Q -0.11289107538218235, -0.1650927166747656 -0.9524042607612478, -0.3048378652395747L -0.9524042607612478, -0.3048378652395747 L -0.9562149364077912, -0.2926653300113353 L -0.9598700436651257, -0.2804451805153898 ",
          "type": "path"
         },
         {
          "fillcolor": "rgba(255, 246, 143, 0.75)",
          "layer": "below",
          "line": {
           "color": "rgb(139,137,137)",
           "width": 0.5
          },
          "path": "M -0.9700031495358469,-0.24309234848208927 Q -0.0846169971904277, -0.18121800072419725 0.4363598663345943, -0.8997722306519884L 0.4363598663345943, -0.8997722306519884 L 0.4300794443083288, -0.9027910453606854 L 0.423778138938969, -0.9057660232959857 M 0.423778138938969,-0.9057660232959857 Q -0.08460448687246382, -0.18122384170149108 -0.9664857456314669, -0.25672028258629537L -0.9664857456314669, -0.25672028258629537 L -0.9682684237460024, -0.2499125038417082 L -0.9700031495358469, -0.24309234848208927 ",
          "type": "path"
         },
         {
          "fillcolor": "rgba(255, 246, 143, 0.75)",
          "layer": "below",
          "line": {
           "color": "rgb(139,137,137)",
           "width": 0.5
          },
          "path": "M -0.9720351760691197,-0.23483529650432755 Q -0.032410397278317675, -0.19735644440519703 0.8458772098151094, -0.5333776766189278L 0.8458772098151094, -0.5333776766189278 L 0.843748686788257, -0.5367384405304803 L 0.8416068111478955, -0.540090710371388 M 0.8416068111478955,-0.540090710371388 Q -0.032356397617219326, -0.1973653047859132 -0.9700031495358469, -0.24309234848208927L -0.9700031495358469, -0.24309234848208927 L -0.9710279394829361, -0.2389659823981721 L -0.9720351760691197, -0.23483529650432755 ",
          "type": "path"
         },
         {
          "fillcolor": "rgba(255, 246, 143, 0.75)",
          "layer": "below",
          "line": {
           "color": "rgb(139,137,137)",
           "width": 0.5
          },
          "path": "M -0.9421765270907606,-0.335116982260215 Q 0.019425709590249196, -0.19905436897218634 0.9891906797902441, -0.14663491745186355L 0.9891906797902441, -0.14663491745186355 L 0.9853965317631473, -0.17027529236257533 L 0.981037492477215, -0.19381805476791494 M 0.981037492477215,-0.19381805476791494 Q 0.019766750063435295, -0.1990207918583626 -0.9237477721490255, -0.3830013752582515L -0.9237477721490255, -0.3830013752582515 L -0.9332693080759537, -0.35917739155385414 L -0.9421765270907606, -0.335116982260215 ",
          "type": "path"
         },
         {
          "fillcolor": "rgba(255, 193, 193, 0.75)",
          "layer": "below",
          "line": {
           "color": "rgb(139,137,137)",
           "width": 0.5
          },
          "path": "M -0.4298086171859239,-0.9029200145044542 Q -0.013621479823661032, -0.19953559904792328 0.30311569961370705, -0.9529537620722701L 0.30311569961370705, -0.9529537620722701 L 0.26741113869175426, -0.9635825252170046 L 0.23133546826131152, -0.9728740417568554 M 0.23133546826131152,-0.9728740417568554 Q -0.013358343928477186, -0.1995533879629422 -0.3589410836008109, -0.9333602190491491L -0.3589410836008109, -0.9333602190491491 L -0.39466843569757637, -0.9188236097663295 L -0.4298086171859239, -0.9029200145044542 ",
          "type": "path"
         },
         {
          "fillcolor": "rgba(255, 193, 193, 0.75)",
          "layer": "below",
          "line": {
           "color": "rgb(139,137,137)",
           "width": 0.5
          },
          "path": "M -0.6039465620886411,-0.7970248114966756 Q -0.018125705559451855, -0.19917695348099906 0.4501536377645581, -0.892951119830943L 0.4501536377645581, -0.892951119830943 L 0.44326987279280256, -0.8963882082414141 L 0.4363598663345943, -0.8997722306519884 M 0.4363598663345943,-0.8997722306519884 Q -0.018109915516651056, -0.1991783897916131 -0.5914828321612583, -0.8063175920556966L -0.5914828321612583, -0.8063175920556966 L -0.5977327564236378, -0.8016954233985624 L -0.6039465620886411, -0.7970248114966756 ",
          "type": "path"
         },
         {
          "fillcolor": "rgba(255, 193, 193, 0.75)",
          "layer": "below",
          "line": {
           "color": "rgb(139,137,137)",
           "width": 0.5
          },
          "path": "M -0.5515344438118357,-0.8341521187943894 Q 0.058409293019888064, -0.19128082624486142 0.9234339167719706, -0.3837574772628896L 0.9234339167719706, -0.3837574772628896 L 0.9115467120042313, -0.41119653674888246 L 0.8988443952182019, -0.43826790115729986 M 0.8988443952182019,-0.43826790115729986 Q 0.0588049918001291, -0.19115954838664678 -0.4971015361669973, -0.8676923779430193L -0.4971015361669973, -0.8676923779430193 L -0.5245861148300454, -0.8513573915386643 L -0.5515344438118357, -0.8341521187943894 ",
          "type": "path"
         },
         {
          "fillcolor": "rgba(255, 193, 193, 0.75)",
          "layer": "below",
          "line": {
           "color": "rgb(139,137,137)",
           "width": 0.5
          },
          "path": "M -0.6093101073677721,-0.7929320229751564 Q 0.06310492566318747, -0.18978347756599778 0.9628078967740974, -0.2701868870049747L 0.9628078967740974, -0.2701868870049747 L 0.9619528913509925, -0.27321536344332026 L 0.9610883599933243, -0.276241134310845 M 0.9610883599933243,-0.276241134310845 Q 0.0631479138399507, -0.18976917815510022 -0.6039465620886411, -0.7970248114966756L -0.6039465620886411, -0.7970248114966756 L -0.6066317863618651, -0.7949829405562188 L -0.6093101073677721, -0.7929320229751564 ",
          "type": "path"
         },
         {
          "fillcolor": "rgba(255, 130, 71, 0.75)",
          "layer": "below",
          "line": {
           "color": "rgb(139,137,137)",
           "width": 0.5
          },
          "path": "M 0.08602293735216608,-0.9962931567813288 Q 0.06273654162525581, -0.18990557217970871 0.5243986049906928, -0.8514729021429955L 0.5243986049906928, -0.8514729021429955 L 0.5083618003311543, -0.8611435884706264 L 0.49214671253868836, -0.8705122706414664 M 0.49214671253868836,-0.8705122706414664 Q 0.06265034631342002, -0.18993402566893733 0.12236880083996263, -0.9924846984115118L 0.12236880083996263, -0.9924846984115118 L 0.10421326799152225, -0.9945549732289951 L 0.08602293735216608, -0.9962931567813288 ",
          "type": "path"
         },
         {
          "fillcolor": "rgba(255, 130, 71, 0.75)",
          "layer": "below",
          "line": {
           "color": "rgb(139,137,137)",
           "width": 0.5
          },
          "path": "M 0.12236880083996263,-0.9924846984115118 Q 0.11320177189011732, -0.1648798315165862 0.8822577282092502, -0.470766716129181L 0.8822577282092502, -0.470766716129181 L 0.8736560176148241, -0.4865441016859686 L 0.8647721901077622, -0.5021643746983895 M 0.8647721901077622,-0.5021643746983895 Q 0.11329848166319159, -0.16481339160643302 0.15911066318922307, -0.9872607542384563L 0.15911066318922307, -0.9872607542384563 L 0.14076396756883564, -0.9900431836209367 L 0.12236880083996263, -0.9924846984115118 ",
          "type": "path"
         },
         {
          "fillcolor": "rgba(255, 130, 71, 0.75)",
          "layer": "below",
          "line": {
           "color": "rgb(139,137,137)",
           "width": 0.5
          },
          "path": "M 0.04361916464579875,-0.9990482313059779 Q 0.12652283227895708, -0.1548934243669204 0.9702387944740825, -0.24215012223304597L 0.9702387944740825, -0.24215012223304597 L 0.9681155268898595, -0.25050414486544886 L 0.9659203302975474, -0.25883955555107285 M 0.9659203302975474,-0.25883955555107285 Q 0.12657000482328076, -0.15485488006205905 0.06144276139237612, -0.9981106086363773L 0.06144276139237612, -0.9981106086363773 L 0.05253305492525941, -0.998619185746108 L 0.04361916464579875, -0.9990482313059779 ",
          "type": "path"
         },
         {
          "fillcolor": "rgba(255, 48, 48, 0.75)",
          "layer": "below",
          "line": {
           "color": "rgb(139,137,137)",
           "width": 0.5
          },
          "path": "M 0.5243986049906928,-0.8514729021429955 Q 0.14820118118568446, -0.13429970176872297 0.8988443952182019, -0.43826790115729986L 0.8988443952182019, -0.43826790115729986 L 0.8906992964873661, -0.4545929643504298 L 0.8822577282092502, -0.470766716129181 M 0.8822577282092502,-0.470766716129181 Q 0.14834393124211503, -0.1341420070806854 0.5568799444566181, -0.830592997479508L 0.5568799444566181, -0.830592997479508 L 0.5407400650760116, -0.8411897419854755 L 0.5243986049906928, -0.8514729021429955 ",
          "type": "path"
         },
         {
          "fillcolor": "rgba(255, 48, 48, 0.75)",
          "layer": "below",
          "line": {
           "color": "rgb(139,137,137)",
           "width": 0.5
          },
          "path": "M 0.5568799444566181,-0.830592997479508 Q 0.17182259421953533, -0.10235719865094449 0.9955520498102357, -0.09421314196351835L 0.9955520498102357, -0.09421314196351835 L 0.9927174503915142, -0.12046602711209349 L 0.9891906797902441, -0.14663491745186355 M 0.9891906797902441,-0.14663491745186355 Q 0.1719873824712692, -0.102080067940227 0.6025251828034859, -0.798099870998377L 0.6025251828034859, -0.798099870998377 L 0.5799301795012777, -0.8146661812691232 L 0.5568799444566181, -0.830592997479508 ",
          "type": "path"
         },
         {
          "fillcolor": "rgba(255, 20, 147, 0.75)",
          "layer": "below",
          "line": {
           "color": "rgb(139,137,137)",
           "width": 0.5
          },
          "path": "M 0.8513918130750168,-0.5245302475823828 Q 0.18366314192786365, -0.07916975620263977 0.9659203302975474, -0.25883955555107285L 0.9659203302975474, -0.25883955555107285 L 0.9643808033958958, -0.26451779910147155 L 0.9628078967740974, -0.2701868870049747 M 0.9628078967740974,-0.2701868870049747 Q 0.18366435500380757, -0.07916694197097268 0.8575203900817305, -0.5144499787093754L 0.8575203900817305, -0.5144499787093754 L 0.8544709664345826, -0.5194991506444938 L 0.8513918130750168, -0.5245302475823828 ",
          "type": "path"
         },
         {
          "fillcolor": "rgba(187, 255, 255, 0.75)",
          "layer": "below",
          "line": {
           "color": "rgb(139,137,137)",
           "width": 1
          },
          "path": "M 1.1, 0.0 L 1.0997721189796579, 0.022389424177359094 L 1.0990885703363753, 0.044769571764124716 L 1.0979496372842656, 0.06713117001326506 L 1.0963557917164672, 0.08946495386327923 L 1.0943076940096241, 0.11176166977698204 L 1.0918061927502731, 0.13401207957551406 L 1.0888523243832493, 0.15620696426598812 L 1.085447312782257, 0.17833712786118672 L 1.0815925687427836, 0.20039340118972726 L 1.0772896893975652, 0.2223666456951169 L 1.0725404575548483, 0.24424775722212275 L 1.0673468409597202, 0.26602766978888837 L 1.0617109914788159, 0.2876973593432344 L 1.0556352442087351, 0.30924784750158596 L 1.0491221165085463, 0.3306702052689788 L 1.0421743069567686, 0.3519555567386016 L 1.034794694233275, 0.37309508276934306 L 1.0269863359265692, 0.3940800246398187 L 1.0187524672669386, 0.4149016876773644 L 1.0100964997860045, 0.4355514448604925 L 1.0010220199032238, 0.4560207403933182 L 0.9915327874399328, 0.47630109325047454 L 0.9816327340615424, 0.4963841006910489 L 0.971325961648535, 0.5162614417400829 L 0.9606167405969358, 0.5359248806361949 L 0.9495095080489635, 0.5553662702438955 L 0.9380088660545932, 0.5745775554291835 L 0.9261195796647925, 0.5935507763970226 L 0.9138465749572228, 0.6122780719893154 L 0.9011949369952208, 0.6307516829420118 L 0.8881699077209103, 0.6489639550999962 L 0.8747768837833111, 0.6669073425884287 L 0.8610214143023509, 0.6845744109392197 L 0.8469091985697038, 0.7019578401713469 L 0.832446083687407, 0.7190504278237366 L 0.8176380621452363, 0.7358450919394537 L 0.802491269337843, 0.7523348739999615 L 0.7870119810226814, 0.7685129418082396 L 0.7712066107197798, 0.7843725923195622 L 0.7550817070544317, 0.7999072544187642 L 0.7386439510439099, 0.815110491642846 L 0.7219001533293273, 0.829976004847787 L 0.7048572513537883, 0.8444976348184658 L 0.6875223064880053, 0.8586693648206006 L 0.6699025011045665, 0.872485323093659 L 0.6520051356020704, 0.8859397852836985 L 0.6338376253803572, 0.8990271768151341 L 0.6154074977680928, 0.9117420752004456 L 0.5967223889039782, 0.924079212286874 L 0.5777900405728734, 0.9360334764391697 L 0.5586182969981517, 0.9475999146574914 L 0.5392151015916081, 0.9587737346295797 L 0.5195884936622746, 0.9695503067163502 L 0.49974660508549745, 0.9799251658700883 L 0.47969765693366656, 0.9898940134844489 L 0.4594499560699852, 0.999452719175494 L 0.4390118917066936, 1.0085973224930307 L 0.41839193192917584, 1.0173240345615413 L 0.39759862018738334, 1.0256292396500255 L 0.37664057175603644, 1.0335094966701013 L 0.3555264701650636, 1.0409615406017507 L 0.334265063601764, 1.0479822838461101 L 0.31286516128617614, 1.054568817504754 L 0.2913356298211641, 1.0607184125849356 L 0.26968538951872345, 1.0664285211302886 L 0.24792341070403717, 1.0716967772765194 L 0.22605870999880937, 1.0765209982316528 L 0.2041003465854144, 1.0808991851804284 L 0.18205741845341586, 1.0848295241124655 L 0.1599390586300024, 1.088310386573862 L 0.13775443139591065, 1.0913403303419102 L 0.11551272848839471, 1.093918100022651 L 0.10501157135308609, 0.9944710000205917 L 0.12523130126900966, 0.9921275730381001 L 0.14539914420909308, 0.9893730787035108 L 0.16550674404855986, 0.9862086582840593 L 0.18554576962310398, 0.9826356228912985 L 0.20550791818073577, 0.9786554529378662 L 0.22538491882185197, 0.9742697975241084 L 0.2451685359261122, 0.9694804737548078 L 0.26485057256469463, 0.964289465986305 L 0.28442287389652376, 0.9586989250043217 L 0.3038773305470582, 0.9527111671328273 L 0.32320588196823963, 0.9463286732743188 L 0.3424005197782149, 0.9395540878819102 L 0.36145329107943935, 0.9323902178636594 L 0.3803563017537962, 0.9248400314195829 L 0.3991017197333578, 0.916906656811846 L 0.41768177824544106, 0.9085933810686309 L 0.43608877903060594, 0.8999036486222263 L 0.4543150955322704, 0.8908410598818983 L 0.47235317605661314, 0.8814093697421365 L 0.49019554690146194, 0.8716124860268906 L 0.5078348154528651, 0.8614544678704467 L 0.5252636732480667, 0.8509395240356087 L 0.5424748990036166, 0.8400720111698854 L 0.559461361607357, 0.828856432000405 L 0.5762160230730519, 0.8172974334683036 L 0.5927319414564276, 0.8053998048033623 L 0.609002273731424, 0.7931684755396899 L 0.6250202786254593, 0.7806085134732732 L 0.6407793194125347, 0.7677251225622416 L 0.6562728666630248, 0.7545236407707154 L 0.671494500949009, 0.7410095378571326 L 0.6864379155040288, 0.7271884131079674 L 0.7010969188361634, 0.7130659930177838 L 0.7154654372933467, 0.6986481289165813 L 0.7295375175798572, 0.6839407945454195 L 0.743307329222942, 0.6689500835813215 L 0.7567691669885518, 0.6536822071124878 L 0.7699174532451852, 0.6381434910648608 L 0.7827467402748643, 0.6223403735811087 L 0.7952517125302827, 0.606279402353117 L 0.8074271888371911, 0.5899672319090874 L 0.8192681245411098, 0.5734106208563743 L 0.8307696135974751, 0.5566164290811958 L 0.8419268906043568, 0.5395916149063841 L 0.8527353327769028, 0.5223432322083487 L 0.863190461862694, 0.5048784274944504 L 0.8732879459972143, 0.48720443694199533 L 0.8830236014986681, 0.4693285834000753 L 0.8923933946014021, 0.45125827335549895 L 0.9013934431272116, 0.4330009938640677 L 0.9100200180938397, 0.41456430944847106 L 0.9182695452600039, 0.3959558589640841 L 0.9261386066063078, 0.3771833524339676 L 0.9336239417514265, 0.35825456785438065 L 0.9407224493029772, 0.33917734797213 L 0.9474311881425169, 0.31995959703509236 L 0.9537473786441328, 0.3006092775172534 L 0.9596684038261228, 0.2811344068196236 L 0.965191810435287, 0.2615430539483949 L 0.970315309963382, 0.2418433361717167 L 0.9750367795953165, 0.2220434156564752 L 0.9793542630886956, 0.2021514960864699 L 0.9832659715843487, 0.1821758192633884 L 0.9867702843475064, 0.16212466169198791 L 0.9898657494393174, 0.14200633115089828 L 0.99255108431843, 0.12182916325046732 L 0.9948251763723854, 0.10160151797907457 L 0.9966870833786065, 0.08133177623934475 L 0.9981360338947868, 0.061028336375695505 L 0.9991714275785228, 0.04069961069465883 L 0.9997928354360525, 0.020354021979417356 L 1.0, 0.0 L 1.1 ,0.0",
          "type": "path"
         },
         {
          "fillcolor": "rgba(127, 255, 212, 0.75)",
          "layer": "below",
          "line": {
           "color": "rgb(139,137,137)",
           "width": 1
          },
          "path": "M 0.08109493203888066, 1.0970066599604622 L 0.05819237966947689, 1.0984596701510727 L 0.03526449975726029, 1.099434588803204 L 0.012321271389929188, 1.09993099159508 L -0.010627319664585756, 1.099948662473275 L -0.033571285304307225, 1.0994875937467494 L -0.05650063944041505, 1.0985479860901954 L -0.0794054023435724, 1.0971302484566978 L -0.10227560498748554, 1.0952349978997402 L -0.1251012933878028, 1.092863059304641 L -0.14787253293446911, 1.0900154650295308 L -0.17057941271564672, 1.0866934544560325 L -0.19321204983132295, 1.0828984734498328 L -0.21576059369472356, 1.0786321737313886 L -0.238215230319665, 1.0738964121570336 L -0.26056618659197495, 1.0686932499108042 L -0.28280373452312435, 1.0630249516073338 L -0.30491819548421956, 1.0568939843062064 L -0.3268999444185097, 1.050303016438197 L -0.34873941403057906, 1.0432549166438703 L -0.37042709895039927, 1.0357527525250374 L -0.39195355987042785, 1.02779978930962 L -0.41330942765395545, 1.0193994884304975 L -0.43448540741291153, 1.0105555060189602 L -0.45547228255335354, 1.0012716913134208 L -0.47626091878688087, 0.9915520849840801 L -0.49684226810622545, 0.9814009173742716 L -0.5172073727232879, 0.9708226066592569 L -0.5373473689679111, 0.9598217569232653 L -0.5572534911456853, 0.9484031561556223 L -0.5065940828597139, 0.8621846874142021 L -0.4884976081526464, 0.8725652335666048 L -0.47018852065753436, 0.8825660060538698 L -0.45167478918747767, 0.8921826521584286 L -0.43296447162443713, 0.9014109863491636 L -0.41406571141213955, 0.9102469921031098 L -0.39498673401173773, 0.9186868236536 L -0.3757358433217777, 0.9267268076640885 L -0.3563214180640253, 0.9343634448269271 L -0.33675190813672656, 0.9415934113863975 L -0.31703583093689003, 0.9484135605853364 L -0.29718176765319065, 0.9548209240347244 L -0.27719835953110866, 0.9608127130056421 L -0.2570943041119312, 0.9663863196430307 L -0.23687835144724995, 0.9715393181007309 L -0.21655930029060452, 0.9762694655973031 L -0.1961459942679305, 0.9805747033921715 L -0.17564731802847539, 0.9844531576816662 L -0.15507219337786066, 0.9879031404145749 L -0.1344295753949719, 0.9909231500268462 L -0.11372844853436617, 0.993511872095128 L -0.09297782271589594, 0.9956681799088547 L -0.07218672940324763, 0.9973911349606344 L -0.05136421767310459, 0.9986799873547231 L -0.03051935027664293, 0.9995341761334084 L -0.00966119969507796, 0.9999533295211591 L 0.011201155809026534, 0.9999372650864362 L 0.03205863614296389, 0.9994859898210945 L 0.05290216333588808, 0.9985997001373388 L 0.0737226654898915, 0.9972787817822384 L 0.08109493203888066 ,1.0970066599604622",
          "type": "path"
         },
         {
          "fillcolor": "rgba(155, 205, 155, 0.75)",
          "layer": "below",
          "line": {
           "color": "rgb(139,137,137)",
           "width": 1
          },
          "path": "M -0.5867685832337602, 0.9304314212932869 L -0.6058079481860765, 0.9181485336886271 L -0.6245902869773375, 0.905476103170905 L -0.6431076308239547, 0.8924195062726947 L -0.6613521233717549, 0.8789842825168556 L -0.6793160240291956, 0.8651761320662781 L -0.696991711251467, 0.8510009133054747 L -0.7143716857740835, 0.8364646403550446 L -0.7314485737945982, 0.821573480520062 L -0.7482151301010854, 0.8063337516734717 L -0.7646642411460681, 0.7907519195756074 L -0.7807889280645819, 0.7748345951309618 L -0.7965823496350989, 0.7585885315833778 L -0.8120378051820527, 0.7420206216508506 L -0.8271487374187351, 0.7251378946011529 L -0.8419087352293552, 0.7079475132695275 L -0.8563115363890841, 0.6904567710197117 L -0.8703510302209304, 0.6726730886495795 L -0.884021260188316, 0.6546040112427223 L -0.8973164264222557, 0.6362572049672937 L -0.9102308881820699, 0.617640453823485 L -0.9227591662485797, 0.5987616563410071 L -0.9348959452487768, 0.579628822227981 L -0.9466360759109764, 0.5602500689726582 L -0.9579745772494992, 0.5406336183994143 L -0.9689066386779537, 0.5207877931804752 L -0.9794276220502255, 0.5007210133048553 L -0.9895330636283013, 0.48044179250601055 L -0.9992186759761014, 0.45995873464971515 L -1.008480349778509, 0.43928053008369944 L -1.0173141555848308, 0.4184159519505954 L -1.025716345475943, 0.39737385246575563 L -1.0336833546544235, 0.3761631591615232 L -1.0412118029569872, 0.3547928710995474 L -1.0482984962885884, 0.33327205505275165 L -1.0549404279775803, 0.31160984165857164 L -1.0611347800513533, 0.289815421545104 L -1.06687892443192, 0.2678980414317919 L -1.0721704240509264, 0.24586700020632427 L -1.07700703388363, 0.2237316449793938 L -0.9790973035305727, 0.2033924045267216 L -0.9747003855008421, 0.22351545473302203 L -0.9698899313017453, 0.2435436740289017 L -0.9646679818648666, 0.2634685650410036 L -0.959036752706891, 0.2832816742350651 L -0.9529986329896258, 0.3029745955025015 L -0.946556184506352, 0.32253897372686124 L -0.9397121405949305, 0.34196650832865744 L -0.9324694049781299, 0.36124895678705055 L -0.9248310505316643, 0.38037813813690485 L -0.9168003179804628, 0.3993459364397267 L -0.9083806145237284, 0.41814430422701376 L -0.8995755123893647, 0.436765265914555 L -0.8903887473183867, 0.45520092118623207 L -0.8808242169799578, 0.47344344834588653 L -0.8708859793177265, 0.49148510763583114 L -0.8605782508281603, 0.5093182445205983 L -0.8499054047716152, 0.5269352929345281 L -0.8388719693168906, 0.5443287784918246 L -0.8274826256200635, 0.5614913216577135 L -0.8157422058384143, 0.5784156408793578 L -0.8036556910802871, 0.595094555675202 L -0.7912282092917549, 0.6115209896814359 L -0.7784650330809855, 0.6276879736542833 L -0.7653715774812319, 0.6435886484268432 L -0.7519533976533954, 0.6592162678192298 L -0.7382161865291388, 0.6745642015007732 L -0.7241657723955444, 0.6896259378030707 L -0.7098081164223471, 0.7043950864826924 L -0.6951493101327891, 0.7188653814323703 L -0.6801955728191685, 0.7330306833395196 L -0.6649532489041801, 0.7468849822909653 L -0.6494288052491668, 0.7604224003227678 L -0.6336288284104244, 0.7736371939140678 L -0.6175600218447231, 0.786523756423889 L -0.6012292030652316, 0.7990766204698686 L -0.5846433007490497, 0.8112904602479042 L -0.5678093517975795, 0.8231600937917317 L -0.5507344983509787, 0.8346804851714792 L -0.5334259847579638, 0.8458467466302608 L -0.5867685832337602 ,0.9304314212932869",
          "type": "path"
         },
         {
          "fillcolor": "rgba(217, 239, 139, 0.75)",
          "layer": "below",
          "line": {
           "color": "rgb(139,137,137)",
           "width": 1
          },
          "path": "M -1.0835031767253271, 0.18979163845155284 L -1.087465186699574, 0.16558824751914275 L -1.090886608152932, 0.14130254121066516 L -1.093765740266666, 0.11694659216459496 L -1.0961011517988482, 0.09253250793768909 L -1.0978916817958393, 0.06807242498621484 L -1.0991364401694097, 0.04357850263281197 L -1.0998348081392102, 0.019062917021983497 L -1.099986438540373, -0.005462144932771476 L -1.09959125599609, -0.029984491607178414 L -1.0986494569550849, -0.054491932726754 L -1.0971615095939542, -0.07897228542669749 L -1.0951281535844344, -0.10341338030809864 L -1.0925503997257044, -0.12780306748745643 L -1.0894295294419083, -0.15212922263648934 L -1.085767094145147, -0.17637975300924902 L -1.0815649144642594, -0.20054260345352942 L -1.0768250793397707, -0.22460576240358762 L -0.9789318903088823, -0.2041870567305342 L -0.9832408313311448, -0.18231145768502674 L -0.9870609946774063, -0.1603452300084082 L -0.9903904813108256, -0.13829929330589938 L -0.9932276361142768, -0.11618460680677856 L -0.9955710487131222, -0.0940121639164533 L -0.9974195541763219, -0.07179298675154316 L -0.9987722335955317, -0.04953812066068545 L -0.9996284145419001, -0.027258628733798557 L -0.999987671400339, -0.0049655863025195235 L -0.9998498255811, 0.017329924565439542 L -0.9992149456085542, 0.0396168205752836 L -0.9980833470871265, 0.061884022714740756 L -0.9964555925444074, 0.08412046176153554 L -0.9943324911515146, 0.10631508378599541 L -0.9917150983208471, 0.12845685564605921 L -0.9886047151814308, 0.15053477047194794 L -0.9850028879321154, 0.17253785313777528 L -1.0835031767253271 ,0.18979163845155284",
          "type": "path"
         },
         {
          "fillcolor": "rgba(255, 246, 143, 0.75)",
          "layer": "below",
          "line": {
           "color": "rgb(139,137,137)",
           "width": 1
          },
          "path": "M -1.0692386936760319, -0.2583188261547603 L -1.063613574443173, -0.28058183166451994 L -1.057524962845601, -0.30272256763976196 L -1.050975512126049, -0.32473138578121663 L -1.043968076347754, -0.3465986952756322 L -1.0365057091507388, -0.3683149669751753 L -1.028591662421122, -0.3898707375499636 L -1.0202293848740402, -0.4112566136119124 L -1.011422520550795, -0.4324632758081048 L -1.0021749072308856, -0.4534814828818991 L -0.9924905747596134, -0.47430207570000416 L -0.9823737432919912, -0.49491598124376746 L -0.9718288214537198, -0.5153142165629374 L -0.9608604044200364, -0.5354878926901748 L -0.9494732719132668, -0.5554282185146125 L -0.9376723861199602, -0.5751265046127683 L -0.9254628895285105, -0.5945741670351481 L -0.9128501026882067, -0.6137627310468851 L -0.8998395218906893, -0.6326838348207862 L -0.8864368167748247, -0.6513292330811784 L -0.8726478278560373, -0.6696908006969635 L -0.858478563981182, -0.687760536222316 L -0.8439351997100589, -0.7055305653834874 L -0.829024072624717, -0.722993144510187 L -0.8137516805677183, -0.7401406639100533 L -0.798124678810563, -0.7569656511847388 L -0.7821498771535131, -0.773460774486169 L -0.7658342369580758, -0.7896188457115508 L -0.7491848681134422, -0.8054328236357421 L -0.7322090259381997, -0.820895816979617 L -0.7149141080186732, -0.8360010874130878 L -0.6973076509852661, -0.8507420524914767 L -0.6339160463502419, -0.7734018659013424 L -0.6499219163806119, -0.7600009885573524 L -0.6656445690347269, -0.7462689245269245 L -0.6810771528304019, -0.7322116578506745 L -0.6962129426891598, -0.717835314283228 L -0.7110453428668301, -0.7031461586237899 L -0.7255678898277845, -0.6881505919861262 L -0.739774255061562, -0.6728551490091393 L -0.7536582478406517, -0.6572664950092609 L -0.7672138179182353, -0.6413914230758976 L -0.7804350581647109, -0.6252368511111963 L -0.793316207141852, -0.6088098188154213 L -0.8058516516134769, -0.5921174846192531 L -0.8180359289915357, -0.575167122564351 L -0.8298637297165514, -0.5579661191335318 L -0.8413298995713732, -0.5405219700319528 L -0.8524294419272365, -0.5228422769206984 L -0.8631575199211515, -0.5049347441041931 L -0.8735094585636693, -0.4868071751728862 L -0.8834807467761089, -0.4684674696026704 L -0.8930670393563556, -0.44992361931251584 L -0.9022641588723758, -0.4311837051818219 L -0.9110680974826232, -0.41225589352899916 L -0.9194750186825408, -0.3931484325528225 L -0.9274812589764001, -0.37386964873810213 L -0.9350833294737473, -0.3544279432272396 L -0.9422779174097624, -0.33483178815925024 L -0.9490618875888671, -0.31508972297784743 L -0.9554322837509535, -0.2952103507101969 L -0.9613863298596372, -0.2752023342179654 L -0.9669214313119754, -0.25507439242229085 L -0.9720351760691197, -0.23483529650432755 L -1.0692386936760319 ,-0.2583188261547603",
          "type": "path"
         },
         {
          "fillcolor": "rgba(255, 193, 193, 0.75)",
          "layer": "below",
          "line": {
           "color": "rgb(139,137,137)",
           "width": 1
          },
          "path": "M -0.6702411181045494, -0.8722252252726721 L -0.6517300653973628, -0.8861421566865835 L -0.6329301292708648, -0.8996663000586198 L -0.6138496429140863, -0.9127916607278185 L -0.5944970638716958, -0.9255124207961409 L -0.574880970295146, -0.9378229417072883 L -0.5550100571403491, -0.94971776674603 L -0.5348931323135862, -0.9611916234569258 L -0.5145391127673495, -0.9722394259813726 L -0.4939570205478435, -0.9828562773119464 L -0.4731559787959081, -0.9930374714630291 L -0.45214520770313305, -1.002778495556766 L -0.43093402042494366, -1.0120750318234288 L -0.4095318189524941, -1.0209229595152918 L -0.3879480899451696, -1.0293183567331803 L -0.3661924005255683, -1.037257502164878 L -0.3442743940388169, -1.0447368767346186 L -0.3222037857780919, -1.0517531651629415 L -0.29999035867826207, -1.0583032574362075 L -0.27764395897953525, -1.0643842501851342 L -0.2551744918630538, -1.0699934479717306 L -0.2325919170603638, -1.0751283644840672 L -0.20990624443869557, -1.07978672363835 L -0.18712752956403494, -1.0839664605878088 L -0.16426586924392422, -1.087665722637952 L -0.14133139705199213, -1.090882870067787 L -0.11833427883618697, -1.0936164768566354 L -0.09528470821269423, -1.095865331316226 L -0.07219290204756038, -1.0976284366277833 L -0.0490690959279964, -1.0989050112838732 L -0.02592353962539285, -1.0996944894348115 L -0.0027664925520475576, -1.0999965211394807 L -0.002514993229134143, -0.9999968373995277 L -0.02356685420490259, -0.9997222631225559 L -0.04460826902545127, -0.9990045557126118 L -0.0656299109523276, -0.9978440332979847 L -0.08662246201154021, -0.9962412102874781 L -0.10757661712380633, -0.9941967971423957 L -0.12848308822908375, -0.9917117000616245 L -0.14933260840356746, -0.9887870205799563 L -0.17011593596730448, -0.985424055079826 L -0.19082385858063233, -0.9816242942166818 L -0.21144719732760345, -0.9773894222582428 L -0.23197681078459437, -0.9727213163379368 L -0.25240359907230475, -0.9676220456228491 L -0.2727185078893291, -0.9620938703965523 L -0.29291253252553806, -0.9561392410572195 L -0.31297672185346986, -0.9497607970314713 L -0.3329021822959711, -0.9429613656044346 L -0.352680081768336, -0.9357439606665275 L -0.3723016535931764, -0.9281117813775378 L -0.39175820038631237, -0.9200682107485716 L -0.4110410979119391, -0.9116168141425145 L -0.43014179890537096, -0.9027613376936627 L -0.4490518368616759, -0.8935057066472238 L -0.46776282978849953, -0.8838540236194296 L -0.48626648392144195, -0.8738105667790234 L -0.5045545974003174, -0.8633797879509363 L -0.522619063904678, -0.8525663106429893 L -0.5404518762469961, -0.8413749279964917 L -0.5580451299218966, -0.8298106006616531 L -0.5753910266098771, -0.8178784545987452 L -0.5924818776339661, -0.8055837788059849 L -0.6093101073677721, -0.7929320229751564 L -0.6702411181045494 ,-0.8722252252726721",
          "type": "path"
         },
         {
          "fillcolor": "rgba(255, 130, 71, 0.75)",
          "layer": "below",
          "line": {
           "color": "rgb(139,137,137)",
           "width": 1
          },
          "path": "M 0.03178659825731681, -1.0995406368894367 L 0.05561693385615371, -1.0985930805664308 L 0.07942112569216775, -1.0971291103574772 L 0.10318798416711343, -1.0951494144287015 L 0.12690633723197545, -1.0926549233725917 L 0.15056503563860169, -1.0896468097705545 L 0.1741529581806085, -1.0861264876417218 L 0.1976590169211093, -1.0820956117782665 L 0.22107216240480326, -1.0775560769675352 L 0.24438138885197605, -1.0725100171013693 L 0.26757573933196505, -1.0669598041730308 L 0.29064431091367215, -1.0609080471622019 L 0.313576259790683, -1.0543575908085863 L 0.3363608063785987, -1.0473115142746876 L 0.35898724038217794, -1.0397731296983916 L 0.3814449258299089, -1.031745980636036 L 0.40372330607363993, -1.0232338403966956 L 0.4258119087509314, -1.014240710268469 L 0.3871017352281194, -0.9220370093349718 L 0.36702118733967265, -0.9302125821788141 L 0.3467681143908263, -0.9379508914873054 L 0.3263520367110708, -0.9452482997258106 L 0.30578255125327153, -0.9521013766133523 L 0.28506932708243904, -0.9585069007350784 L 0.26422210083061104, -0.9644618610565471 L 0.2432506721199682, -0.9699634583391189 L 0.22216489895634184, -0.9750091064557902 L 0.20097469309527569, -0.97959643360685 L 0.1796900153828266, -0.9837232834347877 L 0.15832087107328044, -0.9873877160379289 L 0.13687730512600152, -0.9905880088823221 L 0.11536939748361404, -0.993322657611447 L 0.09380725833373947, -0.9955903767533649 L 0.07220102335651613, -0.9973901003249791 L 0.05056084896013973, -0.9987209823331189 L 0.028896907506651647, -0.9995823971722151 L 0.03178659825731681 ,-1.0995406368894367",
          "type": "path"
         },
         {
          "fillcolor": "rgba(255, 48, 48, 0.75)",
          "layer": "below",
          "line": {
           "color": "rgb(139,137,137)",
           "width": 1
          },
          "path": "M 0.45745986687588264, -1.0003651684249606 L 0.47868502802462365, -0.9903840891013271 L 0.49969255387405564, -0.9799527292695419 L 0.5204728933020228, -0.9690758315724428 L 0.5410165984772248, -0.9577583412177277 L 0.5613143291546927, -0.9460054037296074 L 0.5813568569223555, -0.9338223626093777 L 0.601135069396756, -0.9212147569059874 L 0.6206399743660237, -0.9081883186976926 L 0.6398627038782025, -0.8947489704859547 L 0.6587945182730844, -0.8809028225027633 L 0.677426810155721, -0.8666561699326008 L 0.6957511083097945, -0.8520154900503235 L 0.7137590815490764, -0.836987439276253 L 0.7314425425052199, -0.8215788501498197 L 0.7487934513501704, -0.8057967282231296 L 0.7658039194514895, -0.7896482488758755 L 0.7824662129589429, -0.7731407540530317 L 0.7987727563207101, -0.7562817489268241 L 0.8147161357276325, -0.7390788984844813 L 0.8302891024839167, -0.721540024043332 L 0.8454845763027703, -0.7036730996948264 L 0.8602956485254746, -0.6854862486790916 L 0.8747155852624205, -0.6669877396916838 L 0.8887378304546875, -0.6481859831242075 L 0.9023560088547734, -0.6290895272405067 L 0.8203236444134303, -0.5718995702186425 L 0.807943482231534, -0.5892599846583704 L 0.7951959866022005, -0.6063524906288034 L 0.7820869532049768, -0.6231693169809923 L 0.7686223420934275, -0.6397028179043875 L 0.7548082749853788, -0.655945476403029 L 0.7406510324796658, -0.6718899077131647 L 0.7261570512006454, -0.6875288626607491 L 0.7113329208717662, -0.7028552309573015 L 0.6961853813195359, -0.717862044432614 L 0.6807213194092457, -0.7325424802028451 L 0.6649477659138362, -0.7468898637725633 L 0.6488718923173421, -0.7608976720693208 L 0.6325010075543586, -0.7745595364093849 L 0.6158425546870191, -0.7878692453932733 L 0.5989041075209858, -0.8008207477297847 L 0.5816933671620023, -0.8134081549872315 L 0.5642181585145669, -0.8256257442706295 L 0.5464864267243236, -0.8374679608236248 L 0.5285062335657776, -0.8489294205539797 L 0.5102857537769934, -0.8600049124814612 L 0.49183327134293164, -0.8706894011070252 L 0.47315717572911165, -0.8809780287022206 L 0.4542659580673233, -0.8908661175177653 L 0.43516820729511235, -0.9003491719102973 L 0.41587260625080236, -0.9094228803863278 L 0.45745986687588264 ,-1.0003651684249606",
          "type": "path"
         },
         {
          "fillcolor": "rgba(255, 20, 147, 0.75)",
          "layer": "below",
          "line": {
           "color": "rgb(139,137,137)",
           "width": 1
          },
          "path": "M 0.9216709302145092, -0.6004354223374246 L 0.9344804514253365, -0.5802984455466854 L 0.9468500859137153, -0.559888305651395 L 0.9587740109382872, -0.539214610289177 L 0.9702466135659089, -0.5182870911607639 L 0.9812624933138198, -0.4971155994490074 L 0.9918164646918047, -0.4757101011816443 L 1.0019035596431527, -0.45408067254000095 L 1.0115190298832624, -0.4322374951158492 L 1.0206583491347976, -0.4101908511186344 L 1.0293172152583345, -0.38795111853534836 L 1.0374915522775017, -0.3655287662453124 L 1.0451775122976603, -0.34293434909217624 L 0.9501613748160547, -0.31175849917470566 L 0.9431741384340924, -0.3322988784048294 L 0.9357429229621221, -0.3526828350321348 L 0.9278712264861796, -0.37290077374421304 L 0.9195627544393294, -0.3929431773780447 L 0.9108214178574116, -0.41280061140000085 L 0.9016513315380043, -0.43246372834694935 L 0.8920568121034724, -0.45192327222637035 L 0.882042375969008, -0.4711700828734217 L 0.8716127372166247, -0.4901951002628882 L 0.8607728053761048, -0.5089893687739955 L 0.8495276831139422, -0.5275440414060776 L 0.8378826638313719, -0.5458503839431132 L 0.9216709302145092 ,-0.6004354223374246",
          "type": "path"
         },
         {
          "fillcolor": "rgba(72, 118, 255, 0.75)",
          "layer": "below",
          "line": {
           "color": "rgb(139,137,137)",
           "width": 1
          },
          "path": "M 1.0554336085071954, -0.309935312659723 L 1.062313784958855, -0.2854635218138937 L 1.068626628453492, -0.2608392780240783 L 1.0743687675916023, -0.2360757319668882 L 1.0795371357606436, -0.21118610871386806 L 1.0841289727727716, -0.18618370066860085 L 1.088141826338929, -0.1610818604678383 L 1.0915735533785005, -0.13589399385047932 L 1.094422321163834, -0.1106335524981734 L 1.0966866082990154, -0.08531402685140341 L 1.0983652055323776, -0.05994893890485392 L 1.0994572164023046, -0.03455183498594315 L 0.9995065603657315, -0.03141075907813013 L 0.9985138232112524, -0.054499035368049016 L 0.9969878257263777, -0.07755820622854855 L 0.9949293828762126, -0.10057595681652126 L 0.9923395939804549, -0.12353999440952665 L 0.9892198421262991, -0.14643805497076207 L 0.9855717934297923, -0.16925790969872803 L 0.9813973961460396, -0.19198737155806186 L 0.9766988796287293, -0.21461430178808016 L 0.9714787531395381, -0.2371266163855257 L 0.9657398045080501, -0.2595122925580851 L 0.9594850986429049, -0.2817593751452027 L 1.0554336085071954 ,-0.309935312659723",
          "type": "path"
         },
         {
          "fillcolor": "rgba(187, 255, 255, 0.75)",
          "layer": "below",
          "line": {
           "color": "rgb(139,137,137)",
           "width": 1
          },
          "path": "M 1.1, 0.0 L 1.0997721189796579, 0.022389424177359094 L 1.0990885703363753, 0.044769571764124716 L 1.0979496372842656, 0.06713117001326506 L 1.0963557917164672, 0.08946495386327923 L 1.0943076940096241, 0.11176166977698204 L 1.0918061927502731, 0.13401207957551406 L 1.0888523243832493, 0.15620696426598812 L 1.085447312782257, 0.17833712786118672 L 1.0815925687427836, 0.20039340118972726 L 1.0772896893975652, 0.2223666456951169 L 1.0725404575548483, 0.24424775722212275 L 1.0673468409597202, 0.26602766978888837 L 1.0617109914788159, 0.2876973593432344 L 1.0556352442087351, 0.30924784750158596 L 1.0491221165085463, 0.3306702052689788 L 1.0421743069567686, 0.3519555567386016 L 1.034794694233275, 0.37309508276934306 L 1.0269863359265692, 0.3940800246398187 L 1.0187524672669386, 0.4149016876773644 L 1.0100964997860045, 0.4355514448604925 L 1.0010220199032238, 0.4560207403933182 L 0.9915327874399328, 0.47630109325047454 L 0.9816327340615424, 0.4963841006910489 L 0.971325961648535, 0.5162614417400829 L 0.9606167405969358, 0.5359248806361949 L 0.9495095080489635, 0.5553662702438955 L 0.9380088660545932, 0.5745775554291835 L 0.9261195796647925, 0.5935507763970226 L 0.9138465749572228, 0.6122780719893154 L 0.9011949369952208, 0.6307516829420118 L 0.8881699077209103, 0.6489639550999962 L 0.8747768837833111, 0.6669073425884287 L 0.8610214143023509, 0.6845744109392197 L 0.8469091985697038, 0.7019578401713469 L 0.832446083687407, 0.7190504278237366 L 0.8176380621452363, 0.7358450919394537 L 0.802491269337843, 0.7523348739999615 L 0.7870119810226814, 0.7685129418082396 L 0.7712066107197798, 0.7843725923195622 L 0.7550817070544317, 0.7999072544187642 L 0.7386439510439099, 0.815110491642846 L 0.7219001533293273, 0.829976004847787 L 0.7048572513537883, 0.8444976348184658 L 0.6875223064880053, 0.8586693648206006 L 0.6699025011045665, 0.872485323093659 L 0.6520051356020704, 0.8859397852836985 L 0.6338376253803572, 0.8990271768151341 L 0.6154074977680928, 0.9117420752004456 L 0.5967223889039782, 0.924079212286874 L 0.5777900405728734, 0.9360334764391697 L 0.5586182969981517, 0.9475999146574914 L 0.5392151015916081, 0.9587737346295797 L 0.5195884936622746, 0.9695503067163502 L 0.49974660508549745, 0.9799251658700883 L 0.47969765693366656, 0.9898940134844489 L 0.4594499560699852, 0.999452719175494 L 0.4390118917066936, 1.0085973224930307 L 0.41839193192917584, 1.0173240345615413 L 0.39759862018738334, 1.0256292396500255 L 0.37664057175603644, 1.0335094966701013 L 0.3555264701650636, 1.0409615406017507 L 0.334265063601764, 1.0479822838461101 L 0.31286516128617614, 1.054568817504754 L 0.2913356298211641, 1.0607184125849356 L 0.26968538951872345, 1.0664285211302886 L 0.24792341070403717, 1.0716967772765194 L 0.22605870999880937, 1.0765209982316528 L 0.2041003465854144, 1.0808991851804284 L 0.18205741845341586, 1.0848295241124655 L 0.1599390586300024, 1.088310386573862 L 0.13775443139591065, 1.0913403303419102 L 0.11551272848839471, 1.093918100022651 L 0.10501157135308609, 0.9944710000205917 L 0.12523130126900966, 0.9921275730381001 L 0.14539914420909308, 0.9893730787035108 L 0.16550674404855986, 0.9862086582840593 L 0.18554576962310398, 0.9826356228912985 L 0.20550791818073577, 0.9786554529378662 L 0.22538491882185197, 0.9742697975241084 L 0.2451685359261122, 0.9694804737548078 L 0.26485057256469463, 0.964289465986305 L 0.28442287389652376, 0.9586989250043217 L 0.3038773305470582, 0.9527111671328273 L 0.32320588196823963, 0.9463286732743188 L 0.3424005197782149, 0.9395540878819102 L 0.36145329107943935, 0.9323902178636594 L 0.3803563017537962, 0.9248400314195829 L 0.3991017197333578, 0.916906656811846 L 0.41768177824544106, 0.9085933810686309 L 0.43608877903060594, 0.8999036486222263 L 0.4543150955322704, 0.8908410598818983 L 0.47235317605661314, 0.8814093697421365 L 0.49019554690146194, 0.8716124860268906 L 0.5078348154528651, 0.8614544678704467 L 0.5252636732480667, 0.8509395240356087 L 0.5424748990036166, 0.8400720111698854 L 0.559461361607357, 0.828856432000405 L 0.5762160230730519, 0.8172974334683036 L 0.5927319414564276, 0.8053998048033623 L 0.609002273731424, 0.7931684755396899 L 0.6250202786254593, 0.7806085134732732 L 0.6407793194125347, 0.7677251225622416 L 0.6562728666630248, 0.7545236407707154 L 0.671494500949009, 0.7410095378571326 L 0.6864379155040288, 0.7271884131079674 L 0.7010969188361634, 0.7130659930177838 L 0.7154654372933467, 0.6986481289165813 L 0.7295375175798572, 0.6839407945454195 L 0.743307329222942, 0.6689500835813215 L 0.7567691669885518, 0.6536822071124878 L 0.7699174532451852, 0.6381434910648608 L 0.7827467402748643, 0.6223403735811087 L 0.7952517125302827, 0.606279402353117 L 0.8074271888371911, 0.5899672319090874 L 0.8192681245411098, 0.5734106208563743 L 0.8307696135974751, 0.5566164290811958 L 0.8419268906043568, 0.5395916149063841 L 0.8527353327769028, 0.5223432322083487 L 0.863190461862694, 0.5048784274944504 L 0.8732879459972143, 0.48720443694199533 L 0.8830236014986681, 0.4693285834000753 L 0.8923933946014021, 0.45125827335549895 L 0.9013934431272116, 0.4330009938640677 L 0.9100200180938397, 0.41456430944847106 L 0.9182695452600039, 0.3959558589640841 L 0.9261386066063078, 0.3771833524339676 L 0.9336239417514265, 0.35825456785438065 L 0.9407224493029772, 0.33917734797213 L 0.9474311881425169, 0.31995959703509236 L 0.9537473786441328, 0.3006092775172534 L 0.9596684038261228, 0.2811344068196236 L 0.965191810435287, 0.2615430539483949 L 0.970315309963382, 0.2418433361717167 L 0.9750367795953165, 0.2220434156564752 L 0.9793542630886956, 0.2021514960864699 L 0.9832659715843487, 0.1821758192633884 L 0.9867702843475064, 0.16212466169198791 L 0.9898657494393174, 0.14200633115089828 L 0.99255108431843, 0.12182916325046732 L 0.9948251763723854, 0.10160151797907457 L 0.9966870833786065, 0.08133177623934475 L 0.9981360338947868, 0.061028336375695505 L 0.9991714275785228, 0.04069961069465883 L 0.9997928354360525, 0.020354021979417356 L 1.0, 0.0 L 1.1 ,0.0",
          "type": "path"
         },
         {
          "fillcolor": "rgba(127, 255, 212, 0.75)",
          "layer": "below",
          "line": {
           "color": "rgb(139,137,137)",
           "width": 1
          },
          "path": "M 0.08109493203888066, 1.0970066599604622 L 0.05819237966947689, 1.0984596701510727 L 0.03526449975726029, 1.099434588803204 L 0.012321271389929188, 1.09993099159508 L -0.010627319664585756, 1.099948662473275 L -0.033571285304307225, 1.0994875937467494 L -0.05650063944041505, 1.0985479860901954 L -0.0794054023435724, 1.0971302484566978 L -0.10227560498748554, 1.0952349978997402 L -0.1251012933878028, 1.092863059304641 L -0.14787253293446911, 1.0900154650295308 L -0.17057941271564672, 1.0866934544560325 L -0.19321204983132295, 1.0828984734498328 L -0.21576059369472356, 1.0786321737313886 L -0.238215230319665, 1.0738964121570336 L -0.26056618659197495, 1.0686932499108042 L -0.28280373452312435, 1.0630249516073338 L -0.30491819548421956, 1.0568939843062064 L -0.3268999444185097, 1.050303016438197 L -0.34873941403057906, 1.0432549166438703 L -0.37042709895039927, 1.0357527525250374 L -0.39195355987042785, 1.02779978930962 L -0.41330942765395545, 1.0193994884304975 L -0.43448540741291153, 1.0105555060189602 L -0.45547228255335354, 1.0012716913134208 L -0.47626091878688087, 0.9915520849840801 L -0.49684226810622545, 0.9814009173742716 L -0.5172073727232879, 0.9708226066592569 L -0.5373473689679111, 0.9598217569232653 L -0.5572534911456853, 0.9484031561556223 L -0.5065940828597139, 0.8621846874142021 L -0.4884976081526464, 0.8725652335666048 L -0.47018852065753436, 0.8825660060538698 L -0.45167478918747767, 0.8921826521584286 L -0.43296447162443713, 0.9014109863491636 L -0.41406571141213955, 0.9102469921031098 L -0.39498673401173773, 0.9186868236536 L -0.3757358433217777, 0.9267268076640885 L -0.3563214180640253, 0.9343634448269271 L -0.33675190813672656, 0.9415934113863975 L -0.31703583093689003, 0.9484135605853364 L -0.29718176765319065, 0.9548209240347244 L -0.27719835953110866, 0.9608127130056421 L -0.2570943041119312, 0.9663863196430307 L -0.23687835144724995, 0.9715393181007309 L -0.21655930029060452, 0.9762694655973031 L -0.1961459942679305, 0.9805747033921715 L -0.17564731802847539, 0.9844531576816662 L -0.15507219337786066, 0.9879031404145749 L -0.1344295753949719, 0.9909231500268462 L -0.11372844853436617, 0.993511872095128 L -0.09297782271589594, 0.9956681799088547 L -0.07218672940324763, 0.9973911349606344 L -0.05136421767310459, 0.9986799873547231 L -0.03051935027664293, 0.9995341761334084 L -0.00966119969507796, 0.9999533295211591 L 0.011201155809026534, 0.9999372650864362 L 0.03205863614296389, 0.9994859898210945 L 0.05290216333588808, 0.9985997001373388 L 0.0737226654898915, 0.9972787817822384 L 0.08109493203888066 ,1.0970066599604622",
          "type": "path"
         },
         {
          "fillcolor": "rgba(155, 205, 155, 0.75)",
          "layer": "below",
          "line": {
           "color": "rgb(139,137,137)",
           "width": 1
          },
          "path": "M -0.5867685832337602, 0.9304314212932869 L -0.6058079481860765, 0.9181485336886271 L -0.6245902869773375, 0.905476103170905 L -0.6431076308239547, 0.8924195062726947 L -0.6613521233717549, 0.8789842825168556 L -0.6793160240291956, 0.8651761320662781 L -0.696991711251467, 0.8510009133054747 L -0.7143716857740835, 0.8364646403550446 L -0.7314485737945982, 0.821573480520062 L -0.7482151301010854, 0.8063337516734717 L -0.7646642411460681, 0.7907519195756074 L -0.7807889280645819, 0.7748345951309618 L -0.7965823496350989, 0.7585885315833778 L -0.8120378051820527, 0.7420206216508506 L -0.8271487374187351, 0.7251378946011529 L -0.8419087352293552, 0.7079475132695275 L -0.8563115363890841, 0.6904567710197117 L -0.8703510302209304, 0.6726730886495795 L -0.884021260188316, 0.6546040112427223 L -0.8973164264222557, 0.6362572049672937 L -0.9102308881820699, 0.617640453823485 L -0.9227591662485797, 0.5987616563410071 L -0.9348959452487768, 0.579628822227981 L -0.9466360759109764, 0.5602500689726582 L -0.9579745772494992, 0.5406336183994143 L -0.9689066386779537, 0.5207877931804752 L -0.9794276220502255, 0.5007210133048553 L -0.9895330636283013, 0.48044179250601055 L -0.9992186759761014, 0.45995873464971515 L -1.008480349778509, 0.43928053008369944 L -1.0173141555848308, 0.4184159519505954 L -1.025716345475943, 0.39737385246575563 L -1.0336833546544235, 0.3761631591615232 L -1.0412118029569872, 0.3547928710995474 L -1.0482984962885884, 0.33327205505275165 L -1.0549404279775803, 0.31160984165857164 L -1.0611347800513533, 0.289815421545104 L -1.06687892443192, 0.2678980414317919 L -1.0721704240509264, 0.24586700020632427 L -1.07700703388363, 0.2237316449793938 L -0.9790973035305727, 0.2033924045267216 L -0.9747003855008421, 0.22351545473302203 L -0.9698899313017453, 0.2435436740289017 L -0.9646679818648666, 0.2634685650410036 L -0.959036752706891, 0.2832816742350651 L -0.9529986329896258, 0.3029745955025015 L -0.946556184506352, 0.32253897372686124 L -0.9397121405949305, 0.34196650832865744 L -0.9324694049781299, 0.36124895678705055 L -0.9248310505316643, 0.38037813813690485 L -0.9168003179804628, 0.3993459364397267 L -0.9083806145237284, 0.41814430422701376 L -0.8995755123893647, 0.436765265914555 L -0.8903887473183867, 0.45520092118623207 L -0.8808242169799578, 0.47344344834588653 L -0.8708859793177265, 0.49148510763583114 L -0.8605782508281603, 0.5093182445205983 L -0.8499054047716152, 0.5269352929345281 L -0.8388719693168906, 0.5443287784918246 L -0.8274826256200635, 0.5614913216577135 L -0.8157422058384143, 0.5784156408793578 L -0.8036556910802871, 0.595094555675202 L -0.7912282092917549, 0.6115209896814359 L -0.7784650330809855, 0.6276879736542833 L -0.7653715774812319, 0.6435886484268432 L -0.7519533976533954, 0.6592162678192298 L -0.7382161865291388, 0.6745642015007732 L -0.7241657723955444, 0.6896259378030707 L -0.7098081164223471, 0.7043950864826924 L -0.6951493101327891, 0.7188653814323703 L -0.6801955728191685, 0.7330306833395196 L -0.6649532489041801, 0.7468849822909653 L -0.6494288052491668, 0.7604224003227678 L -0.6336288284104244, 0.7736371939140678 L -0.6175600218447231, 0.786523756423889 L -0.6012292030652316, 0.7990766204698686 L -0.5846433007490497, 0.8112904602479042 L -0.5678093517975795, 0.8231600937917317 L -0.5507344983509787, 0.8346804851714792 L -0.5334259847579638, 0.8458467466302608 L -0.5867685832337602 ,0.9304314212932869",
          "type": "path"
         },
         {
          "fillcolor": "rgba(217, 239, 139, 0.75)",
          "layer": "below",
          "line": {
           "color": "rgb(139,137,137)",
           "width": 1
          },
          "path": "M -1.0835031767253271, 0.18979163845155284 L -1.087465186699574, 0.16558824751914275 L -1.090886608152932, 0.14130254121066516 L -1.093765740266666, 0.11694659216459496 L -1.0961011517988482, 0.09253250793768909 L -1.0978916817958393, 0.06807242498621484 L -1.0991364401694097, 0.04357850263281197 L -1.0998348081392102, 0.019062917021983497 L -1.099986438540373, -0.005462144932771476 L -1.09959125599609, -0.029984491607178414 L -1.0986494569550849, -0.054491932726754 L -1.0971615095939542, -0.07897228542669749 L -1.0951281535844344, -0.10341338030809864 L -1.0925503997257044, -0.12780306748745643 L -1.0894295294419083, -0.15212922263648934 L -1.085767094145147, -0.17637975300924902 L -1.0815649144642594, -0.20054260345352942 L -1.0768250793397707, -0.22460576240358762 L -0.9789318903088823, -0.2041870567305342 L -0.9832408313311448, -0.18231145768502674 L -0.9870609946774063, -0.1603452300084082 L -0.9903904813108256, -0.13829929330589938 L -0.9932276361142768, -0.11618460680677856 L -0.9955710487131222, -0.0940121639164533 L -0.9974195541763219, -0.07179298675154316 L -0.9987722335955317, -0.04953812066068545 L -0.9996284145419001, -0.027258628733798557 L -0.999987671400339, -0.0049655863025195235 L -0.9998498255811, 0.017329924565439542 L -0.9992149456085542, 0.0396168205752836 L -0.9980833470871265, 0.061884022714740756 L -0.9964555925444074, 0.08412046176153554 L -0.9943324911515146, 0.10631508378599541 L -0.9917150983208471, 0.12845685564605921 L -0.9886047151814308, 0.15053477047194794 L -0.9850028879321154, 0.17253785313777528 L -1.0835031767253271 ,0.18979163845155284",
          "type": "path"
         },
         {
          "fillcolor": "rgba(255, 246, 143, 0.75)",
          "layer": "below",
          "line": {
           "color": "rgb(139,137,137)",
           "width": 1
          },
          "path": "M -1.0692386936760319, -0.2583188261547603 L -1.063613574443173, -0.28058183166451994 L -1.057524962845601, -0.30272256763976196 L -1.050975512126049, -0.32473138578121663 L -1.043968076347754, -0.3465986952756322 L -1.0365057091507388, -0.3683149669751753 L -1.028591662421122, -0.3898707375499636 L -1.0202293848740402, -0.4112566136119124 L -1.011422520550795, -0.4324632758081048 L -1.0021749072308856, -0.4534814828818991 L -0.9924905747596134, -0.47430207570000416 L -0.9823737432919912, -0.49491598124376746 L -0.9718288214537198, -0.5153142165629374 L -0.9608604044200364, -0.5354878926901748 L -0.9494732719132668, -0.5554282185146125 L -0.9376723861199602, -0.5751265046127683 L -0.9254628895285105, -0.5945741670351481 L -0.9128501026882067, -0.6137627310468851 L -0.8998395218906893, -0.6326838348207862 L -0.8864368167748247, -0.6513292330811784 L -0.8726478278560373, -0.6696908006969635 L -0.858478563981182, -0.687760536222316 L -0.8439351997100589, -0.7055305653834874 L -0.829024072624717, -0.722993144510187 L -0.8137516805677183, -0.7401406639100533 L -0.798124678810563, -0.7569656511847388 L -0.7821498771535131, -0.773460774486169 L -0.7658342369580758, -0.7896188457115508 L -0.7491848681134422, -0.8054328236357421 L -0.7322090259381997, -0.820895816979617 L -0.7149141080186732, -0.8360010874130878 L -0.6973076509852661, -0.8507420524914767 L -0.6339160463502419, -0.7734018659013424 L -0.6499219163806119, -0.7600009885573524 L -0.6656445690347269, -0.7462689245269245 L -0.6810771528304019, -0.7322116578506745 L -0.6962129426891598, -0.717835314283228 L -0.7110453428668301, -0.7031461586237899 L -0.7255678898277845, -0.6881505919861262 L -0.739774255061562, -0.6728551490091393 L -0.7536582478406517, -0.6572664950092609 L -0.7672138179182353, -0.6413914230758976 L -0.7804350581647109, -0.6252368511111963 L -0.793316207141852, -0.6088098188154213 L -0.8058516516134769, -0.5921174846192531 L -0.8180359289915357, -0.575167122564351 L -0.8298637297165514, -0.5579661191335318 L -0.8413298995713732, -0.5405219700319528 L -0.8524294419272365, -0.5228422769206984 L -0.8631575199211515, -0.5049347441041931 L -0.8735094585636693, -0.4868071751728862 L -0.8834807467761089, -0.4684674696026704 L -0.8930670393563556, -0.44992361931251584 L -0.9022641588723758, -0.4311837051818219 L -0.9110680974826232, -0.41225589352899916 L -0.9194750186825408, -0.3931484325528225 L -0.9274812589764001, -0.37386964873810213 L -0.9350833294737473, -0.3544279432272396 L -0.9422779174097624, -0.33483178815925024 L -0.9490618875888671, -0.31508972297784743 L -0.9554322837509535, -0.2952103507101969 L -0.9613863298596372, -0.2752023342179654 L -0.9669214313119754, -0.25507439242229085 L -0.9720351760691197, -0.23483529650432755 L -1.0692386936760319 ,-0.2583188261547603",
          "type": "path"
         },
         {
          "fillcolor": "rgba(255, 193, 193, 0.75)",
          "layer": "below",
          "line": {
           "color": "rgb(139,137,137)",
           "width": 1
          },
          "path": "M -0.6702411181045494, -0.8722252252726721 L -0.6517300653973628, -0.8861421566865835 L -0.6329301292708648, -0.8996663000586198 L -0.6138496429140863, -0.9127916607278185 L -0.5944970638716958, -0.9255124207961409 L -0.574880970295146, -0.9378229417072883 L -0.5550100571403491, -0.94971776674603 L -0.5348931323135862, -0.9611916234569258 L -0.5145391127673495, -0.9722394259813726 L -0.4939570205478435, -0.9828562773119464 L -0.4731559787959081, -0.9930374714630291 L -0.45214520770313305, -1.002778495556766 L -0.43093402042494366, -1.0120750318234288 L -0.4095318189524941, -1.0209229595152918 L -0.3879480899451696, -1.0293183567331803 L -0.3661924005255683, -1.037257502164878 L -0.3442743940388169, -1.0447368767346186 L -0.3222037857780919, -1.0517531651629415 L -0.29999035867826207, -1.0583032574362075 L -0.27764395897953525, -1.0643842501851342 L -0.2551744918630538, -1.0699934479717306 L -0.2325919170603638, -1.0751283644840672 L -0.20990624443869557, -1.07978672363835 L -0.18712752956403494, -1.0839664605878088 L -0.16426586924392422, -1.087665722637952 L -0.14133139705199213, -1.090882870067787 L -0.11833427883618697, -1.0936164768566354 L -0.09528470821269423, -1.095865331316226 L -0.07219290204756038, -1.0976284366277833 L -0.0490690959279964, -1.0989050112838732 L -0.02592353962539285, -1.0996944894348115 L -0.0027664925520475576, -1.0999965211394807 L -0.002514993229134143, -0.9999968373995277 L -0.02356685420490259, -0.9997222631225559 L -0.04460826902545127, -0.9990045557126118 L -0.0656299109523276, -0.9978440332979847 L -0.08662246201154021, -0.9962412102874781 L -0.10757661712380633, -0.9941967971423957 L -0.12848308822908375, -0.9917117000616245 L -0.14933260840356746, -0.9887870205799563 L -0.17011593596730448, -0.985424055079826 L -0.19082385858063233, -0.9816242942166818 L -0.21144719732760345, -0.9773894222582428 L -0.23197681078459437, -0.9727213163379368 L -0.25240359907230475, -0.9676220456228491 L -0.2727185078893291, -0.9620938703965523 L -0.29291253252553806, -0.9561392410572195 L -0.31297672185346986, -0.9497607970314713 L -0.3329021822959711, -0.9429613656044346 L -0.352680081768336, -0.9357439606665275 L -0.3723016535931764, -0.9281117813775378 L -0.39175820038631237, -0.9200682107485716 L -0.4110410979119391, -0.9116168141425145 L -0.43014179890537096, -0.9027613376936627 L -0.4490518368616759, -0.8935057066472238 L -0.46776282978849953, -0.8838540236194296 L -0.48626648392144195, -0.8738105667790234 L -0.5045545974003174, -0.8633797879509363 L -0.522619063904678, -0.8525663106429893 L -0.5404518762469961, -0.8413749279964917 L -0.5580451299218966, -0.8298106006616531 L -0.5753910266098771, -0.8178784545987452 L -0.5924818776339661, -0.8055837788059849 L -0.6093101073677721, -0.7929320229751564 L -0.6702411181045494 ,-0.8722252252726721",
          "type": "path"
         },
         {
          "fillcolor": "rgba(255, 130, 71, 0.75)",
          "layer": "below",
          "line": {
           "color": "rgb(139,137,137)",
           "width": 1
          },
          "path": "M 0.03178659825731681, -1.0995406368894367 L 0.05561693385615371, -1.0985930805664308 L 0.07942112569216775, -1.0971291103574772 L 0.10318798416711343, -1.0951494144287015 L 0.12690633723197545, -1.0926549233725917 L 0.15056503563860169, -1.0896468097705545 L 0.1741529581806085, -1.0861264876417218 L 0.1976590169211093, -1.0820956117782665 L 0.22107216240480326, -1.0775560769675352 L 0.24438138885197605, -1.0725100171013693 L 0.26757573933196505, -1.0669598041730308 L 0.29064431091367215, -1.0609080471622019 L 0.313576259790683, -1.0543575908085863 L 0.3363608063785987, -1.0473115142746876 L 0.35898724038217794, -1.0397731296983916 L 0.3814449258299089, -1.031745980636036 L 0.40372330607363993, -1.0232338403966956 L 0.4258119087509314, -1.014240710268469 L 0.3871017352281194, -0.9220370093349718 L 0.36702118733967265, -0.9302125821788141 L 0.3467681143908263, -0.9379508914873054 L 0.3263520367110708, -0.9452482997258106 L 0.30578255125327153, -0.9521013766133523 L 0.28506932708243904, -0.9585069007350784 L 0.26422210083061104, -0.9644618610565471 L 0.2432506721199682, -0.9699634583391189 L 0.22216489895634184, -0.9750091064557902 L 0.20097469309527569, -0.97959643360685 L 0.1796900153828266, -0.9837232834347877 L 0.15832087107328044, -0.9873877160379289 L 0.13687730512600152, -0.9905880088823221 L 0.11536939748361404, -0.993322657611447 L 0.09380725833373947, -0.9955903767533649 L 0.07220102335651613, -0.9973901003249791 L 0.05056084896013973, -0.9987209823331189 L 0.028896907506651647, -0.9995823971722151 L 0.03178659825731681 ,-1.0995406368894367",
          "type": "path"
         },
         {
          "fillcolor": "rgba(255, 48, 48, 0.75)",
          "layer": "below",
          "line": {
           "color": "rgb(139,137,137)",
           "width": 1
          },
          "path": "M 0.45745986687588264, -1.0003651684249606 L 0.47868502802462365, -0.9903840891013271 L 0.49969255387405564, -0.9799527292695419 L 0.5204728933020228, -0.9690758315724428 L 0.5410165984772248, -0.9577583412177277 L 0.5613143291546927, -0.9460054037296074 L 0.5813568569223555, -0.9338223626093777 L 0.601135069396756, -0.9212147569059874 L 0.6206399743660237, -0.9081883186976926 L 0.6398627038782025, -0.8947489704859547 L 0.6587945182730844, -0.8809028225027633 L 0.677426810155721, -0.8666561699326008 L 0.6957511083097945, -0.8520154900503235 L 0.7137590815490764, -0.836987439276253 L 0.7314425425052199, -0.8215788501498197 L 0.7487934513501704, -0.8057967282231296 L 0.7658039194514895, -0.7896482488758755 L 0.7824662129589429, -0.7731407540530317 L 0.7987727563207101, -0.7562817489268241 L 0.8147161357276325, -0.7390788984844813 L 0.8302891024839167, -0.721540024043332 L 0.8454845763027703, -0.7036730996948264 L 0.8602956485254746, -0.6854862486790916 L 0.8747155852624205, -0.6669877396916838 L 0.8887378304546875, -0.6481859831242075 L 0.9023560088547734, -0.6290895272405067 L 0.8203236444134303, -0.5718995702186425 L 0.807943482231534, -0.5892599846583704 L 0.7951959866022005, -0.6063524906288034 L 0.7820869532049768, -0.6231693169809923 L 0.7686223420934275, -0.6397028179043875 L 0.7548082749853788, -0.655945476403029 L 0.7406510324796658, -0.6718899077131647 L 0.7261570512006454, -0.6875288626607491 L 0.7113329208717662, -0.7028552309573015 L 0.6961853813195359, -0.717862044432614 L 0.6807213194092457, -0.7325424802028451 L 0.6649477659138362, -0.7468898637725633 L 0.6488718923173421, -0.7608976720693208 L 0.6325010075543586, -0.7745595364093849 L 0.6158425546870191, -0.7878692453932733 L 0.5989041075209858, -0.8008207477297847 L 0.5816933671620023, -0.8134081549872315 L 0.5642181585145669, -0.8256257442706295 L 0.5464864267243236, -0.8374679608236248 L 0.5285062335657776, -0.8489294205539797 L 0.5102857537769934, -0.8600049124814612 L 0.49183327134293164, -0.8706894011070252 L 0.47315717572911165, -0.8809780287022206 L 0.4542659580673233, -0.8908661175177653 L 0.43516820729511235, -0.9003491719102973 L 0.41587260625080236, -0.9094228803863278 L 0.45745986687588264 ,-1.0003651684249606",
          "type": "path"
         },
         {
          "fillcolor": "rgba(255, 20, 147, 0.75)",
          "layer": "below",
          "line": {
           "color": "rgb(139,137,137)",
           "width": 1
          },
          "path": "M 0.9216709302145092, -0.6004354223374246 L 0.9344804514253365, -0.5802984455466854 L 0.9468500859137153, -0.559888305651395 L 0.9587740109382872, -0.539214610289177 L 0.9702466135659089, -0.5182870911607639 L 0.9812624933138198, -0.4971155994490074 L 0.9918164646918047, -0.4757101011816443 L 1.0019035596431527, -0.45408067254000095 L 1.0115190298832624, -0.4322374951158492 L 1.0206583491347976, -0.4101908511186344 L 1.0293172152583345, -0.38795111853534836 L 1.0374915522775017, -0.3655287662453124 L 1.0451775122976603, -0.34293434909217624 L 0.9501613748160547, -0.31175849917470566 L 0.9431741384340924, -0.3322988784048294 L 0.9357429229621221, -0.3526828350321348 L 0.9278712264861796, -0.37290077374421304 L 0.9195627544393294, -0.3929431773780447 L 0.9108214178574116, -0.41280061140000085 L 0.9016513315380043, -0.43246372834694935 L 0.8920568121034724, -0.45192327222637035 L 0.882042375969008, -0.4711700828734217 L 0.8716127372166247, -0.4901951002628882 L 0.8607728053761048, -0.5089893687739955 L 0.8495276831139422, -0.5275440414060776 L 0.8378826638313719, -0.5458503839431132 L 0.9216709302145092 ,-0.6004354223374246",
          "type": "path"
         },
         {
          "fillcolor": "rgba(72, 118, 255, 0.75)",
          "layer": "below",
          "line": {
           "color": "rgb(139,137,137)",
           "width": 1
          },
          "path": "M 1.0554336085071954, -0.309935312659723 L 1.062313784958855, -0.2854635218138937 L 1.068626628453492, -0.2608392780240783 L 1.0743687675916023, -0.2360757319668882 L 1.0795371357606436, -0.21118610871386806 L 1.0841289727727716, -0.18618370066860085 L 1.088141826338929, -0.1610818604678383 L 1.0915735533785005, -0.13589399385047932 L 1.094422321163834, -0.1106335524981734 L 1.0966866082990154, -0.08531402685140341 L 1.0983652055323776, -0.05994893890485392 L 1.0994572164023046, -0.03455183498594315 L 0.9995065603657315, -0.03141075907813013 L 0.9985138232112524, -0.054499035368049016 L 0.9969878257263777, -0.07755820622854855 L 0.9949293828762126, -0.10057595681652126 L 0.9923395939804549, -0.12353999440952665 L 0.9892198421262991, -0.14643805497076207 L 0.9855717934297923, -0.16925790969872803 L 0.9813973961460396, -0.19198737155806186 L 0.9766988796287293, -0.21461430178808016 L 0.9714787531395381, -0.2371266163855257 L 0.9657398045080501, -0.2595122925580851 L 0.9594850986429049, -0.2817593751452027 L 1.0554336085071954 ,-0.309935312659723",
          "type": "path"
         }
        ],
        "showlegend": true,
        "template": {
         "data": {
          "bar": [
           {
            "error_x": {
             "color": "#2a3f5f"
            },
            "error_y": {
             "color": "#2a3f5f"
            },
            "marker": {
             "line": {
              "color": "#E5ECF6",
              "width": 0.5
             },
             "pattern": {
              "fillmode": "overlay",
              "size": 10,
              "solidity": 0.2
             }
            },
            "type": "bar"
           }
          ],
          "barpolar": [
           {
            "marker": {
             "line": {
              "color": "#E5ECF6",
              "width": 0.5
             },
             "pattern": {
              "fillmode": "overlay",
              "size": 10,
              "solidity": 0.2
             }
            },
            "type": "barpolar"
           }
          ],
          "carpet": [
           {
            "aaxis": {
             "endlinecolor": "#2a3f5f",
             "gridcolor": "white",
             "linecolor": "white",
             "minorgridcolor": "white",
             "startlinecolor": "#2a3f5f"
            },
            "baxis": {
             "endlinecolor": "#2a3f5f",
             "gridcolor": "white",
             "linecolor": "white",
             "minorgridcolor": "white",
             "startlinecolor": "#2a3f5f"
            },
            "type": "carpet"
           }
          ],
          "choropleth": [
           {
            "colorbar": {
             "outlinewidth": 0,
             "ticks": ""
            },
            "type": "choropleth"
           }
          ],
          "contour": [
           {
            "colorbar": {
             "outlinewidth": 0,
             "ticks": ""
            },
            "colorscale": [
             [
              0,
              "#0d0887"
             ],
             [
              0.1111111111111111,
              "#46039f"
             ],
             [
              0.2222222222222222,
              "#7201a8"
             ],
             [
              0.3333333333333333,
              "#9c179e"
             ],
             [
              0.4444444444444444,
              "#bd3786"
             ],
             [
              0.5555555555555556,
              "#d8576b"
             ],
             [
              0.6666666666666666,
              "#ed7953"
             ],
             [
              0.7777777777777778,
              "#fb9f3a"
             ],
             [
              0.8888888888888888,
              "#fdca26"
             ],
             [
              1,
              "#f0f921"
             ]
            ],
            "type": "contour"
           }
          ],
          "contourcarpet": [
           {
            "colorbar": {
             "outlinewidth": 0,
             "ticks": ""
            },
            "type": "contourcarpet"
           }
          ],
          "heatmap": [
           {
            "colorbar": {
             "outlinewidth": 0,
             "ticks": ""
            },
            "colorscale": [
             [
              0,
              "#0d0887"
             ],
             [
              0.1111111111111111,
              "#46039f"
             ],
             [
              0.2222222222222222,
              "#7201a8"
             ],
             [
              0.3333333333333333,
              "#9c179e"
             ],
             [
              0.4444444444444444,
              "#bd3786"
             ],
             [
              0.5555555555555556,
              "#d8576b"
             ],
             [
              0.6666666666666666,
              "#ed7953"
             ],
             [
              0.7777777777777778,
              "#fb9f3a"
             ],
             [
              0.8888888888888888,
              "#fdca26"
             ],
             [
              1,
              "#f0f921"
             ]
            ],
            "type": "heatmap"
           }
          ],
          "heatmapgl": [
           {
            "colorbar": {
             "outlinewidth": 0,
             "ticks": ""
            },
            "colorscale": [
             [
              0,
              "#0d0887"
             ],
             [
              0.1111111111111111,
              "#46039f"
             ],
             [
              0.2222222222222222,
              "#7201a8"
             ],
             [
              0.3333333333333333,
              "#9c179e"
             ],
             [
              0.4444444444444444,
              "#bd3786"
             ],
             [
              0.5555555555555556,
              "#d8576b"
             ],
             [
              0.6666666666666666,
              "#ed7953"
             ],
             [
              0.7777777777777778,
              "#fb9f3a"
             ],
             [
              0.8888888888888888,
              "#fdca26"
             ],
             [
              1,
              "#f0f921"
             ]
            ],
            "type": "heatmapgl"
           }
          ],
          "histogram": [
           {
            "marker": {
             "pattern": {
              "fillmode": "overlay",
              "size": 10,
              "solidity": 0.2
             }
            },
            "type": "histogram"
           }
          ],
          "histogram2d": [
           {
            "colorbar": {
             "outlinewidth": 0,
             "ticks": ""
            },
            "colorscale": [
             [
              0,
              "#0d0887"
             ],
             [
              0.1111111111111111,
              "#46039f"
             ],
             [
              0.2222222222222222,
              "#7201a8"
             ],
             [
              0.3333333333333333,
              "#9c179e"
             ],
             [
              0.4444444444444444,
              "#bd3786"
             ],
             [
              0.5555555555555556,
              "#d8576b"
             ],
             [
              0.6666666666666666,
              "#ed7953"
             ],
             [
              0.7777777777777778,
              "#fb9f3a"
             ],
             [
              0.8888888888888888,
              "#fdca26"
             ],
             [
              1,
              "#f0f921"
             ]
            ],
            "type": "histogram2d"
           }
          ],
          "histogram2dcontour": [
           {
            "colorbar": {
             "outlinewidth": 0,
             "ticks": ""
            },
            "colorscale": [
             [
              0,
              "#0d0887"
             ],
             [
              0.1111111111111111,
              "#46039f"
             ],
             [
              0.2222222222222222,
              "#7201a8"
             ],
             [
              0.3333333333333333,
              "#9c179e"
             ],
             [
              0.4444444444444444,
              "#bd3786"
             ],
             [
              0.5555555555555556,
              "#d8576b"
             ],
             [
              0.6666666666666666,
              "#ed7953"
             ],
             [
              0.7777777777777778,
              "#fb9f3a"
             ],
             [
              0.8888888888888888,
              "#fdca26"
             ],
             [
              1,
              "#f0f921"
             ]
            ],
            "type": "histogram2dcontour"
           }
          ],
          "mesh3d": [
           {
            "colorbar": {
             "outlinewidth": 0,
             "ticks": ""
            },
            "type": "mesh3d"
           }
          ],
          "parcoords": [
           {
            "line": {
             "colorbar": {
              "outlinewidth": 0,
              "ticks": ""
             }
            },
            "type": "parcoords"
           }
          ],
          "pie": [
           {
            "automargin": true,
            "type": "pie"
           }
          ],
          "scatter": [
           {
            "fillpattern": {
             "fillmode": "overlay",
             "size": 10,
             "solidity": 0.2
            },
            "type": "scatter"
           }
          ],
          "scatter3d": [
           {
            "line": {
             "colorbar": {
              "outlinewidth": 0,
              "ticks": ""
             }
            },
            "marker": {
             "colorbar": {
              "outlinewidth": 0,
              "ticks": ""
             }
            },
            "type": "scatter3d"
           }
          ],
          "scattercarpet": [
           {
            "marker": {
             "colorbar": {
              "outlinewidth": 0,
              "ticks": ""
             }
            },
            "type": "scattercarpet"
           }
          ],
          "scattergeo": [
           {
            "marker": {
             "colorbar": {
              "outlinewidth": 0,
              "ticks": ""
             }
            },
            "type": "scattergeo"
           }
          ],
          "scattergl": [
           {
            "marker": {
             "colorbar": {
              "outlinewidth": 0,
              "ticks": ""
             }
            },
            "type": "scattergl"
           }
          ],
          "scattermapbox": [
           {
            "marker": {
             "colorbar": {
              "outlinewidth": 0,
              "ticks": ""
             }
            },
            "type": "scattermapbox"
           }
          ],
          "scatterpolar": [
           {
            "marker": {
             "colorbar": {
              "outlinewidth": 0,
              "ticks": ""
             }
            },
            "type": "scatterpolar"
           }
          ],
          "scatterpolargl": [
           {
            "marker": {
             "colorbar": {
              "outlinewidth": 0,
              "ticks": ""
             }
            },
            "type": "scatterpolargl"
           }
          ],
          "scatterternary": [
           {
            "marker": {
             "colorbar": {
              "outlinewidth": 0,
              "ticks": ""
             }
            },
            "type": "scatterternary"
           }
          ],
          "surface": [
           {
            "colorbar": {
             "outlinewidth": 0,
             "ticks": ""
            },
            "colorscale": [
             [
              0,
              "#0d0887"
             ],
             [
              0.1111111111111111,
              "#46039f"
             ],
             [
              0.2222222222222222,
              "#7201a8"
             ],
             [
              0.3333333333333333,
              "#9c179e"
             ],
             [
              0.4444444444444444,
              "#bd3786"
             ],
             [
              0.5555555555555556,
              "#d8576b"
             ],
             [
              0.6666666666666666,
              "#ed7953"
             ],
             [
              0.7777777777777778,
              "#fb9f3a"
             ],
             [
              0.8888888888888888,
              "#fdca26"
             ],
             [
              1,
              "#f0f921"
             ]
            ],
            "type": "surface"
           }
          ],
          "table": [
           {
            "cells": {
             "fill": {
              "color": "#EBF0F8"
             },
             "line": {
              "color": "white"
             }
            },
            "header": {
             "fill": {
              "color": "#C8D4E3"
             },
             "line": {
              "color": "white"
             }
            },
            "type": "table"
           }
          ]
         },
         "layout": {
          "annotationdefaults": {
           "arrowcolor": "#2a3f5f",
           "arrowhead": 0,
           "arrowwidth": 1
          },
          "autotypenumbers": "strict",
          "coloraxis": {
           "colorbar": {
            "outlinewidth": 0,
            "ticks": ""
           }
          },
          "colorscale": {
           "diverging": [
            [
             0,
             "#8e0152"
            ],
            [
             0.1,
             "#c51b7d"
            ],
            [
             0.2,
             "#de77ae"
            ],
            [
             0.3,
             "#f1b6da"
            ],
            [
             0.4,
             "#fde0ef"
            ],
            [
             0.5,
             "#f7f7f7"
            ],
            [
             0.6,
             "#e6f5d0"
            ],
            [
             0.7,
             "#b8e186"
            ],
            [
             0.8,
             "#7fbc41"
            ],
            [
             0.9,
             "#4d9221"
            ],
            [
             1,
             "#276419"
            ]
           ],
           "sequential": [
            [
             0,
             "#0d0887"
            ],
            [
             0.1111111111111111,
             "#46039f"
            ],
            [
             0.2222222222222222,
             "#7201a8"
            ],
            [
             0.3333333333333333,
             "#9c179e"
            ],
            [
             0.4444444444444444,
             "#bd3786"
            ],
            [
             0.5555555555555556,
             "#d8576b"
            ],
            [
             0.6666666666666666,
             "#ed7953"
            ],
            [
             0.7777777777777778,
             "#fb9f3a"
            ],
            [
             0.8888888888888888,
             "#fdca26"
            ],
            [
             1,
             "#f0f921"
            ]
           ],
           "sequentialminus": [
            [
             0,
             "#0d0887"
            ],
            [
             0.1111111111111111,
             "#46039f"
            ],
            [
             0.2222222222222222,
             "#7201a8"
            ],
            [
             0.3333333333333333,
             "#9c179e"
            ],
            [
             0.4444444444444444,
             "#bd3786"
            ],
            [
             0.5555555555555556,
             "#d8576b"
            ],
            [
             0.6666666666666666,
             "#ed7953"
            ],
            [
             0.7777777777777778,
             "#fb9f3a"
            ],
            [
             0.8888888888888888,
             "#fdca26"
            ],
            [
             1,
             "#f0f921"
            ]
           ]
          },
          "colorway": [
           "#636efa",
           "#EF553B",
           "#00cc96",
           "#ab63fa",
           "#FFA15A",
           "#19d3f3",
           "#FF6692",
           "#B6E880",
           "#FF97FF",
           "#FECB52"
          ],
          "font": {
           "color": "#2a3f5f"
          },
          "geo": {
           "bgcolor": "white",
           "lakecolor": "white",
           "landcolor": "#E5ECF6",
           "showlakes": true,
           "showland": true,
           "subunitcolor": "white"
          },
          "hoverlabel": {
           "align": "left"
          },
          "hovermode": "closest",
          "mapbox": {
           "style": "light"
          },
          "paper_bgcolor": "white",
          "plot_bgcolor": "#E5ECF6",
          "polar": {
           "angularaxis": {
            "gridcolor": "white",
            "linecolor": "white",
            "ticks": ""
           },
           "bgcolor": "#E5ECF6",
           "radialaxis": {
            "gridcolor": "white",
            "linecolor": "white",
            "ticks": ""
           }
          },
          "scene": {
           "xaxis": {
            "backgroundcolor": "#E5ECF6",
            "gridcolor": "white",
            "gridwidth": 2,
            "linecolor": "white",
            "showbackground": true,
            "ticks": "",
            "zerolinecolor": "white"
           },
           "yaxis": {
            "backgroundcolor": "#E5ECF6",
            "gridcolor": "white",
            "gridwidth": 2,
            "linecolor": "white",
            "showbackground": true,
            "ticks": "",
            "zerolinecolor": "white"
           },
           "zaxis": {
            "backgroundcolor": "#E5ECF6",
            "gridcolor": "white",
            "gridwidth": 2,
            "linecolor": "white",
            "showbackground": true,
            "ticks": "",
            "zerolinecolor": "white"
           }
          },
          "shapedefaults": {
           "line": {
            "color": "#2a3f5f"
           }
          },
          "ternary": {
           "aaxis": {
            "gridcolor": "white",
            "linecolor": "white",
            "ticks": ""
           },
           "baxis": {
            "gridcolor": "white",
            "linecolor": "white",
            "ticks": ""
           },
           "bgcolor": "#E5ECF6",
           "caxis": {
            "gridcolor": "white",
            "linecolor": "white",
            "ticks": ""
           }
          },
          "title": {
           "x": 0.05
          },
          "xaxis": {
           "automargin": true,
           "gridcolor": "white",
           "linecolor": "white",
           "ticks": "",
           "title": {
            "standoff": 15
           },
           "zerolinecolor": "white",
           "zerolinewidth": 2
          },
          "yaxis": {
           "automargin": true,
           "gridcolor": "white",
           "linecolor": "white",
           "ticks": "",
           "title": {
            "standoff": 15
           },
           "zerolinecolor": "white",
           "zerolinewidth": 2
          }
         }
        },
        "title": {
         "font": {
          "family": "Droid",
          "size": 20
         },
         "text": "Chord diagram of genres"
        },
        "width": 875,
        "xaxis": {
         "showgrid": false,
         "showline": false,
         "showticklabels": false,
         "title": {
          "text": ""
         },
         "zeroline": false
        },
        "yaxis": {
         "showgrid": false,
         "showline": false,
         "showticklabels": false,
         "title": {
          "text": ""
         },
         "zeroline": false
        }
       }
      },
      "text/html": [
       "<div>                            <div id=\"bd2f69b5-8ea7-4d61-8f9d-3ef7b4fa6ee8\" class=\"plotly-graph-div\" style=\"height:800px; width:875px;\"></div>            <script type=\"text/javascript\">                require([\"plotly\"], function(Plotly) {                    window.PLOTLYENV=window.PLOTLYENV || {};                                    if (document.getElementById(\"bd2f69b5-8ea7-4d61-8f9d-3ef7b4fa6ee8\")) {                    Plotly.newPlot(                        \"bd2f69b5-8ea7-4d61-8f9d-3ef7b4fa6ee8\",                        [{\"hoverinfo\":\"text\",\"line\":{\"color\":\"rgba(187, 255, 255, 0.75)\",\"shape\":\"spline\",\"width\":1},\"mode\":\"lines\",\"name\":\"Drama\",\"showlegend\":true,\"text\":\"Drama<br>4869\",\"x\":[1.1,1.0997721189796579,1.0990885703363753,1.0979496372842656,1.0963557917164672,1.0943076940096241,1.0918061927502731,1.0888523243832493,1.085447312782257,1.0815925687427836,1.0772896893975652,1.0725404575548483,1.0673468409597202,1.0617109914788159,1.0556352442087351,1.0491221165085463,1.0421743069567686,1.034794694233275,1.0269863359265692,1.0187524672669386,1.0100964997860045,1.0010220199032238,0.9915327874399328,0.9816327340615424,0.971325961648535,0.9606167405969358,0.9495095080489635,0.9380088660545932,0.9261195796647925,0.9138465749572228,0.9011949369952208,0.8881699077209103,0.8747768837833111,0.8610214143023509,0.8469091985697038,0.832446083687407,0.8176380621452363,0.802491269337843,0.7870119810226814,0.7712066107197798,0.7550817070544317,0.7386439510439099,0.7219001533293273,0.7048572513537883,0.6875223064880053,0.6699025011045665,0.6520051356020704,0.6338376253803572,0.6154074977680928,0.5967223889039782,0.5777900405728734,0.5586182969981517,0.5392151015916081,0.5195884936622746,0.49974660508549745,0.47969765693366656,0.4594499560699852,0.4390118917066936,0.41839193192917584,0.39759862018738334,0.37664057175603644,0.3555264701650636,0.334265063601764,0.31286516128617614,0.2913356298211641,0.26968538951872345,0.24792341070403717,0.22605870999880937,0.2041003465854144,0.18205741845341586,0.1599390586300024,0.13775443139591065,0.11551272848839471],\"y\":[0.0,0.022389424177359094,0.044769571764124716,0.06713117001326506,0.08946495386327923,0.11176166977698204,0.13401207957551406,0.15620696426598812,0.17833712786118672,0.20039340118972726,0.2223666456951169,0.24424775722212275,0.26602766978888837,0.2876973593432344,0.30924784750158596,0.3306702052689788,0.3519555567386016,0.37309508276934306,0.3940800246398187,0.4149016876773644,0.4355514448604925,0.4560207403933182,0.47630109325047454,0.4963841006910489,0.5162614417400829,0.5359248806361949,0.5553662702438955,0.5745775554291835,0.5935507763970226,0.6122780719893154,0.6307516829420118,0.6489639550999962,0.6669073425884287,0.6845744109392197,0.7019578401713469,0.7190504278237366,0.7358450919394537,0.7523348739999615,0.7685129418082396,0.7843725923195622,0.7999072544187642,0.815110491642846,0.829976004847787,0.8444976348184658,0.8586693648206006,0.872485323093659,0.8859397852836985,0.8990271768151341,0.9117420752004456,0.924079212286874,0.9360334764391697,0.9475999146574914,0.9587737346295797,0.9695503067163502,0.9799251658700883,0.9898940134844489,0.999452719175494,1.0085973224930307,1.0173240345615413,1.0256292396500255,1.0335094966701013,1.0409615406017507,1.0479822838461101,1.054568817504754,1.0607184125849356,1.0664285211302886,1.0716967772765194,1.0765209982316528,1.0808991851804284,1.0848295241124655,1.088310386573862,1.0913403303419102,1.093918100022651],\"type\":\"scatter\"},{\"hoverinfo\":\"text\",\"line\":{\"color\":\"rgba(127, 255, 212, 0.75)\",\"shape\":\"spline\",\"width\":1},\"mode\":\"lines\",\"name\":\"Comedy\",\"showlegend\":true,\"text\":\"Comedy<br>2070\",\"x\":[0.08109493203888066,0.05819237966947689,0.03526449975726029,0.012321271389929188,-0.010627319664585756,-0.033571285304307225,-0.05650063944041505,-0.0794054023435724,-0.10227560498748554,-0.1251012933878028,-0.14787253293446911,-0.17057941271564672,-0.19321204983132295,-0.21576059369472356,-0.238215230319665,-0.26056618659197495,-0.28280373452312435,-0.30491819548421956,-0.3268999444185097,-0.34873941403057906,-0.37042709895039927,-0.39195355987042785,-0.41330942765395545,-0.43448540741291153,-0.45547228255335354,-0.47626091878688087,-0.49684226810622545,-0.5172073727232879,-0.5373473689679111,-0.5572534911456853],\"y\":[1.0970066599604622,1.0984596701510727,1.099434588803204,1.09993099159508,1.099948662473275,1.0994875937467494,1.0985479860901954,1.0971302484566978,1.0952349978997402,1.092863059304641,1.0900154650295308,1.0866934544560325,1.0828984734498328,1.0786321737313886,1.0738964121570336,1.0686932499108042,1.0630249516073338,1.0568939843062064,1.050303016438197,1.0432549166438703,1.0357527525250374,1.02779978930962,1.0193994884304975,1.0105555060189602,1.0012716913134208,0.9915520849840801,0.9814009173742716,0.9708226066592569,0.9598217569232653,0.9484031561556223],\"type\":\"scatter\"},{\"hoverinfo\":\"text\",\"line\":{\"color\":\"rgba(155, 205, 155, 0.75)\",\"shape\":\"spline\",\"width\":1},\"mode\":\"lines\",\"name\":\"Action\",\"showlegend\":true,\"text\":\"Action<br>2715\",\"x\":[-0.5867685832337602,-0.6058079481860765,-0.6245902869773375,-0.6431076308239547,-0.6613521233717549,-0.6793160240291956,-0.696991711251467,-0.7143716857740835,-0.7314485737945982,-0.7482151301010854,-0.7646642411460681,-0.7807889280645819,-0.7965823496350989,-0.8120378051820527,-0.8271487374187351,-0.8419087352293552,-0.8563115363890841,-0.8703510302209304,-0.884021260188316,-0.8973164264222557,-0.9102308881820699,-0.9227591662485797,-0.9348959452487768,-0.9466360759109764,-0.9579745772494992,-0.9689066386779537,-0.9794276220502255,-0.9895330636283013,-0.9992186759761014,-1.008480349778509,-1.0173141555848308,-1.025716345475943,-1.0336833546544235,-1.0412118029569872,-1.0482984962885884,-1.0549404279775803,-1.0611347800513533,-1.06687892443192,-1.0721704240509264,-1.07700703388363],\"y\":[0.9304314212932869,0.9181485336886271,0.905476103170905,0.8924195062726947,0.8789842825168556,0.8651761320662781,0.8510009133054747,0.8364646403550446,0.821573480520062,0.8063337516734717,0.7907519195756074,0.7748345951309618,0.7585885315833778,0.7420206216508506,0.7251378946011529,0.7079475132695275,0.6904567710197117,0.6726730886495795,0.6546040112427223,0.6362572049672937,0.617640453823485,0.5987616563410071,0.579628822227981,0.5602500689726582,0.5406336183994143,0.5207877931804752,0.5007210133048553,0.48044179250601055,0.45995873464971515,0.43928053008369944,0.4184159519505954,0.39737385246575563,0.3761631591615232,0.3547928710995474,0.33327205505275165,0.31160984165857164,0.289815421545104,0.2678980414317919,0.24586700020632427,0.2237316449793938],\"type\":\"scatter\"},{\"hoverinfo\":\"text\",\"line\":{\"color\":\"rgba(217, 239, 139, 0.75)\",\"shape\":\"spline\",\"width\":1},\"mode\":\"lines\",\"name\":\"Romance\",\"showlegend\":true,\"text\":\"Romance<br>1335\",\"x\":[-1.0835031767253271,-1.087465186699574,-1.090886608152932,-1.093765740266666,-1.0961011517988482,-1.0978916817958393,-1.0991364401694097,-1.0998348081392102,-1.099986438540373,-1.09959125599609,-1.0986494569550849,-1.0971615095939542,-1.0951281535844344,-1.0925503997257044,-1.0894295294419083,-1.085767094145147,-1.0815649144642594,-1.0768250793397707],\"y\":[0.18979163845155284,0.16558824751914275,0.14130254121066516,0.11694659216459496,0.09253250793768909,0.06807242498621484,0.04357850263281197,0.019062917021983497,-0.005462144932771476,-0.029984491607178414,-0.054491932726754,-0.07897228542669749,-0.10341338030809864,-0.12780306748745643,-0.15212922263648934,-0.17637975300924902,-0.20054260345352942,-0.22460576240358762],\"type\":\"scatter\"},{\"hoverinfo\":\"text\",\"line\":{\"color\":\"rgba(255, 246, 143, 0.75)\",\"shape\":\"spline\",\"width\":1},\"mode\":\"lines\",\"name\":\"Adventure\",\"showlegend\":true,\"text\":\"Adventure<br>2207\",\"x\":[-1.0692386936760319,-1.063613574443173,-1.057524962845601,-1.050975512126049,-1.043968076347754,-1.0365057091507388,-1.028591662421122,-1.0202293848740402,-1.011422520550795,-1.0021749072308856,-0.9924905747596134,-0.9823737432919912,-0.9718288214537198,-0.9608604044200364,-0.9494732719132668,-0.9376723861199602,-0.9254628895285105,-0.9128501026882067,-0.8998395218906893,-0.8864368167748247,-0.8726478278560373,-0.858478563981182,-0.8439351997100589,-0.829024072624717,-0.8137516805677183,-0.798124678810563,-0.7821498771535131,-0.7658342369580758,-0.7491848681134422,-0.7322090259381997,-0.7149141080186732,-0.6973076509852661],\"y\":[-0.2583188261547603,-0.28058183166451994,-0.30272256763976196,-0.32473138578121663,-0.3465986952756322,-0.3683149669751753,-0.3898707375499636,-0.4112566136119124,-0.4324632758081048,-0.4534814828818991,-0.47430207570000416,-0.49491598124376746,-0.5153142165629374,-0.5354878926901748,-0.5554282185146125,-0.5751265046127683,-0.5945741670351481,-0.6137627310468851,-0.6326838348207862,-0.6513292330811784,-0.6696908006969635,-0.687760536222316,-0.7055305653834874,-0.722993144510187,-0.7401406639100533,-0.7569656511847388,-0.773460774486169,-0.7896188457115508,-0.8054328236357421,-0.820895816979617,-0.8360010874130878,-0.8507420524914767],\"type\":\"scatter\"},{\"hoverinfo\":\"text\",\"line\":{\"color\":\"rgba(255, 193, 193, 0.75)\",\"shape\":\"spline\",\"width\":1},\"mode\":\"lines\",\"name\":\"Crime\",\"showlegend\":true,\"text\":\"Crime<br>2225\",\"x\":[-0.6702411181045494,-0.6517300653973628,-0.6329301292708648,-0.6138496429140863,-0.5944970638716958,-0.574880970295146,-0.5550100571403491,-0.5348931323135862,-0.5145391127673495,-0.4939570205478435,-0.4731559787959081,-0.45214520770313305,-0.43093402042494366,-0.4095318189524941,-0.3879480899451696,-0.3661924005255683,-0.3442743940388169,-0.3222037857780919,-0.29999035867826207,-0.27764395897953525,-0.2551744918630538,-0.2325919170603638,-0.20990624443869557,-0.18712752956403494,-0.16426586924392422,-0.14133139705199213,-0.11833427883618697,-0.09528470821269423,-0.07219290204756038,-0.0490690959279964,-0.02592353962539285,-0.0027664925520475576],\"y\":[-0.8722252252726721,-0.8861421566865835,-0.8996663000586198,-0.9127916607278185,-0.9255124207961409,-0.9378229417072883,-0.94971776674603,-0.9611916234569258,-0.9722394259813726,-0.9828562773119464,-0.9930374714630291,-1.002778495556766,-1.0120750318234288,-1.0209229595152918,-1.0293183567331803,-1.037257502164878,-1.0447368767346186,-1.0517531651629415,-1.0583032574362075,-1.0643842501851342,-1.0699934479717306,-1.0751283644840672,-1.07978672363835,-1.0839664605878088,-1.087665722637952,-1.090882870067787,-1.0936164768566354,-1.095865331316226,-1.0976284366277833,-1.0989050112838732,-1.0996944894348115,-1.0999965211394807],\"type\":\"scatter\"},{\"hoverinfo\":\"text\",\"line\":{\"color\":\"rgba(255, 130, 71, 0.75)\",\"shape\":\"spline\",\"width\":1},\"mode\":\"lines\",\"name\":\"Thriller\",\"showlegend\":true,\"text\":\"Thriller<br>1301\",\"x\":[0.03178659825731681,0.05561693385615371,0.07942112569216775,0.10318798416711343,0.12690633723197545,0.15056503563860169,0.1741529581806085,0.1976590169211093,0.22107216240480326,0.24438138885197605,0.26757573933196505,0.29064431091367215,0.313576259790683,0.3363608063785987,0.35898724038217794,0.3814449258299089,0.40372330607363993,0.4258119087509314],\"y\":[-1.0995406368894367,-1.0985930805664308,-1.0971291103574772,-1.0951494144287015,-1.0926549233725917,-1.0896468097705545,-1.0861264876417218,-1.0820956117782665,-1.0775560769675352,-1.0725100171013693,-1.0669598041730308,-1.0609080471622019,-1.0543575908085863,-1.0473115142746876,-1.0397731296983916,-1.031745980636036,-1.0232338403966956,-1.014240710268469],\"type\":\"scatter\"},{\"hoverinfo\":\"text\",\"line\":{\"color\":\"rgba(255, 48, 48, 0.75)\",\"shape\":\"spline\",\"width\":1},\"mode\":\"lines\",\"name\":\"Horror\",\"showlegend\":true,\"text\":\"Horror<br>1836\",\"x\":[0.45745986687588264,0.47868502802462365,0.49969255387405564,0.5204728933020228,0.5410165984772248,0.5613143291546927,0.5813568569223555,0.601135069396756,0.6206399743660237,0.6398627038782025,0.6587945182730844,0.677426810155721,0.6957511083097945,0.7137590815490764,0.7314425425052199,0.7487934513501704,0.7658039194514895,0.7824662129589429,0.7987727563207101,0.8147161357276325,0.8302891024839167,0.8454845763027703,0.8602956485254746,0.8747155852624205,0.8887378304546875,0.9023560088547734],\"y\":[-1.0003651684249606,-0.9903840891013271,-0.9799527292695419,-0.9690758315724428,-0.9577583412177277,-0.9460054037296074,-0.9338223626093777,-0.9212147569059874,-0.9081883186976926,-0.8947489704859547,-0.8809028225027633,-0.8666561699326008,-0.8520154900503235,-0.836987439276253,-0.8215788501498197,-0.8057967282231296,-0.7896482488758755,-0.7731407540530317,-0.7562817489268241,-0.7390788984844813,-0.721540024043332,-0.7036730996948264,-0.6854862486790916,-0.6669877396916838,-0.6481859831242075,-0.6290895272405067],\"type\":\"scatter\"},{\"hoverinfo\":\"text\",\"line\":{\"color\":\"rgba(255, 20, 147, 0.75)\",\"shape\":\"spline\",\"width\":1},\"mode\":\"lines\",\"name\":\"Mystery\",\"showlegend\":true,\"text\":\"Mystery<br>949\",\"x\":[0.9216709302145092,0.9344804514253365,0.9468500859137153,0.9587740109382872,0.9702466135659089,0.9812624933138198,0.9918164646918047,1.0019035596431527,1.0115190298832624,1.0206583491347976,1.0293172152583345,1.0374915522775017,1.0451775122976603],\"y\":[-0.6004354223374246,-0.5802984455466854,-0.559888305651395,-0.539214610289177,-0.5182870911607639,-0.4971155994490074,-0.4757101011816443,-0.45408067254000095,-0.4322374951158492,-0.4101908511186344,-0.38795111853534836,-0.3655287662453124,-0.34293434909217624],\"type\":\"scatter\"},{\"hoverinfo\":\"text\",\"line\":{\"color\":\"rgba(72, 118, 255, 0.75)\",\"shape\":\"spline\",\"width\":1},\"mode\":\"lines\",\"name\":\"Sci-Fi\",\"showlegend\":true,\"text\":\"Sci-Fi<br>929\",\"x\":[1.0554336085071954,1.062313784958855,1.068626628453492,1.0743687675916023,1.0795371357606436,1.0841289727727716,1.088141826338929,1.0915735533785005,1.094422321163834,1.0966866082990154,1.0983652055323776,1.0994572164023046],\"y\":[-0.309935312659723,-0.2854635218138937,-0.2608392780240783,-0.2360757319668882,-0.21118610871386806,-0.18618370066860085,-0.1610818604678383,-0.13589399385047932,-0.1106335524981734,-0.08531402685140341,-0.05994893890485392,-0.03455183498594315],\"type\":\"scatter\"},{\"hoverinfo\":\"text\",\"marker\":{\"color\":\"rgba(187, 255, 255, 0.75)\",\"size\":0.5},\"mode\":\"markers\",\"showlegend\":false,\"text\":[\"Drama genre has 547 occurences with Comedy genre\"],\"x\":[0.8123359937283062],\"y\":[0.38744061905464333],\"type\":\"scatter\"},{\"hoverinfo\":\"text\",\"marker\":{\"color\":\"rgba(187, 255, 255, 0.75)\",\"size\":0.5},\"mode\":\"markers\",\"showlegend\":false,\"text\":[\"Comedy genre has 547 occurences with Drama genre\"],\"x\":[-0.392515118090165],\"y\":[0.8098962168516802],\"type\":\"scatter\"},{\"hoverinfo\":\"text\",\"marker\":{\"color\":\"rgba(187, 255, 255, 0.75)\",\"size\":0.5},\"mode\":\"markers\",\"showlegend\":false,\"text\":[\"Drama genre has 574 occurences with Action genre\"],\"x\":[0.7357455779421533],\"y\":[0.5183420150234465],\"type\":\"scatter\"},{\"hoverinfo\":\"text\",\"marker\":{\"color\":\"rgba(187, 255, 255, 0.75)\",\"size\":0.5},\"mode\":\"markers\",\"showlegend\":false,\"text\":[\"Action genre has 574 occurences with Drama genre\"],\"x\":[-0.7781370930777294],\"y\":[0.45221970808064216],\"type\":\"scatter\"},{\"hoverinfo\":\"text\",\"marker\":{\"color\":\"rgba(187, 255, 255, 0.75)\",\"size\":0.5},\"mode\":\"markers\",\"showlegend\":false,\"text\":[\"Drama genre has 606 occurences with Romance genre\"],\"x\":[0.6326030395432471],\"y\":[0.6401666926361015],\"type\":\"scatter\"},{\"hoverinfo\":\"text\",\"marker\":{\"color\":\"rgba(187, 255, 255, 0.75)\",\"size\":0.5},\"mode\":\"markers\",\"showlegend\":false,\"text\":[\"Romance genre has 606 occurences with Drama genre\"],\"x\":[-0.8935703494165316],\"y\":[-0.10738729274740873],\"type\":\"scatter\"},{\"hoverinfo\":\"text\",\"marker\":{\"color\":\"rgba(187, 255, 255, 0.75)\",\"size\":0.5},\"mode\":\"markers\",\"showlegend\":false,\"text\":[\"Drama genre has 500 occurences with Adventure genre\"],\"x\":[0.8630705773344924],\"y\":[0.2551650025757959],\"type\":\"scatter\"},{\"hoverinfo\":\"text\",\"marker\":{\"color\":\"rgba(187, 255, 255, 0.75)\",\"size\":0.5},\"mode\":\"markers\",\"showlegend\":false,\"text\":[\"Adventure genre has 500 occurences with Drama genre\"],\"x\":[-0.7546327061627291],\"y\":[-0.49043804786080397],\"type\":\"scatter\"},{\"hoverinfo\":\"text\",\"marker\":{\"color\":\"rgba(187, 255, 255, 0.75)\",\"size\":0.5},\"mode\":\"markers\",\"showlegend\":false,\"text\":[\"Drama genre has 851 occurences with Crime genre\"],\"x\":[0.478200099380294],\"y\":[0.7624464997314087],\"type\":\"scatter\"},{\"hoverinfo\":\"text\",\"marker\":{\"color\":\"rgba(187, 255, 255, 0.75)\",\"size\":0.5},\"mode\":\"markers\",\"showlegend\":false,\"text\":[\"Crime genre has 851 occurences with Drama genre\"],\"x\":[-0.11428756610244929],\"y\":[-0.8927140372114568],\"type\":\"scatter\"},{\"hoverinfo\":\"text\",\"marker\":{\"color\":\"rgba(187, 255, 255, 0.75)\",\"size\":0.5},\"mode\":\"markers\",\"showlegend\":false,\"text\":[\"Drama genre has 316 occurences with Thriller genre\"],\"x\":[0.8878282863517801],\"y\":[0.14751587695452148],\"type\":\"scatter\"},{\"hoverinfo\":\"text\",\"marker\":{\"color\":\"rgba(187, 255, 255, 0.75)\",\"size\":0.5},\"mode\":\"markers\",\"showlegend\":false,\"text\":[\"Thriller genre has 316 occurences with Drama genre\"],\"x\":[0.31090928013536145],\"y\":[-0.8445918656521098],\"type\":\"scatter\"},{\"hoverinfo\":\"text\",\"marker\":{\"color\":\"rgba(187, 255, 255, 0.75)\",\"size\":0.5},\"mode\":\"markers\",\"showlegend\":false,\"text\":[\"Drama genre has 1086 occurences with Horror genre\"],\"x\":[0.23888793188356247],\"y\":[0.8677168639598948],\"type\":\"scatter\"},{\"hoverinfo\":\"text\",\"marker\":{\"color\":\"rgba(187, 255, 255, 0.75)\",\"size\":0.5},\"mode\":\"markers\",\"showlegend\":false,\"text\":[\"Horror genre has 1086 occurences with Drama genre\"],\"x\":[0.6483226323675914],\"y\":[-0.6242417515353783],\"type\":\"scatter\"},{\"hoverinfo\":\"text\",\"marker\":{\"color\":\"rgba(187, 255, 255, 0.75)\",\"size\":0.5},\"mode\":\"markers\",\"showlegend\":false,\"text\":[\"Drama genre has 280 occurences with Mystery genre\"],\"x\":[0.8974732993102843],\"y\":[0.0673919655827967],\"type\":\"scatter\"},{\"hoverinfo\":\"text\",\"marker\":{\"color\":\"rgba(187, 255, 255, 0.75)\",\"size\":0.5},\"mode\":\"markers\",\"showlegend\":false,\"text\":[\"Mystery genre has 280 occurences with Drama genre\"],\"x\":[0.8437401802836454],\"y\":[-0.3132131992348368],\"type\":\"scatter\"},{\"hoverinfo\":\"text\",\"marker\":{\"color\":\"rgba(187, 255, 255, 0.75)\",\"size\":0.5},\"mode\":\"markers\",\"showlegend\":false,\"text\":[\"Drama genre has 109 occurences with Sci-Fi genre\"],\"x\":[0.8998789006857251],\"y\":[0.01476360730482521],\"type\":\"scatter\"},{\"hoverinfo\":\"text\",\"marker\":{\"color\":\"rgba(187, 255, 255, 0.75)\",\"size\":0.5},\"mode\":\"markers\",\"showlegend\":false,\"text\":[\"Sci-Fi genre has 109 occurences with Drama genre\"],\"x\":[0.8802342234870004],\"y\":[-0.18758387937730017],\"type\":\"scatter\"},{\"hoverinfo\":\"text\",\"marker\":{\"color\":\"rgba(127, 255, 212, 0.75)\",\"size\":0.5},\"mode\":\"markers\",\"showlegend\":false,\"text\":[\"Comedy genre has 280 occurences with Action genre\"],\"x\":[-0.10120199507556707],\"y\":[0.8942919859826124],\"type\":\"scatter\"},{\"hoverinfo\":\"text\",\"marker\":{\"color\":\"rgba(127, 255, 212, 0.75)\",\"size\":0.5},\"mode\":\"markers\",\"showlegend\":false,\"text\":[\"Action genre has 280 occurences with Comedy genre\"],\"x\":[-0.6468839739412835],\"y\":[0.6257324701962755],\"type\":\"scatter\"},{\"hoverinfo\":\"text\",\"marker\":{\"color\":\"rgba(127, 255, 212, 0.75)\",\"size\":0.5},\"mode\":\"markers\",\"showlegend\":false,\"text\":[\"Comedy genre has 370 occurences with Romance genre\"],\"x\":[-0.18556772502615734],\"y\":[0.8806614669829812],\"type\":\"scatter\"},{\"hoverinfo\":\"text\",\"marker\":{\"color\":\"rgba(127, 255, 212, 0.75)\",\"size\":0.5},\"mode\":\"markers\",\"showlegend\":false,\"text\":[\"Romance genre has 370 occurences with Comedy genre\"],\"x\":[-0.8998383945541131],\"y\":[0.01705472621522775],\"type\":\"scatter\"},{\"hoverinfo\":\"text\",\"marker\":{\"color\":\"rgba(127, 255, 212, 0.75)\",\"size\":0.5},\"mode\":\"markers\",\"showlegend\":false,\"text\":[\"Comedy genre has 375 occurences with Adventure genre\"],\"x\":[-0.28016105512440004],\"y\":[0.855283451957059],\"type\":\"scatter\"},{\"hoverinfo\":\"text\",\"marker\":{\"color\":\"rgba(127, 255, 212, 0.75)\",\"size\":0.5},\"mode\":\"markers\",\"showlegend\":false,\"text\":[\"Adventure genre has 375 occurences with Comedy genre\"],\"x\":[-0.8111749850748939],\"y\":[-0.38986554552658986],\"type\":\"scatter\"},{\"hoverinfo\":\"text\",\"marker\":{\"color\":\"rgba(127, 255, 212, 0.75)\",\"size\":0.5},\"mode\":\"markers\",\"showlegend\":false,\"text\":[\"Comedy genre has 259 occurences with Crime genre\"],\"x\":[-0.030518139173424844],\"y\":[0.8994824307241311],\"type\":\"scatter\"},{\"hoverinfo\":\"text\",\"marker\":{\"color\":\"rgba(127, 255, 212, 0.75)\",\"size\":0.5},\"mode\":\"markers\",\"showlegend\":false,\"text\":[\"Crime genre has 259 occurences with Comedy genre\"],\"x\":[-0.4174106997912298],\"y\":[-0.7973508059190734],\"type\":\"scatter\"},{\"hoverinfo\":\"text\",\"marker\":{\"color\":\"rgba(127, 255, 212, 0.75)\",\"size\":0.5},\"mode\":\"markers\",\"showlegend\":false,\"text\":[\"Comedy genre has 26 occurences with Thriller genre\"],\"x\":[0.06293955865507889],\"y\":[0.8977965314904619],\"type\":\"scatter\"},{\"hoverinfo\":\"text\",\"marker\":{\"color\":\"rgba(127, 255, 212, 0.75)\",\"size\":0.5},\"mode\":\"markers\",\"showlegend\":false,\"text\":[\"Thriller genre has 26 occurences with Comedy genre\"],\"x\":[0.02932036612629539],\"y\":[-0.899522271058488],\"type\":\"scatter\"},{\"hoverinfo\":\"text\",\"marker\":{\"color\":\"rgba(127, 255, 212, 0.75)\",\"size\":0.5},\"mode\":\"markers\",\"showlegend\":false,\"text\":[\"Comedy genre has 89 occurences with Horror genre\"],\"x\":[0.015246317580463917],\"y\":[0.8998708517338672],\"type\":\"scatter\"},{\"hoverinfo\":\"text\",\"marker\":{\"color\":\"rgba(127, 255, 212, 0.75)\",\"size\":0.5},\"mode\":\"markers\",\"showlegend\":false,\"text\":[\"Horror genre has 89 occurences with Comedy genre\"],\"x\":[0.43277273763366425],\"y\":[-0.7891183419241145],\"type\":\"scatter\"},{\"hoverinfo\":\"text\",\"marker\":{\"color\":\"rgba(127, 255, 212, 0.75)\",\"size\":0.5},\"mode\":\"markers\",\"showlegend\":false,\"text\":[\"Comedy genre has 52 occurences with Mystery genre\"],\"x\":[0.05270178279383671],\"y\":[0.8984556316760173],\"type\":\"scatter\"},{\"hoverinfo\":\"text\",\"marker\":{\"color\":\"rgba(127, 255, 212, 0.75)\",\"size\":0.5},\"mode\":\"markers\",\"showlegend\":false,\"text\":[\"Mystery genre has 52 occurences with Comedy genre\"],\"x\":[0.7750513790955686],\"y\":[-0.4574880979457905],\"type\":\"scatter\"},{\"hoverinfo\":\"text\",\"marker\":{\"color\":\"rgba(127, 255, 212, 0.75)\",\"size\":0.5},\"mode\":\"markers\",\"showlegend\":false,\"text\":[\"Comedy genre has 72 occurences with Sci-Fi genre\"],\"x\":[0.03641278668537353],\"y\":[0.8992630921848208],\"type\":\"scatter\"},{\"hoverinfo\":\"text\",\"marker\":{\"color\":\"rgba(127, 255, 212, 0.75)\",\"size\":0.5},\"mode\":\"markers\",\"showlegend\":false,\"text\":[\"Sci-Fi genre has 72 occurences with Comedy genre\"],\"x\":[0.8753193967864835],\"y\":[-0.20932260654154566],\"type\":\"scatter\"},{\"hoverinfo\":\"text\",\"marker\":{\"color\":\"rgba(155, 205, 155, 0.75)\",\"size\":0.5},\"mode\":\"markers\",\"showlegend\":false,\"text\":[\"Action genre has 66 occurences with Romance genre\"],\"x\":[-0.49596876930630335],\"y\":[0.7510093074475115],\"type\":\"scatter\"},{\"hoverinfo\":\"text\",\"marker\":{\"color\":\"rgba(155, 205, 155, 0.75)\",\"size\":0.5},\"mode\":\"markers\",\"showlegend\":false,\"text\":[\"Romance genre has 66 occurences with Action genre\"],\"x\":[-0.8918020113893197],\"y\":[0.12119889637271367],\"type\":\"scatter\"},{\"hoverinfo\":\"text\",\"marker\":{\"color\":\"rgba(155, 205, 155, 0.75)\",\"size\":0.5},\"mode\":\"markers\",\"showlegend\":false,\"text\":[\"Action genre has 800 occurences with Adventure genre\"],\"x\":[-0.8534084987263054],\"y\":[0.2858215077661472],\"type\":\"scatter\"},{\"hoverinfo\":\"text\",\"marker\":{\"color\":\"rgba(155, 205, 155, 0.75)\",\"size\":0.5},\"mode\":\"markers\",\"showlegend\":false,\"text\":[\"Adventure genre has 800 occurences with Action genre\"],\"x\":[-0.6480578758319427],\"y\":[-0.6245166047209557],\"type\":\"scatter\"},{\"hoverinfo\":\"text\",\"marker\":{\"color\":\"rgba(155, 205, 155, 0.75)\",\"size\":0.5},\"mode\":\"markers\",\"showlegend\":false,\"text\":[\"Action genre has 392 occurences with Crime genre\"],\"x\":[-0.7057960982891498],\"y\":[0.5584369862749179],\"type\":\"scatter\"},{\"hoverinfo\":\"text\",\"marker\":{\"color\":\"rgba(155, 205, 155, 0.75)\",\"size\":0.5},\"mode\":\"markers\",\"showlegend\":false,\"text\":[\"Crime genre has 392 occurences with Action genre\"],\"x\":[-0.27424337211807137],\"y\":[-0.8571992608777197],\"type\":\"scatter\"},{\"hoverinfo\":\"text\",\"marker\":{\"color\":\"rgba(155, 205, 155, 0.75)\",\"size\":0.5},\"mode\":\"markers\",\"showlegend\":false,\"text\":[\"Action genre has 260 occurences with Thriller genre\"],\"x\":[-0.5948847477406871],\"y\":[0.6753607457540741],\"type\":\"scatter\"},{\"hoverinfo\":\"text\",\"marker\":{\"color\":\"rgba(155, 205, 155, 0.75)\",\"size\":0.5},\"mode\":\"markers\",\"showlegend\":false,\"text\":[\"Thriller genre has 260 occurences with Action genre\"],\"x\":[0.17581999234954745],\"y\":[-0.8826592379226567],\"type\":\"scatter\"},{\"hoverinfo\":\"text\",\"marker\":{\"color\":\"rgba(155, 205, 155, 0.75)\",\"size\":0.5},\"mode\":\"markers\",\"showlegend\":false,\"text\":[\"Action genre has 75 occurences with Horror genre\"],\"x\":[-0.5115257281125208],\"y\":[0.740500796406699],\"type\":\"scatter\"},{\"hoverinfo\":\"text\",\"marker\":{\"color\":\"rgba(155, 205, 155, 0.75)\",\"size\":0.5},\"mode\":\"markers\",\"showlegend\":false,\"text\":[\"Horror genre has 75 occurences with Action genre\"],\"x\":[0.4138642628472277],\"y\":[-0.7991973297865308],\"type\":\"scatter\"},{\"hoverinfo\":\"text\",\"marker\":{\"color\":\"rgba(155, 205, 155, 0.75)\",\"size\":0.5},\"mode\":\"markers\",\"showlegend\":false,\"text\":[\"Action genre has 38 occurences with Mystery genre\"],\"x\":[-0.4843554585317706],\"y\":[0.758551112180635],\"type\":\"scatter\"},{\"hoverinfo\":\"text\",\"marker\":{\"color\":\"rgba(155, 205, 155, 0.75)\",\"size\":0.5},\"mode\":\"markers\",\"showlegend\":false,\"text\":[\"Mystery genre has 38 occurences with Action genre\"],\"x\":[0.7637814370912986],\"y\":[-0.4760650337451288],\"type\":\"scatter\"},{\"hoverinfo\":\"text\",\"marker\":{\"color\":\"rgba(155, 205, 155, 0.75)\",\"size\":0.5},\"mode\":\"markers\",\"showlegend\":false,\"text\":[\"Action genre has 230 occurences with Sci-Fi genre\"],\"x\":[-0.5444070069205268],\"y\":[0.7166735734041221],\"type\":\"scatter\"},{\"hoverinfo\":\"text\",\"marker\":{\"color\":\"rgba(155, 205, 155, 0.75)\",\"size\":0.5},\"mode\":\"markers\",\"showlegend\":false,\"text\":[\"Sci-Fi genre has 230 occurences with Action genre\"],\"x\":[0.8982210791113746],\"y\":[-0.05655875741207301],\"type\":\"scatter\"},{\"hoverinfo\":\"text\",\"marker\":{\"color\":\"rgba(217, 239, 139, 0.75)\",\"size\":0.5},\"mode\":\"markers\",\"showlegend\":false,\"text\":[\"Romance genre has 109 occurences with Adventure genre\"],\"x\":[-0.8965999543103408],\"y\":[0.07815703378900049],\"type\":\"scatter\"},{\"hoverinfo\":\"text\",\"marker\":{\"color\":\"rgba(217, 239, 139, 0.75)\",\"size\":0.5},\"mode\":\"markers\",\"showlegend\":false,\"text\":[\"Adventure genre has 109 occurences with Romance genre\"],\"x\":[-0.8526702295094284],\"y\":[-0.28801645735676096],\"type\":\"scatter\"},{\"hoverinfo\":\"text\",\"marker\":{\"color\":\"rgba(217, 239, 139, 0.75)\",\"size\":0.5},\"mode\":\"markers\",\"showlegend\":false,\"text\":[\"Romance genre has 82 occurences with Crime genre\"],\"x\":[-0.8941514303216824],\"y\":[0.10243641761448613],\"type\":\"scatter\"},{\"hoverinfo\":\"text\",\"marker\":{\"color\":\"rgba(217, 239, 139, 0.75)\",\"size\":0.5},\"mode\":\"markers\",\"showlegend\":false,\"text\":[\"Crime genre has 82 occurences with Romance genre\"],\"x\":[-0.5235685637627209],\"y\":[-0.7320354902868041],\"type\":\"scatter\"},{\"hoverinfo\":\"text\",\"marker\":{\"color\":\"rgba(217, 239, 139, 0.75)\",\"size\":0.5},\"mode\":\"markers\",\"showlegend\":false,\"text\":[\"Romance genre has 26 occurences with Thriller genre\"],\"x\":[-0.88897934322395],\"y\":[0.1404127035603067],\"type\":\"scatter\"},{\"hoverinfo\":\"text\",\"marker\":{\"color\":\"rgba(217, 239, 139, 0.75)\",\"size\":0.5},\"mode\":\"markers\",\"showlegend\":false,\"text\":[\"Thriller genre has 26 occurences with Romance genre\"],\"x\":[0.03594542677211598],\"y\":[-0.8992818947883753],\"type\":\"scatter\"},{\"hoverinfo\":\"text\",\"marker\":{\"color\":\"rgba(217, 239, 139, 0.75)\",\"size\":0.5},\"mode\":\"markers\",\"showlegend\":false,\"text\":[\"Romance genre has 30 occurences with Horror genre\"],\"x\":[-0.8900675033520254],\"y\":[0.13334106448012242],\"type\":\"scatter\"},{\"hoverinfo\":\"text\",\"marker\":{\"color\":\"rgba(217, 239, 139, 0.75)\",\"size\":0.5},\"mode\":\"markers\",\"showlegend\":false,\"text\":[\"Horror genre has 30 occurences with Romance genre\"],\"x\":[0.37784641875576586],\"y\":[-0.8168427534314315],\"type\":\"scatter\"},{\"hoverinfo\":\"text\",\"marker\":{\"color\":\"rgba(217, 239, 139, 0.75)\",\"size\":0.5},\"mode\":\"markers\",\"showlegend\":false,\"text\":[\"Romance genre has 25 occurences with Mystery genre\"],\"x\":[-0.8879394553733975],\"y\":[0.14684523686927806],\"type\":\"scatter\"},{\"hoverinfo\":\"text\",\"marker\":{\"color\":\"rgba(217, 239, 139, 0.75)\",\"size\":0.5},\"mode\":\"markers\",\"showlegend\":false,\"text\":[\"Mystery genre has 25 occurences with Romance genre\"],\"x\":[0.7557747080031008],\"y\":[-0.48867636605715636],\"type\":\"scatter\"},{\"hoverinfo\":\"text\",\"marker\":{\"color\":\"rgba(217, 239, 139, 0.75)\",\"size\":0.5},\"mode\":\"markers\",\"showlegend\":false,\"text\":[\"Romance genre has 21 occurences with Sci-Fi genre\"],\"x\":[-0.8869615924930306],\"y\":[0.15264053669398228],\"type\":\"scatter\"},{\"hoverinfo\":\"text\",\"marker\":{\"color\":\"rgba(217, 239, 139, 0.75)\",\"size\":0.5},\"mode\":\"markers\",\"showlegend\":false,\"text\":[\"Sci-Fi genre has 21 occurences with Romance genre\"],\"x\":[0.8642616237878821],\"y\":[-0.2511012657226832],\"type\":\"scatter\"},{\"hoverinfo\":\"text\",\"marker\":{\"color\":\"rgba(255, 246, 143, 0.75)\",\"size\":0.5},\"mode\":\"markers\",\"showlegend\":false,\"text\":[\"Adventure genre has 84 occurences with Crime genre\"],\"x\":[-0.8669258464782293],\"y\":[-0.24174279039509236],\"type\":\"scatter\"},{\"hoverinfo\":\"text\",\"marker\":{\"color\":\"rgba(255, 246, 143, 0.75)\",\"size\":0.5},\"mode\":\"markers\",\"showlegend\":false,\"text\":[\"Crime genre has 84 occurences with Adventure genre\"],\"x\":[-0.5055922943310849],\"y\":[-0.744564592169833],\"type\":\"scatter\"},{\"hoverinfo\":\"text\",\"marker\":{\"color\":\"rgba(255, 246, 143, 0.75)\",\"size\":0.5},\"mode\":\"markers\",\"showlegend\":false,\"text\":[\"Adventure genre has 87 occurences with Thriller genre\"],\"x\":[-0.8605934427670121],\"y\":[-0.2633987970102018],\"type\":\"scatter\"},{\"hoverinfo\":\"text\",\"marker\":{\"color\":\"rgba(255, 246, 143, 0.75)\",\"size\":0.5},\"mode\":\"markers\",\"showlegend\":false,\"text\":[\"Thriller genre has 87 occurences with Adventure genre\"],\"x\":[0.06636460409047848],\"y\":[-0.8975498533919517],\"type\":\"scatter\"},{\"hoverinfo\":\"text\",\"marker\":{\"color\":\"rgba(255, 246, 143, 0.75)\",\"size\":0.5},\"mode\":\"markers\",\"showlegend\":false,\"text\":[\"Adventure genre has 48 occurences with Horror genre\"],\"x\":[-0.8714415813714022],\"y\":[-0.22492125345753738],\"type\":\"scatter\"},{\"hoverinfo\":\"text\",\"marker\":{\"color\":\"rgba(255, 246, 143, 0.75)\",\"size\":0.5},\"mode\":\"markers\",\"showlegend\":false,\"text\":[\"Horror genre has 48 occurences with Adventure genre\"],\"x\":[0.3870714998774959],\"y\":[-0.8125119408246169],\"type\":\"scatter\"},{\"hoverinfo\":\"text\",\"marker\":{\"color\":\"rgba(255, 246, 143, 0.75)\",\"size\":0.5},\"mode\":\"markers\",\"showlegend\":false,\"text\":[\"Adventure genre has 29 occurences with Mystery genre\"],\"x\":[-0.8739251455346425],\"y\":[-0.2150693841583549],\"type\":\"scatter\"},{\"hoverinfo\":\"text\",\"marker\":{\"color\":\"rgba(255, 246, 143, 0.75)\",\"size\":0.5},\"mode\":\"markers\",\"showlegend\":false,\"text\":[\"Mystery genre has 29 occurences with Adventure genre\"],\"x\":[0.7593738181094313],\"y\":[-0.4830645964774322],\"type\":\"scatter\"},{\"hoverinfo\":\"text\",\"marker\":{\"color\":\"rgba(255, 246, 143, 0.75)\",\"size\":0.5},\"mode\":\"markers\",\"showlegend\":false,\"text\":[\"Adventure genre has 175 occurences with Sci-Fi genre\"],\"x\":[-0.8399423772683583],\"y\":[-0.3232596523984687],\"type\":\"scatter\"},{\"hoverinfo\":\"text\",\"marker\":{\"color\":\"rgba(255, 246, 143, 0.75)\",\"size\":0.5},\"mode\":\"markers\",\"showlegend\":false,\"text\":[\"Sci-Fi genre has 175 occurences with Adventure genre\"],\"x\":[0.8868568785868326],\"y\":[-0.1532477631263178],\"type\":\"scatter\"},{\"hoverinfo\":\"text\",\"marker\":{\"color\":\"rgba(255, 193, 193, 0.75)\",\"size\":0.5},\"mode\":\"markers\",\"showlegend\":false,\"text\":[\"Crime genre has 263 occurences with Thriller genre\"],\"x\":[-0.35520159212781877],\"y\":[-0.8269412487896965],\"type\":\"scatter\"},{\"hoverinfo\":\"text\",\"marker\":{\"color\":\"rgba(255, 193, 193, 0.75)\",\"size\":0.5},\"mode\":\"markers\",\"showlegend\":false,\"text\":[\"Thriller genre has 263 occurences with Crime genre\"],\"x\":[0.24067002482257885],\"y\":[-0.8672242726953041],\"type\":\"scatter\"},{\"hoverinfo\":\"text\",\"marker\":{\"color\":\"rgba(255, 193, 193, 0.75)\",\"size\":0.5},\"mode\":\"markers\",\"showlegend\":false,\"text\":[\"Crime genre has 53 occurences with Horror genre\"],\"x\":[-0.537959480781274],\"y\":[-0.7215258810587062],\"type\":\"scatter\"},{\"hoverinfo\":\"text\",\"marker\":{\"color\":\"rgba(255, 193, 193, 0.75)\",\"size\":0.5},\"mode\":\"markers\",\"showlegend\":false,\"text\":[\"Horror genre has 53 occurences with Crime genre\"],\"x\":[0.3989428855135223],\"y\":[-0.8067493874172726],\"type\":\"scatter\"},{\"hoverinfo\":\"text\",\"marker\":{\"color\":\"rgba(255, 193, 193, 0.75)\",\"size\":0.5},\"mode\":\"markers\",\"showlegend\":false,\"text\":[\"Crime genre has 218 occurences with Mystery genre\"],\"x\":[-0.47212750334704084],\"y\":[-0.7662216523847979],\"type\":\"scatter\"},{\"hoverinfo\":\"text\",\"marker\":{\"color\":\"rgba(255, 193, 193, 0.75)\",\"size\":0.5},\"mode\":\"markers\",\"showlegend\":false,\"text\":[\"Mystery genre has 218 occurences with Crime genre\"],\"x\":[0.8203920408038082],\"y\":[-0.3700768830739942],\"type\":\"scatter\"},{\"hoverinfo\":\"text\",\"marker\":{\"color\":\"rgba(255, 193, 193, 0.75)\",\"size\":0.5},\"mode\":\"markers\",\"showlegend\":false,\"text\":[\"Crime genre has 23 occurences with Sci-Fi genre\"],\"x\":[-0.5459686077256786],\"y\":[-0.715484646500597],\"type\":\"scatter\"},{\"hoverinfo\":\"text\",\"marker\":{\"color\":\"rgba(255, 193, 193, 0.75)\",\"size\":0.5},\"mode\":\"markers\",\"showlegend\":false,\"text\":[\"Sci-Fi genre has 23 occurences with Crime genre\"],\"x\":[0.8657576022158933],\"y\":[-0.24589382709898824],\"type\":\"scatter\"},{\"hoverinfo\":\"text\",\"marker\":{\"color\":\"rgba(255, 130, 71, 0.75)\",\"size\":0.5},\"mode\":\"markers\",\"showlegend\":false,\"text\":[\"Thriller genre has 129 occurences with Horror genre\"],\"x\":[0.09379194119237003],\"y\":[-0.8950994759060956],\"type\":\"scatter\"},{\"hoverinfo\":\"text\",\"marker\":{\"color\":\"rgba(255, 130, 71, 0.75)\",\"size\":0.5},\"mode\":\"markers\",\"showlegend\":false,\"text\":[\"Horror genre has 129 occurences with Thriller genre\"],\"x\":[0.4575256202980389],\"y\":[-0.7750292296235638],\"type\":\"scatter\"},{\"hoverinfo\":\"text\",\"marker\":{\"color\":\"rgba(255, 130, 71, 0.75)\",\"size\":0.5},\"mode\":\"markers\",\"showlegend\":false,\"text\":[\"Thriller genre has 131 occurences with Mystery genre\"],\"x\":[0.1266875708119521],\"y\":[-0.891038865258843],\"type\":\"scatter\"},{\"hoverinfo\":\"text\",\"marker\":{\"color\":\"rgba(255, 130, 71, 0.75)\",\"size\":0.5},\"mode\":\"markers\",\"showlegend\":false,\"text\":[\"Mystery genre has 131 occurences with Thriller genre\"],\"x\":[0.7862904158533417],\"y\":[-0.4378896915173718],\"type\":\"scatter\"},{\"hoverinfo\":\"text\",\"marker\":{\"color\":\"rgba(255, 130, 71, 0.75)\",\"size\":0.5},\"mode\":\"markers\",\"showlegend\":false,\"text\":[\"Thriller genre has 63 occurences with Sci-Fi genre\"],\"x\":[0.04727974943273347],\"y\":[-0.8987572671714972],\"type\":\"scatter\"},{\"hoverinfo\":\"text\",\"marker\":{\"color\":\"rgba(255, 130, 71, 0.75)\",\"size\":0.5},\"mode\":\"markers\",\"showlegend\":false,\"text\":[\"Sci-Fi genre has 63 occurences with Thriller genre\"],\"x\":[0.8713039742008736],\"y\":[-0.22545373037890398],\"type\":\"scatter\"},{\"hoverinfo\":\"text\",\"marker\":{\"color\":\"rgba(255, 48, 48, 0.75)\",\"size\":0.5},\"mode\":\"markers\",\"showlegend\":false,\"text\":[\"Horror genre has 133 occurences with Mystery genre\"],\"x\":[0.48666605856841044],\"y\":[-0.757070767786928],\"type\":\"scatter\"},{\"hoverinfo\":\"text\",\"marker\":{\"color\":\"rgba(255, 48, 48, 0.75)\",\"size\":0.5},\"mode\":\"markers\",\"showlegend\":false,\"text\":[\"Mystery genre has 133 occurences with Horror genre\"],\"x\":[0.8016293668386295],\"y\":[-0.4091336679153868],\"type\":\"scatter\"},{\"hoverinfo\":\"text\",\"marker\":{\"color\":\"rgba(255, 48, 48, 0.75)\",\"size\":0.5},\"mode\":\"markers\",\"showlegend\":false,\"text\":[\"Horror genre has 193 occurences with Sci-Fi genre\"],\"x\":[0.5219371615511499],\"y\":[-0.7331995631422109],\"type\":\"scatter\"},{\"hoverinfo\":\"text\",\"marker\":{\"color\":\"rgba(255, 48, 48, 0.75)\",\"size\":0.5},\"mode\":\"markers\",\"showlegend\":false,\"text\":[\"Sci-Fi genre has 193 occurences with Horror genre\"],\"x\":[0.8934457053523628],\"y\":[-0.10841942440088415],\"type\":\"scatter\"},{\"hoverinfo\":\"text\",\"marker\":{\"color\":\"rgba(255, 20, 147, 0.75)\",\"size\":0.5},\"mode\":\"markers\",\"showlegend\":false,\"text\":[\"Mystery genre has 43 occurences with Sci-Fi genre\"],\"x\":[0.7690238697911244],\"y\":[-0.46754923558004446],\"type\":\"scatter\"},{\"hoverinfo\":\"text\",\"marker\":{\"color\":\"rgba(255, 20, 147, 0.75)\",\"size\":0.5},\"mode\":\"markers\",\"showlegend\":false,\"text\":[\"Sci-Fi genre has 43 occurences with Mystery genre\"],\"x\":[0.8679427230563063],\"y\":[-0.2380660191913244],\"type\":\"scatter\"}],                        {\"height\":800,\"hovermode\":\"closest\",\"margin\":{\"b\":25,\"l\":25,\"r\":25,\"t\":25},\"plot_bgcolor\":\"#FFFFFF\",\"shapes\":[{\"fillcolor\":\"rgba(187, 255, 255, 0.75)\",\"layer\":\"below\",\"line\":{\"color\":\"rgb(139,137,137)\",\"width\":0.5},\"path\":\"M 0.9349385856839758,0.3548095841423214 Q 0.06640094189993961, 0.1886555456773027 -0.5065940828597139, 0.8621846874142021L -0.5065940828597139, 0.8621846874142021 L -0.4361279089890722, 0.8998846853907558 L -0.3628762858157171, 0.9318373254987106 M -0.3628762858157171,0.9318373254987106 Q 0.06595059053848977, 0.18881345187148205 0.8641387504614862, 0.5032536338178407L 0.8641387504614862, 0.5032536338178407 L 0.9025955485870069, 0.4304895767273815 L 0.9349385856839758, 0.3548095841423214 \",\"type\":\"path\"},{\"fillcolor\":\"rgba(187, 255, 255, 0.75)\",\"layer\":\"below\",\"line\":{\"color\":\"rgb(139,137,137)\",\"width\":0.5},\"path\":\"M 0.8641387504614862,0.5032536338178407 Q -0.008580361483225232, 0.19981585872201735 -0.904098967199426, 0.42732313008884903L -0.904098967199426, 0.42732313008884903 L -0.8645967700863659, 0.5024663423118246 L -0.8188634881006689, 0.5739883168284923 M -0.8188634881006689,0.5739883168284923 Q -0.008873912749398315, 0.19980303719542422 0.7647543027749426, 0.6443220129618509L 0.7647543027749426, 0.6443220129618509 L 0.8174950866023926, 0.5759355722482739 L 0.8641387504614862, 0.5032536338178407 \",\"type\":\"path\"},{\"fillcolor\":\"rgba(187, 255, 255, 0.75)\",\"layer\":\"below\",\"line\":{\"color\":\"rgb(139,137,137)\",\"width\":0.5},\"path\":\"M 0.7647543027749426,0.6443220129618509 Q -0.08751226658886713, 0.17983771349880717 -0.9789318903088824, -0.20418705673053375L -0.9789318903088824, -0.20418705673053375 L -0.9928559437961462, -0.11931921416378748 L -0.9994364078273551, -0.033568835385708005 M -0.9994364078273551,-0.033568835385708005 Q -0.08844180989628903, 0.17938240232048594 0.6351874586202649, 0.7723580079286607L 0.6351874586202649, 0.7723580079286607 L 0.7028922661591634, 0.7112963251512239 L 0.7647543027749426, 0.6443220129618509 \",\"type\":\"path\"},{\"fillcolor\":\"rgba(187, 255, 255, 0.75)\",\"layer\":\"below\",\"line\":{\"color\":\"rgb(139,137,137)\",\"width\":0.5},\"path\":\"M 0.9775682189015472,0.21061903378768193 Q -0.08353961953923311, 0.1817171757628876 -0.7963182331102795, -0.6048778981051652L -0.7963182331102795, -0.6048778981051652 L -0.8384807846252545, -0.5449311642897822 L -0.8761396113069561, -0.48205744626433883 M -0.8761396113069561,-0.48205744626433883 Q -0.08389301198368376, 0.18155429639726375 0.9349385856839758, 0.3548095841423214L 0.9349385856839758, 0.3548095841423214 L 0.958967308149436, 0.2835166695286621 L 0.9775682189015472, 0.21061903378768193 \",\"type\":\"path\"},{\"fillcolor\":\"rgba(187, 255, 255, 0.75)\",\"layer\":\"below\",\"line\":{\"color\":\"rgb(139,137,137)\",\"width\":0.5},\"path\":\"M 0.6351874586202649,0.7723580079286607 Q -0.18818916404039843, 0.06771143579762585 -0.002514993229133255, -0.9999968373995277L -0.002514993229133255, -0.9999968373995277 L -0.12698618455827698, -0.9919044857905076 L -0.2494816532554154, -0.9683795251289365 M -0.2494816532554154,-0.9683795251289365 Q -0.18840906592556853, 0.06709712271815223 0.4187754379286671, 0.9080898262769235L 0.4187754379286671, 0.9080898262769235 L 0.5313334437558822, 0.847162777479343 L 0.6351874586202649, 0.7723580079286607 \",\"type\":\"path\"},{\"fillcolor\":\"rgba(187, 255, 255, 0.75)\",\"layer\":\"below\",\"line\":{\"color\":\"rgb(139,137,137)\",\"width\":0.5},\"path\":\"M 0.9931527077352882,0.11682336717483052 Q -0.17275222745893368, 0.10078029523660292 0.3871017352281194, -0.9220370093349718L 0.3871017352281194, -0.9220370093349718 L 0.3454547557059572, -0.9384354062801219 L 0.30311569961370705, -0.9529537620722701 M 0.30311569961370705,-0.9529537620722701 Q -0.17303331905760033, 0.10029691169677502 0.9775682189015472, 0.21061903378768193L 0.9775682189015472, 0.21061903378768193 L 0.9864758737242001, 0.1639065299494683 L 0.9931527077352882, 0.11682336717483052 \",\"type\":\"path\"},{\"fillcolor\":\"rgba(187, 255, 255, 0.75)\",\"layer\":\"below\",\"line\":{\"color\":\"rgb(139,137,137)\",\"width\":0.5},\"path\":\"M 0.4187754379286671,0.9080898262769235 Q -0.19302163478740764, -0.052370301736734653 0.8203236444134308, -0.5718995702186418L 0.8203236444134308, -0.5718995702186418 L 0.7557977590418902, -0.6548051217173373 L 0.6829301940013695, -0.7304836412413709 L 0.6025251828034859, -0.798099870998377 M 0.6025251828034859,-0.798099870998377 Q -0.1927152974236379, -0.05348657905417756 0.10501157135308609, 0.9944710000205917L 0.10501157135308609, 0.9944710000205917 L 0.21253564053101867, 0.9771533152500019 L 0.3175387548375261, 0.9482452948347455 L 0.4187754379286671, 0.9080898262769235 \",\"type\":\"path\"},{\"fillcolor\":\"rgba(187, 255, 255, 0.75)\",\"layer\":\"below\",\"line\":{\"color\":\"rgb(139,137,137)\",\"width\":0.5},\"path\":\"M 0.9994618170354294,0.03280360175709099 Q -0.19798367689291213, 0.028327789959030982 0.9501613748160547, -0.31175849917470566L 0.9501613748160547, -0.31175849917470566 L 0.9374890892040504, -0.3480146658164853 L 0.9234339167719706, -0.3837574772628896 M 0.9234339167719706,-0.3837574772628896 Q -0.1980879973915156, 0.02758886169124974 0.9931527077352882, 0.11682336717483052L 0.9931527077352882, 0.11682336717483052 L 0.9971925547892048, 0.074879961758663 L 0.9994618170354294, 0.03280360175709099 \",\"type\":\"path\"},{\"fillcolor\":\"rgba(187, 255, 255, 0.75)\",\"layer\":\"below\",\"line\":{\"color\":\"rgb(139,137,137)\",\"width\":0.5},\"path\":\"M 1.0,0.0 Q -0.19904961655211573, 0.01947434595707136 0.981037492477215, -0.19381805476791494L 0.981037492477215, -0.19381805476791494 L 0.9780380260966671, -0.20842653264144462 L 0.9748210397319331, -0.2229886555319639 M 0.9748210397319331,-0.2229886555319639 Q -0.19907843874750797, 0.01917746661722337 0.9994618170354294, 0.03280360175709099L 0.9994618170354294, 0.03280360175709099 L 0.9998654452063611, 0.016404008116472454 L 1.0, 0.0 \",\"type\":\"path\"},{\"fillcolor\":\"rgba(127, 255, 212, 0.75)\",\"layer\":\"below\",\"line\":{\"color\":\"rgb(139,137,137)\",\"width\":0.5},\"path\":\"M -0.07170420939293273,0.9974259402859615 Q -0.08835987818033927, 0.17942277427337816 -0.746935502649194, 0.6648964993758021L -0.746935502649194, 0.6648964993758021 L -0.7187599710458705, 0.6952583002180839 L -0.6893512632969515, 0.7244272467203985 M -0.6893512632969515,0.7244272467203985 Q -0.08826929887850096, 0.17946735323032395 -0.1530008608078893, 0.9882260554104232L -0.1530008608078893, 0.9882260554104232 L -0.11244666119507452, 0.9936577622029026 L -0.07170420939293273, 0.9974259402859615 \",\"type\":\"path\"},{\"fillcolor\":\"rgba(127, 255, 212, 0.75)\",\"layer\":\"below\",\"line\":{\"color\":\"rgb(139,137,137)\",\"width\":0.5},\"path\":\"M -0.1530008608078893,0.9882260554104232 Q -0.15401871499907216, 0.12758618824165333 -0.9994364078273551, -0.033568835385708005L -0.9994364078273551, -0.033568835385708005 L -0.9998204383934589, 0.0189496957946975 L -0.9974466206553475, 0.0714159572030464 M -0.9974466206553475,0.0714159572030464 Q -0.15421575546158914, 0.12734795156346781 -0.2587691692706379, 0.9659391890978355L -0.2587691692706379, 0.9659391890978355 L -0.20618636114017483, 0.9785127410922013 L -0.1530008608078893, 0.9882260554104232 \",\"type\":\"path\"},{\"fillcolor\":\"rgba(127, 255, 212, 0.75)\",\"layer\":\"below\",\"line\":{\"color\":\"rgb(139,137,137)\",\"width\":0.5},\"path\":\"M -0.2587691692706379,0.9659391890978355 Q -0.18397587331637535, 0.07844028325724617 -0.8761396113069561, -0.48205744626433883L -0.8761396113069561, -0.48205744626433883 L -0.9013055389721044, -0.4331839394739887 L -0.9237477721490255, -0.3830013752582515 M -0.9237477721490255,-0.3830013752582515 Q -0.18396201443618512, 0.07847278027813734 -0.3628762858157171, 0.9318373254987106L -0.3628762858157171, 0.9318373254987106 L -0.31129006124933334, 0.9503149466189544 L -0.2587691692706379, 0.9659391890978355 \",\"type\":\"path\"},{\"fillcolor\":\"rgba(127, 255, 212, 0.75)\",\"layer\":\"below\",\"line\":{\"color\":\"rgb(139,137,137)\",\"width\":0.5},\"path\":\"M 0.003934696045239218,0.9999922590535547 Q -0.19499855685531248, 0.044447303904123006 -0.4298086171859239, -0.9029200145044542L -0.4298086171859239, -0.9029200145044542 L -0.46378966643469977, -0.8859453399100815 L -0.4971015361669973, -0.8676923779430193 M -0.4971015361669973,-0.8676923779430193 Q -0.19499246952575605, 0.044474001711641654 -0.07170420939293273, 0.9974259402859615L -0.07170420939293273, 0.9974259402859615 L -0.0339090435260276, 0.9994249230268124 L 0.003934696045239218, 0.9999922590535547 \",\"type\":\"path\"},{\"fillcolor\":\"rgba(127, 255, 212, 0.75)\",\"layer\":\"below\",\"line\":{\"color\":\"rgb(139,137,137)\",\"width\":0.5},\"path\":\"M 0.0737226654898915,0.9972787817822384 Q -0.19996480231837013, 0.0037520439463249278 0.03625901975230455, -0.9993424255412166L 0.03625901975230455, -0.9993424255412166 L 0.03257818458477266, -0.9994691900649867 L 0.028896907506651647, -0.9995823971722151 M 0.028896907506651647,-0.9995823971722151 Q -0.19996523852083536, 0.0037287240854507356 0.06614201077303664, 0.9978102196364295L 0.06614201077303664, 0.9978102196364295 L 0.06993284295008766, 0.9975517016560688 L 0.0737226654898915, 0.9972787817822384 \",\"type\":\"path\"},{\"fillcolor\":\"rgba(127, 255, 212, 0.75)\",\"layer\":\"below\",\"line\":{\"color\":\"rgb(139,137,137)\",\"width\":0.5},\"path\":\"M 0.029943143965195186,0.9995516035350449 Q -0.1941575832092146, -0.04798784098453396 0.49214671253868836, -0.8705122706414664L 0.49214671253868836, -0.8705122706414664 L 0.48085859737073805, -0.8767981576934605 L 0.469490210592126, -0.8829376773918763 M 0.469490210592126,-0.8829376773918763 Q -0.1941534518824477, -0.048004553139572775 0.003934696045239218, 0.9999922590535547L 0.003934696045239218, 0.9999922590535547 L 0.01694035286718213, 0.9998565019265191 L 0.029943143965195186, 0.9995516035350449 \",\"type\":\"path\"},{\"fillcolor\":\"rgba(127, 255, 212, 0.75)\",\"layer\":\"below\",\"line\":{\"color\":\"rgb(139,137,137)\",\"width\":0.5},\"path\":\"M 0.06614201077303664,0.9978102196364295 Q -0.17653682429032877, -0.0939933490704826 0.8647721901077622, -0.5021643746983895L 0.8647721901077622, -0.5021643746983895 L 0.8611681989950762, -0.5083201088286561 L 0.8575203900817305, -0.5144499787093754 M 0.8575203900817305,-0.5144499787093754 Q -0.17649299348569172, -0.09407562516645626 0.050969680477499016, 0.9987002010974172L 0.050969680477499016, 0.9987002010974172 L 0.05855753643759634, 0.9982840351955747 L 0.06614201077303664, 0.9978102196364295 \",\"type\":\"path\"},{\"fillcolor\":\"rgba(127, 255, 212, 0.75)\",\"layer\":\"below\",\"line\":{\"color\":\"rgb(139,137,137)\",\"width\":0.5},\"path\":\"M 0.050969680477499016,0.9987002010974172 Q -0.15952336079960797, -0.12063290330253229 0.9748210397319331, -0.2229886555319639L 0.9748210397319331, -0.2229886555319639 L 0.9725771075405372, -0.23258067393505072 L 0.9702387944740825, -0.24215012223304597 M 0.9702387944740825,-0.24215012223304597 Q -0.15944237472377307, -0.1207399235648422 0.029943143965195186, 0.9995516035350449L 0.029943143965195186, 0.9995516035350449 L 0.04045865187263725, 0.9991812135386897 L 0.050969680477499016, 0.9987002010974172 \",\"type\":\"path\"},{\"fillcolor\":\"rgba(155, 205, 155, 0.75)\",\"layer\":\"below\",\"line\":{\"color\":\"rgb(139,137,137)\",\"width\":0.5},\"path\":\"M -0.5429024697936098,0.839795753914009 Q -0.16931206678792762, 0.10645855550400983 -0.992109359266079, 0.1253755129865881L -0.992109359266079, 0.1253755129865881 L -0.9908911237659107, 0.1346654404141263 L -0.9895859010559452, 0.14394354598693512 M -0.9895859010559452,0.14394354598693512 Q -0.16935407517603782, 0.10639171594287285 -0.559197811679953, 0.8290342619049902L -0.559197811679953, 0.8290342619049902 L -0.551076410340337, 0.8344547860527906 L -0.5429024697936098, 0.839795753914009 \",\"type\":\"path\"},{\"fillcolor\":\"rgba(155, 205, 155, 0.75)\",\"layer\":\"below\",\"line\":{\"color\":\"rgb(139,137,137)\",\"width\":0.5},\"path\":\"M -0.904098967199426,0.42732313008884903 Q -0.19512126224222287, -0.04390550103348887 -0.6339160463502427, -0.7734018659013417L -0.6339160463502427, -0.7734018659013417 L -0.7200643064799364, -0.6939073385788397 L -0.7963182331102795, -0.6048778981051652 M -0.7963182331102795,-0.6048778981051652 Q -0.19507437581246717, -0.04411335286935612 -0.9790973035305727, 0.2033924045267216L -0.9790973035305727, 0.2033924045267216 L -0.9482316652514504, 0.31757945307349683 L -0.904098967199426, 0.42732313008884903 \",\"type\":\"path\"},{\"fillcolor\":\"rgba(155, 205, 155, 0.75)\",\"layer\":\"below\",\"line\":{\"color\":\"rgb(139,137,137)\",\"width\":0.5},\"path\":\"M -0.746935502649194,0.6648964993758021 Q -0.19132270437151555, -0.05827197261093589 -0.2494816532554154, -0.9683795251289365L -0.2494816532554154, -0.9683795251289365 L -0.3047148579089682, -0.9524436231974663 L -0.3589410836008109, -0.9333602190491491 M -0.3589410836008109,-0.9333602190491491 Q -0.19129357589143908, -0.058367523698253966 -0.8188634881006689, 0.5739883168284923L -0.8188634881006689, 0.5739883168284923 L -0.7842178869879441, 0.6204855403054643 L -0.746935502649194, 0.6648964993758021 \",\"type\":\"path\"},{\"fillcolor\":\"rgba(155, 205, 155, 0.75)\",\"layer\":\"below\",\"line\":{\"color\":\"rgb(139,137,137)\",\"width\":0.5},\"path\":\"M -0.6316369961580052,0.7752642808000973 Q -0.17933847629632255, -0.08853084727773344 0.23133546826131152, -0.9728740417568554L 0.23133546826131152, -0.9728740417568554 L 0.19535554705505273, -0.9807324865807296 L 0.15911066318922307, -0.9872607542384563 M 0.15911066318922307,-0.9872607542384563 Q -0.17919349616069008, -0.08882393221260111 -0.6893512632969515, 0.7244272467203985L -0.6893512632969515, 0.7244272467203985 L -0.6609830530452079, 0.7504008286156378 L -0.6316369961580052, 0.7752642808000973 \",\"type\":\"path\"},{\"fillcolor\":\"rgba(155, 205, 155, 0.75)\",\"layer\":\"below\",\"line\":{\"color\":\"rgb(139,137,137)\",\"width\":0.5},\"path\":\"M -0.559197811679953,0.8290342619049902 Q -0.1714320674387615, -0.10300993279131838 0.469490210592126, -0.8829376773918763L 0.469490210592126, -0.8829376773918763 L 0.4598491809413641, -0.8879970330961453 L 0.4501536377645581, -0.892951119830943 M 0.4501536377645581,-0.892951119830943 Q -0.17141066409268274, -0.10304554447090611 -0.577456055598647, 0.8164217683602344L -0.577456055598647, 0.8164217683602344 L -0.5683619201250232, 0.8227786626741099 L -0.559197811679953, 0.8290342619049902 \",\"type\":\"path\"},{\"fillcolor\":\"rgba(155, 205, 155, 0.75)\",\"layer\":\"below\",\"line\":{\"color\":\"rgb(139,137,137)\",\"width\":0.5},\"path\":\"M -0.5334259847579638,0.8458467466302608 Q -0.14067819213526414, -0.14216063540078072 0.8513918130750168, -0.5245302475823828L 0.8513918130750168, -0.5245302475823828 L 0.848646041212554, -0.5289611486056987 L 0.8458772098151094, -0.5333776766189278 M 0.8458772098151094,-0.5333776766189278 Q -0.14062001861088944, -0.14221817874615436 -0.5429024697936098, 0.839795753914009L -0.5429024697936098, 0.839795753914009 L -0.5381727317019673, 0.8428345690895944 L -0.5334259847579638, 0.8458467466302608 \",\"type\":\"path\"},{\"fillcolor\":\"rgba(155, 205, 155, 0.75)\",\"layer\":\"below\",\"line\":{\"color\":\"rgb(139,137,137)\",\"width\":0.5},\"path\":\"M -0.577456055598647,0.8164217683602344 Q -0.09470726599140507, -0.176154857351233 0.9995065603657315, -0.03141075907813013L 0.9995065603657315, -0.03141075907813013 L 0.9980234212348607, -0.06284306379119223 L 0.9955520498102357, -0.09421314196351835 M 0.9955520498102357,-0.09421314196351835 Q -0.09425630774491241, -0.176396565868773 -0.6316369961580052, 0.7752642808000973L -0.6316369961580052, 0.7752642808000973 L -0.6048966743561409, 0.7963039704490245 L -0.577456055598647, 0.8164217683602344 \",\"type\":\"path\"},{\"fillcolor\":\"rgba(217, 239, 139, 0.75)\",\"layer\":\"below\",\"line\":{\"color\":\"rgb(139,137,137)\",\"width\":0.5},\"path\":\"M -0.9947591909967932,0.1022455472253213 Q -0.1985700369693609, -0.02387342493205898 -0.9421765270907606, -0.335116982260215L -0.9421765270907606, -0.335116982260215 L -0.947411366121587, -0.3200182859519566 L -0.9524042607612478, -0.3048378652395747 M -0.9524042607612478,-0.3048378652395747 Q -0.19858210892886996, -0.023772799863760866 -0.9974466206553475, 0.0714159572030464L -0.9974466206553475, 0.0714159572030464 L -0.9962221714559342, 0.08684114865444499 L -0.9947591909967932, 0.1022455472253213 \",\"type\":\"path\"},{\"fillcolor\":\"rgba(217, 239, 139, 0.75)\",\"layer\":\"below\",\"line\":{\"color\":\"rgb(139,137,137)\",\"width\":0.5},\"path\":\"M -0.992109359266079,0.1253755129865881 Q -0.18277049755837083, -0.08120926808108522 -0.5719187201906847, -0.8203102934228299L -0.5719187201906847, -0.8203102934228299 L -0.5817428486252454, -0.8133727669853379 L -0.5914828321612583, -0.8063175920556966 M -0.5914828321612583,-0.8063175920556966 Q -0.18280182532165062, -0.08113872478091293 -0.9947591909967932, 0.1022455472253213L -0.9947591909967932, 0.1022455472253213 L -0.9935015892463138, 0.11381824179387348 L -0.992109359266079, 0.1253755129865881 \",\"type\":\"path\"},{\"fillcolor\":\"rgba(217, 239, 139, 0.75)\",\"layer\":\"below\",\"line\":{\"color\":\"rgb(139,137,137)\",\"width\":0.5},\"path\":\"M -0.9871722484020548,0.1596588612787652 Q -0.14942873044606006, -0.1329325186599529 0.04361916464579875, -0.9990482313059779L 0.04361916464579875, -0.9990482313059779 L 0.03993936308012886, -0.999202105320417 L 0.03625901975230455, -0.9993424255412166 M 0.03625901975230455,-0.9993424255412166 Q -0.14942766765776025, -0.1329337133249574 -0.9883239464583499, 0.1523672433858167L -0.9883239464583499, 0.1523672433858167 L -0.9877548258043889, 0.15601411506700744 L -0.9871722484020548, 0.1596588612787652 \",\"type\":\"path\"},{\"fillcolor\":\"rgba(217, 239, 139, 0.75)\",\"layer\":\"below\",\"line\":{\"color\":\"rgb(139,137,137)\",\"width\":0.5},\"path\":\"M -0.9883239464583499,0.1523672433858167 Q -0.11993156293680203, -0.16005130493543593 0.423778138938969, -0.9057660232959857L 0.423778138938969, -0.9057660232959857 L 0.41982935417307315, -0.9076030593682572 L 0.41587260625080236, -0.9094228803863278 M 0.41587260625080236,-0.9094228803863278 Q -0.1199469788217507, -0.16003975216031327 -0.9895859010559452, 0.14394354598693512L -0.9895859010559452, 0.14394354598693512 L -0.9889638926133616, 0.14815673831124712 L -0.9883239464583499, 0.1523672433858167 \",\"type\":\"path\"},{\"fillcolor\":\"rgba(217, 239, 139, 0.75)\",\"layer\":\"below\",\"line\":{\"color\":\"rgb(139,137,137)\",\"width\":0.5},\"path\":\"M -0.9860141143487545,0.16666183217834002 Q -0.0721354715530612, -0.18653812946370374 0.8416068111478955, -0.540090710371388L 0.8416068111478955, -0.540090710371388 L 0.8397496755590008, -0.5429737400635071 L 0.8378826638313719, -0.5458503839431132 M 0.8378826638313719,-0.5458503839431132 Q -0.0721131524172139, -0.18654675887951438 -0.9871722484020548, 0.1596588612787652L -0.9871722484020548, 0.1596588612787652 L -0.9865993948593305, 0.16316137429919783 L -0.9860141143487545, 0.16666183217834002 \",\"type\":\"path\"},{\"fillcolor\":\"rgba(217, 239, 139, 0.75)\",\"layer\":\"below\",\"line\":{\"color\":\"rgb(139,137,137)\",\"width\":0.5},\"path\":\"M -0.9850028879321154,0.17253785313777528 Q -0.0449415714257906, -0.19488523586403503 0.9610883599933243, -0.276241134310845L 0.9610883599933243, -0.276241134310845 L 0.9602906930976467, -0.2790014063585369 L 0.9594850986429049, -0.2817593751452027 M 0.9594850986429049,-0.2817593751452027 Q -0.04492052624934666, -0.19489008779689582 -0.9860141143487545, 0.16666183217834002L -0.9860141143487545, 0.16666183217834002 L -0.9855128805478118, 0.16960059632664698 L -0.9850028879321154, 0.17253785313777528 \",\"type\":\"path\"},{\"fillcolor\":\"rgba(255, 246, 143, 0.75)\",\"layer\":\"below\",\"line\":{\"color\":\"rgb(139,137,137)\",\"width\":0.5},\"path\":\"M -0.9664857456314669,-0.25672028258629537 Q -0.16241344836632626, -0.11671277474963347 -0.5515344438118357, -0.8341521187943894L -0.5515344438118357, -0.8341521187943894 L -0.5617692159234277, -0.8272939912998144 L -0.5719187201906847, -0.8203102934228299 M -0.5719187201906847,-0.8203102934228299 Q -0.16241401285632576, -0.11671198922092474 -0.9598700436651257, -0.2804451805153898L -0.9598700436651257, -0.2804451805153898 L -0.963250940531366, -0.2686031004389915 L -0.9664857456314669, -0.25672028258629537 \",\"type\":\"path\"},{\"fillcolor\":\"rgba(255, 246, 143, 0.75)\",\"layer\":\"below\",\"line\":{\"color\":\"rgb(139,137,137)\",\"width\":0.5},\"path\":\"M -0.9598700436651257,-0.2804451805153898 Q -0.11296225433017765, -0.16504402169313576 0.08602293735216608, -0.9962931567813288L 0.08602293735216608, -0.9962931567813288 L 0.07373844898942053, -0.9972776148799464 L 0.06144276139237612, -0.9981106086363773 M 0.06144276139237612,-0.9981106086363773 Q -0.11289107538218235, -0.1650927166747656 -0.9524042607612478, -0.3048378652395747L -0.9524042607612478, -0.3048378652395747 L -0.9562149364077912, -0.2926653300113353 L -0.9598700436651257, -0.2804451805153898 \",\"type\":\"path\"},{\"fillcolor\":\"rgba(255, 246, 143, 0.75)\",\"layer\":\"below\",\"line\":{\"color\":\"rgb(139,137,137)\",\"width\":0.5},\"path\":\"M -0.9700031495358469,-0.24309234848208927 Q -0.0846169971904277, -0.18121800072419725 0.4363598663345943, -0.8997722306519884L 0.4363598663345943, -0.8997722306519884 L 0.4300794443083288, -0.9027910453606854 L 0.423778138938969, -0.9057660232959857 M 0.423778138938969,-0.9057660232959857 Q -0.08460448687246382, -0.18122384170149108 -0.9664857456314669, -0.25672028258629537L -0.9664857456314669, -0.25672028258629537 L -0.9682684237460024, -0.2499125038417082 L -0.9700031495358469, -0.24309234848208927 \",\"type\":\"path\"},{\"fillcolor\":\"rgba(255, 246, 143, 0.75)\",\"layer\":\"below\",\"line\":{\"color\":\"rgb(139,137,137)\",\"width\":0.5},\"path\":\"M -0.9720351760691197,-0.23483529650432755 Q -0.032410397278317675, -0.19735644440519703 0.8458772098151094, -0.5333776766189278L 0.8458772098151094, -0.5333776766189278 L 0.843748686788257, -0.5367384405304803 L 0.8416068111478955, -0.540090710371388 M 0.8416068111478955,-0.540090710371388 Q -0.032356397617219326, -0.1973653047859132 -0.9700031495358469, -0.24309234848208927L -0.9700031495358469, -0.24309234848208927 L -0.9710279394829361, -0.2389659823981721 L -0.9720351760691197, -0.23483529650432755 \",\"type\":\"path\"},{\"fillcolor\":\"rgba(255, 246, 143, 0.75)\",\"layer\":\"below\",\"line\":{\"color\":\"rgb(139,137,137)\",\"width\":0.5},\"path\":\"M -0.9421765270907606,-0.335116982260215 Q 0.019425709590249196, -0.19905436897218634 0.9891906797902441, -0.14663491745186355L 0.9891906797902441, -0.14663491745186355 L 0.9853965317631473, -0.17027529236257533 L 0.981037492477215, -0.19381805476791494 M 0.981037492477215,-0.19381805476791494 Q 0.019766750063435295, -0.1990207918583626 -0.9237477721490255, -0.3830013752582515L -0.9237477721490255, -0.3830013752582515 L -0.9332693080759537, -0.35917739155385414 L -0.9421765270907606, -0.335116982260215 \",\"type\":\"path\"},{\"fillcolor\":\"rgba(255, 193, 193, 0.75)\",\"layer\":\"below\",\"line\":{\"color\":\"rgb(139,137,137)\",\"width\":0.5},\"path\":\"M -0.4298086171859239,-0.9029200145044542 Q -0.013621479823661032, -0.19953559904792328 0.30311569961370705, -0.9529537620722701L 0.30311569961370705, -0.9529537620722701 L 0.26741113869175426, -0.9635825252170046 L 0.23133546826131152, -0.9728740417568554 M 0.23133546826131152,-0.9728740417568554 Q -0.013358343928477186, -0.1995533879629422 -0.3589410836008109, -0.9333602190491491L -0.3589410836008109, -0.9333602190491491 L -0.39466843569757637, -0.9188236097663295 L -0.4298086171859239, -0.9029200145044542 \",\"type\":\"path\"},{\"fillcolor\":\"rgba(255, 193, 193, 0.75)\",\"layer\":\"below\",\"line\":{\"color\":\"rgb(139,137,137)\",\"width\":0.5},\"path\":\"M -0.6039465620886411,-0.7970248114966756 Q -0.018125705559451855, -0.19917695348099906 0.4501536377645581, -0.892951119830943L 0.4501536377645581, -0.892951119830943 L 0.44326987279280256, -0.8963882082414141 L 0.4363598663345943, -0.8997722306519884 M 0.4363598663345943,-0.8997722306519884 Q -0.018109915516651056, -0.1991783897916131 -0.5914828321612583, -0.8063175920556966L -0.5914828321612583, -0.8063175920556966 L -0.5977327564236378, -0.8016954233985624 L -0.6039465620886411, -0.7970248114966756 \",\"type\":\"path\"},{\"fillcolor\":\"rgba(255, 193, 193, 0.75)\",\"layer\":\"below\",\"line\":{\"color\":\"rgb(139,137,137)\",\"width\":0.5},\"path\":\"M -0.5515344438118357,-0.8341521187943894 Q 0.058409293019888064, -0.19128082624486142 0.9234339167719706, -0.3837574772628896L 0.9234339167719706, -0.3837574772628896 L 0.9115467120042313, -0.41119653674888246 L 0.8988443952182019, -0.43826790115729986 M 0.8988443952182019,-0.43826790115729986 Q 0.0588049918001291, -0.19115954838664678 -0.4971015361669973, -0.8676923779430193L -0.4971015361669973, -0.8676923779430193 L -0.5245861148300454, -0.8513573915386643 L -0.5515344438118357, -0.8341521187943894 \",\"type\":\"path\"},{\"fillcolor\":\"rgba(255, 193, 193, 0.75)\",\"layer\":\"below\",\"line\":{\"color\":\"rgb(139,137,137)\",\"width\":0.5},\"path\":\"M -0.6093101073677721,-0.7929320229751564 Q 0.06310492566318747, -0.18978347756599778 0.9628078967740974, -0.2701868870049747L 0.9628078967740974, -0.2701868870049747 L 0.9619528913509925, -0.27321536344332026 L 0.9610883599933243, -0.276241134310845 M 0.9610883599933243,-0.276241134310845 Q 0.0631479138399507, -0.18976917815510022 -0.6039465620886411, -0.7970248114966756L -0.6039465620886411, -0.7970248114966756 L -0.6066317863618651, -0.7949829405562188 L -0.6093101073677721, -0.7929320229751564 \",\"type\":\"path\"},{\"fillcolor\":\"rgba(255, 130, 71, 0.75)\",\"layer\":\"below\",\"line\":{\"color\":\"rgb(139,137,137)\",\"width\":0.5},\"path\":\"M 0.08602293735216608,-0.9962931567813288 Q 0.06273654162525581, -0.18990557217970871 0.5243986049906928, -0.8514729021429955L 0.5243986049906928, -0.8514729021429955 L 0.5083618003311543, -0.8611435884706264 L 0.49214671253868836, -0.8705122706414664 M 0.49214671253868836,-0.8705122706414664 Q 0.06265034631342002, -0.18993402566893733 0.12236880083996263, -0.9924846984115118L 0.12236880083996263, -0.9924846984115118 L 0.10421326799152225, -0.9945549732289951 L 0.08602293735216608, -0.9962931567813288 \",\"type\":\"path\"},{\"fillcolor\":\"rgba(255, 130, 71, 0.75)\",\"layer\":\"below\",\"line\":{\"color\":\"rgb(139,137,137)\",\"width\":0.5},\"path\":\"M 0.12236880083996263,-0.9924846984115118 Q 0.11320177189011732, -0.1648798315165862 0.8822577282092502, -0.470766716129181L 0.8822577282092502, -0.470766716129181 L 0.8736560176148241, -0.4865441016859686 L 0.8647721901077622, -0.5021643746983895 M 0.8647721901077622,-0.5021643746983895 Q 0.11329848166319159, -0.16481339160643302 0.15911066318922307, -0.9872607542384563L 0.15911066318922307, -0.9872607542384563 L 0.14076396756883564, -0.9900431836209367 L 0.12236880083996263, -0.9924846984115118 \",\"type\":\"path\"},{\"fillcolor\":\"rgba(255, 130, 71, 0.75)\",\"layer\":\"below\",\"line\":{\"color\":\"rgb(139,137,137)\",\"width\":0.5},\"path\":\"M 0.04361916464579875,-0.9990482313059779 Q 0.12652283227895708, -0.1548934243669204 0.9702387944740825, -0.24215012223304597L 0.9702387944740825, -0.24215012223304597 L 0.9681155268898595, -0.25050414486544886 L 0.9659203302975474, -0.25883955555107285 M 0.9659203302975474,-0.25883955555107285 Q 0.12657000482328076, -0.15485488006205905 0.06144276139237612, -0.9981106086363773L 0.06144276139237612, -0.9981106086363773 L 0.05253305492525941, -0.998619185746108 L 0.04361916464579875, -0.9990482313059779 \",\"type\":\"path\"},{\"fillcolor\":\"rgba(255, 48, 48, 0.75)\",\"layer\":\"below\",\"line\":{\"color\":\"rgb(139,137,137)\",\"width\":0.5},\"path\":\"M 0.5243986049906928,-0.8514729021429955 Q 0.14820118118568446, -0.13429970176872297 0.8988443952182019, -0.43826790115729986L 0.8988443952182019, -0.43826790115729986 L 0.8906992964873661, -0.4545929643504298 L 0.8822577282092502, -0.470766716129181 M 0.8822577282092502,-0.470766716129181 Q 0.14834393124211503, -0.1341420070806854 0.5568799444566181, -0.830592997479508L 0.5568799444566181, -0.830592997479508 L 0.5407400650760116, -0.8411897419854755 L 0.5243986049906928, -0.8514729021429955 \",\"type\":\"path\"},{\"fillcolor\":\"rgba(255, 48, 48, 0.75)\",\"layer\":\"below\",\"line\":{\"color\":\"rgb(139,137,137)\",\"width\":0.5},\"path\":\"M 0.5568799444566181,-0.830592997479508 Q 0.17182259421953533, -0.10235719865094449 0.9955520498102357, -0.09421314196351835L 0.9955520498102357, -0.09421314196351835 L 0.9927174503915142, -0.12046602711209349 L 0.9891906797902441, -0.14663491745186355 M 0.9891906797902441,-0.14663491745186355 Q 0.1719873824712692, -0.102080067940227 0.6025251828034859, -0.798099870998377L 0.6025251828034859, -0.798099870998377 L 0.5799301795012777, -0.8146661812691232 L 0.5568799444566181, -0.830592997479508 \",\"type\":\"path\"},{\"fillcolor\":\"rgba(255, 20, 147, 0.75)\",\"layer\":\"below\",\"line\":{\"color\":\"rgb(139,137,137)\",\"width\":0.5},\"path\":\"M 0.8513918130750168,-0.5245302475823828 Q 0.18366314192786365, -0.07916975620263977 0.9659203302975474, -0.25883955555107285L 0.9659203302975474, -0.25883955555107285 L 0.9643808033958958, -0.26451779910147155 L 0.9628078967740974, -0.2701868870049747 M 0.9628078967740974,-0.2701868870049747 Q 0.18366435500380757, -0.07916694197097268 0.8575203900817305, -0.5144499787093754L 0.8575203900817305, -0.5144499787093754 L 0.8544709664345826, -0.5194991506444938 L 0.8513918130750168, -0.5245302475823828 \",\"type\":\"path\"},{\"fillcolor\":\"rgba(187, 255, 255, 0.75)\",\"layer\":\"below\",\"line\":{\"color\":\"rgb(139,137,137)\",\"width\":1},\"path\":\"M 1.1, 0.0 L 1.0997721189796579, 0.022389424177359094 L 1.0990885703363753, 0.044769571764124716 L 1.0979496372842656, 0.06713117001326506 L 1.0963557917164672, 0.08946495386327923 L 1.0943076940096241, 0.11176166977698204 L 1.0918061927502731, 0.13401207957551406 L 1.0888523243832493, 0.15620696426598812 L 1.085447312782257, 0.17833712786118672 L 1.0815925687427836, 0.20039340118972726 L 1.0772896893975652, 0.2223666456951169 L 1.0725404575548483, 0.24424775722212275 L 1.0673468409597202, 0.26602766978888837 L 1.0617109914788159, 0.2876973593432344 L 1.0556352442087351, 0.30924784750158596 L 1.0491221165085463, 0.3306702052689788 L 1.0421743069567686, 0.3519555567386016 L 1.034794694233275, 0.37309508276934306 L 1.0269863359265692, 0.3940800246398187 L 1.0187524672669386, 0.4149016876773644 L 1.0100964997860045, 0.4355514448604925 L 1.0010220199032238, 0.4560207403933182 L 0.9915327874399328, 0.47630109325047454 L 0.9816327340615424, 0.4963841006910489 L 0.971325961648535, 0.5162614417400829 L 0.9606167405969358, 0.5359248806361949 L 0.9495095080489635, 0.5553662702438955 L 0.9380088660545932, 0.5745775554291835 L 0.9261195796647925, 0.5935507763970226 L 0.9138465749572228, 0.6122780719893154 L 0.9011949369952208, 0.6307516829420118 L 0.8881699077209103, 0.6489639550999962 L 0.8747768837833111, 0.6669073425884287 L 0.8610214143023509, 0.6845744109392197 L 0.8469091985697038, 0.7019578401713469 L 0.832446083687407, 0.7190504278237366 L 0.8176380621452363, 0.7358450919394537 L 0.802491269337843, 0.7523348739999615 L 0.7870119810226814, 0.7685129418082396 L 0.7712066107197798, 0.7843725923195622 L 0.7550817070544317, 0.7999072544187642 L 0.7386439510439099, 0.815110491642846 L 0.7219001533293273, 0.829976004847787 L 0.7048572513537883, 0.8444976348184658 L 0.6875223064880053, 0.8586693648206006 L 0.6699025011045665, 0.872485323093659 L 0.6520051356020704, 0.8859397852836985 L 0.6338376253803572, 0.8990271768151341 L 0.6154074977680928, 0.9117420752004456 L 0.5967223889039782, 0.924079212286874 L 0.5777900405728734, 0.9360334764391697 L 0.5586182969981517, 0.9475999146574914 L 0.5392151015916081, 0.9587737346295797 L 0.5195884936622746, 0.9695503067163502 L 0.49974660508549745, 0.9799251658700883 L 0.47969765693366656, 0.9898940134844489 L 0.4594499560699852, 0.999452719175494 L 0.4390118917066936, 1.0085973224930307 L 0.41839193192917584, 1.0173240345615413 L 0.39759862018738334, 1.0256292396500255 L 0.37664057175603644, 1.0335094966701013 L 0.3555264701650636, 1.0409615406017507 L 0.334265063601764, 1.0479822838461101 L 0.31286516128617614, 1.054568817504754 L 0.2913356298211641, 1.0607184125849356 L 0.26968538951872345, 1.0664285211302886 L 0.24792341070403717, 1.0716967772765194 L 0.22605870999880937, 1.0765209982316528 L 0.2041003465854144, 1.0808991851804284 L 0.18205741845341586, 1.0848295241124655 L 0.1599390586300024, 1.088310386573862 L 0.13775443139591065, 1.0913403303419102 L 0.11551272848839471, 1.093918100022651 L 0.10501157135308609, 0.9944710000205917 L 0.12523130126900966, 0.9921275730381001 L 0.14539914420909308, 0.9893730787035108 L 0.16550674404855986, 0.9862086582840593 L 0.18554576962310398, 0.9826356228912985 L 0.20550791818073577, 0.9786554529378662 L 0.22538491882185197, 0.9742697975241084 L 0.2451685359261122, 0.9694804737548078 L 0.26485057256469463, 0.964289465986305 L 0.28442287389652376, 0.9586989250043217 L 0.3038773305470582, 0.9527111671328273 L 0.32320588196823963, 0.9463286732743188 L 0.3424005197782149, 0.9395540878819102 L 0.36145329107943935, 0.9323902178636594 L 0.3803563017537962, 0.9248400314195829 L 0.3991017197333578, 0.916906656811846 L 0.41768177824544106, 0.9085933810686309 L 0.43608877903060594, 0.8999036486222263 L 0.4543150955322704, 0.8908410598818983 L 0.47235317605661314, 0.8814093697421365 L 0.49019554690146194, 0.8716124860268906 L 0.5078348154528651, 0.8614544678704467 L 0.5252636732480667, 0.8509395240356087 L 0.5424748990036166, 0.8400720111698854 L 0.559461361607357, 0.828856432000405 L 0.5762160230730519, 0.8172974334683036 L 0.5927319414564276, 0.8053998048033623 L 0.609002273731424, 0.7931684755396899 L 0.6250202786254593, 0.7806085134732732 L 0.6407793194125347, 0.7677251225622416 L 0.6562728666630248, 0.7545236407707154 L 0.671494500949009, 0.7410095378571326 L 0.6864379155040288, 0.7271884131079674 L 0.7010969188361634, 0.7130659930177838 L 0.7154654372933467, 0.6986481289165813 L 0.7295375175798572, 0.6839407945454195 L 0.743307329222942, 0.6689500835813215 L 0.7567691669885518, 0.6536822071124878 L 0.7699174532451852, 0.6381434910648608 L 0.7827467402748643, 0.6223403735811087 L 0.7952517125302827, 0.606279402353117 L 0.8074271888371911, 0.5899672319090874 L 0.8192681245411098, 0.5734106208563743 L 0.8307696135974751, 0.5566164290811958 L 0.8419268906043568, 0.5395916149063841 L 0.8527353327769028, 0.5223432322083487 L 0.863190461862694, 0.5048784274944504 L 0.8732879459972143, 0.48720443694199533 L 0.8830236014986681, 0.4693285834000753 L 0.8923933946014021, 0.45125827335549895 L 0.9013934431272116, 0.4330009938640677 L 0.9100200180938397, 0.41456430944847106 L 0.9182695452600039, 0.3959558589640841 L 0.9261386066063078, 0.3771833524339676 L 0.9336239417514265, 0.35825456785438065 L 0.9407224493029772, 0.33917734797213 L 0.9474311881425169, 0.31995959703509236 L 0.9537473786441328, 0.3006092775172534 L 0.9596684038261228, 0.2811344068196236 L 0.965191810435287, 0.2615430539483949 L 0.970315309963382, 0.2418433361717167 L 0.9750367795953165, 0.2220434156564752 L 0.9793542630886956, 0.2021514960864699 L 0.9832659715843487, 0.1821758192633884 L 0.9867702843475064, 0.16212466169198791 L 0.9898657494393174, 0.14200633115089828 L 0.99255108431843, 0.12182916325046732 L 0.9948251763723854, 0.10160151797907457 L 0.9966870833786065, 0.08133177623934475 L 0.9981360338947868, 0.061028336375695505 L 0.9991714275785228, 0.04069961069465883 L 0.9997928354360525, 0.020354021979417356 L 1.0, 0.0 L 1.1 ,0.0\",\"type\":\"path\"},{\"fillcolor\":\"rgba(127, 255, 212, 0.75)\",\"layer\":\"below\",\"line\":{\"color\":\"rgb(139,137,137)\",\"width\":1},\"path\":\"M 0.08109493203888066, 1.0970066599604622 L 0.05819237966947689, 1.0984596701510727 L 0.03526449975726029, 1.099434588803204 L 0.012321271389929188, 1.09993099159508 L -0.010627319664585756, 1.099948662473275 L -0.033571285304307225, 1.0994875937467494 L -0.05650063944041505, 1.0985479860901954 L -0.0794054023435724, 1.0971302484566978 L -0.10227560498748554, 1.0952349978997402 L -0.1251012933878028, 1.092863059304641 L -0.14787253293446911, 1.0900154650295308 L -0.17057941271564672, 1.0866934544560325 L -0.19321204983132295, 1.0828984734498328 L -0.21576059369472356, 1.0786321737313886 L -0.238215230319665, 1.0738964121570336 L -0.26056618659197495, 1.0686932499108042 L -0.28280373452312435, 1.0630249516073338 L -0.30491819548421956, 1.0568939843062064 L -0.3268999444185097, 1.050303016438197 L -0.34873941403057906, 1.0432549166438703 L -0.37042709895039927, 1.0357527525250374 L -0.39195355987042785, 1.02779978930962 L -0.41330942765395545, 1.0193994884304975 L -0.43448540741291153, 1.0105555060189602 L -0.45547228255335354, 1.0012716913134208 L -0.47626091878688087, 0.9915520849840801 L -0.49684226810622545, 0.9814009173742716 L -0.5172073727232879, 0.9708226066592569 L -0.5373473689679111, 0.9598217569232653 L -0.5572534911456853, 0.9484031561556223 L -0.5065940828597139, 0.8621846874142021 L -0.4884976081526464, 0.8725652335666048 L -0.47018852065753436, 0.8825660060538698 L -0.45167478918747767, 0.8921826521584286 L -0.43296447162443713, 0.9014109863491636 L -0.41406571141213955, 0.9102469921031098 L -0.39498673401173773, 0.9186868236536 L -0.3757358433217777, 0.9267268076640885 L -0.3563214180640253, 0.9343634448269271 L -0.33675190813672656, 0.9415934113863975 L -0.31703583093689003, 0.9484135605853364 L -0.29718176765319065, 0.9548209240347244 L -0.27719835953110866, 0.9608127130056421 L -0.2570943041119312, 0.9663863196430307 L -0.23687835144724995, 0.9715393181007309 L -0.21655930029060452, 0.9762694655973031 L -0.1961459942679305, 0.9805747033921715 L -0.17564731802847539, 0.9844531576816662 L -0.15507219337786066, 0.9879031404145749 L -0.1344295753949719, 0.9909231500268462 L -0.11372844853436617, 0.993511872095128 L -0.09297782271589594, 0.9956681799088547 L -0.07218672940324763, 0.9973911349606344 L -0.05136421767310459, 0.9986799873547231 L -0.03051935027664293, 0.9995341761334084 L -0.00966119969507796, 0.9999533295211591 L 0.011201155809026534, 0.9999372650864362 L 0.03205863614296389, 0.9994859898210945 L 0.05290216333588808, 0.9985997001373388 L 0.0737226654898915, 0.9972787817822384 L 0.08109493203888066 ,1.0970066599604622\",\"type\":\"path\"},{\"fillcolor\":\"rgba(155, 205, 155, 0.75)\",\"layer\":\"below\",\"line\":{\"color\":\"rgb(139,137,137)\",\"width\":1},\"path\":\"M -0.5867685832337602, 0.9304314212932869 L -0.6058079481860765, 0.9181485336886271 L -0.6245902869773375, 0.905476103170905 L -0.6431076308239547, 0.8924195062726947 L -0.6613521233717549, 0.8789842825168556 L -0.6793160240291956, 0.8651761320662781 L -0.696991711251467, 0.8510009133054747 L -0.7143716857740835, 0.8364646403550446 L -0.7314485737945982, 0.821573480520062 L -0.7482151301010854, 0.8063337516734717 L -0.7646642411460681, 0.7907519195756074 L -0.7807889280645819, 0.7748345951309618 L -0.7965823496350989, 0.7585885315833778 L -0.8120378051820527, 0.7420206216508506 L -0.8271487374187351, 0.7251378946011529 L -0.8419087352293552, 0.7079475132695275 L -0.8563115363890841, 0.6904567710197117 L -0.8703510302209304, 0.6726730886495795 L -0.884021260188316, 0.6546040112427223 L -0.8973164264222557, 0.6362572049672937 L -0.9102308881820699, 0.617640453823485 L -0.9227591662485797, 0.5987616563410071 L -0.9348959452487768, 0.579628822227981 L -0.9466360759109764, 0.5602500689726582 L -0.9579745772494992, 0.5406336183994143 L -0.9689066386779537, 0.5207877931804752 L -0.9794276220502255, 0.5007210133048553 L -0.9895330636283013, 0.48044179250601055 L -0.9992186759761014, 0.45995873464971515 L -1.008480349778509, 0.43928053008369944 L -1.0173141555848308, 0.4184159519505954 L -1.025716345475943, 0.39737385246575563 L -1.0336833546544235, 0.3761631591615232 L -1.0412118029569872, 0.3547928710995474 L -1.0482984962885884, 0.33327205505275165 L -1.0549404279775803, 0.31160984165857164 L -1.0611347800513533, 0.289815421545104 L -1.06687892443192, 0.2678980414317919 L -1.0721704240509264, 0.24586700020632427 L -1.07700703388363, 0.2237316449793938 L -0.9790973035305727, 0.2033924045267216 L -0.9747003855008421, 0.22351545473302203 L -0.9698899313017453, 0.2435436740289017 L -0.9646679818648666, 0.2634685650410036 L -0.959036752706891, 0.2832816742350651 L -0.9529986329896258, 0.3029745955025015 L -0.946556184506352, 0.32253897372686124 L -0.9397121405949305, 0.34196650832865744 L -0.9324694049781299, 0.36124895678705055 L -0.9248310505316643, 0.38037813813690485 L -0.9168003179804628, 0.3993459364397267 L -0.9083806145237284, 0.41814430422701376 L -0.8995755123893647, 0.436765265914555 L -0.8903887473183867, 0.45520092118623207 L -0.8808242169799578, 0.47344344834588653 L -0.8708859793177265, 0.49148510763583114 L -0.8605782508281603, 0.5093182445205983 L -0.8499054047716152, 0.5269352929345281 L -0.8388719693168906, 0.5443287784918246 L -0.8274826256200635, 0.5614913216577135 L -0.8157422058384143, 0.5784156408793578 L -0.8036556910802871, 0.595094555675202 L -0.7912282092917549, 0.6115209896814359 L -0.7784650330809855, 0.6276879736542833 L -0.7653715774812319, 0.6435886484268432 L -0.7519533976533954, 0.6592162678192298 L -0.7382161865291388, 0.6745642015007732 L -0.7241657723955444, 0.6896259378030707 L -0.7098081164223471, 0.7043950864826924 L -0.6951493101327891, 0.7188653814323703 L -0.6801955728191685, 0.7330306833395196 L -0.6649532489041801, 0.7468849822909653 L -0.6494288052491668, 0.7604224003227678 L -0.6336288284104244, 0.7736371939140678 L -0.6175600218447231, 0.786523756423889 L -0.6012292030652316, 0.7990766204698686 L -0.5846433007490497, 0.8112904602479042 L -0.5678093517975795, 0.8231600937917317 L -0.5507344983509787, 0.8346804851714792 L -0.5334259847579638, 0.8458467466302608 L -0.5867685832337602 ,0.9304314212932869\",\"type\":\"path\"},{\"fillcolor\":\"rgba(217, 239, 139, 0.75)\",\"layer\":\"below\",\"line\":{\"color\":\"rgb(139,137,137)\",\"width\":1},\"path\":\"M -1.0835031767253271, 0.18979163845155284 L -1.087465186699574, 0.16558824751914275 L -1.090886608152932, 0.14130254121066516 L -1.093765740266666, 0.11694659216459496 L -1.0961011517988482, 0.09253250793768909 L -1.0978916817958393, 0.06807242498621484 L -1.0991364401694097, 0.04357850263281197 L -1.0998348081392102, 0.019062917021983497 L -1.099986438540373, -0.005462144932771476 L -1.09959125599609, -0.029984491607178414 L -1.0986494569550849, -0.054491932726754 L -1.0971615095939542, -0.07897228542669749 L -1.0951281535844344, -0.10341338030809864 L -1.0925503997257044, -0.12780306748745643 L -1.0894295294419083, -0.15212922263648934 L -1.085767094145147, -0.17637975300924902 L -1.0815649144642594, -0.20054260345352942 L -1.0768250793397707, -0.22460576240358762 L -0.9789318903088823, -0.2041870567305342 L -0.9832408313311448, -0.18231145768502674 L -0.9870609946774063, -0.1603452300084082 L -0.9903904813108256, -0.13829929330589938 L -0.9932276361142768, -0.11618460680677856 L -0.9955710487131222, -0.0940121639164533 L -0.9974195541763219, -0.07179298675154316 L -0.9987722335955317, -0.04953812066068545 L -0.9996284145419001, -0.027258628733798557 L -0.999987671400339, -0.0049655863025195235 L -0.9998498255811, 0.017329924565439542 L -0.9992149456085542, 0.0396168205752836 L -0.9980833470871265, 0.061884022714740756 L -0.9964555925444074, 0.08412046176153554 L -0.9943324911515146, 0.10631508378599541 L -0.9917150983208471, 0.12845685564605921 L -0.9886047151814308, 0.15053477047194794 L -0.9850028879321154, 0.17253785313777528 L -1.0835031767253271 ,0.18979163845155284\",\"type\":\"path\"},{\"fillcolor\":\"rgba(255, 246, 143, 0.75)\",\"layer\":\"below\",\"line\":{\"color\":\"rgb(139,137,137)\",\"width\":1},\"path\":\"M -1.0692386936760319, -0.2583188261547603 L -1.063613574443173, -0.28058183166451994 L -1.057524962845601, -0.30272256763976196 L -1.050975512126049, -0.32473138578121663 L -1.043968076347754, -0.3465986952756322 L -1.0365057091507388, -0.3683149669751753 L -1.028591662421122, -0.3898707375499636 L -1.0202293848740402, -0.4112566136119124 L -1.011422520550795, -0.4324632758081048 L -1.0021749072308856, -0.4534814828818991 L -0.9924905747596134, -0.47430207570000416 L -0.9823737432919912, -0.49491598124376746 L -0.9718288214537198, -0.5153142165629374 L -0.9608604044200364, -0.5354878926901748 L -0.9494732719132668, -0.5554282185146125 L -0.9376723861199602, -0.5751265046127683 L -0.9254628895285105, -0.5945741670351481 L -0.9128501026882067, -0.6137627310468851 L -0.8998395218906893, -0.6326838348207862 L -0.8864368167748247, -0.6513292330811784 L -0.8726478278560373, -0.6696908006969635 L -0.858478563981182, -0.687760536222316 L -0.8439351997100589, -0.7055305653834874 L -0.829024072624717, -0.722993144510187 L -0.8137516805677183, -0.7401406639100533 L -0.798124678810563, -0.7569656511847388 L -0.7821498771535131, -0.773460774486169 L -0.7658342369580758, -0.7896188457115508 L -0.7491848681134422, -0.8054328236357421 L -0.7322090259381997, -0.820895816979617 L -0.7149141080186732, -0.8360010874130878 L -0.6973076509852661, -0.8507420524914767 L -0.6339160463502419, -0.7734018659013424 L -0.6499219163806119, -0.7600009885573524 L -0.6656445690347269, -0.7462689245269245 L -0.6810771528304019, -0.7322116578506745 L -0.6962129426891598, -0.717835314283228 L -0.7110453428668301, -0.7031461586237899 L -0.7255678898277845, -0.6881505919861262 L -0.739774255061562, -0.6728551490091393 L -0.7536582478406517, -0.6572664950092609 L -0.7672138179182353, -0.6413914230758976 L -0.7804350581647109, -0.6252368511111963 L -0.793316207141852, -0.6088098188154213 L -0.8058516516134769, -0.5921174846192531 L -0.8180359289915357, -0.575167122564351 L -0.8298637297165514, -0.5579661191335318 L -0.8413298995713732, -0.5405219700319528 L -0.8524294419272365, -0.5228422769206984 L -0.8631575199211515, -0.5049347441041931 L -0.8735094585636693, -0.4868071751728862 L -0.8834807467761089, -0.4684674696026704 L -0.8930670393563556, -0.44992361931251584 L -0.9022641588723758, -0.4311837051818219 L -0.9110680974826232, -0.41225589352899916 L -0.9194750186825408, -0.3931484325528225 L -0.9274812589764001, -0.37386964873810213 L -0.9350833294737473, -0.3544279432272396 L -0.9422779174097624, -0.33483178815925024 L -0.9490618875888671, -0.31508972297784743 L -0.9554322837509535, -0.2952103507101969 L -0.9613863298596372, -0.2752023342179654 L -0.9669214313119754, -0.25507439242229085 L -0.9720351760691197, -0.23483529650432755 L -1.0692386936760319 ,-0.2583188261547603\",\"type\":\"path\"},{\"fillcolor\":\"rgba(255, 193, 193, 0.75)\",\"layer\":\"below\",\"line\":{\"color\":\"rgb(139,137,137)\",\"width\":1},\"path\":\"M -0.6702411181045494, -0.8722252252726721 L -0.6517300653973628, -0.8861421566865835 L -0.6329301292708648, -0.8996663000586198 L -0.6138496429140863, -0.9127916607278185 L -0.5944970638716958, -0.9255124207961409 L -0.574880970295146, -0.9378229417072883 L -0.5550100571403491, -0.94971776674603 L -0.5348931323135862, -0.9611916234569258 L -0.5145391127673495, -0.9722394259813726 L -0.4939570205478435, -0.9828562773119464 L -0.4731559787959081, -0.9930374714630291 L -0.45214520770313305, -1.002778495556766 L -0.43093402042494366, -1.0120750318234288 L -0.4095318189524941, -1.0209229595152918 L -0.3879480899451696, -1.0293183567331803 L -0.3661924005255683, -1.037257502164878 L -0.3442743940388169, -1.0447368767346186 L -0.3222037857780919, -1.0517531651629415 L -0.29999035867826207, -1.0583032574362075 L -0.27764395897953525, -1.0643842501851342 L -0.2551744918630538, -1.0699934479717306 L -0.2325919170603638, -1.0751283644840672 L -0.20990624443869557, -1.07978672363835 L -0.18712752956403494, -1.0839664605878088 L -0.16426586924392422, -1.087665722637952 L -0.14133139705199213, -1.090882870067787 L -0.11833427883618697, -1.0936164768566354 L -0.09528470821269423, -1.095865331316226 L -0.07219290204756038, -1.0976284366277833 L -0.0490690959279964, -1.0989050112838732 L -0.02592353962539285, -1.0996944894348115 L -0.0027664925520475576, -1.0999965211394807 L -0.002514993229134143, -0.9999968373995277 L -0.02356685420490259, -0.9997222631225559 L -0.04460826902545127, -0.9990045557126118 L -0.0656299109523276, -0.9978440332979847 L -0.08662246201154021, -0.9962412102874781 L -0.10757661712380633, -0.9941967971423957 L -0.12848308822908375, -0.9917117000616245 L -0.14933260840356746, -0.9887870205799563 L -0.17011593596730448, -0.985424055079826 L -0.19082385858063233, -0.9816242942166818 L -0.21144719732760345, -0.9773894222582428 L -0.23197681078459437, -0.9727213163379368 L -0.25240359907230475, -0.9676220456228491 L -0.2727185078893291, -0.9620938703965523 L -0.29291253252553806, -0.9561392410572195 L -0.31297672185346986, -0.9497607970314713 L -0.3329021822959711, -0.9429613656044346 L -0.352680081768336, -0.9357439606665275 L -0.3723016535931764, -0.9281117813775378 L -0.39175820038631237, -0.9200682107485716 L -0.4110410979119391, -0.9116168141425145 L -0.43014179890537096, -0.9027613376936627 L -0.4490518368616759, -0.8935057066472238 L -0.46776282978849953, -0.8838540236194296 L -0.48626648392144195, -0.8738105667790234 L -0.5045545974003174, -0.8633797879509363 L -0.522619063904678, -0.8525663106429893 L -0.5404518762469961, -0.8413749279964917 L -0.5580451299218966, -0.8298106006616531 L -0.5753910266098771, -0.8178784545987452 L -0.5924818776339661, -0.8055837788059849 L -0.6093101073677721, -0.7929320229751564 L -0.6702411181045494 ,-0.8722252252726721\",\"type\":\"path\"},{\"fillcolor\":\"rgba(255, 130, 71, 0.75)\",\"layer\":\"below\",\"line\":{\"color\":\"rgb(139,137,137)\",\"width\":1},\"path\":\"M 0.03178659825731681, -1.0995406368894367 L 0.05561693385615371, -1.0985930805664308 L 0.07942112569216775, -1.0971291103574772 L 0.10318798416711343, -1.0951494144287015 L 0.12690633723197545, -1.0926549233725917 L 0.15056503563860169, -1.0896468097705545 L 0.1741529581806085, -1.0861264876417218 L 0.1976590169211093, -1.0820956117782665 L 0.22107216240480326, -1.0775560769675352 L 0.24438138885197605, -1.0725100171013693 L 0.26757573933196505, -1.0669598041730308 L 0.29064431091367215, -1.0609080471622019 L 0.313576259790683, -1.0543575908085863 L 0.3363608063785987, -1.0473115142746876 L 0.35898724038217794, -1.0397731296983916 L 0.3814449258299089, -1.031745980636036 L 0.40372330607363993, -1.0232338403966956 L 0.4258119087509314, -1.014240710268469 L 0.3871017352281194, -0.9220370093349718 L 0.36702118733967265, -0.9302125821788141 L 0.3467681143908263, -0.9379508914873054 L 0.3263520367110708, -0.9452482997258106 L 0.30578255125327153, -0.9521013766133523 L 0.28506932708243904, -0.9585069007350784 L 0.26422210083061104, -0.9644618610565471 L 0.2432506721199682, -0.9699634583391189 L 0.22216489895634184, -0.9750091064557902 L 0.20097469309527569, -0.97959643360685 L 0.1796900153828266, -0.9837232834347877 L 0.15832087107328044, -0.9873877160379289 L 0.13687730512600152, -0.9905880088823221 L 0.11536939748361404, -0.993322657611447 L 0.09380725833373947, -0.9955903767533649 L 0.07220102335651613, -0.9973901003249791 L 0.05056084896013973, -0.9987209823331189 L 0.028896907506651647, -0.9995823971722151 L 0.03178659825731681 ,-1.0995406368894367\",\"type\":\"path\"},{\"fillcolor\":\"rgba(255, 48, 48, 0.75)\",\"layer\":\"below\",\"line\":{\"color\":\"rgb(139,137,137)\",\"width\":1},\"path\":\"M 0.45745986687588264, -1.0003651684249606 L 0.47868502802462365, -0.9903840891013271 L 0.49969255387405564, -0.9799527292695419 L 0.5204728933020228, -0.9690758315724428 L 0.5410165984772248, -0.9577583412177277 L 0.5613143291546927, -0.9460054037296074 L 0.5813568569223555, -0.9338223626093777 L 0.601135069396756, -0.9212147569059874 L 0.6206399743660237, -0.9081883186976926 L 0.6398627038782025, -0.8947489704859547 L 0.6587945182730844, -0.8809028225027633 L 0.677426810155721, -0.8666561699326008 L 0.6957511083097945, -0.8520154900503235 L 0.7137590815490764, -0.836987439276253 L 0.7314425425052199, -0.8215788501498197 L 0.7487934513501704, -0.8057967282231296 L 0.7658039194514895, -0.7896482488758755 L 0.7824662129589429, -0.7731407540530317 L 0.7987727563207101, -0.7562817489268241 L 0.8147161357276325, -0.7390788984844813 L 0.8302891024839167, -0.721540024043332 L 0.8454845763027703, -0.7036730996948264 L 0.8602956485254746, -0.6854862486790916 L 0.8747155852624205, -0.6669877396916838 L 0.8887378304546875, -0.6481859831242075 L 0.9023560088547734, -0.6290895272405067 L 0.8203236444134303, -0.5718995702186425 L 0.807943482231534, -0.5892599846583704 L 0.7951959866022005, -0.6063524906288034 L 0.7820869532049768, -0.6231693169809923 L 0.7686223420934275, -0.6397028179043875 L 0.7548082749853788, -0.655945476403029 L 0.7406510324796658, -0.6718899077131647 L 0.7261570512006454, -0.6875288626607491 L 0.7113329208717662, -0.7028552309573015 L 0.6961853813195359, -0.717862044432614 L 0.6807213194092457, -0.7325424802028451 L 0.6649477659138362, -0.7468898637725633 L 0.6488718923173421, -0.7608976720693208 L 0.6325010075543586, -0.7745595364093849 L 0.6158425546870191, -0.7878692453932733 L 0.5989041075209858, -0.8008207477297847 L 0.5816933671620023, -0.8134081549872315 L 0.5642181585145669, -0.8256257442706295 L 0.5464864267243236, -0.8374679608236248 L 0.5285062335657776, -0.8489294205539797 L 0.5102857537769934, -0.8600049124814612 L 0.49183327134293164, -0.8706894011070252 L 0.47315717572911165, -0.8809780287022206 L 0.4542659580673233, -0.8908661175177653 L 0.43516820729511235, -0.9003491719102973 L 0.41587260625080236, -0.9094228803863278 L 0.45745986687588264 ,-1.0003651684249606\",\"type\":\"path\"},{\"fillcolor\":\"rgba(255, 20, 147, 0.75)\",\"layer\":\"below\",\"line\":{\"color\":\"rgb(139,137,137)\",\"width\":1},\"path\":\"M 0.9216709302145092, -0.6004354223374246 L 0.9344804514253365, -0.5802984455466854 L 0.9468500859137153, -0.559888305651395 L 0.9587740109382872, -0.539214610289177 L 0.9702466135659089, -0.5182870911607639 L 0.9812624933138198, -0.4971155994490074 L 0.9918164646918047, -0.4757101011816443 L 1.0019035596431527, -0.45408067254000095 L 1.0115190298832624, -0.4322374951158492 L 1.0206583491347976, -0.4101908511186344 L 1.0293172152583345, -0.38795111853534836 L 1.0374915522775017, -0.3655287662453124 L 1.0451775122976603, -0.34293434909217624 L 0.9501613748160547, -0.31175849917470566 L 0.9431741384340924, -0.3322988784048294 L 0.9357429229621221, -0.3526828350321348 L 0.9278712264861796, -0.37290077374421304 L 0.9195627544393294, -0.3929431773780447 L 0.9108214178574116, -0.41280061140000085 L 0.9016513315380043, -0.43246372834694935 L 0.8920568121034724, -0.45192327222637035 L 0.882042375969008, -0.4711700828734217 L 0.8716127372166247, -0.4901951002628882 L 0.8607728053761048, -0.5089893687739955 L 0.8495276831139422, -0.5275440414060776 L 0.8378826638313719, -0.5458503839431132 L 0.9216709302145092 ,-0.6004354223374246\",\"type\":\"path\"},{\"fillcolor\":\"rgba(72, 118, 255, 0.75)\",\"layer\":\"below\",\"line\":{\"color\":\"rgb(139,137,137)\",\"width\":1},\"path\":\"M 1.0554336085071954, -0.309935312659723 L 1.062313784958855, -0.2854635218138937 L 1.068626628453492, -0.2608392780240783 L 1.0743687675916023, -0.2360757319668882 L 1.0795371357606436, -0.21118610871386806 L 1.0841289727727716, -0.18618370066860085 L 1.088141826338929, -0.1610818604678383 L 1.0915735533785005, -0.13589399385047932 L 1.094422321163834, -0.1106335524981734 L 1.0966866082990154, -0.08531402685140341 L 1.0983652055323776, -0.05994893890485392 L 1.0994572164023046, -0.03455183498594315 L 0.9995065603657315, -0.03141075907813013 L 0.9985138232112524, -0.054499035368049016 L 0.9969878257263777, -0.07755820622854855 L 0.9949293828762126, -0.10057595681652126 L 0.9923395939804549, -0.12353999440952665 L 0.9892198421262991, -0.14643805497076207 L 0.9855717934297923, -0.16925790969872803 L 0.9813973961460396, -0.19198737155806186 L 0.9766988796287293, -0.21461430178808016 L 0.9714787531395381, -0.2371266163855257 L 0.9657398045080501, -0.2595122925580851 L 0.9594850986429049, -0.2817593751452027 L 1.0554336085071954 ,-0.309935312659723\",\"type\":\"path\"},{\"fillcolor\":\"rgba(187, 255, 255, 0.75)\",\"layer\":\"below\",\"line\":{\"color\":\"rgb(139,137,137)\",\"width\":1},\"path\":\"M 1.1, 0.0 L 1.0997721189796579, 0.022389424177359094 L 1.0990885703363753, 0.044769571764124716 L 1.0979496372842656, 0.06713117001326506 L 1.0963557917164672, 0.08946495386327923 L 1.0943076940096241, 0.11176166977698204 L 1.0918061927502731, 0.13401207957551406 L 1.0888523243832493, 0.15620696426598812 L 1.085447312782257, 0.17833712786118672 L 1.0815925687427836, 0.20039340118972726 L 1.0772896893975652, 0.2223666456951169 L 1.0725404575548483, 0.24424775722212275 L 1.0673468409597202, 0.26602766978888837 L 1.0617109914788159, 0.2876973593432344 L 1.0556352442087351, 0.30924784750158596 L 1.0491221165085463, 0.3306702052689788 L 1.0421743069567686, 0.3519555567386016 L 1.034794694233275, 0.37309508276934306 L 1.0269863359265692, 0.3940800246398187 L 1.0187524672669386, 0.4149016876773644 L 1.0100964997860045, 0.4355514448604925 L 1.0010220199032238, 0.4560207403933182 L 0.9915327874399328, 0.47630109325047454 L 0.9816327340615424, 0.4963841006910489 L 0.971325961648535, 0.5162614417400829 L 0.9606167405969358, 0.5359248806361949 L 0.9495095080489635, 0.5553662702438955 L 0.9380088660545932, 0.5745775554291835 L 0.9261195796647925, 0.5935507763970226 L 0.9138465749572228, 0.6122780719893154 L 0.9011949369952208, 0.6307516829420118 L 0.8881699077209103, 0.6489639550999962 L 0.8747768837833111, 0.6669073425884287 L 0.8610214143023509, 0.6845744109392197 L 0.8469091985697038, 0.7019578401713469 L 0.832446083687407, 0.7190504278237366 L 0.8176380621452363, 0.7358450919394537 L 0.802491269337843, 0.7523348739999615 L 0.7870119810226814, 0.7685129418082396 L 0.7712066107197798, 0.7843725923195622 L 0.7550817070544317, 0.7999072544187642 L 0.7386439510439099, 0.815110491642846 L 0.7219001533293273, 0.829976004847787 L 0.7048572513537883, 0.8444976348184658 L 0.6875223064880053, 0.8586693648206006 L 0.6699025011045665, 0.872485323093659 L 0.6520051356020704, 0.8859397852836985 L 0.6338376253803572, 0.8990271768151341 L 0.6154074977680928, 0.9117420752004456 L 0.5967223889039782, 0.924079212286874 L 0.5777900405728734, 0.9360334764391697 L 0.5586182969981517, 0.9475999146574914 L 0.5392151015916081, 0.9587737346295797 L 0.5195884936622746, 0.9695503067163502 L 0.49974660508549745, 0.9799251658700883 L 0.47969765693366656, 0.9898940134844489 L 0.4594499560699852, 0.999452719175494 L 0.4390118917066936, 1.0085973224930307 L 0.41839193192917584, 1.0173240345615413 L 0.39759862018738334, 1.0256292396500255 L 0.37664057175603644, 1.0335094966701013 L 0.3555264701650636, 1.0409615406017507 L 0.334265063601764, 1.0479822838461101 L 0.31286516128617614, 1.054568817504754 L 0.2913356298211641, 1.0607184125849356 L 0.26968538951872345, 1.0664285211302886 L 0.24792341070403717, 1.0716967772765194 L 0.22605870999880937, 1.0765209982316528 L 0.2041003465854144, 1.0808991851804284 L 0.18205741845341586, 1.0848295241124655 L 0.1599390586300024, 1.088310386573862 L 0.13775443139591065, 1.0913403303419102 L 0.11551272848839471, 1.093918100022651 L 0.10501157135308609, 0.9944710000205917 L 0.12523130126900966, 0.9921275730381001 L 0.14539914420909308, 0.9893730787035108 L 0.16550674404855986, 0.9862086582840593 L 0.18554576962310398, 0.9826356228912985 L 0.20550791818073577, 0.9786554529378662 L 0.22538491882185197, 0.9742697975241084 L 0.2451685359261122, 0.9694804737548078 L 0.26485057256469463, 0.964289465986305 L 0.28442287389652376, 0.9586989250043217 L 0.3038773305470582, 0.9527111671328273 L 0.32320588196823963, 0.9463286732743188 L 0.3424005197782149, 0.9395540878819102 L 0.36145329107943935, 0.9323902178636594 L 0.3803563017537962, 0.9248400314195829 L 0.3991017197333578, 0.916906656811846 L 0.41768177824544106, 0.9085933810686309 L 0.43608877903060594, 0.8999036486222263 L 0.4543150955322704, 0.8908410598818983 L 0.47235317605661314, 0.8814093697421365 L 0.49019554690146194, 0.8716124860268906 L 0.5078348154528651, 0.8614544678704467 L 0.5252636732480667, 0.8509395240356087 L 0.5424748990036166, 0.8400720111698854 L 0.559461361607357, 0.828856432000405 L 0.5762160230730519, 0.8172974334683036 L 0.5927319414564276, 0.8053998048033623 L 0.609002273731424, 0.7931684755396899 L 0.6250202786254593, 0.7806085134732732 L 0.6407793194125347, 0.7677251225622416 L 0.6562728666630248, 0.7545236407707154 L 0.671494500949009, 0.7410095378571326 L 0.6864379155040288, 0.7271884131079674 L 0.7010969188361634, 0.7130659930177838 L 0.7154654372933467, 0.6986481289165813 L 0.7295375175798572, 0.6839407945454195 L 0.743307329222942, 0.6689500835813215 L 0.7567691669885518, 0.6536822071124878 L 0.7699174532451852, 0.6381434910648608 L 0.7827467402748643, 0.6223403735811087 L 0.7952517125302827, 0.606279402353117 L 0.8074271888371911, 0.5899672319090874 L 0.8192681245411098, 0.5734106208563743 L 0.8307696135974751, 0.5566164290811958 L 0.8419268906043568, 0.5395916149063841 L 0.8527353327769028, 0.5223432322083487 L 0.863190461862694, 0.5048784274944504 L 0.8732879459972143, 0.48720443694199533 L 0.8830236014986681, 0.4693285834000753 L 0.8923933946014021, 0.45125827335549895 L 0.9013934431272116, 0.4330009938640677 L 0.9100200180938397, 0.41456430944847106 L 0.9182695452600039, 0.3959558589640841 L 0.9261386066063078, 0.3771833524339676 L 0.9336239417514265, 0.35825456785438065 L 0.9407224493029772, 0.33917734797213 L 0.9474311881425169, 0.31995959703509236 L 0.9537473786441328, 0.3006092775172534 L 0.9596684038261228, 0.2811344068196236 L 0.965191810435287, 0.2615430539483949 L 0.970315309963382, 0.2418433361717167 L 0.9750367795953165, 0.2220434156564752 L 0.9793542630886956, 0.2021514960864699 L 0.9832659715843487, 0.1821758192633884 L 0.9867702843475064, 0.16212466169198791 L 0.9898657494393174, 0.14200633115089828 L 0.99255108431843, 0.12182916325046732 L 0.9948251763723854, 0.10160151797907457 L 0.9966870833786065, 0.08133177623934475 L 0.9981360338947868, 0.061028336375695505 L 0.9991714275785228, 0.04069961069465883 L 0.9997928354360525, 0.020354021979417356 L 1.0, 0.0 L 1.1 ,0.0\",\"type\":\"path\"},{\"fillcolor\":\"rgba(127, 255, 212, 0.75)\",\"layer\":\"below\",\"line\":{\"color\":\"rgb(139,137,137)\",\"width\":1},\"path\":\"M 0.08109493203888066, 1.0970066599604622 L 0.05819237966947689, 1.0984596701510727 L 0.03526449975726029, 1.099434588803204 L 0.012321271389929188, 1.09993099159508 L -0.010627319664585756, 1.099948662473275 L -0.033571285304307225, 1.0994875937467494 L -0.05650063944041505, 1.0985479860901954 L -0.0794054023435724, 1.0971302484566978 L -0.10227560498748554, 1.0952349978997402 L -0.1251012933878028, 1.092863059304641 L -0.14787253293446911, 1.0900154650295308 L -0.17057941271564672, 1.0866934544560325 L -0.19321204983132295, 1.0828984734498328 L -0.21576059369472356, 1.0786321737313886 L -0.238215230319665, 1.0738964121570336 L -0.26056618659197495, 1.0686932499108042 L -0.28280373452312435, 1.0630249516073338 L -0.30491819548421956, 1.0568939843062064 L -0.3268999444185097, 1.050303016438197 L -0.34873941403057906, 1.0432549166438703 L -0.37042709895039927, 1.0357527525250374 L -0.39195355987042785, 1.02779978930962 L -0.41330942765395545, 1.0193994884304975 L -0.43448540741291153, 1.0105555060189602 L -0.45547228255335354, 1.0012716913134208 L -0.47626091878688087, 0.9915520849840801 L -0.49684226810622545, 0.9814009173742716 L -0.5172073727232879, 0.9708226066592569 L -0.5373473689679111, 0.9598217569232653 L -0.5572534911456853, 0.9484031561556223 L -0.5065940828597139, 0.8621846874142021 L -0.4884976081526464, 0.8725652335666048 L -0.47018852065753436, 0.8825660060538698 L -0.45167478918747767, 0.8921826521584286 L -0.43296447162443713, 0.9014109863491636 L -0.41406571141213955, 0.9102469921031098 L -0.39498673401173773, 0.9186868236536 L -0.3757358433217777, 0.9267268076640885 L -0.3563214180640253, 0.9343634448269271 L -0.33675190813672656, 0.9415934113863975 L -0.31703583093689003, 0.9484135605853364 L -0.29718176765319065, 0.9548209240347244 L -0.27719835953110866, 0.9608127130056421 L -0.2570943041119312, 0.9663863196430307 L -0.23687835144724995, 0.9715393181007309 L -0.21655930029060452, 0.9762694655973031 L -0.1961459942679305, 0.9805747033921715 L -0.17564731802847539, 0.9844531576816662 L -0.15507219337786066, 0.9879031404145749 L -0.1344295753949719, 0.9909231500268462 L -0.11372844853436617, 0.993511872095128 L -0.09297782271589594, 0.9956681799088547 L -0.07218672940324763, 0.9973911349606344 L -0.05136421767310459, 0.9986799873547231 L -0.03051935027664293, 0.9995341761334084 L -0.00966119969507796, 0.9999533295211591 L 0.011201155809026534, 0.9999372650864362 L 0.03205863614296389, 0.9994859898210945 L 0.05290216333588808, 0.9985997001373388 L 0.0737226654898915, 0.9972787817822384 L 0.08109493203888066 ,1.0970066599604622\",\"type\":\"path\"},{\"fillcolor\":\"rgba(155, 205, 155, 0.75)\",\"layer\":\"below\",\"line\":{\"color\":\"rgb(139,137,137)\",\"width\":1},\"path\":\"M -0.5867685832337602, 0.9304314212932869 L -0.6058079481860765, 0.9181485336886271 L -0.6245902869773375, 0.905476103170905 L -0.6431076308239547, 0.8924195062726947 L -0.6613521233717549, 0.8789842825168556 L -0.6793160240291956, 0.8651761320662781 L -0.696991711251467, 0.8510009133054747 L -0.7143716857740835, 0.8364646403550446 L -0.7314485737945982, 0.821573480520062 L -0.7482151301010854, 0.8063337516734717 L -0.7646642411460681, 0.7907519195756074 L -0.7807889280645819, 0.7748345951309618 L -0.7965823496350989, 0.7585885315833778 L -0.8120378051820527, 0.7420206216508506 L -0.8271487374187351, 0.7251378946011529 L -0.8419087352293552, 0.7079475132695275 L -0.8563115363890841, 0.6904567710197117 L -0.8703510302209304, 0.6726730886495795 L -0.884021260188316, 0.6546040112427223 L -0.8973164264222557, 0.6362572049672937 L -0.9102308881820699, 0.617640453823485 L -0.9227591662485797, 0.5987616563410071 L -0.9348959452487768, 0.579628822227981 L -0.9466360759109764, 0.5602500689726582 L -0.9579745772494992, 0.5406336183994143 L -0.9689066386779537, 0.5207877931804752 L -0.9794276220502255, 0.5007210133048553 L -0.9895330636283013, 0.48044179250601055 L -0.9992186759761014, 0.45995873464971515 L -1.008480349778509, 0.43928053008369944 L -1.0173141555848308, 0.4184159519505954 L -1.025716345475943, 0.39737385246575563 L -1.0336833546544235, 0.3761631591615232 L -1.0412118029569872, 0.3547928710995474 L -1.0482984962885884, 0.33327205505275165 L -1.0549404279775803, 0.31160984165857164 L -1.0611347800513533, 0.289815421545104 L -1.06687892443192, 0.2678980414317919 L -1.0721704240509264, 0.24586700020632427 L -1.07700703388363, 0.2237316449793938 L -0.9790973035305727, 0.2033924045267216 L -0.9747003855008421, 0.22351545473302203 L -0.9698899313017453, 0.2435436740289017 L -0.9646679818648666, 0.2634685650410036 L -0.959036752706891, 0.2832816742350651 L -0.9529986329896258, 0.3029745955025015 L -0.946556184506352, 0.32253897372686124 L -0.9397121405949305, 0.34196650832865744 L -0.9324694049781299, 0.36124895678705055 L -0.9248310505316643, 0.38037813813690485 L -0.9168003179804628, 0.3993459364397267 L -0.9083806145237284, 0.41814430422701376 L -0.8995755123893647, 0.436765265914555 L -0.8903887473183867, 0.45520092118623207 L -0.8808242169799578, 0.47344344834588653 L -0.8708859793177265, 0.49148510763583114 L -0.8605782508281603, 0.5093182445205983 L -0.8499054047716152, 0.5269352929345281 L -0.8388719693168906, 0.5443287784918246 L -0.8274826256200635, 0.5614913216577135 L -0.8157422058384143, 0.5784156408793578 L -0.8036556910802871, 0.595094555675202 L -0.7912282092917549, 0.6115209896814359 L -0.7784650330809855, 0.6276879736542833 L -0.7653715774812319, 0.6435886484268432 L -0.7519533976533954, 0.6592162678192298 L -0.7382161865291388, 0.6745642015007732 L -0.7241657723955444, 0.6896259378030707 L -0.7098081164223471, 0.7043950864826924 L -0.6951493101327891, 0.7188653814323703 L -0.6801955728191685, 0.7330306833395196 L -0.6649532489041801, 0.7468849822909653 L -0.6494288052491668, 0.7604224003227678 L -0.6336288284104244, 0.7736371939140678 L -0.6175600218447231, 0.786523756423889 L -0.6012292030652316, 0.7990766204698686 L -0.5846433007490497, 0.8112904602479042 L -0.5678093517975795, 0.8231600937917317 L -0.5507344983509787, 0.8346804851714792 L -0.5334259847579638, 0.8458467466302608 L -0.5867685832337602 ,0.9304314212932869\",\"type\":\"path\"},{\"fillcolor\":\"rgba(217, 239, 139, 0.75)\",\"layer\":\"below\",\"line\":{\"color\":\"rgb(139,137,137)\",\"width\":1},\"path\":\"M -1.0835031767253271, 0.18979163845155284 L -1.087465186699574, 0.16558824751914275 L -1.090886608152932, 0.14130254121066516 L -1.093765740266666, 0.11694659216459496 L -1.0961011517988482, 0.09253250793768909 L -1.0978916817958393, 0.06807242498621484 L -1.0991364401694097, 0.04357850263281197 L -1.0998348081392102, 0.019062917021983497 L -1.099986438540373, -0.005462144932771476 L -1.09959125599609, -0.029984491607178414 L -1.0986494569550849, -0.054491932726754 L -1.0971615095939542, -0.07897228542669749 L -1.0951281535844344, -0.10341338030809864 L -1.0925503997257044, -0.12780306748745643 L -1.0894295294419083, -0.15212922263648934 L -1.085767094145147, -0.17637975300924902 L -1.0815649144642594, -0.20054260345352942 L -1.0768250793397707, -0.22460576240358762 L -0.9789318903088823, -0.2041870567305342 L -0.9832408313311448, -0.18231145768502674 L -0.9870609946774063, -0.1603452300084082 L -0.9903904813108256, -0.13829929330589938 L -0.9932276361142768, -0.11618460680677856 L -0.9955710487131222, -0.0940121639164533 L -0.9974195541763219, -0.07179298675154316 L -0.9987722335955317, -0.04953812066068545 L -0.9996284145419001, -0.027258628733798557 L -0.999987671400339, -0.0049655863025195235 L -0.9998498255811, 0.017329924565439542 L -0.9992149456085542, 0.0396168205752836 L -0.9980833470871265, 0.061884022714740756 L -0.9964555925444074, 0.08412046176153554 L -0.9943324911515146, 0.10631508378599541 L -0.9917150983208471, 0.12845685564605921 L -0.9886047151814308, 0.15053477047194794 L -0.9850028879321154, 0.17253785313777528 L -1.0835031767253271 ,0.18979163845155284\",\"type\":\"path\"},{\"fillcolor\":\"rgba(255, 246, 143, 0.75)\",\"layer\":\"below\",\"line\":{\"color\":\"rgb(139,137,137)\",\"width\":1},\"path\":\"M -1.0692386936760319, -0.2583188261547603 L -1.063613574443173, -0.28058183166451994 L -1.057524962845601, -0.30272256763976196 L -1.050975512126049, -0.32473138578121663 L -1.043968076347754, -0.3465986952756322 L -1.0365057091507388, -0.3683149669751753 L -1.028591662421122, -0.3898707375499636 L -1.0202293848740402, -0.4112566136119124 L -1.011422520550795, -0.4324632758081048 L -1.0021749072308856, -0.4534814828818991 L -0.9924905747596134, -0.47430207570000416 L -0.9823737432919912, -0.49491598124376746 L -0.9718288214537198, -0.5153142165629374 L -0.9608604044200364, -0.5354878926901748 L -0.9494732719132668, -0.5554282185146125 L -0.9376723861199602, -0.5751265046127683 L -0.9254628895285105, -0.5945741670351481 L -0.9128501026882067, -0.6137627310468851 L -0.8998395218906893, -0.6326838348207862 L -0.8864368167748247, -0.6513292330811784 L -0.8726478278560373, -0.6696908006969635 L -0.858478563981182, -0.687760536222316 L -0.8439351997100589, -0.7055305653834874 L -0.829024072624717, -0.722993144510187 L -0.8137516805677183, -0.7401406639100533 L -0.798124678810563, -0.7569656511847388 L -0.7821498771535131, -0.773460774486169 L -0.7658342369580758, -0.7896188457115508 L -0.7491848681134422, -0.8054328236357421 L -0.7322090259381997, -0.820895816979617 L -0.7149141080186732, -0.8360010874130878 L -0.6973076509852661, -0.8507420524914767 L -0.6339160463502419, -0.7734018659013424 L -0.6499219163806119, -0.7600009885573524 L -0.6656445690347269, -0.7462689245269245 L -0.6810771528304019, -0.7322116578506745 L -0.6962129426891598, -0.717835314283228 L -0.7110453428668301, -0.7031461586237899 L -0.7255678898277845, -0.6881505919861262 L -0.739774255061562, -0.6728551490091393 L -0.7536582478406517, -0.6572664950092609 L -0.7672138179182353, -0.6413914230758976 L -0.7804350581647109, -0.6252368511111963 L -0.793316207141852, -0.6088098188154213 L -0.8058516516134769, -0.5921174846192531 L -0.8180359289915357, -0.575167122564351 L -0.8298637297165514, -0.5579661191335318 L -0.8413298995713732, -0.5405219700319528 L -0.8524294419272365, -0.5228422769206984 L -0.8631575199211515, -0.5049347441041931 L -0.8735094585636693, -0.4868071751728862 L -0.8834807467761089, -0.4684674696026704 L -0.8930670393563556, -0.44992361931251584 L -0.9022641588723758, -0.4311837051818219 L -0.9110680974826232, -0.41225589352899916 L -0.9194750186825408, -0.3931484325528225 L -0.9274812589764001, -0.37386964873810213 L -0.9350833294737473, -0.3544279432272396 L -0.9422779174097624, -0.33483178815925024 L -0.9490618875888671, -0.31508972297784743 L -0.9554322837509535, -0.2952103507101969 L -0.9613863298596372, -0.2752023342179654 L -0.9669214313119754, -0.25507439242229085 L -0.9720351760691197, -0.23483529650432755 L -1.0692386936760319 ,-0.2583188261547603\",\"type\":\"path\"},{\"fillcolor\":\"rgba(255, 193, 193, 0.75)\",\"layer\":\"below\",\"line\":{\"color\":\"rgb(139,137,137)\",\"width\":1},\"path\":\"M -0.6702411181045494, -0.8722252252726721 L -0.6517300653973628, -0.8861421566865835 L -0.6329301292708648, -0.8996663000586198 L -0.6138496429140863, -0.9127916607278185 L -0.5944970638716958, -0.9255124207961409 L -0.574880970295146, -0.9378229417072883 L -0.5550100571403491, -0.94971776674603 L -0.5348931323135862, -0.9611916234569258 L -0.5145391127673495, -0.9722394259813726 L -0.4939570205478435, -0.9828562773119464 L -0.4731559787959081, -0.9930374714630291 L -0.45214520770313305, -1.002778495556766 L -0.43093402042494366, -1.0120750318234288 L -0.4095318189524941, -1.0209229595152918 L -0.3879480899451696, -1.0293183567331803 L -0.3661924005255683, -1.037257502164878 L -0.3442743940388169, -1.0447368767346186 L -0.3222037857780919, -1.0517531651629415 L -0.29999035867826207, -1.0583032574362075 L -0.27764395897953525, -1.0643842501851342 L -0.2551744918630538, -1.0699934479717306 L -0.2325919170603638, -1.0751283644840672 L -0.20990624443869557, -1.07978672363835 L -0.18712752956403494, -1.0839664605878088 L -0.16426586924392422, -1.087665722637952 L -0.14133139705199213, -1.090882870067787 L -0.11833427883618697, -1.0936164768566354 L -0.09528470821269423, -1.095865331316226 L -0.07219290204756038, -1.0976284366277833 L -0.0490690959279964, -1.0989050112838732 L -0.02592353962539285, -1.0996944894348115 L -0.0027664925520475576, -1.0999965211394807 L -0.002514993229134143, -0.9999968373995277 L -0.02356685420490259, -0.9997222631225559 L -0.04460826902545127, -0.9990045557126118 L -0.0656299109523276, -0.9978440332979847 L -0.08662246201154021, -0.9962412102874781 L -0.10757661712380633, -0.9941967971423957 L -0.12848308822908375, -0.9917117000616245 L -0.14933260840356746, -0.9887870205799563 L -0.17011593596730448, -0.985424055079826 L -0.19082385858063233, -0.9816242942166818 L -0.21144719732760345, -0.9773894222582428 L -0.23197681078459437, -0.9727213163379368 L -0.25240359907230475, -0.9676220456228491 L -0.2727185078893291, -0.9620938703965523 L -0.29291253252553806, -0.9561392410572195 L -0.31297672185346986, -0.9497607970314713 L -0.3329021822959711, -0.9429613656044346 L -0.352680081768336, -0.9357439606665275 L -0.3723016535931764, -0.9281117813775378 L -0.39175820038631237, -0.9200682107485716 L -0.4110410979119391, -0.9116168141425145 L -0.43014179890537096, -0.9027613376936627 L -0.4490518368616759, -0.8935057066472238 L -0.46776282978849953, -0.8838540236194296 L -0.48626648392144195, -0.8738105667790234 L -0.5045545974003174, -0.8633797879509363 L -0.522619063904678, -0.8525663106429893 L -0.5404518762469961, -0.8413749279964917 L -0.5580451299218966, -0.8298106006616531 L -0.5753910266098771, -0.8178784545987452 L -0.5924818776339661, -0.8055837788059849 L -0.6093101073677721, -0.7929320229751564 L -0.6702411181045494 ,-0.8722252252726721\",\"type\":\"path\"},{\"fillcolor\":\"rgba(255, 130, 71, 0.75)\",\"layer\":\"below\",\"line\":{\"color\":\"rgb(139,137,137)\",\"width\":1},\"path\":\"M 0.03178659825731681, -1.0995406368894367 L 0.05561693385615371, -1.0985930805664308 L 0.07942112569216775, -1.0971291103574772 L 0.10318798416711343, -1.0951494144287015 L 0.12690633723197545, -1.0926549233725917 L 0.15056503563860169, -1.0896468097705545 L 0.1741529581806085, -1.0861264876417218 L 0.1976590169211093, -1.0820956117782665 L 0.22107216240480326, -1.0775560769675352 L 0.24438138885197605, -1.0725100171013693 L 0.26757573933196505, -1.0669598041730308 L 0.29064431091367215, -1.0609080471622019 L 0.313576259790683, -1.0543575908085863 L 0.3363608063785987, -1.0473115142746876 L 0.35898724038217794, -1.0397731296983916 L 0.3814449258299089, -1.031745980636036 L 0.40372330607363993, -1.0232338403966956 L 0.4258119087509314, -1.014240710268469 L 0.3871017352281194, -0.9220370093349718 L 0.36702118733967265, -0.9302125821788141 L 0.3467681143908263, -0.9379508914873054 L 0.3263520367110708, -0.9452482997258106 L 0.30578255125327153, -0.9521013766133523 L 0.28506932708243904, -0.9585069007350784 L 0.26422210083061104, -0.9644618610565471 L 0.2432506721199682, -0.9699634583391189 L 0.22216489895634184, -0.9750091064557902 L 0.20097469309527569, -0.97959643360685 L 0.1796900153828266, -0.9837232834347877 L 0.15832087107328044, -0.9873877160379289 L 0.13687730512600152, -0.9905880088823221 L 0.11536939748361404, -0.993322657611447 L 0.09380725833373947, -0.9955903767533649 L 0.07220102335651613, -0.9973901003249791 L 0.05056084896013973, -0.9987209823331189 L 0.028896907506651647, -0.9995823971722151 L 0.03178659825731681 ,-1.0995406368894367\",\"type\":\"path\"},{\"fillcolor\":\"rgba(255, 48, 48, 0.75)\",\"layer\":\"below\",\"line\":{\"color\":\"rgb(139,137,137)\",\"width\":1},\"path\":\"M 0.45745986687588264, -1.0003651684249606 L 0.47868502802462365, -0.9903840891013271 L 0.49969255387405564, -0.9799527292695419 L 0.5204728933020228, -0.9690758315724428 L 0.5410165984772248, -0.9577583412177277 L 0.5613143291546927, -0.9460054037296074 L 0.5813568569223555, -0.9338223626093777 L 0.601135069396756, -0.9212147569059874 L 0.6206399743660237, -0.9081883186976926 L 0.6398627038782025, -0.8947489704859547 L 0.6587945182730844, -0.8809028225027633 L 0.677426810155721, -0.8666561699326008 L 0.6957511083097945, -0.8520154900503235 L 0.7137590815490764, -0.836987439276253 L 0.7314425425052199, -0.8215788501498197 L 0.7487934513501704, -0.8057967282231296 L 0.7658039194514895, -0.7896482488758755 L 0.7824662129589429, -0.7731407540530317 L 0.7987727563207101, -0.7562817489268241 L 0.8147161357276325, -0.7390788984844813 L 0.8302891024839167, -0.721540024043332 L 0.8454845763027703, -0.7036730996948264 L 0.8602956485254746, -0.6854862486790916 L 0.8747155852624205, -0.6669877396916838 L 0.8887378304546875, -0.6481859831242075 L 0.9023560088547734, -0.6290895272405067 L 0.8203236444134303, -0.5718995702186425 L 0.807943482231534, -0.5892599846583704 L 0.7951959866022005, -0.6063524906288034 L 0.7820869532049768, -0.6231693169809923 L 0.7686223420934275, -0.6397028179043875 L 0.7548082749853788, -0.655945476403029 L 0.7406510324796658, -0.6718899077131647 L 0.7261570512006454, -0.6875288626607491 L 0.7113329208717662, -0.7028552309573015 L 0.6961853813195359, -0.717862044432614 L 0.6807213194092457, -0.7325424802028451 L 0.6649477659138362, -0.7468898637725633 L 0.6488718923173421, -0.7608976720693208 L 0.6325010075543586, -0.7745595364093849 L 0.6158425546870191, -0.7878692453932733 L 0.5989041075209858, -0.8008207477297847 L 0.5816933671620023, -0.8134081549872315 L 0.5642181585145669, -0.8256257442706295 L 0.5464864267243236, -0.8374679608236248 L 0.5285062335657776, -0.8489294205539797 L 0.5102857537769934, -0.8600049124814612 L 0.49183327134293164, -0.8706894011070252 L 0.47315717572911165, -0.8809780287022206 L 0.4542659580673233, -0.8908661175177653 L 0.43516820729511235, -0.9003491719102973 L 0.41587260625080236, -0.9094228803863278 L 0.45745986687588264 ,-1.0003651684249606\",\"type\":\"path\"},{\"fillcolor\":\"rgba(255, 20, 147, 0.75)\",\"layer\":\"below\",\"line\":{\"color\":\"rgb(139,137,137)\",\"width\":1},\"path\":\"M 0.9216709302145092, -0.6004354223374246 L 0.9344804514253365, -0.5802984455466854 L 0.9468500859137153, -0.559888305651395 L 0.9587740109382872, -0.539214610289177 L 0.9702466135659089, -0.5182870911607639 L 0.9812624933138198, -0.4971155994490074 L 0.9918164646918047, -0.4757101011816443 L 1.0019035596431527, -0.45408067254000095 L 1.0115190298832624, -0.4322374951158492 L 1.0206583491347976, -0.4101908511186344 L 1.0293172152583345, -0.38795111853534836 L 1.0374915522775017, -0.3655287662453124 L 1.0451775122976603, -0.34293434909217624 L 0.9501613748160547, -0.31175849917470566 L 0.9431741384340924, -0.3322988784048294 L 0.9357429229621221, -0.3526828350321348 L 0.9278712264861796, -0.37290077374421304 L 0.9195627544393294, -0.3929431773780447 L 0.9108214178574116, -0.41280061140000085 L 0.9016513315380043, -0.43246372834694935 L 0.8920568121034724, -0.45192327222637035 L 0.882042375969008, -0.4711700828734217 L 0.8716127372166247, -0.4901951002628882 L 0.8607728053761048, -0.5089893687739955 L 0.8495276831139422, -0.5275440414060776 L 0.8378826638313719, -0.5458503839431132 L 0.9216709302145092 ,-0.6004354223374246\",\"type\":\"path\"},{\"fillcolor\":\"rgba(72, 118, 255, 0.75)\",\"layer\":\"below\",\"line\":{\"color\":\"rgb(139,137,137)\",\"width\":1},\"path\":\"M 1.0554336085071954, -0.309935312659723 L 1.062313784958855, -0.2854635218138937 L 1.068626628453492, -0.2608392780240783 L 1.0743687675916023, -0.2360757319668882 L 1.0795371357606436, -0.21118610871386806 L 1.0841289727727716, -0.18618370066860085 L 1.088141826338929, -0.1610818604678383 L 1.0915735533785005, -0.13589399385047932 L 1.094422321163834, -0.1106335524981734 L 1.0966866082990154, -0.08531402685140341 L 1.0983652055323776, -0.05994893890485392 L 1.0994572164023046, -0.03455183498594315 L 0.9995065603657315, -0.03141075907813013 L 0.9985138232112524, -0.054499035368049016 L 0.9969878257263777, -0.07755820622854855 L 0.9949293828762126, -0.10057595681652126 L 0.9923395939804549, -0.12353999440952665 L 0.9892198421262991, -0.14643805497076207 L 0.9855717934297923, -0.16925790969872803 L 0.9813973961460396, -0.19198737155806186 L 0.9766988796287293, -0.21461430178808016 L 0.9714787531395381, -0.2371266163855257 L 0.9657398045080501, -0.2595122925580851 L 0.9594850986429049, -0.2817593751452027 L 1.0554336085071954 ,-0.309935312659723\",\"type\":\"path\"}],\"showlegend\":true,\"title\":{\"font\":{\"family\":\"Droid\",\"size\":20},\"text\":\"Chord diagram of genres\"},\"width\":875,\"xaxis\":{\"showgrid\":false,\"showline\":false,\"showticklabels\":false,\"title\":{\"text\":\"\"},\"zeroline\":false},\"yaxis\":{\"showgrid\":false,\"showline\":false,\"showticklabels\":false,\"title\":{\"text\":\"\"},\"zeroline\":false},\"template\":{\"data\":{\"histogram2dcontour\":[{\"type\":\"histogram2dcontour\",\"colorbar\":{\"outlinewidth\":0,\"ticks\":\"\"},\"colorscale\":[[0.0,\"#0d0887\"],[0.1111111111111111,\"#46039f\"],[0.2222222222222222,\"#7201a8\"],[0.3333333333333333,\"#9c179e\"],[0.4444444444444444,\"#bd3786\"],[0.5555555555555556,\"#d8576b\"],[0.6666666666666666,\"#ed7953\"],[0.7777777777777778,\"#fb9f3a\"],[0.8888888888888888,\"#fdca26\"],[1.0,\"#f0f921\"]]}],\"choropleth\":[{\"type\":\"choropleth\",\"colorbar\":{\"outlinewidth\":0,\"ticks\":\"\"}}],\"histogram2d\":[{\"type\":\"histogram2d\",\"colorbar\":{\"outlinewidth\":0,\"ticks\":\"\"},\"colorscale\":[[0.0,\"#0d0887\"],[0.1111111111111111,\"#46039f\"],[0.2222222222222222,\"#7201a8\"],[0.3333333333333333,\"#9c179e\"],[0.4444444444444444,\"#bd3786\"],[0.5555555555555556,\"#d8576b\"],[0.6666666666666666,\"#ed7953\"],[0.7777777777777778,\"#fb9f3a\"],[0.8888888888888888,\"#fdca26\"],[1.0,\"#f0f921\"]]}],\"heatmap\":[{\"type\":\"heatmap\",\"colorbar\":{\"outlinewidth\":0,\"ticks\":\"\"},\"colorscale\":[[0.0,\"#0d0887\"],[0.1111111111111111,\"#46039f\"],[0.2222222222222222,\"#7201a8\"],[0.3333333333333333,\"#9c179e\"],[0.4444444444444444,\"#bd3786\"],[0.5555555555555556,\"#d8576b\"],[0.6666666666666666,\"#ed7953\"],[0.7777777777777778,\"#fb9f3a\"],[0.8888888888888888,\"#fdca26\"],[1.0,\"#f0f921\"]]}],\"heatmapgl\":[{\"type\":\"heatmapgl\",\"colorbar\":{\"outlinewidth\":0,\"ticks\":\"\"},\"colorscale\":[[0.0,\"#0d0887\"],[0.1111111111111111,\"#46039f\"],[0.2222222222222222,\"#7201a8\"],[0.3333333333333333,\"#9c179e\"],[0.4444444444444444,\"#bd3786\"],[0.5555555555555556,\"#d8576b\"],[0.6666666666666666,\"#ed7953\"],[0.7777777777777778,\"#fb9f3a\"],[0.8888888888888888,\"#fdca26\"],[1.0,\"#f0f921\"]]}],\"contourcarpet\":[{\"type\":\"contourcarpet\",\"colorbar\":{\"outlinewidth\":0,\"ticks\":\"\"}}],\"contour\":[{\"type\":\"contour\",\"colorbar\":{\"outlinewidth\":0,\"ticks\":\"\"},\"colorscale\":[[0.0,\"#0d0887\"],[0.1111111111111111,\"#46039f\"],[0.2222222222222222,\"#7201a8\"],[0.3333333333333333,\"#9c179e\"],[0.4444444444444444,\"#bd3786\"],[0.5555555555555556,\"#d8576b\"],[0.6666666666666666,\"#ed7953\"],[0.7777777777777778,\"#fb9f3a\"],[0.8888888888888888,\"#fdca26\"],[1.0,\"#f0f921\"]]}],\"surface\":[{\"type\":\"surface\",\"colorbar\":{\"outlinewidth\":0,\"ticks\":\"\"},\"colorscale\":[[0.0,\"#0d0887\"],[0.1111111111111111,\"#46039f\"],[0.2222222222222222,\"#7201a8\"],[0.3333333333333333,\"#9c179e\"],[0.4444444444444444,\"#bd3786\"],[0.5555555555555556,\"#d8576b\"],[0.6666666666666666,\"#ed7953\"],[0.7777777777777778,\"#fb9f3a\"],[0.8888888888888888,\"#fdca26\"],[1.0,\"#f0f921\"]]}],\"mesh3d\":[{\"type\":\"mesh3d\",\"colorbar\":{\"outlinewidth\":0,\"ticks\":\"\"}}],\"scatter\":[{\"fillpattern\":{\"fillmode\":\"overlay\",\"size\":10,\"solidity\":0.2},\"type\":\"scatter\"}],\"parcoords\":[{\"type\":\"parcoords\",\"line\":{\"colorbar\":{\"outlinewidth\":0,\"ticks\":\"\"}}}],\"scatterpolargl\":[{\"type\":\"scatterpolargl\",\"marker\":{\"colorbar\":{\"outlinewidth\":0,\"ticks\":\"\"}}}],\"bar\":[{\"error_x\":{\"color\":\"#2a3f5f\"},\"error_y\":{\"color\":\"#2a3f5f\"},\"marker\":{\"line\":{\"color\":\"#E5ECF6\",\"width\":0.5},\"pattern\":{\"fillmode\":\"overlay\",\"size\":10,\"solidity\":0.2}},\"type\":\"bar\"}],\"scattergeo\":[{\"type\":\"scattergeo\",\"marker\":{\"colorbar\":{\"outlinewidth\":0,\"ticks\":\"\"}}}],\"scatterpolar\":[{\"type\":\"scatterpolar\",\"marker\":{\"colorbar\":{\"outlinewidth\":0,\"ticks\":\"\"}}}],\"histogram\":[{\"marker\":{\"pattern\":{\"fillmode\":\"overlay\",\"size\":10,\"solidity\":0.2}},\"type\":\"histogram\"}],\"scattergl\":[{\"type\":\"scattergl\",\"marker\":{\"colorbar\":{\"outlinewidth\":0,\"ticks\":\"\"}}}],\"scatter3d\":[{\"type\":\"scatter3d\",\"line\":{\"colorbar\":{\"outlinewidth\":0,\"ticks\":\"\"}},\"marker\":{\"colorbar\":{\"outlinewidth\":0,\"ticks\":\"\"}}}],\"scattermapbox\":[{\"type\":\"scattermapbox\",\"marker\":{\"colorbar\":{\"outlinewidth\":0,\"ticks\":\"\"}}}],\"scatterternary\":[{\"type\":\"scatterternary\",\"marker\":{\"colorbar\":{\"outlinewidth\":0,\"ticks\":\"\"}}}],\"scattercarpet\":[{\"type\":\"scattercarpet\",\"marker\":{\"colorbar\":{\"outlinewidth\":0,\"ticks\":\"\"}}}],\"carpet\":[{\"aaxis\":{\"endlinecolor\":\"#2a3f5f\",\"gridcolor\":\"white\",\"linecolor\":\"white\",\"minorgridcolor\":\"white\",\"startlinecolor\":\"#2a3f5f\"},\"baxis\":{\"endlinecolor\":\"#2a3f5f\",\"gridcolor\":\"white\",\"linecolor\":\"white\",\"minorgridcolor\":\"white\",\"startlinecolor\":\"#2a3f5f\"},\"type\":\"carpet\"}],\"table\":[{\"cells\":{\"fill\":{\"color\":\"#EBF0F8\"},\"line\":{\"color\":\"white\"}},\"header\":{\"fill\":{\"color\":\"#C8D4E3\"},\"line\":{\"color\":\"white\"}},\"type\":\"table\"}],\"barpolar\":[{\"marker\":{\"line\":{\"color\":\"#E5ECF6\",\"width\":0.5},\"pattern\":{\"fillmode\":\"overlay\",\"size\":10,\"solidity\":0.2}},\"type\":\"barpolar\"}],\"pie\":[{\"automargin\":true,\"type\":\"pie\"}]},\"layout\":{\"autotypenumbers\":\"strict\",\"colorway\":[\"#636efa\",\"#EF553B\",\"#00cc96\",\"#ab63fa\",\"#FFA15A\",\"#19d3f3\",\"#FF6692\",\"#B6E880\",\"#FF97FF\",\"#FECB52\"],\"font\":{\"color\":\"#2a3f5f\"},\"hovermode\":\"closest\",\"hoverlabel\":{\"align\":\"left\"},\"paper_bgcolor\":\"white\",\"plot_bgcolor\":\"#E5ECF6\",\"polar\":{\"bgcolor\":\"#E5ECF6\",\"angularaxis\":{\"gridcolor\":\"white\",\"linecolor\":\"white\",\"ticks\":\"\"},\"radialaxis\":{\"gridcolor\":\"white\",\"linecolor\":\"white\",\"ticks\":\"\"}},\"ternary\":{\"bgcolor\":\"#E5ECF6\",\"aaxis\":{\"gridcolor\":\"white\",\"linecolor\":\"white\",\"ticks\":\"\"},\"baxis\":{\"gridcolor\":\"white\",\"linecolor\":\"white\",\"ticks\":\"\"},\"caxis\":{\"gridcolor\":\"white\",\"linecolor\":\"white\",\"ticks\":\"\"}},\"coloraxis\":{\"colorbar\":{\"outlinewidth\":0,\"ticks\":\"\"}},\"colorscale\":{\"sequential\":[[0.0,\"#0d0887\"],[0.1111111111111111,\"#46039f\"],[0.2222222222222222,\"#7201a8\"],[0.3333333333333333,\"#9c179e\"],[0.4444444444444444,\"#bd3786\"],[0.5555555555555556,\"#d8576b\"],[0.6666666666666666,\"#ed7953\"],[0.7777777777777778,\"#fb9f3a\"],[0.8888888888888888,\"#fdca26\"],[1.0,\"#f0f921\"]],\"sequentialminus\":[[0.0,\"#0d0887\"],[0.1111111111111111,\"#46039f\"],[0.2222222222222222,\"#7201a8\"],[0.3333333333333333,\"#9c179e\"],[0.4444444444444444,\"#bd3786\"],[0.5555555555555556,\"#d8576b\"],[0.6666666666666666,\"#ed7953\"],[0.7777777777777778,\"#fb9f3a\"],[0.8888888888888888,\"#fdca26\"],[1.0,\"#f0f921\"]],\"diverging\":[[0,\"#8e0152\"],[0.1,\"#c51b7d\"],[0.2,\"#de77ae\"],[0.3,\"#f1b6da\"],[0.4,\"#fde0ef\"],[0.5,\"#f7f7f7\"],[0.6,\"#e6f5d0\"],[0.7,\"#b8e186\"],[0.8,\"#7fbc41\"],[0.9,\"#4d9221\"],[1,\"#276419\"]]},\"xaxis\":{\"gridcolor\":\"white\",\"linecolor\":\"white\",\"ticks\":\"\",\"title\":{\"standoff\":15},\"zerolinecolor\":\"white\",\"automargin\":true,\"zerolinewidth\":2},\"yaxis\":{\"gridcolor\":\"white\",\"linecolor\":\"white\",\"ticks\":\"\",\"title\":{\"standoff\":15},\"zerolinecolor\":\"white\",\"automargin\":true,\"zerolinewidth\":2},\"scene\":{\"xaxis\":{\"backgroundcolor\":\"#E5ECF6\",\"gridcolor\":\"white\",\"linecolor\":\"white\",\"showbackground\":true,\"ticks\":\"\",\"zerolinecolor\":\"white\",\"gridwidth\":2},\"yaxis\":{\"backgroundcolor\":\"#E5ECF6\",\"gridcolor\":\"white\",\"linecolor\":\"white\",\"showbackground\":true,\"ticks\":\"\",\"zerolinecolor\":\"white\",\"gridwidth\":2},\"zaxis\":{\"backgroundcolor\":\"#E5ECF6\",\"gridcolor\":\"white\",\"linecolor\":\"white\",\"showbackground\":true,\"ticks\":\"\",\"zerolinecolor\":\"white\",\"gridwidth\":2}},\"shapedefaults\":{\"line\":{\"color\":\"#2a3f5f\"}},\"annotationdefaults\":{\"arrowcolor\":\"#2a3f5f\",\"arrowhead\":0,\"arrowwidth\":1},\"geo\":{\"bgcolor\":\"white\",\"landcolor\":\"#E5ECF6\",\"subunitcolor\":\"white\",\"showland\":true,\"showlakes\":true,\"lakecolor\":\"white\"},\"title\":{\"x\":0.05},\"mapbox\":{\"style\":\"light\"}}}},                        {\"responsive\": true}                    ).then(function(){\n",
       "                            \n",
       "var gd = document.getElementById('bd2f69b5-8ea7-4d61-8f9d-3ef7b4fa6ee8');\n",
       "var x = new MutationObserver(function (mutations, observer) {{\n",
       "        var display = window.getComputedStyle(gd).display;\n",
       "        if (!display || display === 'none') {{\n",
       "            console.log([gd, 'removed!']);\n",
       "            Plotly.purge(gd);\n",
       "            observer.disconnect();\n",
       "        }}\n",
       "}});\n",
       "\n",
       "// Listen for the removal of the full notebook cells\n",
       "var notebookContainer = gd.closest('#notebook-container');\n",
       "if (notebookContainer) {{\n",
       "    x.observe(notebookContainer, {childList: true});\n",
       "}}\n",
       "\n",
       "// Listen for the clearing of the current output cell\n",
       "var outputEl = gd.closest('.output');\n",
       "if (outputEl) {{\n",
       "    x.observe(outputEl, {childList: true});\n",
       "}}\n",
       "\n",
       "                        })                };                });            </script>        </div>"
      ]
     },
     "metadata": {},
     "output_type": "display_data"
    }
   ],
   "source": [
    "# import plotly.offline as off\n",
    "ideograms = []\n",
    "for k in range(len(ideo_ends)):\n",
    "    z = make_ideogram_arc(1.1, ideo_ends[k])\n",
    "    zi = make_ideogram_arc(1.0, ideo_ends[k])\n",
    "    m = len(z)\n",
    "    n = len(zi)\n",
    "    ideograms.append(go.Scatter(x=z.real,\n",
    "                                y=z.imag,\n",
    "                                mode='lines',\n",
    "                                showlegend = True,\n",
    "                                name = genre_list[k],\n",
    "                                line=dict(\n",
    "                                    color=ideo_colors[k], shape='spline', width=1),\n",
    "                                text=genre_list[k]+'<br>' +\n",
    "                                '{:d}'.format(row_sum[k]),\n",
    "                                hoverinfo='text'\n",
    "                                )\n",
    "                     )\n",
    "\n",
    "    path = 'M '\n",
    "    for s in range(m):\n",
    "        path += str(z.real[s])+', '+str(z.imag[s])+' L '\n",
    "\n",
    "    Zi = np.array(zi.tolist()[::-1])\n",
    "\n",
    "    for s in range(m):\n",
    "        path += str(Zi.real[s])+', '+str(Zi.imag[s])+' L '\n",
    "    path += str(z.real[0])+' ,'+str(z.imag[0])\n",
    "\n",
    "    layout['shapes']= layout['shapes'] + ((make_ideo_shape(\n",
    "        path, 'rgb(139,137,137)', ideo_colors[k])),)\n",
    "\n",
    "data = go.Data(ideograms+ribbon_info)\n",
    "fig = go.Figure(data=data, layout=layout)\n",
    "\n",
    "fig.show()"
   ]
  },
  {
   "cell_type": "code",
   "execution_count": null,
   "metadata": {},
   "outputs": [],
   "source": []
  }
 ],
 "metadata": {
  "interpreter": {
   "hash": "40d3a090f54c6569ab1632332b64b2c03c39dcf918b08424e98f38b5ae0af88f"
  },
  "kernelspec": {
   "display_name": "Python 3.9.11 ('base')",
   "language": "python",
   "name": "python3"
  },
  "language_info": {
   "codemirror_mode": {
    "name": "ipython",
    "version": 3
   },
   "file_extension": ".py",
   "mimetype": "text/x-python",
   "name": "python",
   "nbconvert_exporter": "python",
   "pygments_lexer": "ipython3",
   "version": "3.9.11"
  },
  "orig_nbformat": 4
 },
 "nbformat": 4,
 "nbformat_minor": 2
}
