{
 "cells": [
  {
   "cell_type": "code",
   "execution_count": 16,
   "metadata": {},
   "outputs": [],
   "source": [
    "import pandas as pd\n",
    "import numpy as np\n",
    "import re"
   ]
  },
  {
   "cell_type": "code",
   "execution_count": 6,
   "metadata": {},
   "outputs": [],
   "source": [
    "data = pd.read_csv('../data/imdb_all_v2.csv')"
   ]
  },
  {
   "cell_type": "code",
   "execution_count": 7,
   "metadata": {},
   "outputs": [],
   "source": [
    "male = data[data['star_index']<15]\n",
    "female = data[data['star_index']>=15]"
   ]
  },
  {
   "cell_type": "code",
   "execution_count": 42,
   "metadata": {},
   "outputs": [],
   "source": [
    "male_string = ''\n",
    "for row in male['description']:\n",
    "    real_str = re.sub('<.*>','',row)\n",
    "    real_str = re.sub('\\'','',real_str)\n",
    "    real_str = re.sub('\\\"', '', real_str)\n",
    "    real_str = re.sub('»', '', real_str)\n",
    "    real_str = re.sub('\\n', '', real_str)\n",
    "    male_string = male_string + real_str + ''\n",
    "    "
   ]
  },
  {
   "cell_type": "code",
   "execution_count": 46,
   "metadata": {},
   "outputs": [],
   "source": [
    "female_string = ''\n",
    "for row in female['description']:\n",
    "    real_str = re.sub('<.*>', '', row)\n",
    "    real_str = re.sub('\\'', '', real_str)\n",
    "    real_str = re.sub('\\\"', '', real_str)\n",
    "    real_str = re.sub('»', '', real_str)    \n",
    "    real_str = re.sub('\\n', '', real_str)\n",
    "    female_string = female_string + real_str + ''\n",
    "\n"
   ]
  },
  {
   "cell_type": "code",
   "execution_count": 45,
   "metadata": {},
   "outputs": [],
   "source": [
    "with open('../data/male_description.txt', 'w') as f:\n",
    "   f.write(male_string)\n",
    "\n",
    "with open('../data/female_description.txt', 'w') as f:\n",
    "    f.write(female_string)\n"
   ]
  },
  {
   "cell_type": "code",
   "execution_count": null,
   "metadata": {},
   "outputs": [],
   "source": []
  }
 ],
 "metadata": {
  "interpreter": {
   "hash": "40d3a090f54c6569ab1632332b64b2c03c39dcf918b08424e98f38b5ae0af88f"
  },
  "kernelspec": {
   "display_name": "Python 3.9.11 ('base')",
   "language": "python",
   "name": "python3"
  },
  "language_info": {
   "codemirror_mode": {
    "name": "ipython",
    "version": 3
   },
   "file_extension": ".py",
   "mimetype": "text/x-python",
   "name": "python",
   "nbconvert_exporter": "python",
   "pygments_lexer": "ipython3",
   "version": "3.9.11"
  },
  "orig_nbformat": 4
 },
 "nbformat": 4,
 "nbformat_minor": 2
}
